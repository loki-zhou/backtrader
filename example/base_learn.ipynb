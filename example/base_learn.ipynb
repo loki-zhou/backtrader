{
 "cells": [
  {
   "cell_type": "code",
   "execution_count": 1,
   "metadata": {
    "collapsed": true
   },
   "outputs": [
    {
     "name": "stdout",
     "output_type": "stream",
     "text": [
      "['D:\\\\rl\\\\backtrader\\\\backtrader']\n"
     ]
    }
   ],
   "source": [
    "import backtrader as bt\n",
    "print(bt.__path__)"
   ]
  },
  {
   "cell_type": "code",
   "execution_count": 2,
   "outputs": [
    {
     "name": "stdout",
     "output_type": "stream",
     "text": [
      "[1] <class 'int'>\n",
      "[2] <class 'str'>\n",
      "[3] <class '__main__.Student'>\n"
     ]
    }
   ],
   "source": [
    "# example 2\n",
    "a = 1\n",
    "print('[1]', type(a))\n",
    "\n",
    "b = 'apple'\n",
    "print('[2]', type(b))\n",
    "\n",
    "class Student:\n",
    "    pass\n",
    "s = Student()\n",
    "print('[3]', type(s))"
   ],
   "metadata": {
    "collapsed": false
   }
  },
  {
   "cell_type": "code",
   "execution_count": 4,
   "outputs": [
    {
     "name": "stdout",
     "output_type": "stream",
     "text": [
      "[1] (<class '__main__.Dog1'>, <class '__main__.Animal'>, <class 'object'>)\n",
      "[2] True\n",
      "Dog Puppy is running\n"
     ]
    }
   ],
   "source": [
    "# example 3.1\n",
    "class Animal:\n",
    "    pass\n",
    "\n",
    "class Dog1(Animal):\n",
    "    isAnimal = True\n",
    "\n",
    "    def __init__(self, name):\n",
    "        self.name = name\n",
    "\n",
    "    def run(self):\n",
    "        print(f'Dog {self.name} is running')\n",
    "\n",
    "print('[1]', Dog1.__mro__)\n",
    "\n",
    "d1 = Dog1('Puppy')\n",
    "print('[2]', d1.isAnimal)\n",
    "d1.run()"
   ],
   "metadata": {
    "collapsed": false
   }
  },
  {
   "cell_type": "code",
   "execution_count": 5,
   "outputs": [
    {
     "name": "stdout",
     "output_type": "stream",
     "text": [
      "[0] <class '__main__.MyMetaClass'>\n",
      "[1] MyClass\n",
      "[2] (<class '__main__.MyBaseClass'>,)\n",
      "[3] {'__module__': '__main__', '__qualname__': 'MyClass', 'var': 1, 'func': <function MyClass.func at 0x00000236B97E09D0>}\n"
     ]
    }
   ],
   "source": [
    "# example 6\n",
    "class MyMetaClass(type):\n",
    "    def __new__(*args):\n",
    "        for i, item in enumerate(args):\n",
    "            print(f'[{i}] {item}')\n",
    "        return type.__new__(*args)\n",
    "\n",
    "# example 6 - continued\n",
    "class MyBaseClass:\n",
    "    pass\n",
    "\n",
    "class MyClass(MyBaseClass, metaclass = MyMetaClass):\n",
    "    var = 1\n",
    "    def func(self):\n",
    "        pass"
   ],
   "metadata": {
    "collapsed": false
   }
  }
 ],
 "metadata": {
  "kernelspec": {
   "display_name": "Python 3",
   "language": "python",
   "name": "python3"
  },
  "language_info": {
   "codemirror_mode": {
    "name": "ipython",
    "version": 2
   },
   "file_extension": ".py",
   "mimetype": "text/x-python",
   "name": "python",
   "nbconvert_exporter": "python",
   "pygments_lexer": "ipython2",
   "version": "2.7.6"
  }
 },
 "nbformat": 4,
 "nbformat_minor": 0
}
