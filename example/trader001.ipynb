{
 "cells": [
  {
   "cell_type": "code",
   "execution_count": 1,
   "metadata": {
    "collapsed": true
   },
   "outputs": [
    {
     "name": "stdout",
     "output_type": "stream",
     "text": [
      "Starting Portfolio Value: 10000.00\n",
      "Final Portfolio Value: 10000.00\n"
     ]
    }
   ],
   "source": [
    "from __future__ import (absolute_import, division, print_function,\n",
    "                        unicode_literals)\n",
    "import backtrader as bt\n",
    "\n",
    "if __name__ == '__main__':\n",
    "    cerebro = bt.Cerebro()\n",
    "    print('Starting Portfolio Value: %.2f' % cerebro.broker.getvalue())\n",
    "    cerebro.run()\n",
    "    print('Final Portfolio Value: %.2f' % cerebro.broker.getvalue())"
   ]
  },
  {
   "cell_type": "code",
   "execution_count": null,
   "outputs": [],
   "source": [],
   "metadata": {
    "collapsed": false
   }
  },
  {
   "cell_type": "code",
   "execution_count": 5,
   "outputs": [
    {
     "name": "stdout",
     "output_type": "stream",
     "text": [
      "pwdpath =  \n",
      "Starting Portfolio Value: 100000.00\n",
      "Final Portfolio Value: 100000.00\n"
     ]
    }
   ],
   "source": [
    "from __future__ import (absolute_import, division, print_function,\n",
    "                        unicode_literals)\n",
    "\n",
    "import datetime  # For datetime objects\n",
    "import os.path  # To manage paths\n",
    "import sys  # To find out the script name (in argv[0])\n",
    "\n",
    "# Import the backtrader platform\n",
    "import backtrader as bt\n",
    "\n",
    "if __name__ == '__main__':\n",
    "    # Create a cerebro entity\n",
    "    cerebro = bt.Cerebro()\n",
    "\n",
    "    # Datas are in a subfolder of the samples. Need to find where the script is\n",
    "    # because it could have been called from anywhere\n",
    "    modpath = os.path.dirname(os.path.abspath(sys.argv[0]))\n",
    "    pwdpath = os.path.dirname('.')\n",
    "    print(\"pwdpath = \", pwdpath)\n",
    "    datapath = os.path.join(pwdpath, '../datas/orcl-1995-2014.txt')\n",
    "\n",
    "    # Create a Data Feed\n",
    "    data = bt.feeds.YahooFinanceCSVData(\n",
    "        dataname=datapath,\n",
    "        # Do not pass values before this date\n",
    "        fromdate=datetime.datetime(2000, 1, 1),\n",
    "        # Do not pass values after this date\n",
    "        todate=datetime.datetime(2000, 12, 31),\n",
    "        reverse=False)\n",
    "\n",
    "    # Add the Data Feed to Cerebro\n",
    "    cerebro.adddata(data)\n",
    "\n",
    "    # Set our desired cash start\n",
    "    cerebro.broker.setcash(100000.0)\n",
    "\n",
    "    # Print out the starting conditions\n",
    "    print('Starting Portfolio Value: %.2f' % cerebro.broker.getvalue())\n",
    "\n",
    "    # Run over everything\n",
    "    cerebro.run()\n",
    "\n",
    "    # Print out the final result\n",
    "    print('Final Portfolio Value: %.2f' % cerebro.broker.getvalue())"
   ],
   "metadata": {
    "collapsed": false
   }
  },
  {
   "cell_type": "code",
   "execution_count": null,
   "outputs": [],
   "source": [],
   "metadata": {
    "collapsed": false
   }
  }
 ],
 "metadata": {
  "kernelspec": {
   "display_name": "Python 3",
   "language": "python",
   "name": "python3"
  },
  "language_info": {
   "codemirror_mode": {
    "name": "ipython",
    "version": 2
   },
   "file_extension": ".py",
   "mimetype": "text/x-python",
   "name": "python",
   "nbconvert_exporter": "python",
   "pygments_lexer": "ipython2",
   "version": "2.7.6"
  }
 },
 "nbformat": 4,
 "nbformat_minor": 0
}
