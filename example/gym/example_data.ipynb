{
 "cells": [
  {
   "cell_type": "code",
   "execution_count": 1,
   "metadata": {
    "collapsed": true
   },
   "outputs": [],
   "source": [
    "import pandas as pd"
   ]
  },
  {
   "cell_type": "code",
   "execution_count": 2,
   "outputs": [],
   "source": [
    "df = pd.read_pickle(\"./data/binance-BTCUSDT-1h.pkl\")"
   ],
   "metadata": {
    "collapsed": false
   }
  },
  {
   "cell_type": "code",
   "execution_count": 3,
   "outputs": [
    {
     "data": {
      "text/plain": "                         open      high       low     close      volume   \ndate_open                                                                 \n2022-12-31 17:00:00  16600.93  16604.37  16571.01  16582.08  4844.04845  \\\n2022-12-31 18:00:00  16581.45  16589.36  16571.80  16577.79  3340.80330   \n2022-12-31 19:00:00  16577.78  16590.06  16565.10  16570.14  4044.43359   \n2022-12-31 20:00:00  16570.14  16574.97  16564.09  16568.60  2622.14355   \n2022-12-31 21:00:00  16568.19  16571.64  16544.12  16548.28  3618.77389   \n\n                             date_close  \ndate_open                                \n2022-12-31 17:00:00 2022-12-31 18:00:00  \n2022-12-31 18:00:00 2022-12-31 19:00:00  \n2022-12-31 19:00:00 2022-12-31 20:00:00  \n2022-12-31 20:00:00 2022-12-31 21:00:00  \n2022-12-31 21:00:00 2022-12-31 22:00:00  ",
      "text/html": "<div>\n<style scoped>\n    .dataframe tbody tr th:only-of-type {\n        vertical-align: middle;\n    }\n\n    .dataframe tbody tr th {\n        vertical-align: top;\n    }\n\n    .dataframe thead th {\n        text-align: right;\n    }\n</style>\n<table border=\"1\" class=\"dataframe\">\n  <thead>\n    <tr style=\"text-align: right;\">\n      <th></th>\n      <th>open</th>\n      <th>high</th>\n      <th>low</th>\n      <th>close</th>\n      <th>volume</th>\n      <th>date_close</th>\n    </tr>\n    <tr>\n      <th>date_open</th>\n      <th></th>\n      <th></th>\n      <th></th>\n      <th></th>\n      <th></th>\n      <th></th>\n    </tr>\n  </thead>\n  <tbody>\n    <tr>\n      <th>2022-12-31 17:00:00</th>\n      <td>16600.93</td>\n      <td>16604.37</td>\n      <td>16571.01</td>\n      <td>16582.08</td>\n      <td>4844.04845</td>\n      <td>2022-12-31 18:00:00</td>\n    </tr>\n    <tr>\n      <th>2022-12-31 18:00:00</th>\n      <td>16581.45</td>\n      <td>16589.36</td>\n      <td>16571.80</td>\n      <td>16577.79</td>\n      <td>3340.80330</td>\n      <td>2022-12-31 19:00:00</td>\n    </tr>\n    <tr>\n      <th>2022-12-31 19:00:00</th>\n      <td>16577.78</td>\n      <td>16590.06</td>\n      <td>16565.10</td>\n      <td>16570.14</td>\n      <td>4044.43359</td>\n      <td>2022-12-31 20:00:00</td>\n    </tr>\n    <tr>\n      <th>2022-12-31 20:00:00</th>\n      <td>16570.14</td>\n      <td>16574.97</td>\n      <td>16564.09</td>\n      <td>16568.60</td>\n      <td>2622.14355</td>\n      <td>2022-12-31 21:00:00</td>\n    </tr>\n    <tr>\n      <th>2022-12-31 21:00:00</th>\n      <td>16568.19</td>\n      <td>16571.64</td>\n      <td>16544.12</td>\n      <td>16548.28</td>\n      <td>3618.77389</td>\n      <td>2022-12-31 22:00:00</td>\n    </tr>\n  </tbody>\n</table>\n</div>"
     },
     "execution_count": 3,
     "metadata": {},
     "output_type": "execute_result"
    }
   ],
   "source": [
    "df.head()"
   ],
   "metadata": {
    "collapsed": false
   }
  },
  {
   "cell_type": "code",
   "execution_count": 5,
   "outputs": [
    {
     "data": {
      "text/plain": "                         open      high       low     close      volume   \ndate_open                                                                 \n2023-06-08 02:00:00  26443.60  26446.00  26363.48  26386.51  1033.29331  \\\n2023-06-08 03:00:00  26386.50  26386.51  26210.00  26344.17  1658.68120   \n2023-06-08 04:00:00  26344.16  26428.06  26326.19  26400.97   718.48832   \n2023-06-08 05:00:00  26400.96  26435.22  26350.00  26377.51   839.63098   \n2023-06-08 06:00:00  26377.51  26377.51  26290.19  26332.86   387.44668   \n\n                             date_close  \ndate_open                                \n2023-06-08 02:00:00 2023-06-08 03:00:00  \n2023-06-08 03:00:00 2023-06-08 04:00:00  \n2023-06-08 04:00:00 2023-06-08 05:00:00  \n2023-06-08 05:00:00 2023-06-08 06:00:00  \n2023-06-08 06:00:00 2023-06-08 07:00:00  ",
      "text/html": "<div>\n<style scoped>\n    .dataframe tbody tr th:only-of-type {\n        vertical-align: middle;\n    }\n\n    .dataframe tbody tr th {\n        vertical-align: top;\n    }\n\n    .dataframe thead th {\n        text-align: right;\n    }\n</style>\n<table border=\"1\" class=\"dataframe\">\n  <thead>\n    <tr style=\"text-align: right;\">\n      <th></th>\n      <th>open</th>\n      <th>high</th>\n      <th>low</th>\n      <th>close</th>\n      <th>volume</th>\n      <th>date_close</th>\n    </tr>\n    <tr>\n      <th>date_open</th>\n      <th></th>\n      <th></th>\n      <th></th>\n      <th></th>\n      <th></th>\n      <th></th>\n    </tr>\n  </thead>\n  <tbody>\n    <tr>\n      <th>2023-06-08 02:00:00</th>\n      <td>26443.60</td>\n      <td>26446.00</td>\n      <td>26363.48</td>\n      <td>26386.51</td>\n      <td>1033.29331</td>\n      <td>2023-06-08 03:00:00</td>\n    </tr>\n    <tr>\n      <th>2023-06-08 03:00:00</th>\n      <td>26386.50</td>\n      <td>26386.51</td>\n      <td>26210.00</td>\n      <td>26344.17</td>\n      <td>1658.68120</td>\n      <td>2023-06-08 04:00:00</td>\n    </tr>\n    <tr>\n      <th>2023-06-08 04:00:00</th>\n      <td>26344.16</td>\n      <td>26428.06</td>\n      <td>26326.19</td>\n      <td>26400.97</td>\n      <td>718.48832</td>\n      <td>2023-06-08 05:00:00</td>\n    </tr>\n    <tr>\n      <th>2023-06-08 05:00:00</th>\n      <td>26400.96</td>\n      <td>26435.22</td>\n      <td>26350.00</td>\n      <td>26377.51</td>\n      <td>839.63098</td>\n      <td>2023-06-08 06:00:00</td>\n    </tr>\n    <tr>\n      <th>2023-06-08 06:00:00</th>\n      <td>26377.51</td>\n      <td>26377.51</td>\n      <td>26290.19</td>\n      <td>26332.86</td>\n      <td>387.44668</td>\n      <td>2023-06-08 07:00:00</td>\n    </tr>\n  </tbody>\n</table>\n</div>"
     },
     "execution_count": 5,
     "metadata": {},
     "output_type": "execute_result"
    }
   ],
   "source": [
    "df.tail()"
   ],
   "metadata": {
    "collapsed": false
   }
  },
  {
   "cell_type": "code",
   "execution_count": 10,
   "outputs": [],
   "source": [
    "df1 = pd.read_csv(\"./data/BTC_USD-Hourly.csv\", parse_dates=[\"date\"], index_col= \"date\")"
   ],
   "metadata": {
    "collapsed": false
   }
  },
  {
   "cell_type": "code",
   "execution_count": 11,
   "outputs": [
    {
     "data": {
      "text/plain": "                           unix   symbol     open     high      low    close   \ndate                                                                           \n2018-05-15 06:00:00  1526364000  BTC/USD  8733.86  8796.68  8707.28  8740.99  \\\n2018-05-15 07:00:00  1526367600  BTC/USD  8740.99  8766.00  8721.11  8739.00   \n2018-05-15 08:00:00  1526371200  BTC/USD  8739.00  8750.27  8660.53  8728.49   \n2018-05-15 09:00:00  1526374800  BTC/USD  8728.49  8754.40  8701.35  8708.32   \n2018-05-15 10:00:00  1526378400  BTC/USD  8708.32  8865.00  8695.11  8795.90   \n\n                          volume  Volume USD  \ndate                                          \n2018-05-15 06:00:00   4906603.14      559.93  \n2018-05-15 07:00:00   2390398.89      273.58  \n2018-05-15 08:00:00   7986062.84      917.79  \n2018-05-15 09:00:00   1593991.98      182.62  \n2018-05-15 10:00:00  11101273.74     1260.69  ",
      "text/html": "<div>\n<style scoped>\n    .dataframe tbody tr th:only-of-type {\n        vertical-align: middle;\n    }\n\n    .dataframe tbody tr th {\n        vertical-align: top;\n    }\n\n    .dataframe thead th {\n        text-align: right;\n    }\n</style>\n<table border=\"1\" class=\"dataframe\">\n  <thead>\n    <tr style=\"text-align: right;\">\n      <th></th>\n      <th>unix</th>\n      <th>symbol</th>\n      <th>open</th>\n      <th>high</th>\n      <th>low</th>\n      <th>close</th>\n      <th>volume</th>\n      <th>Volume USD</th>\n    </tr>\n    <tr>\n      <th>date</th>\n      <th></th>\n      <th></th>\n      <th></th>\n      <th></th>\n      <th></th>\n      <th></th>\n      <th></th>\n      <th></th>\n    </tr>\n  </thead>\n  <tbody>\n    <tr>\n      <th>2018-05-15 06:00:00</th>\n      <td>1526364000</td>\n      <td>BTC/USD</td>\n      <td>8733.86</td>\n      <td>8796.68</td>\n      <td>8707.28</td>\n      <td>8740.99</td>\n      <td>4906603.14</td>\n      <td>559.93</td>\n    </tr>\n    <tr>\n      <th>2018-05-15 07:00:00</th>\n      <td>1526367600</td>\n      <td>BTC/USD</td>\n      <td>8740.99</td>\n      <td>8766.00</td>\n      <td>8721.11</td>\n      <td>8739.00</td>\n      <td>2390398.89</td>\n      <td>273.58</td>\n    </tr>\n    <tr>\n      <th>2018-05-15 08:00:00</th>\n      <td>1526371200</td>\n      <td>BTC/USD</td>\n      <td>8739.00</td>\n      <td>8750.27</td>\n      <td>8660.53</td>\n      <td>8728.49</td>\n      <td>7986062.84</td>\n      <td>917.79</td>\n    </tr>\n    <tr>\n      <th>2018-05-15 09:00:00</th>\n      <td>1526374800</td>\n      <td>BTC/USD</td>\n      <td>8728.49</td>\n      <td>8754.40</td>\n      <td>8701.35</td>\n      <td>8708.32</td>\n      <td>1593991.98</td>\n      <td>182.62</td>\n    </tr>\n    <tr>\n      <th>2018-05-15 10:00:00</th>\n      <td>1526378400</td>\n      <td>BTC/USD</td>\n      <td>8708.32</td>\n      <td>8865.00</td>\n      <td>8695.11</td>\n      <td>8795.90</td>\n      <td>11101273.74</td>\n      <td>1260.69</td>\n    </tr>\n  </tbody>\n</table>\n</div>"
     },
     "execution_count": 11,
     "metadata": {},
     "output_type": "execute_result"
    }
   ],
   "source": [
    "df1.sort_index(inplace= True)\n",
    "df1.head()"
   ],
   "metadata": {
    "collapsed": false
   }
  },
  {
   "cell_type": "code",
   "execution_count": 12,
   "outputs": [
    {
     "data": {
      "text/plain": "                           unix   symbol      open      high       low   \ndate                                                                     \n2022-02-28 20:00:00  1646078400  BTC/USD  41361.99  41971.00  41284.11  \\\n2022-02-28 21:00:00  1646082000  BTC/USD  41917.09  41917.09  41542.60   \n2022-02-28 22:00:00  1646085600  BTC/USD  41657.23  44256.08  41650.29   \n2022-02-28 23:00:00  1646089200  BTC/USD  43085.30  43364.81  42892.37   \n2022-03-01 00:00:00  1646092800  BTC/USD  43221.71  43626.49  43185.48   \n\n                        close      volume    Volume USD  \ndate                                                     \n2022-02-28 20:00:00  41914.97  247.151654  1.035935e+07  \n2022-02-28 21:00:00  41659.53   69.751680  2.905822e+06  \n2022-02-28 22:00:00  42907.32  527.540571  2.263535e+07  \n2022-02-28 23:00:00  43178.98  106.816103  4.612210e+06  \n2022-03-01 00:00:00  43312.27   52.056320  2.254677e+06  ",
      "text/html": "<div>\n<style scoped>\n    .dataframe tbody tr th:only-of-type {\n        vertical-align: middle;\n    }\n\n    .dataframe tbody tr th {\n        vertical-align: top;\n    }\n\n    .dataframe thead th {\n        text-align: right;\n    }\n</style>\n<table border=\"1\" class=\"dataframe\">\n  <thead>\n    <tr style=\"text-align: right;\">\n      <th></th>\n      <th>unix</th>\n      <th>symbol</th>\n      <th>open</th>\n      <th>high</th>\n      <th>low</th>\n      <th>close</th>\n      <th>volume</th>\n      <th>Volume USD</th>\n    </tr>\n    <tr>\n      <th>date</th>\n      <th></th>\n      <th></th>\n      <th></th>\n      <th></th>\n      <th></th>\n      <th></th>\n      <th></th>\n      <th></th>\n    </tr>\n  </thead>\n  <tbody>\n    <tr>\n      <th>2022-02-28 20:00:00</th>\n      <td>1646078400</td>\n      <td>BTC/USD</td>\n      <td>41361.99</td>\n      <td>41971.00</td>\n      <td>41284.11</td>\n      <td>41914.97</td>\n      <td>247.151654</td>\n      <td>1.035935e+07</td>\n    </tr>\n    <tr>\n      <th>2022-02-28 21:00:00</th>\n      <td>1646082000</td>\n      <td>BTC/USD</td>\n      <td>41917.09</td>\n      <td>41917.09</td>\n      <td>41542.60</td>\n      <td>41659.53</td>\n      <td>69.751680</td>\n      <td>2.905822e+06</td>\n    </tr>\n    <tr>\n      <th>2022-02-28 22:00:00</th>\n      <td>1646085600</td>\n      <td>BTC/USD</td>\n      <td>41657.23</td>\n      <td>44256.08</td>\n      <td>41650.29</td>\n      <td>42907.32</td>\n      <td>527.540571</td>\n      <td>2.263535e+07</td>\n    </tr>\n    <tr>\n      <th>2022-02-28 23:00:00</th>\n      <td>1646089200</td>\n      <td>BTC/USD</td>\n      <td>43085.30</td>\n      <td>43364.81</td>\n      <td>42892.37</td>\n      <td>43178.98</td>\n      <td>106.816103</td>\n      <td>4.612210e+06</td>\n    </tr>\n    <tr>\n      <th>2022-03-01 00:00:00</th>\n      <td>1646092800</td>\n      <td>BTC/USD</td>\n      <td>43221.71</td>\n      <td>43626.49</td>\n      <td>43185.48</td>\n      <td>43312.27</td>\n      <td>52.056320</td>\n      <td>2.254677e+06</td>\n    </tr>\n  </tbody>\n</table>\n</div>"
     },
     "execution_count": 12,
     "metadata": {},
     "output_type": "execute_result"
    }
   ],
   "source": [
    "df1.tail()"
   ],
   "metadata": {
    "collapsed": false
   }
  },
  {
   "cell_type": "code",
   "execution_count": 9,
   "outputs": [],
   "source": [
    "df1['ma30'] = df1[\"close\"].rolling(30).mean()"
   ],
   "metadata": {
    "collapsed": false
   }
  },
  {
   "cell_type": "code",
   "execution_count": 10,
   "outputs": [
    {
     "data": {
      "text/plain": "                           unix   symbol      open      high       low   \ndate                                                                     \n2022-03-01 00:00:00  1646092800  BTC/USD  43221.71  43626.49  43185.48  \\\n2022-02-28 23:00:00  1646089200  BTC/USD  43085.30  43364.81  42892.37   \n2022-02-28 22:00:00  1646085600  BTC/USD  41657.23  44256.08  41650.29   \n2022-02-28 21:00:00  1646082000  BTC/USD  41917.09  41917.09  41542.60   \n2022-02-28 20:00:00  1646078400  BTC/USD  41361.99  41971.00  41284.11   \n...                         ...      ...       ...       ...       ...   \n2018-05-15 10:00:00  1526378400  BTC/USD   8708.32   8865.00   8695.11   \n2018-05-15 09:00:00  1526374800  BTC/USD   8728.49   8754.40   8701.35   \n2018-05-15 08:00:00  1526371200  BTC/USD   8739.00   8750.27   8660.53   \n2018-05-15 07:00:00  1526367600  BTC/USD   8740.99   8766.00   8721.11   \n2018-05-15 06:00:00  1526364000  BTC/USD   8733.86   8796.68   8707.28   \n\n                        close        volume    Volume USD         ma30  \ndate                                                                    \n2022-03-01 00:00:00  43312.27  5.205632e+01  2.254677e+06          NaN  \n2022-02-28 23:00:00  43178.98  1.068161e+02  4.612210e+06          NaN  \n2022-02-28 22:00:00  42907.32  5.275406e+02  2.263535e+07          NaN  \n2022-02-28 21:00:00  41659.53  6.975168e+01  2.905822e+06          NaN  \n2022-02-28 20:00:00  41914.97  2.471517e+02  1.035935e+07          NaN  \n...                       ...           ...           ...          ...  \n2018-05-15 10:00:00   8795.90  1.110127e+07  1.260690e+03  8415.643667  \n2018-05-15 09:00:00   8708.32  1.593992e+06  1.826200e+02  8429.727667  \n2018-05-15 08:00:00   8728.49  7.986063e+06  9.177900e+02  8446.510667  \n2018-05-15 07:00:00   8739.00  2.390399e+06  2.735800e+02  8465.144333  \n2018-05-15 06:00:00   8740.99  4.906603e+06  5.599300e+02  8477.674667  \n\n[33259 rows x 9 columns]",
      "text/html": "<div>\n<style scoped>\n    .dataframe tbody tr th:only-of-type {\n        vertical-align: middle;\n    }\n\n    .dataframe tbody tr th {\n        vertical-align: top;\n    }\n\n    .dataframe thead th {\n        text-align: right;\n    }\n</style>\n<table border=\"1\" class=\"dataframe\">\n  <thead>\n    <tr style=\"text-align: right;\">\n      <th></th>\n      <th>unix</th>\n      <th>symbol</th>\n      <th>open</th>\n      <th>high</th>\n      <th>low</th>\n      <th>close</th>\n      <th>volume</th>\n      <th>Volume USD</th>\n      <th>ma30</th>\n    </tr>\n    <tr>\n      <th>date</th>\n      <th></th>\n      <th></th>\n      <th></th>\n      <th></th>\n      <th></th>\n      <th></th>\n      <th></th>\n      <th></th>\n      <th></th>\n    </tr>\n  </thead>\n  <tbody>\n    <tr>\n      <th>2022-03-01 00:00:00</th>\n      <td>1646092800</td>\n      <td>BTC/USD</td>\n      <td>43221.71</td>\n      <td>43626.49</td>\n      <td>43185.48</td>\n      <td>43312.27</td>\n      <td>5.205632e+01</td>\n      <td>2.254677e+06</td>\n      <td>NaN</td>\n    </tr>\n    <tr>\n      <th>2022-02-28 23:00:00</th>\n      <td>1646089200</td>\n      <td>BTC/USD</td>\n      <td>43085.30</td>\n      <td>43364.81</td>\n      <td>42892.37</td>\n      <td>43178.98</td>\n      <td>1.068161e+02</td>\n      <td>4.612210e+06</td>\n      <td>NaN</td>\n    </tr>\n    <tr>\n      <th>2022-02-28 22:00:00</th>\n      <td>1646085600</td>\n      <td>BTC/USD</td>\n      <td>41657.23</td>\n      <td>44256.08</td>\n      <td>41650.29</td>\n      <td>42907.32</td>\n      <td>5.275406e+02</td>\n      <td>2.263535e+07</td>\n      <td>NaN</td>\n    </tr>\n    <tr>\n      <th>2022-02-28 21:00:00</th>\n      <td>1646082000</td>\n      <td>BTC/USD</td>\n      <td>41917.09</td>\n      <td>41917.09</td>\n      <td>41542.60</td>\n      <td>41659.53</td>\n      <td>6.975168e+01</td>\n      <td>2.905822e+06</td>\n      <td>NaN</td>\n    </tr>\n    <tr>\n      <th>2022-02-28 20:00:00</th>\n      <td>1646078400</td>\n      <td>BTC/USD</td>\n      <td>41361.99</td>\n      <td>41971.00</td>\n      <td>41284.11</td>\n      <td>41914.97</td>\n      <td>2.471517e+02</td>\n      <td>1.035935e+07</td>\n      <td>NaN</td>\n    </tr>\n    <tr>\n      <th>...</th>\n      <td>...</td>\n      <td>...</td>\n      <td>...</td>\n      <td>...</td>\n      <td>...</td>\n      <td>...</td>\n      <td>...</td>\n      <td>...</td>\n      <td>...</td>\n    </tr>\n    <tr>\n      <th>2018-05-15 10:00:00</th>\n      <td>1526378400</td>\n      <td>BTC/USD</td>\n      <td>8708.32</td>\n      <td>8865.00</td>\n      <td>8695.11</td>\n      <td>8795.90</td>\n      <td>1.110127e+07</td>\n      <td>1.260690e+03</td>\n      <td>8415.643667</td>\n    </tr>\n    <tr>\n      <th>2018-05-15 09:00:00</th>\n      <td>1526374800</td>\n      <td>BTC/USD</td>\n      <td>8728.49</td>\n      <td>8754.40</td>\n      <td>8701.35</td>\n      <td>8708.32</td>\n      <td>1.593992e+06</td>\n      <td>1.826200e+02</td>\n      <td>8429.727667</td>\n    </tr>\n    <tr>\n      <th>2018-05-15 08:00:00</th>\n      <td>1526371200</td>\n      <td>BTC/USD</td>\n      <td>8739.00</td>\n      <td>8750.27</td>\n      <td>8660.53</td>\n      <td>8728.49</td>\n      <td>7.986063e+06</td>\n      <td>9.177900e+02</td>\n      <td>8446.510667</td>\n    </tr>\n    <tr>\n      <th>2018-05-15 07:00:00</th>\n      <td>1526367600</td>\n      <td>BTC/USD</td>\n      <td>8740.99</td>\n      <td>8766.00</td>\n      <td>8721.11</td>\n      <td>8739.00</td>\n      <td>2.390399e+06</td>\n      <td>2.735800e+02</td>\n      <td>8465.144333</td>\n    </tr>\n    <tr>\n      <th>2018-05-15 06:00:00</th>\n      <td>1526364000</td>\n      <td>BTC/USD</td>\n      <td>8733.86</td>\n      <td>8796.68</td>\n      <td>8707.28</td>\n      <td>8740.99</td>\n      <td>4.906603e+06</td>\n      <td>5.599300e+02</td>\n      <td>8477.674667</td>\n    </tr>\n  </tbody>\n</table>\n<p>33259 rows × 9 columns</p>\n</div>"
     },
     "execution_count": 10,
     "metadata": {},
     "output_type": "execute_result"
    }
   ],
   "source": [
    "df1"
   ],
   "metadata": {
    "collapsed": false
   }
  },
  {
   "cell_type": "code",
   "execution_count": null,
   "outputs": [],
   "source": [],
   "metadata": {
    "collapsed": false
   }
  }
 ],
 "metadata": {
  "kernelspec": {
   "display_name": "Python 3",
   "language": "python",
   "name": "python3"
  },
  "language_info": {
   "codemirror_mode": {
    "name": "ipython",
    "version": 2
   },
   "file_extension": ".py",
   "mimetype": "text/x-python",
   "name": "python",
   "nbconvert_exporter": "python",
   "pygments_lexer": "ipython2",
   "version": "2.7.6"
  }
 },
 "nbformat": 4,
 "nbformat_minor": 0
}
