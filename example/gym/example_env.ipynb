{
 "cells": [
  {
   "cell_type": "code",
   "execution_count": 1,
   "metadata": {
    "collapsed": true
   },
   "outputs": [],
   "source": [
    "import pandas as pd"
   ]
  },
  {
   "cell_type": "code",
   "execution_count": 2,
   "outputs": [],
   "source": [
    "df = pd.read_csv(\"data/BTC_USD-Hourly.csv\", parse_dates=[\"date\"], index_col= \"date\")\n",
    "df.sort_index(inplace= True)\n",
    "df.dropna(inplace= True)\n",
    "df.drop_duplicates(inplace=True)"
   ],
   "metadata": {
    "collapsed": false
   }
  },
  {
   "cell_type": "code",
   "execution_count": 3,
   "outputs": [
    {
     "data": {
      "text/plain": "                           unix   symbol      open      high       low   \ndate                                                                     \n2018-05-15 06:00:00  1526364000  BTC/USD   8733.86   8796.68   8707.28  \\\n2018-05-15 07:00:00  1526367600  BTC/USD   8740.99   8766.00   8721.11   \n2018-05-15 08:00:00  1526371200  BTC/USD   8739.00   8750.27   8660.53   \n2018-05-15 09:00:00  1526374800  BTC/USD   8728.49   8754.40   8701.35   \n2018-05-15 10:00:00  1526378400  BTC/USD   8708.32   8865.00   8695.11   \n...                         ...      ...       ...       ...       ...   \n2022-02-28 20:00:00  1646078400  BTC/USD  41361.99  41971.00  41284.11   \n2022-02-28 21:00:00  1646082000  BTC/USD  41917.09  41917.09  41542.60   \n2022-02-28 22:00:00  1646085600  BTC/USD  41657.23  44256.08  41650.29   \n2022-02-28 23:00:00  1646089200  BTC/USD  43085.30  43364.81  42892.37   \n2022-03-01 00:00:00  1646092800  BTC/USD  43221.71  43626.49  43185.48   \n\n                        close        volume    Volume USD  \ndate                                                       \n2018-05-15 06:00:00   8740.99  4.906603e+06  5.599300e+02  \n2018-05-15 07:00:00   8739.00  2.390399e+06  2.735800e+02  \n2018-05-15 08:00:00   8728.49  7.986063e+06  9.177900e+02  \n2018-05-15 09:00:00   8708.32  1.593992e+06  1.826200e+02  \n2018-05-15 10:00:00   8795.90  1.110127e+07  1.260690e+03  \n...                       ...           ...           ...  \n2022-02-28 20:00:00  41914.97  2.471517e+02  1.035935e+07  \n2022-02-28 21:00:00  41659.53  6.975168e+01  2.905822e+06  \n2022-02-28 22:00:00  42907.32  5.275406e+02  2.263535e+07  \n2022-02-28 23:00:00  43178.98  1.068161e+02  4.612210e+06  \n2022-03-01 00:00:00  43312.27  5.205632e+01  2.254677e+06  \n\n[33259 rows x 8 columns]",
      "text/html": "<div>\n<style scoped>\n    .dataframe tbody tr th:only-of-type {\n        vertical-align: middle;\n    }\n\n    .dataframe tbody tr th {\n        vertical-align: top;\n    }\n\n    .dataframe thead th {\n        text-align: right;\n    }\n</style>\n<table border=\"1\" class=\"dataframe\">\n  <thead>\n    <tr style=\"text-align: right;\">\n      <th></th>\n      <th>unix</th>\n      <th>symbol</th>\n      <th>open</th>\n      <th>high</th>\n      <th>low</th>\n      <th>close</th>\n      <th>volume</th>\n      <th>Volume USD</th>\n    </tr>\n    <tr>\n      <th>date</th>\n      <th></th>\n      <th></th>\n      <th></th>\n      <th></th>\n      <th></th>\n      <th></th>\n      <th></th>\n      <th></th>\n    </tr>\n  </thead>\n  <tbody>\n    <tr>\n      <th>2018-05-15 06:00:00</th>\n      <td>1526364000</td>\n      <td>BTC/USD</td>\n      <td>8733.86</td>\n      <td>8796.68</td>\n      <td>8707.28</td>\n      <td>8740.99</td>\n      <td>4.906603e+06</td>\n      <td>5.599300e+02</td>\n    </tr>\n    <tr>\n      <th>2018-05-15 07:00:00</th>\n      <td>1526367600</td>\n      <td>BTC/USD</td>\n      <td>8740.99</td>\n      <td>8766.00</td>\n      <td>8721.11</td>\n      <td>8739.00</td>\n      <td>2.390399e+06</td>\n      <td>2.735800e+02</td>\n    </tr>\n    <tr>\n      <th>2018-05-15 08:00:00</th>\n      <td>1526371200</td>\n      <td>BTC/USD</td>\n      <td>8739.00</td>\n      <td>8750.27</td>\n      <td>8660.53</td>\n      <td>8728.49</td>\n      <td>7.986063e+06</td>\n      <td>9.177900e+02</td>\n    </tr>\n    <tr>\n      <th>2018-05-15 09:00:00</th>\n      <td>1526374800</td>\n      <td>BTC/USD</td>\n      <td>8728.49</td>\n      <td>8754.40</td>\n      <td>8701.35</td>\n      <td>8708.32</td>\n      <td>1.593992e+06</td>\n      <td>1.826200e+02</td>\n    </tr>\n    <tr>\n      <th>2018-05-15 10:00:00</th>\n      <td>1526378400</td>\n      <td>BTC/USD</td>\n      <td>8708.32</td>\n      <td>8865.00</td>\n      <td>8695.11</td>\n      <td>8795.90</td>\n      <td>1.110127e+07</td>\n      <td>1.260690e+03</td>\n    </tr>\n    <tr>\n      <th>...</th>\n      <td>...</td>\n      <td>...</td>\n      <td>...</td>\n      <td>...</td>\n      <td>...</td>\n      <td>...</td>\n      <td>...</td>\n      <td>...</td>\n    </tr>\n    <tr>\n      <th>2022-02-28 20:00:00</th>\n      <td>1646078400</td>\n      <td>BTC/USD</td>\n      <td>41361.99</td>\n      <td>41971.00</td>\n      <td>41284.11</td>\n      <td>41914.97</td>\n      <td>2.471517e+02</td>\n      <td>1.035935e+07</td>\n    </tr>\n    <tr>\n      <th>2022-02-28 21:00:00</th>\n      <td>1646082000</td>\n      <td>BTC/USD</td>\n      <td>41917.09</td>\n      <td>41917.09</td>\n      <td>41542.60</td>\n      <td>41659.53</td>\n      <td>6.975168e+01</td>\n      <td>2.905822e+06</td>\n    </tr>\n    <tr>\n      <th>2022-02-28 22:00:00</th>\n      <td>1646085600</td>\n      <td>BTC/USD</td>\n      <td>41657.23</td>\n      <td>44256.08</td>\n      <td>41650.29</td>\n      <td>42907.32</td>\n      <td>5.275406e+02</td>\n      <td>2.263535e+07</td>\n    </tr>\n    <tr>\n      <th>2022-02-28 23:00:00</th>\n      <td>1646089200</td>\n      <td>BTC/USD</td>\n      <td>43085.30</td>\n      <td>43364.81</td>\n      <td>42892.37</td>\n      <td>43178.98</td>\n      <td>1.068161e+02</td>\n      <td>4.612210e+06</td>\n    </tr>\n    <tr>\n      <th>2022-03-01 00:00:00</th>\n      <td>1646092800</td>\n      <td>BTC/USD</td>\n      <td>43221.71</td>\n      <td>43626.49</td>\n      <td>43185.48</td>\n      <td>43312.27</td>\n      <td>5.205632e+01</td>\n      <td>2.254677e+06</td>\n    </tr>\n  </tbody>\n</table>\n<p>33259 rows × 8 columns</p>\n</div>"
     },
     "execution_count": 3,
     "metadata": {},
     "output_type": "execute_result"
    }
   ],
   "source": [
    "df"
   ],
   "metadata": {
    "collapsed": false
   }
  },
  {
   "cell_type": "code",
   "execution_count": 4,
   "outputs": [],
   "source": [
    "df[\"feature_close\"] = df[\"close\"].pct_change()\n",
    "df[\"feature_open\"] = df[\"open\"]/df[\"close\"]\n",
    "df[\"feature_high\"] = df[\"high\"]/df[\"close\"]\n",
    "df[\"feature_low\"] = df[\"low\"]/df[\"close\"]\n",
    "df[\"feature_volume\"] = df[\"Volume USD\"] / df[\"Volume USD\"].rolling(7*24).max()\n",
    "df.dropna(inplace= True)"
   ],
   "metadata": {
    "collapsed": false
   }
  },
  {
   "cell_type": "code",
   "execution_count": 5,
   "outputs": [
    {
     "data": {
      "text/plain": "                           unix   symbol      open      high       low   \ndate                                                                     \n2018-05-22 05:00:00  1526965200  BTC/USD   8285.29   8314.32   8261.52  \\\n2018-05-22 06:00:00  1526968800  BTC/USD   8280.00   8355.97   8280.00   \n2018-05-22 07:00:00  1526972400  BTC/USD   8317.02   8333.49   8297.00   \n2018-05-22 08:00:00  1526976000  BTC/USD   8320.16   8325.60   8290.00   \n2018-05-22 09:00:00  1526979600  BTC/USD   8295.90   8296.01   8220.00   \n...                         ...      ...       ...       ...       ...   \n2022-02-28 20:00:00  1646078400  BTC/USD  41361.99  41971.00  41284.11   \n2022-02-28 21:00:00  1646082000  BTC/USD  41917.09  41917.09  41542.60   \n2022-02-28 22:00:00  1646085600  BTC/USD  41657.23  44256.08  41650.29   \n2022-02-28 23:00:00  1646089200  BTC/USD  43085.30  43364.81  42892.37   \n2022-03-01 00:00:00  1646092800  BTC/USD  43221.71  43626.49  43185.48   \n\n                        close        volume    Volume USD  feature_close   \ndate                                                                       \n2018-05-22 05:00:00   8280.00  1.711669e+06  2.064000e+02      -0.000638  \\\n2018-05-22 06:00:00   8317.02  2.975234e+06  3.575300e+02       0.004471   \n2018-05-22 07:00:00   8320.16  8.931679e+05  1.074300e+02       0.000378   \n2018-05-22 08:00:00   8295.90  9.687583e+05  1.165400e+02      -0.002916   \n2018-05-22 09:00:00   8245.47  3.954060e+06  4.790700e+02      -0.006079   \n...                       ...           ...           ...            ...   \n2022-02-28 20:00:00  41914.97  2.471517e+02  1.035935e+07       0.013356   \n2022-02-28 21:00:00  41659.53  6.975168e+01  2.905822e+06      -0.006094   \n2022-02-28 22:00:00  42907.32  5.275406e+02  2.263535e+07       0.029952   \n2022-02-28 23:00:00  43178.98  1.068161e+02  4.612210e+06       0.006331   \n2022-03-01 00:00:00  43312.27  5.205632e+01  2.254677e+06       0.003087   \n\n                     feature_open  feature_high  feature_low  feature_volume  \ndate                                                                          \n2018-05-22 05:00:00      1.000639      1.004145     0.997768        0.120688  \n2018-05-22 06:00:00      0.995549      1.004683     0.995549        0.209057  \n2018-05-22 07:00:00      0.999623      1.001602     0.997216        0.062817  \n2018-05-22 08:00:00      1.002924      1.003580     0.999289        0.068144  \n2018-05-22 09:00:00      1.006116      1.006129     0.996911        0.280125  \n...                           ...           ...          ...             ...  \n2022-02-28 20:00:00      0.986807      1.001337     0.984949        0.231194  \n2022-02-28 21:00:00      1.006182      1.006182     0.997193        0.064851  \n2022-02-28 22:00:00      0.970865      1.031434     0.970704        0.505164  \n2022-02-28 23:00:00      0.997830      1.004304     0.993362        0.102933  \n2022-03-01 00:00:00      0.997909      1.007255     0.997073        0.050319  \n\n[33092 rows x 13 columns]",
      "text/html": "<div>\n<style scoped>\n    .dataframe tbody tr th:only-of-type {\n        vertical-align: middle;\n    }\n\n    .dataframe tbody tr th {\n        vertical-align: top;\n    }\n\n    .dataframe thead th {\n        text-align: right;\n    }\n</style>\n<table border=\"1\" class=\"dataframe\">\n  <thead>\n    <tr style=\"text-align: right;\">\n      <th></th>\n      <th>unix</th>\n      <th>symbol</th>\n      <th>open</th>\n      <th>high</th>\n      <th>low</th>\n      <th>close</th>\n      <th>volume</th>\n      <th>Volume USD</th>\n      <th>feature_close</th>\n      <th>feature_open</th>\n      <th>feature_high</th>\n      <th>feature_low</th>\n      <th>feature_volume</th>\n    </tr>\n    <tr>\n      <th>date</th>\n      <th></th>\n      <th></th>\n      <th></th>\n      <th></th>\n      <th></th>\n      <th></th>\n      <th></th>\n      <th></th>\n      <th></th>\n      <th></th>\n      <th></th>\n      <th></th>\n      <th></th>\n    </tr>\n  </thead>\n  <tbody>\n    <tr>\n      <th>2018-05-22 05:00:00</th>\n      <td>1526965200</td>\n      <td>BTC/USD</td>\n      <td>8285.29</td>\n      <td>8314.32</td>\n      <td>8261.52</td>\n      <td>8280.00</td>\n      <td>1.711669e+06</td>\n      <td>2.064000e+02</td>\n      <td>-0.000638</td>\n      <td>1.000639</td>\n      <td>1.004145</td>\n      <td>0.997768</td>\n      <td>0.120688</td>\n    </tr>\n    <tr>\n      <th>2018-05-22 06:00:00</th>\n      <td>1526968800</td>\n      <td>BTC/USD</td>\n      <td>8280.00</td>\n      <td>8355.97</td>\n      <td>8280.00</td>\n      <td>8317.02</td>\n      <td>2.975234e+06</td>\n      <td>3.575300e+02</td>\n      <td>0.004471</td>\n      <td>0.995549</td>\n      <td>1.004683</td>\n      <td>0.995549</td>\n      <td>0.209057</td>\n    </tr>\n    <tr>\n      <th>2018-05-22 07:00:00</th>\n      <td>1526972400</td>\n      <td>BTC/USD</td>\n      <td>8317.02</td>\n      <td>8333.49</td>\n      <td>8297.00</td>\n      <td>8320.16</td>\n      <td>8.931679e+05</td>\n      <td>1.074300e+02</td>\n      <td>0.000378</td>\n      <td>0.999623</td>\n      <td>1.001602</td>\n      <td>0.997216</td>\n      <td>0.062817</td>\n    </tr>\n    <tr>\n      <th>2018-05-22 08:00:00</th>\n      <td>1526976000</td>\n      <td>BTC/USD</td>\n      <td>8320.16</td>\n      <td>8325.60</td>\n      <td>8290.00</td>\n      <td>8295.90</td>\n      <td>9.687583e+05</td>\n      <td>1.165400e+02</td>\n      <td>-0.002916</td>\n      <td>1.002924</td>\n      <td>1.003580</td>\n      <td>0.999289</td>\n      <td>0.068144</td>\n    </tr>\n    <tr>\n      <th>2018-05-22 09:00:00</th>\n      <td>1526979600</td>\n      <td>BTC/USD</td>\n      <td>8295.90</td>\n      <td>8296.01</td>\n      <td>8220.00</td>\n      <td>8245.47</td>\n      <td>3.954060e+06</td>\n      <td>4.790700e+02</td>\n      <td>-0.006079</td>\n      <td>1.006116</td>\n      <td>1.006129</td>\n      <td>0.996911</td>\n      <td>0.280125</td>\n    </tr>\n    <tr>\n      <th>...</th>\n      <td>...</td>\n      <td>...</td>\n      <td>...</td>\n      <td>...</td>\n      <td>...</td>\n      <td>...</td>\n      <td>...</td>\n      <td>...</td>\n      <td>...</td>\n      <td>...</td>\n      <td>...</td>\n      <td>...</td>\n      <td>...</td>\n    </tr>\n    <tr>\n      <th>2022-02-28 20:00:00</th>\n      <td>1646078400</td>\n      <td>BTC/USD</td>\n      <td>41361.99</td>\n      <td>41971.00</td>\n      <td>41284.11</td>\n      <td>41914.97</td>\n      <td>2.471517e+02</td>\n      <td>1.035935e+07</td>\n      <td>0.013356</td>\n      <td>0.986807</td>\n      <td>1.001337</td>\n      <td>0.984949</td>\n      <td>0.231194</td>\n    </tr>\n    <tr>\n      <th>2022-02-28 21:00:00</th>\n      <td>1646082000</td>\n      <td>BTC/USD</td>\n      <td>41917.09</td>\n      <td>41917.09</td>\n      <td>41542.60</td>\n      <td>41659.53</td>\n      <td>6.975168e+01</td>\n      <td>2.905822e+06</td>\n      <td>-0.006094</td>\n      <td>1.006182</td>\n      <td>1.006182</td>\n      <td>0.997193</td>\n      <td>0.064851</td>\n    </tr>\n    <tr>\n      <th>2022-02-28 22:00:00</th>\n      <td>1646085600</td>\n      <td>BTC/USD</td>\n      <td>41657.23</td>\n      <td>44256.08</td>\n      <td>41650.29</td>\n      <td>42907.32</td>\n      <td>5.275406e+02</td>\n      <td>2.263535e+07</td>\n      <td>0.029952</td>\n      <td>0.970865</td>\n      <td>1.031434</td>\n      <td>0.970704</td>\n      <td>0.505164</td>\n    </tr>\n    <tr>\n      <th>2022-02-28 23:00:00</th>\n      <td>1646089200</td>\n      <td>BTC/USD</td>\n      <td>43085.30</td>\n      <td>43364.81</td>\n      <td>42892.37</td>\n      <td>43178.98</td>\n      <td>1.068161e+02</td>\n      <td>4.612210e+06</td>\n      <td>0.006331</td>\n      <td>0.997830</td>\n      <td>1.004304</td>\n      <td>0.993362</td>\n      <td>0.102933</td>\n    </tr>\n    <tr>\n      <th>2022-03-01 00:00:00</th>\n      <td>1646092800</td>\n      <td>BTC/USD</td>\n      <td>43221.71</td>\n      <td>43626.49</td>\n      <td>43185.48</td>\n      <td>43312.27</td>\n      <td>5.205632e+01</td>\n      <td>2.254677e+06</td>\n      <td>0.003087</td>\n      <td>0.997909</td>\n      <td>1.007255</td>\n      <td>0.997073</td>\n      <td>0.050319</td>\n    </tr>\n  </tbody>\n</table>\n<p>33092 rows × 13 columns</p>\n</div>"
     },
     "execution_count": 5,
     "metadata": {},
     "output_type": "execute_result"
    }
   ],
   "source": [
    "df"
   ],
   "metadata": {
    "collapsed": false
   }
  },
  {
   "cell_type": "code",
   "execution_count": 6,
   "outputs": [],
   "source": [
    "import numpy as np\n",
    "import time\n",
    "from gym_trading_env.environments import TradingEnv\n",
    "import gymnasium as gym\n",
    "\n",
    "def reward_function(history):\n",
    "    return np.log(history[\"portfolio_valuation\", -1] / history[\"portfolio_valuation\", -2]) #log (p_t / p_t-1 )\n",
    "\n",
    "env = gym.make(\n",
    "        \"TradingEnv\",\n",
    "        name= \"BTCUSD\",\n",
    "        df = df,\n",
    "        windows= 5,\n",
    "        positions = [ -1, -0.5, 0, 0.5, 1, 1.5, 2], # From -1 (=SHORT), to +1 (=LONG)\n",
    "        initial_position = 'random', #Initial position\n",
    "        trading_fees = 0.01/100, # 0.01% per stock buy / sell\n",
    "        borrow_interest_rate= 0.0003/100, #per timestep (= 1h here)\n",
    "        reward_function = reward_function,\n",
    "        portfolio_initial_value = 1000, # in FIAT (here, USD)\n",
    "        max_episode_duration = 500,\n",
    "    )"
   ],
   "metadata": {
    "collapsed": false
   }
  },
  {
   "cell_type": "code",
   "execution_count": 7,
   "outputs": [
    {
     "name": "stdout",
     "output_type": "stream",
     "text": [
      "{'idx': 133, 'step': 0, 'date': numpy.datetime64('2018-05-27T18:00:00.000000000'), 'position_index': 0, 'position': -1.0, 'real_position': -1.0, 'data_close': 7292.33, 'data_low': 7280.01, 'data_high': 7412.57, 'data_symbol': 'BTC/USD', 'data_Volume USD': 264.28, 'data_unix': 1527444000, 'data_volume': 1938983.11, 'data_open': 7362.11, 'portfolio_valuation': 1000.0, 'portfolio_distribution_asset': 0, 'portfolio_distribution_fiat': 2000.0, 'portfolio_distribution_borrowed_asset': 0.13713038219608822, 'portfolio_distribution_borrowed_fiat': 0, 'portfolio_distribution_interest_asset': 0, 'portfolio_distribution_interest_fiat': 0, 'reward': 0}\n",
      "Market Return : -10.97%   |   Portfolio Return :  2.30%   |   Position Changes : 419   |   Episode Lenght : 500   |   \n"
     ]
    }
   ],
   "source": [
    "env.add_metric('Position Changes', lambda history : np.sum(np.diff(history['position']) != 0) )\n",
    "env.add_metric('Episode Lenght', lambda history : len(history['position']) )\n",
    "\n",
    "done, truncated = False, False\n",
    "observation, info = env.reset()\n",
    "print(info)\n",
    "while not done and not truncated:\n",
    "    action = env.action_space.sample()\n",
    "    observation, reward, done, truncated, info = env.step(action)"
   ],
   "metadata": {
    "collapsed": false
   }
  },
  {
   "cell_type": "code",
   "execution_count": 8,
   "outputs": [],
   "source": [
    "env.save_for_render(dir = \"./render_logs\")"
   ],
   "metadata": {
    "collapsed": false
   }
  },
  {
   "cell_type": "code",
   "execution_count": 19,
   "outputs": [
    {
     "name": "stdout",
     "output_type": "stream",
     "text": [
      " * Serving Flask app 'gym_trading_env.renderer'\n",
      " * Debug mode: off\n"
     ]
    },
    {
     "name": "stderr",
     "output_type": "stream",
     "text": [
      "WARNING: This is a development server. Do not use it in a production deployment. Use a production WSGI server instead.\n",
      " * Running on http://127.0.0.1:5000\n",
      "Press CTRL+C to quit\n",
      "127.0.0.1 - - [05/Jun/2023 16:37:29] \"GET / HTTP/1.1\" 200 -\n",
      "Exception ignored in: <function Socket.__del__ at 0x000002B674B30310>\n",
      "Traceback (most recent call last):\n",
      "  File \"C:\\ProgramData\\Anaconda3\\envs\\backtrader\\lib\\site-packages\\zmq\\sugar\\socket.py\", line 182, in __del__\n",
      "    warn(\n",
      "ResourceWarning: Unclosed socket <zmq.Socket(zmq.PUSH) at 0x2b6065ccc40>\n"
     ]
    }
   ],
   "source": [
    "from gym_trading_env.renderer import Renderer\n",
    "renderer = Renderer(render_logs_dir=\"./render_logs\")\n",
    "renderer.run()"
   ],
   "metadata": {
    "collapsed": false
   }
  },
  {
   "cell_type": "code",
   "execution_count": null,
   "outputs": [],
   "source": [],
   "metadata": {
    "collapsed": false
   }
  }
 ],
 "metadata": {
  "kernelspec": {
   "display_name": "Python 3",
   "language": "python",
   "name": "python3"
  },
  "language_info": {
   "codemirror_mode": {
    "name": "ipython",
    "version": 2
   },
   "file_extension": ".py",
   "mimetype": "text/x-python",
   "name": "python",
   "nbconvert_exporter": "python",
   "pygments_lexer": "ipython2",
   "version": "2.7.6"
  }
 },
 "nbformat": 4,
 "nbformat_minor": 0
}
