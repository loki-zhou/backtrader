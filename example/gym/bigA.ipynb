{
 "cells": [
  {
   "cell_type": "code",
   "execution_count": 1,
   "metadata": {
    "collapsed": true
   },
   "outputs": [],
   "source": [
    "import akshare as ak"
   ]
  },
  {
   "cell_type": "code",
   "execution_count": 6,
   "outputs": [
    {
     "data": {
      "text/plain": "          date   open   high    low  close       volume  outstanding_share  \\\n0   2023-01-03  12.15  12.38  11.98  12.34  142196728.0       7.604409e+09   \n1   2023-01-04  12.15  12.32  12.11  12.23   94080317.0       7.604409e+09   \n2   2023-01-05  12.38  12.64  12.28  12.49  182929726.0       7.604409e+09   \n3   2023-01-06  12.39  12.85  12.38  12.51  162008303.0       7.604409e+09   \n4   2023-01-09  12.41  12.76  12.40  12.50  163382639.0       7.604409e+09   \n..         ...    ...    ...    ...    ...          ...                ...   \n166 2023-09-07  13.15  13.16  12.85  12.89  100887121.0       7.648133e+09   \n167 2023-09-08  12.79  12.92  12.71  12.86   63326901.0       7.648133e+09   \n168 2023-09-11  12.92  13.55  12.81  13.36  188986708.0       7.648133e+09   \n169 2023-09-12  13.44  13.59  13.33  13.47  129741120.0       7.648133e+09   \n170 2023-09-13  13.38  13.43  13.12  13.21   90151813.0       7.648133e+09   \n\n     turnover  \n0    0.018699  \n1    0.012372  \n2    0.024056  \n3    0.021305  \n4    0.021485  \n..        ...  \n166  0.013191  \n167  0.008280  \n168  0.024710  \n169  0.016964  \n170  0.011787  \n\n[171 rows x 8 columns]",
      "text/html": "<div>\n<style scoped>\n    .dataframe tbody tr th:only-of-type {\n        vertical-align: middle;\n    }\n\n    .dataframe tbody tr th {\n        vertical-align: top;\n    }\n\n    .dataframe thead th {\n        text-align: right;\n    }\n</style>\n<table border=\"1\" class=\"dataframe\">\n  <thead>\n    <tr style=\"text-align: right;\">\n      <th></th>\n      <th>date</th>\n      <th>open</th>\n      <th>high</th>\n      <th>low</th>\n      <th>close</th>\n      <th>volume</th>\n      <th>outstanding_share</th>\n      <th>turnover</th>\n    </tr>\n  </thead>\n  <tbody>\n    <tr>\n      <th>0</th>\n      <td>2023-01-03</td>\n      <td>12.15</td>\n      <td>12.38</td>\n      <td>11.98</td>\n      <td>12.34</td>\n      <td>142196728.0</td>\n      <td>7.604409e+09</td>\n      <td>0.018699</td>\n    </tr>\n    <tr>\n      <th>1</th>\n      <td>2023-01-04</td>\n      <td>12.15</td>\n      <td>12.32</td>\n      <td>12.11</td>\n      <td>12.23</td>\n      <td>94080317.0</td>\n      <td>7.604409e+09</td>\n      <td>0.012372</td>\n    </tr>\n    <tr>\n      <th>2</th>\n      <td>2023-01-05</td>\n      <td>12.38</td>\n      <td>12.64</td>\n      <td>12.28</td>\n      <td>12.49</td>\n      <td>182929726.0</td>\n      <td>7.604409e+09</td>\n      <td>0.024056</td>\n    </tr>\n    <tr>\n      <th>3</th>\n      <td>2023-01-06</td>\n      <td>12.39</td>\n      <td>12.85</td>\n      <td>12.38</td>\n      <td>12.51</td>\n      <td>162008303.0</td>\n      <td>7.604409e+09</td>\n      <td>0.021305</td>\n    </tr>\n    <tr>\n      <th>4</th>\n      <td>2023-01-09</td>\n      <td>12.41</td>\n      <td>12.76</td>\n      <td>12.40</td>\n      <td>12.50</td>\n      <td>163382639.0</td>\n      <td>7.604409e+09</td>\n      <td>0.021485</td>\n    </tr>\n    <tr>\n      <th>...</th>\n      <td>...</td>\n      <td>...</td>\n      <td>...</td>\n      <td>...</td>\n      <td>...</td>\n      <td>...</td>\n      <td>...</td>\n      <td>...</td>\n    </tr>\n    <tr>\n      <th>166</th>\n      <td>2023-09-07</td>\n      <td>13.15</td>\n      <td>13.16</td>\n      <td>12.85</td>\n      <td>12.89</td>\n      <td>100887121.0</td>\n      <td>7.648133e+09</td>\n      <td>0.013191</td>\n    </tr>\n    <tr>\n      <th>167</th>\n      <td>2023-09-08</td>\n      <td>12.79</td>\n      <td>12.92</td>\n      <td>12.71</td>\n      <td>12.86</td>\n      <td>63326901.0</td>\n      <td>7.648133e+09</td>\n      <td>0.008280</td>\n    </tr>\n    <tr>\n      <th>168</th>\n      <td>2023-09-11</td>\n      <td>12.92</td>\n      <td>13.55</td>\n      <td>12.81</td>\n      <td>13.36</td>\n      <td>188986708.0</td>\n      <td>7.648133e+09</td>\n      <td>0.024710</td>\n    </tr>\n    <tr>\n      <th>169</th>\n      <td>2023-09-12</td>\n      <td>13.44</td>\n      <td>13.59</td>\n      <td>13.33</td>\n      <td>13.47</td>\n      <td>129741120.0</td>\n      <td>7.648133e+09</td>\n      <td>0.016964</td>\n    </tr>\n    <tr>\n      <th>170</th>\n      <td>2023-09-13</td>\n      <td>13.38</td>\n      <td>13.43</td>\n      <td>13.12</td>\n      <td>13.21</td>\n      <td>90151813.0</td>\n      <td>7.648133e+09</td>\n      <td>0.011787</td>\n    </tr>\n  </tbody>\n</table>\n<p>171 rows × 8 columns</p>\n</div>"
     },
     "execution_count": 6,
     "metadata": {},
     "output_type": "execute_result"
    }
   ],
   "source": [
    "df = ak.stock_zh_a_daily(\"sz000625\", start_date=\"20230101\")\n",
    "df"
   ],
   "metadata": {
    "collapsed": false
   }
  },
  {
   "cell_type": "code",
   "execution_count": 7,
   "outputs": [
    {
     "data": {
      "text/plain": "             open   high    low  close       volume  outstanding_share  \\\ndate                                                                     \n2023-01-03  12.15  12.38  11.98  12.34  142196728.0       7.604409e+09   \n2023-01-04  12.15  12.32  12.11  12.23   94080317.0       7.604409e+09   \n2023-01-05  12.38  12.64  12.28  12.49  182929726.0       7.604409e+09   \n2023-01-06  12.39  12.85  12.38  12.51  162008303.0       7.604409e+09   \n2023-01-09  12.41  12.76  12.40  12.50  163382639.0       7.604409e+09   \n...           ...    ...    ...    ...          ...                ...   \n2023-09-07  13.15  13.16  12.85  12.89  100887121.0       7.648133e+09   \n2023-09-08  12.79  12.92  12.71  12.86   63326901.0       7.648133e+09   \n2023-09-11  12.92  13.55  12.81  13.36  188986708.0       7.648133e+09   \n2023-09-12  13.44  13.59  13.33  13.47  129741120.0       7.648133e+09   \n2023-09-13  13.38  13.43  13.12  13.21   90151813.0       7.648133e+09   \n\n            turnover  \ndate                  \n2023-01-03  0.018699  \n2023-01-04  0.012372  \n2023-01-05  0.024056  \n2023-01-06  0.021305  \n2023-01-09  0.021485  \n...              ...  \n2023-09-07  0.013191  \n2023-09-08  0.008280  \n2023-09-11  0.024710  \n2023-09-12  0.016964  \n2023-09-13  0.011787  \n\n[171 rows x 7 columns]",
      "text/html": "<div>\n<style scoped>\n    .dataframe tbody tr th:only-of-type {\n        vertical-align: middle;\n    }\n\n    .dataframe tbody tr th {\n        vertical-align: top;\n    }\n\n    .dataframe thead th {\n        text-align: right;\n    }\n</style>\n<table border=\"1\" class=\"dataframe\">\n  <thead>\n    <tr style=\"text-align: right;\">\n      <th></th>\n      <th>open</th>\n      <th>high</th>\n      <th>low</th>\n      <th>close</th>\n      <th>volume</th>\n      <th>outstanding_share</th>\n      <th>turnover</th>\n    </tr>\n    <tr>\n      <th>date</th>\n      <th></th>\n      <th></th>\n      <th></th>\n      <th></th>\n      <th></th>\n      <th></th>\n      <th></th>\n    </tr>\n  </thead>\n  <tbody>\n    <tr>\n      <th>2023-01-03</th>\n      <td>12.15</td>\n      <td>12.38</td>\n      <td>11.98</td>\n      <td>12.34</td>\n      <td>142196728.0</td>\n      <td>7.604409e+09</td>\n      <td>0.018699</td>\n    </tr>\n    <tr>\n      <th>2023-01-04</th>\n      <td>12.15</td>\n      <td>12.32</td>\n      <td>12.11</td>\n      <td>12.23</td>\n      <td>94080317.0</td>\n      <td>7.604409e+09</td>\n      <td>0.012372</td>\n    </tr>\n    <tr>\n      <th>2023-01-05</th>\n      <td>12.38</td>\n      <td>12.64</td>\n      <td>12.28</td>\n      <td>12.49</td>\n      <td>182929726.0</td>\n      <td>7.604409e+09</td>\n      <td>0.024056</td>\n    </tr>\n    <tr>\n      <th>2023-01-06</th>\n      <td>12.39</td>\n      <td>12.85</td>\n      <td>12.38</td>\n      <td>12.51</td>\n      <td>162008303.0</td>\n      <td>7.604409e+09</td>\n      <td>0.021305</td>\n    </tr>\n    <tr>\n      <th>2023-01-09</th>\n      <td>12.41</td>\n      <td>12.76</td>\n      <td>12.40</td>\n      <td>12.50</td>\n      <td>163382639.0</td>\n      <td>7.604409e+09</td>\n      <td>0.021485</td>\n    </tr>\n    <tr>\n      <th>...</th>\n      <td>...</td>\n      <td>...</td>\n      <td>...</td>\n      <td>...</td>\n      <td>...</td>\n      <td>...</td>\n      <td>...</td>\n    </tr>\n    <tr>\n      <th>2023-09-07</th>\n      <td>13.15</td>\n      <td>13.16</td>\n      <td>12.85</td>\n      <td>12.89</td>\n      <td>100887121.0</td>\n      <td>7.648133e+09</td>\n      <td>0.013191</td>\n    </tr>\n    <tr>\n      <th>2023-09-08</th>\n      <td>12.79</td>\n      <td>12.92</td>\n      <td>12.71</td>\n      <td>12.86</td>\n      <td>63326901.0</td>\n      <td>7.648133e+09</td>\n      <td>0.008280</td>\n    </tr>\n    <tr>\n      <th>2023-09-11</th>\n      <td>12.92</td>\n      <td>13.55</td>\n      <td>12.81</td>\n      <td>13.36</td>\n      <td>188986708.0</td>\n      <td>7.648133e+09</td>\n      <td>0.024710</td>\n    </tr>\n    <tr>\n      <th>2023-09-12</th>\n      <td>13.44</td>\n      <td>13.59</td>\n      <td>13.33</td>\n      <td>13.47</td>\n      <td>129741120.0</td>\n      <td>7.648133e+09</td>\n      <td>0.016964</td>\n    </tr>\n    <tr>\n      <th>2023-09-13</th>\n      <td>13.38</td>\n      <td>13.43</td>\n      <td>13.12</td>\n      <td>13.21</td>\n      <td>90151813.0</td>\n      <td>7.648133e+09</td>\n      <td>0.011787</td>\n    </tr>\n  </tbody>\n</table>\n<p>171 rows × 7 columns</p>\n</div>"
     },
     "execution_count": 7,
     "metadata": {},
     "output_type": "execute_result"
    }
   ],
   "source": [
    "df.set_index(\"date\")"
   ],
   "metadata": {
    "collapsed": false
   }
  },
  {
   "cell_type": "code",
   "execution_count": 8,
   "outputs": [],
   "source": [
    "import pandas as pd\n",
    "df = pd.read_pickle(\"./render_logs/BTCUSD_2023-09-14_11-32-52.pkl\")"
   ],
   "metadata": {
    "collapsed": false
   }
  },
  {
   "cell_type": "code",
   "execution_count": 9,
   "outputs": [
    {
     "data": {
      "text/plain": "          date   open   high    low  close       volume  outstanding_share  \\\n199 2020-11-02  16.72  17.88  16.32  17.70   95706902.0       3.900643e+09   \n200 2020-11-03  17.70  17.70  16.90  17.33   75423367.0       3.900643e+09   \n201 2020-11-04  17.23  18.03  17.08  17.58   72516977.0       3.900643e+09   \n202 2020-11-05  18.05  18.71  17.71  18.46   82129415.0       3.900643e+09   \n203 2020-11-06  18.40  18.87  17.03  17.70   95658384.0       3.900643e+09   \n..         ...    ...    ...    ...    ...          ...                ...   \n883 2023-08-23  13.04  13.19  12.80  12.81  100547978.0       7.648133e+09   \n884 2023-08-24  12.86  13.25  12.72  13.01  123899711.0       7.648133e+09   \n885 2023-08-25  12.90  13.20  12.81  13.08  112789396.0       7.648133e+09   \n886 2023-08-28  13.99  14.00  13.00  13.04  221919937.0       7.648133e+09   \n887 2023-08-29  13.00  13.85  12.95  13.64  252039402.0       7.648133e+09   \n\n     turnover  feature_return_close  feature_diff_open  ...  data_close  \\\n199  0.024536              0.071429           0.944633  ...        17.7   \n200  0.019336             -0.020904           1.021350  ...       17.33   \n201  0.018591              0.014426           0.980091  ...       17.58   \n202  0.021055              0.050057           0.977790  ...       18.46   \n203  0.024524             -0.041170           1.039548  ...        17.7   \n..        ...                   ...                ...  ...         ...   \n883  0.013147             -0.028810           1.017955  ...       12.81   \n884  0.016200              0.015613           0.988470  ...       13.01   \n885  0.014747              0.005380           0.986239  ...       13.08   \n886  0.029016             -0.003058           1.072853  ...       13.04   \n887  0.032954              0.046012           0.953079  ...       13.64   \n\n     portfolio_valuation  real_position  data_turnover  data_high  idx  \\\n199              10000.0              0       0.024536      17.88    0   \n200         10099.470039      -0.484484       0.019336       17.7    1   \n201         10229.954707            1.0       0.018591      18.03    2   \n202         10742.034351            1.0       0.021055      18.71    3   \n203          10946.72313      -0.469745       0.024524      18.87    4   \n..                   ...            ...            ...        ...  ...   \n883       4825484.959146            1.0       0.013147      13.19  684   \n884        4900824.30277            1.0         0.0162      13.25  685   \n885       4927193.073039            1.0       0.014747       13.2  686   \n886       4917198.078577       0.499234       0.029016       14.0  687   \n887       5140873.860825            1.0       0.032954      13.85  688   \n\n       reward  step  position_index  portfolio_distribution_asset  \n199         0     0               2                             0  \n200         0     1               1                             0  \n201  0.296551     2               4                    581.908686  \n202  0.179947     3               4                    581.908686  \n203  0.181984     4               1                             0  \n..        ...   ...             ...                           ...  \n883   0.00587   684               4                 376696.718122  \n884  0.006824   685               4                 376696.718122  \n885  0.012404   686               4                 376696.718122  \n886  0.009194   687               3                 188254.137771  \n887  0.027639   688               4                 376896.910618  \n\n[689 rows x 82 columns]",
      "text/html": "<div>\n<style scoped>\n    .dataframe tbody tr th:only-of-type {\n        vertical-align: middle;\n    }\n\n    .dataframe tbody tr th {\n        vertical-align: top;\n    }\n\n    .dataframe thead th {\n        text-align: right;\n    }\n</style>\n<table border=\"1\" class=\"dataframe\">\n  <thead>\n    <tr style=\"text-align: right;\">\n      <th></th>\n      <th>date</th>\n      <th>open</th>\n      <th>high</th>\n      <th>low</th>\n      <th>close</th>\n      <th>volume</th>\n      <th>outstanding_share</th>\n      <th>turnover</th>\n      <th>feature_return_close</th>\n      <th>feature_diff_open</th>\n      <th>...</th>\n      <th>data_close</th>\n      <th>portfolio_valuation</th>\n      <th>real_position</th>\n      <th>data_turnover</th>\n      <th>data_high</th>\n      <th>idx</th>\n      <th>reward</th>\n      <th>step</th>\n      <th>position_index</th>\n      <th>portfolio_distribution_asset</th>\n    </tr>\n  </thead>\n  <tbody>\n    <tr>\n      <th>199</th>\n      <td>2020-11-02</td>\n      <td>16.72</td>\n      <td>17.88</td>\n      <td>16.32</td>\n      <td>17.70</td>\n      <td>95706902.0</td>\n      <td>3.900643e+09</td>\n      <td>0.024536</td>\n      <td>0.071429</td>\n      <td>0.944633</td>\n      <td>...</td>\n      <td>17.7</td>\n      <td>10000.0</td>\n      <td>0</td>\n      <td>0.024536</td>\n      <td>17.88</td>\n      <td>0</td>\n      <td>0</td>\n      <td>0</td>\n      <td>2</td>\n      <td>0</td>\n    </tr>\n    <tr>\n      <th>200</th>\n      <td>2020-11-03</td>\n      <td>17.70</td>\n      <td>17.70</td>\n      <td>16.90</td>\n      <td>17.33</td>\n      <td>75423367.0</td>\n      <td>3.900643e+09</td>\n      <td>0.019336</td>\n      <td>-0.020904</td>\n      <td>1.021350</td>\n      <td>...</td>\n      <td>17.33</td>\n      <td>10099.470039</td>\n      <td>-0.484484</td>\n      <td>0.019336</td>\n      <td>17.7</td>\n      <td>1</td>\n      <td>0</td>\n      <td>1</td>\n      <td>1</td>\n      <td>0</td>\n    </tr>\n    <tr>\n      <th>201</th>\n      <td>2020-11-04</td>\n      <td>17.23</td>\n      <td>18.03</td>\n      <td>17.08</td>\n      <td>17.58</td>\n      <td>72516977.0</td>\n      <td>3.900643e+09</td>\n      <td>0.018591</td>\n      <td>0.014426</td>\n      <td>0.980091</td>\n      <td>...</td>\n      <td>17.58</td>\n      <td>10229.954707</td>\n      <td>1.0</td>\n      <td>0.018591</td>\n      <td>18.03</td>\n      <td>2</td>\n      <td>0.296551</td>\n      <td>2</td>\n      <td>4</td>\n      <td>581.908686</td>\n    </tr>\n    <tr>\n      <th>202</th>\n      <td>2020-11-05</td>\n      <td>18.05</td>\n      <td>18.71</td>\n      <td>17.71</td>\n      <td>18.46</td>\n      <td>82129415.0</td>\n      <td>3.900643e+09</td>\n      <td>0.021055</td>\n      <td>0.050057</td>\n      <td>0.977790</td>\n      <td>...</td>\n      <td>18.46</td>\n      <td>10742.034351</td>\n      <td>1.0</td>\n      <td>0.021055</td>\n      <td>18.71</td>\n      <td>3</td>\n      <td>0.179947</td>\n      <td>3</td>\n      <td>4</td>\n      <td>581.908686</td>\n    </tr>\n    <tr>\n      <th>203</th>\n      <td>2020-11-06</td>\n      <td>18.40</td>\n      <td>18.87</td>\n      <td>17.03</td>\n      <td>17.70</td>\n      <td>95658384.0</td>\n      <td>3.900643e+09</td>\n      <td>0.024524</td>\n      <td>-0.041170</td>\n      <td>1.039548</td>\n      <td>...</td>\n      <td>17.7</td>\n      <td>10946.72313</td>\n      <td>-0.469745</td>\n      <td>0.024524</td>\n      <td>18.87</td>\n      <td>4</td>\n      <td>0.181984</td>\n      <td>4</td>\n      <td>1</td>\n      <td>0</td>\n    </tr>\n    <tr>\n      <th>...</th>\n      <td>...</td>\n      <td>...</td>\n      <td>...</td>\n      <td>...</td>\n      <td>...</td>\n      <td>...</td>\n      <td>...</td>\n      <td>...</td>\n      <td>...</td>\n      <td>...</td>\n      <td>...</td>\n      <td>...</td>\n      <td>...</td>\n      <td>...</td>\n      <td>...</td>\n      <td>...</td>\n      <td>...</td>\n      <td>...</td>\n      <td>...</td>\n      <td>...</td>\n      <td>...</td>\n    </tr>\n    <tr>\n      <th>883</th>\n      <td>2023-08-23</td>\n      <td>13.04</td>\n      <td>13.19</td>\n      <td>12.80</td>\n      <td>12.81</td>\n      <td>100547978.0</td>\n      <td>7.648133e+09</td>\n      <td>0.013147</td>\n      <td>-0.028810</td>\n      <td>1.017955</td>\n      <td>...</td>\n      <td>12.81</td>\n      <td>4825484.959146</td>\n      <td>1.0</td>\n      <td>0.013147</td>\n      <td>13.19</td>\n      <td>684</td>\n      <td>0.00587</td>\n      <td>684</td>\n      <td>4</td>\n      <td>376696.718122</td>\n    </tr>\n    <tr>\n      <th>884</th>\n      <td>2023-08-24</td>\n      <td>12.86</td>\n      <td>13.25</td>\n      <td>12.72</td>\n      <td>13.01</td>\n      <td>123899711.0</td>\n      <td>7.648133e+09</td>\n      <td>0.016200</td>\n      <td>0.015613</td>\n      <td>0.988470</td>\n      <td>...</td>\n      <td>13.01</td>\n      <td>4900824.30277</td>\n      <td>1.0</td>\n      <td>0.0162</td>\n      <td>13.25</td>\n      <td>685</td>\n      <td>0.006824</td>\n      <td>685</td>\n      <td>4</td>\n      <td>376696.718122</td>\n    </tr>\n    <tr>\n      <th>885</th>\n      <td>2023-08-25</td>\n      <td>12.90</td>\n      <td>13.20</td>\n      <td>12.81</td>\n      <td>13.08</td>\n      <td>112789396.0</td>\n      <td>7.648133e+09</td>\n      <td>0.014747</td>\n      <td>0.005380</td>\n      <td>0.986239</td>\n      <td>...</td>\n      <td>13.08</td>\n      <td>4927193.073039</td>\n      <td>1.0</td>\n      <td>0.014747</td>\n      <td>13.2</td>\n      <td>686</td>\n      <td>0.012404</td>\n      <td>686</td>\n      <td>4</td>\n      <td>376696.718122</td>\n    </tr>\n    <tr>\n      <th>886</th>\n      <td>2023-08-28</td>\n      <td>13.99</td>\n      <td>14.00</td>\n      <td>13.00</td>\n      <td>13.04</td>\n      <td>221919937.0</td>\n      <td>7.648133e+09</td>\n      <td>0.029016</td>\n      <td>-0.003058</td>\n      <td>1.072853</td>\n      <td>...</td>\n      <td>13.04</td>\n      <td>4917198.078577</td>\n      <td>0.499234</td>\n      <td>0.029016</td>\n      <td>14.0</td>\n      <td>687</td>\n      <td>0.009194</td>\n      <td>687</td>\n      <td>3</td>\n      <td>188254.137771</td>\n    </tr>\n    <tr>\n      <th>887</th>\n      <td>2023-08-29</td>\n      <td>13.00</td>\n      <td>13.85</td>\n      <td>12.95</td>\n      <td>13.64</td>\n      <td>252039402.0</td>\n      <td>7.648133e+09</td>\n      <td>0.032954</td>\n      <td>0.046012</td>\n      <td>0.953079</td>\n      <td>...</td>\n      <td>13.64</td>\n      <td>5140873.860825</td>\n      <td>1.0</td>\n      <td>0.032954</td>\n      <td>13.85</td>\n      <td>688</td>\n      <td>0.027639</td>\n      <td>688</td>\n      <td>4</td>\n      <td>376896.910618</td>\n    </tr>\n  </tbody>\n</table>\n<p>689 rows × 82 columns</p>\n</div>"
     },
     "execution_count": 9,
     "metadata": {},
     "output_type": "execute_result"
    }
   ],
   "source": [
    "df"
   ],
   "metadata": {
    "collapsed": false
   }
  },
  {
   "cell_type": "code",
   "execution_count": 10,
   "outputs": [
    {
     "data": {
      "text/plain": "          date   open   high    low  close      volume  outstanding_share  \\\n0   2020-01-02  85.90  86.79  85.88  86.12  77825207.0       1.083266e+10   \n1   2020-01-03  86.81  86.88  85.90  86.20  59498001.0       1.083266e+10   \n2   2020-01-06  85.92  86.87  85.50  85.60  63644804.0       1.083266e+10   \n3   2020-01-07  86.01  86.46  85.67  86.15  45218832.0       1.083266e+10   \n4   2020-01-08  85.98  85.98  84.50  85.00  62805311.0       1.083266e+10   \n..         ...    ...    ...    ...    ...         ...                ...   \n894 2023-09-07  50.71  50.88  50.16  50.22  40329071.0       1.076266e+10   \n895 2023-09-08  50.03  50.45  49.80  50.12  27366737.0       1.076266e+10   \n896 2023-09-11  50.38  50.77  49.85  50.36  49151466.0       1.076266e+10   \n897 2023-09-12  50.10  50.15  49.49  49.95  36114393.0       1.076266e+10   \n898 2023-09-13  50.14  50.22  49.22  49.50  43398924.0       1.076266e+10   \n\n     turnover  \n0    0.007184  \n1    0.005492  \n2    0.005875  \n3    0.004174  \n4    0.005798  \n..        ...  \n894  0.003747  \n895  0.002543  \n896  0.004567  \n897  0.003356  \n898  0.004032  \n\n[899 rows x 8 columns]",
      "text/html": "<div>\n<style scoped>\n    .dataframe tbody tr th:only-of-type {\n        vertical-align: middle;\n    }\n\n    .dataframe tbody tr th {\n        vertical-align: top;\n    }\n\n    .dataframe thead th {\n        text-align: right;\n    }\n</style>\n<table border=\"1\" class=\"dataframe\">\n  <thead>\n    <tr style=\"text-align: right;\">\n      <th></th>\n      <th>date</th>\n      <th>open</th>\n      <th>high</th>\n      <th>low</th>\n      <th>close</th>\n      <th>volume</th>\n      <th>outstanding_share</th>\n      <th>turnover</th>\n    </tr>\n  </thead>\n  <tbody>\n    <tr>\n      <th>0</th>\n      <td>2020-01-02</td>\n      <td>85.90</td>\n      <td>86.79</td>\n      <td>85.88</td>\n      <td>86.12</td>\n      <td>77825207.0</td>\n      <td>1.083266e+10</td>\n      <td>0.007184</td>\n    </tr>\n    <tr>\n      <th>1</th>\n      <td>2020-01-03</td>\n      <td>86.81</td>\n      <td>86.88</td>\n      <td>85.90</td>\n      <td>86.20</td>\n      <td>59498001.0</td>\n      <td>1.083266e+10</td>\n      <td>0.005492</td>\n    </tr>\n    <tr>\n      <th>2</th>\n      <td>2020-01-06</td>\n      <td>85.92</td>\n      <td>86.87</td>\n      <td>85.50</td>\n      <td>85.60</td>\n      <td>63644804.0</td>\n      <td>1.083266e+10</td>\n      <td>0.005875</td>\n    </tr>\n    <tr>\n      <th>3</th>\n      <td>2020-01-07</td>\n      <td>86.01</td>\n      <td>86.46</td>\n      <td>85.67</td>\n      <td>86.15</td>\n      <td>45218832.0</td>\n      <td>1.083266e+10</td>\n      <td>0.004174</td>\n    </tr>\n    <tr>\n      <th>4</th>\n      <td>2020-01-08</td>\n      <td>85.98</td>\n      <td>85.98</td>\n      <td>84.50</td>\n      <td>85.00</td>\n      <td>62805311.0</td>\n      <td>1.083266e+10</td>\n      <td>0.005798</td>\n    </tr>\n    <tr>\n      <th>...</th>\n      <td>...</td>\n      <td>...</td>\n      <td>...</td>\n      <td>...</td>\n      <td>...</td>\n      <td>...</td>\n      <td>...</td>\n      <td>...</td>\n    </tr>\n    <tr>\n      <th>894</th>\n      <td>2023-09-07</td>\n      <td>50.71</td>\n      <td>50.88</td>\n      <td>50.16</td>\n      <td>50.22</td>\n      <td>40329071.0</td>\n      <td>1.076266e+10</td>\n      <td>0.003747</td>\n    </tr>\n    <tr>\n      <th>895</th>\n      <td>2023-09-08</td>\n      <td>50.03</td>\n      <td>50.45</td>\n      <td>49.80</td>\n      <td>50.12</td>\n      <td>27366737.0</td>\n      <td>1.076266e+10</td>\n      <td>0.002543</td>\n    </tr>\n    <tr>\n      <th>896</th>\n      <td>2023-09-11</td>\n      <td>50.38</td>\n      <td>50.77</td>\n      <td>49.85</td>\n      <td>50.36</td>\n      <td>49151466.0</td>\n      <td>1.076266e+10</td>\n      <td>0.004567</td>\n    </tr>\n    <tr>\n      <th>897</th>\n      <td>2023-09-12</td>\n      <td>50.10</td>\n      <td>50.15</td>\n      <td>49.49</td>\n      <td>49.95</td>\n      <td>36114393.0</td>\n      <td>1.076266e+10</td>\n      <td>0.003356</td>\n    </tr>\n    <tr>\n      <th>898</th>\n      <td>2023-09-13</td>\n      <td>50.14</td>\n      <td>50.22</td>\n      <td>49.22</td>\n      <td>49.50</td>\n      <td>43398924.0</td>\n      <td>1.076266e+10</td>\n      <td>0.004032</td>\n    </tr>\n  </tbody>\n</table>\n<p>899 rows × 8 columns</p>\n</div>"
     },
     "execution_count": 10,
     "metadata": {},
     "output_type": "execute_result"
    }
   ],
   "source": [
    "df = ak.stock_zh_a_daily(\"sh601318\", start_date=\"20200101\")\n",
    "df"
   ],
   "metadata": {
    "collapsed": false
   }
  },
  {
   "cell_type": "code",
   "execution_count": null,
   "outputs": [],
   "source": [],
   "metadata": {
    "collapsed": false
   }
  }
 ],
 "metadata": {
  "kernelspec": {
   "display_name": "Python 3",
   "language": "python",
   "name": "python3"
  },
  "language_info": {
   "codemirror_mode": {
    "name": "ipython",
    "version": 2
   },
   "file_extension": ".py",
   "mimetype": "text/x-python",
   "name": "python",
   "nbconvert_exporter": "python",
   "pygments_lexer": "ipython2",
   "version": "2.7.6"
  }
 },
 "nbformat": 4,
 "nbformat_minor": 0
}
