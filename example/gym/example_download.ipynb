{
 "cells": [
  {
   "cell_type": "code",
   "execution_count": 1,
   "metadata": {
    "collapsed": true
   },
   "outputs": [],
   "source": [
    "import pandas as pd"
   ]
  },
  {
   "cell_type": "code",
   "execution_count": 2,
   "outputs": [],
   "source": [
    "df = pd.read_pickle(\"./data/binance-BTCUSDT-1h.pkl\")"
   ],
   "metadata": {
    "collapsed": false
   }
  },
  {
   "cell_type": "code",
   "execution_count": 3,
   "outputs": [
    {
     "data": {
      "text/plain": "                         open      high       low     close      volume   \ndate_open                                                                 \n2022-12-31 17:00:00  16600.93  16604.37  16571.01  16582.08  4844.04845  \\\n2022-12-31 18:00:00  16581.45  16589.36  16571.80  16577.79  3340.80330   \n2022-12-31 19:00:00  16577.78  16590.06  16565.10  16570.14  4044.43359   \n2022-12-31 20:00:00  16570.14  16574.97  16564.09  16568.60  2622.14355   \n2022-12-31 21:00:00  16568.19  16571.64  16544.12  16548.28  3618.77389   \n...                       ...       ...       ...       ...         ...   \n2023-06-04 21:00:00  27241.50  27280.00  27187.39  27194.57   630.62225   \n2023-06-04 22:00:00  27194.57  27455.02  27188.27  27234.06  3633.43419   \n2023-06-04 23:00:00  27234.06  27319.84  27043.65  27115.21  1800.14400   \n2023-06-05 00:00:00  27115.20  27129.33  26966.00  27024.76  1770.73298   \n2023-06-05 01:00:00  27024.75  27037.08  26998.53  27031.02   252.35175   \n\n                             date_close  \ndate_open                                \n2022-12-31 17:00:00 2022-12-31 18:00:00  \n2022-12-31 18:00:00 2022-12-31 19:00:00  \n2022-12-31 19:00:00 2022-12-31 20:00:00  \n2022-12-31 20:00:00 2022-12-31 21:00:00  \n2022-12-31 21:00:00 2022-12-31 22:00:00  \n...                                 ...  \n2023-06-04 21:00:00 2023-06-04 22:00:00  \n2023-06-04 22:00:00 2023-06-04 23:00:00  \n2023-06-04 23:00:00 2023-06-05 00:00:00  \n2023-06-05 00:00:00 2023-06-05 01:00:00  \n2023-06-05 01:00:00 2023-06-05 02:00:00  \n\n[3728 rows x 6 columns]",
      "text/html": "<div>\n<style scoped>\n    .dataframe tbody tr th:only-of-type {\n        vertical-align: middle;\n    }\n\n    .dataframe tbody tr th {\n        vertical-align: top;\n    }\n\n    .dataframe thead th {\n        text-align: right;\n    }\n</style>\n<table border=\"1\" class=\"dataframe\">\n  <thead>\n    <tr style=\"text-align: right;\">\n      <th></th>\n      <th>open</th>\n      <th>high</th>\n      <th>low</th>\n      <th>close</th>\n      <th>volume</th>\n      <th>date_close</th>\n    </tr>\n    <tr>\n      <th>date_open</th>\n      <th></th>\n      <th></th>\n      <th></th>\n      <th></th>\n      <th></th>\n      <th></th>\n    </tr>\n  </thead>\n  <tbody>\n    <tr>\n      <th>2022-12-31 17:00:00</th>\n      <td>16600.93</td>\n      <td>16604.37</td>\n      <td>16571.01</td>\n      <td>16582.08</td>\n      <td>4844.04845</td>\n      <td>2022-12-31 18:00:00</td>\n    </tr>\n    <tr>\n      <th>2022-12-31 18:00:00</th>\n      <td>16581.45</td>\n      <td>16589.36</td>\n      <td>16571.80</td>\n      <td>16577.79</td>\n      <td>3340.80330</td>\n      <td>2022-12-31 19:00:00</td>\n    </tr>\n    <tr>\n      <th>2022-12-31 19:00:00</th>\n      <td>16577.78</td>\n      <td>16590.06</td>\n      <td>16565.10</td>\n      <td>16570.14</td>\n      <td>4044.43359</td>\n      <td>2022-12-31 20:00:00</td>\n    </tr>\n    <tr>\n      <th>2022-12-31 20:00:00</th>\n      <td>16570.14</td>\n      <td>16574.97</td>\n      <td>16564.09</td>\n      <td>16568.60</td>\n      <td>2622.14355</td>\n      <td>2022-12-31 21:00:00</td>\n    </tr>\n    <tr>\n      <th>2022-12-31 21:00:00</th>\n      <td>16568.19</td>\n      <td>16571.64</td>\n      <td>16544.12</td>\n      <td>16548.28</td>\n      <td>3618.77389</td>\n      <td>2022-12-31 22:00:00</td>\n    </tr>\n    <tr>\n      <th>...</th>\n      <td>...</td>\n      <td>...</td>\n      <td>...</td>\n      <td>...</td>\n      <td>...</td>\n      <td>...</td>\n    </tr>\n    <tr>\n      <th>2023-06-04 21:00:00</th>\n      <td>27241.50</td>\n      <td>27280.00</td>\n      <td>27187.39</td>\n      <td>27194.57</td>\n      <td>630.62225</td>\n      <td>2023-06-04 22:00:00</td>\n    </tr>\n    <tr>\n      <th>2023-06-04 22:00:00</th>\n      <td>27194.57</td>\n      <td>27455.02</td>\n      <td>27188.27</td>\n      <td>27234.06</td>\n      <td>3633.43419</td>\n      <td>2023-06-04 23:00:00</td>\n    </tr>\n    <tr>\n      <th>2023-06-04 23:00:00</th>\n      <td>27234.06</td>\n      <td>27319.84</td>\n      <td>27043.65</td>\n      <td>27115.21</td>\n      <td>1800.14400</td>\n      <td>2023-06-05 00:00:00</td>\n    </tr>\n    <tr>\n      <th>2023-06-05 00:00:00</th>\n      <td>27115.20</td>\n      <td>27129.33</td>\n      <td>26966.00</td>\n      <td>27024.76</td>\n      <td>1770.73298</td>\n      <td>2023-06-05 01:00:00</td>\n    </tr>\n    <tr>\n      <th>2023-06-05 01:00:00</th>\n      <td>27024.75</td>\n      <td>27037.08</td>\n      <td>26998.53</td>\n      <td>27031.02</td>\n      <td>252.35175</td>\n      <td>2023-06-05 02:00:00</td>\n    </tr>\n  </tbody>\n</table>\n<p>3728 rows × 6 columns</p>\n</div>"
     },
     "execution_count": 3,
     "metadata": {},
     "output_type": "execute_result"
    }
   ],
   "source": [
    "df"
   ],
   "metadata": {
    "collapsed": false
   }
  },
  {
   "cell_type": "code",
   "execution_count": null,
   "outputs": [],
   "source": [],
   "metadata": {
    "collapsed": false
   }
  }
 ],
 "metadata": {
  "kernelspec": {
   "display_name": "Python 3",
   "language": "python",
   "name": "python3"
  },
  "language_info": {
   "codemirror_mode": {
    "name": "ipython",
    "version": 2
   },
   "file_extension": ".py",
   "mimetype": "text/x-python",
   "name": "python",
   "nbconvert_exporter": "python",
   "pygments_lexer": "ipython2",
   "version": "2.7.6"
  }
 },
 "nbformat": 4,
 "nbformat_minor": 0
}
