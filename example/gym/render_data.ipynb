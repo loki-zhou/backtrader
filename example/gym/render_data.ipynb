{
 "cells": [
  {
   "cell_type": "code",
   "execution_count": 1,
   "metadata": {
    "collapsed": true
   },
   "outputs": [],
   "source": [
    "import pandas as pd"
   ]
  },
  {
   "cell_type": "code",
   "execution_count": 4,
   "outputs": [],
   "source": [
    "df = pd.read_pickle(\"./render_logs/BTCUSD_2023-06-06_17-53-27.pkl\")"
   ],
   "metadata": {
    "collapsed": false
   }
  },
  {
   "cell_type": "code",
   "execution_count": 5,
   "outputs": [
    {
     "data": {
      "text/plain": "                           unix   symbol      open      high       low   \ndate                                                                     \n2018-05-22 09:00:00  1526979600  BTC/USD   8295.90   8296.01   8220.00  \\\n2018-05-22 10:00:00  1526983200  BTC/USD   8245.47   8264.98   8230.45   \n2018-05-22 11:00:00  1526986800  BTC/USD   8264.98   8271.31   8180.00   \n2018-05-22 12:00:00  1526990400  BTC/USD   8200.00   8200.00   8119.38   \n2018-05-22 13:00:00  1526994000  BTC/USD   8170.00   8232.14   8170.00   \n...                         ...      ...       ...       ...       ...   \n2022-02-28 20:00:00  1646078400  BTC/USD  41361.99  41971.00  41284.11   \n2022-02-28 21:00:00  1646082000  BTC/USD  41917.09  41917.09  41542.60   \n2022-02-28 22:00:00  1646085600  BTC/USD  41657.23  44256.08  41650.29   \n2022-02-28 23:00:00  1646089200  BTC/USD  43085.30  43364.81  42892.37   \n2022-03-01 00:00:00  1646092800  BTC/USD  43221.71  43626.49  43185.48   \n\n                        close        volume    Volume USD  feature_close   \ndate                                                                       \n2018-05-22 09:00:00   8245.47  3.954060e+06  4.790700e+02      -0.006079  \\\n2018-05-22 10:00:00   8264.98  2.396600e+06  2.903800e+02       0.002366   \n2018-05-22 11:00:00   8200.00  6.677264e+06  8.129600e+02      -0.007862   \n2018-05-22 12:00:00   8170.00  1.259034e+07  1.542870e+03      -0.003659   \n2018-05-22 13:00:00   8217.00  3.531957e+06  4.303600e+02       0.005753   \n...                       ...           ...           ...            ...   \n2022-02-28 20:00:00  41914.97  2.471517e+02  1.035935e+07       0.013356   \n2022-02-28 21:00:00  41659.53  6.975168e+01  2.905822e+06      -0.006094   \n2022-02-28 22:00:00  42907.32  5.275406e+02  2.263535e+07       0.029952   \n2022-02-28 23:00:00  43178.98  1.068161e+02  4.612210e+06       0.006331   \n2022-03-01 00:00:00  43312.27  5.205632e+01  2.254677e+06       0.003087   \n\n                     feature_open  ...  data_Volume USD   \ndate                               ...                    \n2018-05-22 09:00:00      1.006116  ...           479.07  \\\n2018-05-22 10:00:00      0.997639  ...           290.38   \n2018-05-22 11:00:00      1.007924  ...           812.96   \n2018-05-22 12:00:00      1.003672  ...          1542.87   \n2018-05-22 13:00:00      0.994280  ...           430.36   \n...                           ...  ...              ...   \n2022-02-28 20:00:00      0.986807  ...  10359354.178369   \n2022-02-28 21:00:00      1.006182  ...   2905822.204261   \n2022-02-28 22:00:00      0.970865  ...  22635352.103607   \n2022-02-28 23:00:00      0.997830  ...   4612210.361298   \n2022-03-01 00:00:00      0.997909  ...   2254677.387046   \n\n                     portfolio_distribution_interest_asset   step   \ndate                                                                \n2018-05-22 09:00:00                                      0      0  \\\n2018-05-22 10:00:00                                    0.0      1   \n2018-05-22 11:00:00                                    0.0      2   \n2018-05-22 12:00:00                                    0.0      3   \n2018-05-22 13:00:00                                    0.0      4   \n...                                                    ...    ...   \n2022-02-28 20:00:00                                    0.0  33083   \n2022-02-28 21:00:00                                    0.0  33084   \n2022-02-28 22:00:00                                    0.0  33085   \n2022-02-28 23:00:00                                    0.0  33086   \n2022-03-01 00:00:00                                    0.0  33087   \n\n                     portfolio_valuation    reward    idx   data_unix   \ndate                                                                    \n2018-05-22 09:00:00               1000.0         0      4  1526979600  \\\n2018-05-22 10:00:00          1003.397197  0.003391      5  1526983200   \n2018-05-22 11:00:00           991.577934 -0.011849      6  1526986800   \n2018-05-22 12:00:00            986.12121 -0.005518      7  1526990400   \n2018-05-22 13:00:00           994.670077  0.008632      8  1526994000   \n...                                  ...       ...    ...         ...   \n2022-02-28 20:00:00          7124.020294  0.014206  33087  1646078400   \n2022-02-28 21:00:00          7077.558112 -0.006543  33088  1646082000   \n2022-02-28 22:00:00          7304.519615  0.031564  33089  1646085600   \n2022-02-28 23:00:00          7353.932066  0.006742  33090  1646089200   \n2022-03-01 00:00:00          7378.176288  0.003291  33091  1646092800   \n\n                    portfolio_distribution_borrowed_fiat   \ndate                                                       \n2018-05-22 09:00:00                                    0  \\\n2018-05-22 10:00:00                           499.925004   \n2018-05-22 11:00:00                           499.925004   \n2018-05-22 12:00:00                           499.925004   \n2018-05-22 13:00:00                           499.925004   \n...                                                  ...   \n2022-02-28 20:00:00                           499.925004   \n2022-02-28 21:00:00                           499.925004   \n2022-02-28 22:00:00                           499.925004   \n2022-02-28 23:00:00                           499.925004   \n2022-03-01 00:00:00                           499.925004   \n\n                    portfolio_distribution_asset data_volume  \ndate                                                          \n2018-05-22 09:00:00                            0  3954060.34  \n2018-05-22 10:00:00                     0.181891  2396600.17  \n2018-05-22 11:00:00                     0.181891  6677263.92  \n2018-05-22 12:00:00                     0.181891  12590344.3  \n2018-05-22 13:00:00                     0.181891  3531957.36  \n...                                          ...         ...  \n2022-02-28 20:00:00                     0.181891  247.151654  \n2022-02-28 21:00:00                     0.181891    69.75168  \n2022-02-28 22:00:00                     0.181891  527.540571  \n2022-02-28 23:00:00                     0.181891  106.816103  \n2022-03-01 00:00:00                     0.181891    52.05632  \n\n[33088 rows x 36 columns]",
      "text/html": "<div>\n<style scoped>\n    .dataframe tbody tr th:only-of-type {\n        vertical-align: middle;\n    }\n\n    .dataframe tbody tr th {\n        vertical-align: top;\n    }\n\n    .dataframe thead th {\n        text-align: right;\n    }\n</style>\n<table border=\"1\" class=\"dataframe\">\n  <thead>\n    <tr style=\"text-align: right;\">\n      <th></th>\n      <th>unix</th>\n      <th>symbol</th>\n      <th>open</th>\n      <th>high</th>\n      <th>low</th>\n      <th>close</th>\n      <th>volume</th>\n      <th>Volume USD</th>\n      <th>feature_close</th>\n      <th>feature_open</th>\n      <th>...</th>\n      <th>data_Volume USD</th>\n      <th>portfolio_distribution_interest_asset</th>\n      <th>step</th>\n      <th>portfolio_valuation</th>\n      <th>reward</th>\n      <th>idx</th>\n      <th>data_unix</th>\n      <th>portfolio_distribution_borrowed_fiat</th>\n      <th>portfolio_distribution_asset</th>\n      <th>data_volume</th>\n    </tr>\n    <tr>\n      <th>date</th>\n      <th></th>\n      <th></th>\n      <th></th>\n      <th></th>\n      <th></th>\n      <th></th>\n      <th></th>\n      <th></th>\n      <th></th>\n      <th></th>\n      <th></th>\n      <th></th>\n      <th></th>\n      <th></th>\n      <th></th>\n      <th></th>\n      <th></th>\n      <th></th>\n      <th></th>\n      <th></th>\n      <th></th>\n    </tr>\n  </thead>\n  <tbody>\n    <tr>\n      <th>2018-05-22 09:00:00</th>\n      <td>1526979600</td>\n      <td>BTC/USD</td>\n      <td>8295.90</td>\n      <td>8296.01</td>\n      <td>8220.00</td>\n      <td>8245.47</td>\n      <td>3.954060e+06</td>\n      <td>4.790700e+02</td>\n      <td>-0.006079</td>\n      <td>1.006116</td>\n      <td>...</td>\n      <td>479.07</td>\n      <td>0</td>\n      <td>0</td>\n      <td>1000.0</td>\n      <td>0</td>\n      <td>4</td>\n      <td>1526979600</td>\n      <td>0</td>\n      <td>0</td>\n      <td>3954060.34</td>\n    </tr>\n    <tr>\n      <th>2018-05-22 10:00:00</th>\n      <td>1526983200</td>\n      <td>BTC/USD</td>\n      <td>8245.47</td>\n      <td>8264.98</td>\n      <td>8230.45</td>\n      <td>8264.98</td>\n      <td>2.396600e+06</td>\n      <td>2.903800e+02</td>\n      <td>0.002366</td>\n      <td>0.997639</td>\n      <td>...</td>\n      <td>290.38</td>\n      <td>0.0</td>\n      <td>1</td>\n      <td>1003.397197</td>\n      <td>0.003391</td>\n      <td>5</td>\n      <td>1526983200</td>\n      <td>499.925004</td>\n      <td>0.181891</td>\n      <td>2396600.17</td>\n    </tr>\n    <tr>\n      <th>2018-05-22 11:00:00</th>\n      <td>1526986800</td>\n      <td>BTC/USD</td>\n      <td>8264.98</td>\n      <td>8271.31</td>\n      <td>8180.00</td>\n      <td>8200.00</td>\n      <td>6.677264e+06</td>\n      <td>8.129600e+02</td>\n      <td>-0.007862</td>\n      <td>1.007924</td>\n      <td>...</td>\n      <td>812.96</td>\n      <td>0.0</td>\n      <td>2</td>\n      <td>991.577934</td>\n      <td>-0.011849</td>\n      <td>6</td>\n      <td>1526986800</td>\n      <td>499.925004</td>\n      <td>0.181891</td>\n      <td>6677263.92</td>\n    </tr>\n    <tr>\n      <th>2018-05-22 12:00:00</th>\n      <td>1526990400</td>\n      <td>BTC/USD</td>\n      <td>8200.00</td>\n      <td>8200.00</td>\n      <td>8119.38</td>\n      <td>8170.00</td>\n      <td>1.259034e+07</td>\n      <td>1.542870e+03</td>\n      <td>-0.003659</td>\n      <td>1.003672</td>\n      <td>...</td>\n      <td>1542.87</td>\n      <td>0.0</td>\n      <td>3</td>\n      <td>986.12121</td>\n      <td>-0.005518</td>\n      <td>7</td>\n      <td>1526990400</td>\n      <td>499.925004</td>\n      <td>0.181891</td>\n      <td>12590344.3</td>\n    </tr>\n    <tr>\n      <th>2018-05-22 13:00:00</th>\n      <td>1526994000</td>\n      <td>BTC/USD</td>\n      <td>8170.00</td>\n      <td>8232.14</td>\n      <td>8170.00</td>\n      <td>8217.00</td>\n      <td>3.531957e+06</td>\n      <td>4.303600e+02</td>\n      <td>0.005753</td>\n      <td>0.994280</td>\n      <td>...</td>\n      <td>430.36</td>\n      <td>0.0</td>\n      <td>4</td>\n      <td>994.670077</td>\n      <td>0.008632</td>\n      <td>8</td>\n      <td>1526994000</td>\n      <td>499.925004</td>\n      <td>0.181891</td>\n      <td>3531957.36</td>\n    </tr>\n    <tr>\n      <th>...</th>\n      <td>...</td>\n      <td>...</td>\n      <td>...</td>\n      <td>...</td>\n      <td>...</td>\n      <td>...</td>\n      <td>...</td>\n      <td>...</td>\n      <td>...</td>\n      <td>...</td>\n      <td>...</td>\n      <td>...</td>\n      <td>...</td>\n      <td>...</td>\n      <td>...</td>\n      <td>...</td>\n      <td>...</td>\n      <td>...</td>\n      <td>...</td>\n      <td>...</td>\n      <td>...</td>\n    </tr>\n    <tr>\n      <th>2022-02-28 20:00:00</th>\n      <td>1646078400</td>\n      <td>BTC/USD</td>\n      <td>41361.99</td>\n      <td>41971.00</td>\n      <td>41284.11</td>\n      <td>41914.97</td>\n      <td>2.471517e+02</td>\n      <td>1.035935e+07</td>\n      <td>0.013356</td>\n      <td>0.986807</td>\n      <td>...</td>\n      <td>10359354.178369</td>\n      <td>0.0</td>\n      <td>33083</td>\n      <td>7124.020294</td>\n      <td>0.014206</td>\n      <td>33087</td>\n      <td>1646078400</td>\n      <td>499.925004</td>\n      <td>0.181891</td>\n      <td>247.151654</td>\n    </tr>\n    <tr>\n      <th>2022-02-28 21:00:00</th>\n      <td>1646082000</td>\n      <td>BTC/USD</td>\n      <td>41917.09</td>\n      <td>41917.09</td>\n      <td>41542.60</td>\n      <td>41659.53</td>\n      <td>6.975168e+01</td>\n      <td>2.905822e+06</td>\n      <td>-0.006094</td>\n      <td>1.006182</td>\n      <td>...</td>\n      <td>2905822.204261</td>\n      <td>0.0</td>\n      <td>33084</td>\n      <td>7077.558112</td>\n      <td>-0.006543</td>\n      <td>33088</td>\n      <td>1646082000</td>\n      <td>499.925004</td>\n      <td>0.181891</td>\n      <td>69.75168</td>\n    </tr>\n    <tr>\n      <th>2022-02-28 22:00:00</th>\n      <td>1646085600</td>\n      <td>BTC/USD</td>\n      <td>41657.23</td>\n      <td>44256.08</td>\n      <td>41650.29</td>\n      <td>42907.32</td>\n      <td>5.275406e+02</td>\n      <td>2.263535e+07</td>\n      <td>0.029952</td>\n      <td>0.970865</td>\n      <td>...</td>\n      <td>22635352.103607</td>\n      <td>0.0</td>\n      <td>33085</td>\n      <td>7304.519615</td>\n      <td>0.031564</td>\n      <td>33089</td>\n      <td>1646085600</td>\n      <td>499.925004</td>\n      <td>0.181891</td>\n      <td>527.540571</td>\n    </tr>\n    <tr>\n      <th>2022-02-28 23:00:00</th>\n      <td>1646089200</td>\n      <td>BTC/USD</td>\n      <td>43085.30</td>\n      <td>43364.81</td>\n      <td>42892.37</td>\n      <td>43178.98</td>\n      <td>1.068161e+02</td>\n      <td>4.612210e+06</td>\n      <td>0.006331</td>\n      <td>0.997830</td>\n      <td>...</td>\n      <td>4612210.361298</td>\n      <td>0.0</td>\n      <td>33086</td>\n      <td>7353.932066</td>\n      <td>0.006742</td>\n      <td>33090</td>\n      <td>1646089200</td>\n      <td>499.925004</td>\n      <td>0.181891</td>\n      <td>106.816103</td>\n    </tr>\n    <tr>\n      <th>2022-03-01 00:00:00</th>\n      <td>1646092800</td>\n      <td>BTC/USD</td>\n      <td>43221.71</td>\n      <td>43626.49</td>\n      <td>43185.48</td>\n      <td>43312.27</td>\n      <td>5.205632e+01</td>\n      <td>2.254677e+06</td>\n      <td>0.003087</td>\n      <td>0.997909</td>\n      <td>...</td>\n      <td>2254677.387046</td>\n      <td>0.0</td>\n      <td>33087</td>\n      <td>7378.176288</td>\n      <td>0.003291</td>\n      <td>33091</td>\n      <td>1646092800</td>\n      <td>499.925004</td>\n      <td>0.181891</td>\n      <td>52.05632</td>\n    </tr>\n  </tbody>\n</table>\n<p>33088 rows × 36 columns</p>\n</div>"
     },
     "execution_count": 5,
     "metadata": {},
     "output_type": "execute_result"
    }
   ],
   "source": [
    "df"
   ],
   "metadata": {
    "collapsed": false
   }
  },
  {
   "cell_type": "code",
   "execution_count": null,
   "outputs": [],
   "source": [],
   "metadata": {
    "collapsed": false
   }
  }
 ],
 "metadata": {
  "kernelspec": {
   "display_name": "Python 3",
   "language": "python",
   "name": "python3"
  },
  "language_info": {
   "codemirror_mode": {
    "name": "ipython",
    "version": 2
   },
   "file_extension": ".py",
   "mimetype": "text/x-python",
   "name": "python",
   "nbconvert_exporter": "python",
   "pygments_lexer": "ipython2",
   "version": "2.7.6"
  }
 },
 "nbformat": 4,
 "nbformat_minor": 0
}
