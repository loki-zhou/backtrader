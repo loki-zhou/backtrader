{
 "cells": [
  {
   "cell_type": "code",
   "execution_count": 1,
   "metadata": {
    "collapsed": true
   },
   "outputs": [],
   "source": [
    "import pandas as pd"
   ]
  },
  {
   "cell_type": "markdown",
   "source": [],
   "metadata": {
    "collapsed": false
   }
  },
  {
   "cell_type": "code",
   "execution_count": null,
   "outputs": [],
   "source": [
    "df = pd.read_pickle(\"./data/binance-BTCUSDT-1h.pkl\")\n",
    "df"
   ],
   "metadata": {
    "collapsed": false
   }
  },
  {
   "cell_type": "code",
   "execution_count": null,
   "outputs": [],
   "source": [],
   "metadata": {
    "collapsed": false
   }
  },
  {
   "cell_type": "code",
   "execution_count": 2,
   "outputs": [],
   "source": [
    "df = pd.read_pickle(\"./render_logs/BTCUSD_2023-06-09_14-51-02.pkl\")"
   ],
   "metadata": {
    "collapsed": false
   }
  },
  {
   "cell_type": "code",
   "execution_count": 3,
   "outputs": [
    {
     "data": {
      "text/plain": "                         open      high       low     close      volume   \n2023-01-08 06:00:00  16943.73  16951.97  16933.26  16950.92  4100.79008  \\\n2023-01-08 07:00:00  16950.92  16957.12  16943.16  16953.77  4255.90012   \n2023-01-08 08:00:00  16953.77  16956.01  16940.01  16946.07  4846.58066   \n2023-01-08 09:00:00  16945.91  16967.67  16925.05  16935.60  7110.82123   \n2023-01-08 10:00:00  16935.60  16940.00  16933.14  16936.41  3937.60336   \n...                       ...       ...       ...       ...         ...   \n2023-06-08 02:00:00  26443.60  26446.00  26363.48  26386.51  1033.29331   \n2023-06-08 03:00:00  26386.50  26386.51  26210.00  26344.17  1658.68120   \n2023-06-08 04:00:00  26344.16  26428.06  26326.19  26400.97   718.48832   \n2023-06-08 05:00:00  26400.96  26435.22  26350.00  26377.51   839.63098   \n2023-06-08 06:00:00  26377.51  26377.51  26290.19  26332.86   387.44668   \n\n                             date_close  feature_close  feature_open   \n2023-01-08 06:00:00 2023-01-08 07:00:00       0.000424      0.999576  \\\n2023-01-08 07:00:00 2023-01-08 08:00:00       0.000168      0.999832   \n2023-01-08 08:00:00 2023-01-08 09:00:00      -0.000454      1.000454   \n2023-01-08 09:00:00 2023-01-08 10:00:00      -0.000618      1.000609   \n2023-01-08 10:00:00 2023-01-08 11:00:00       0.000048      0.999952   \n...                                 ...            ...           ...   \n2023-06-08 02:00:00 2023-06-08 03:00:00      -0.002159      1.002164   \n2023-06-08 03:00:00 2023-06-08 04:00:00      -0.001605      1.001607   \n2023-06-08 04:00:00 2023-06-08 05:00:00       0.002156      0.997848   \n2023-06-08 05:00:00 2023-06-08 06:00:00      -0.000889      1.000889   \n2023-06-08 06:00:00 2023-06-08 07:00:00      -0.001693      1.001696   \n\n                     feature_high  feature_low  ...  position   \n2023-01-08 06:00:00      1.000062     0.998958  ...         0  \\\n2023-01-08 07:00:00      1.000198     0.999374  ...        -1   \n2023-01-08 08:00:00      1.000587     0.999642  ...        -1   \n2023-01-08 09:00:00      1.001894     0.999377  ...        -1   \n2023-01-08 10:00:00      1.000212     0.999807  ...        -1   \n...                           ...          ...  ...       ...   \n2023-06-08 02:00:00      1.002255     0.999127  ...        -1   \n2023-06-08 03:00:00      1.001607     0.994907  ...      -0.5   \n2023-06-08 04:00:00      1.001026     0.997168  ...         0   \n2023-06-08 05:00:00      1.002188     0.998957  ...         0   \n2023-06-08 06:00:00      1.001696     0.998380  ...         0   \n\n                     portfolio_distribution_interest_fiat   idx  step   \n2023-01-08 06:00:00                                     0    14     0  \\\n2023-01-08 07:00:00                                   0.0    15     1   \n2023-01-08 08:00:00                                   0.0    16     2   \n2023-01-08 09:00:00                                   0.0    17     3   \n2023-01-08 10:00:00                                   0.0    18     4   \n...                                                   ...   ...   ...   \n2023-06-08 02:00:00                                   0.0  3633  3619   \n2023-06-08 03:00:00                                   0.0  3634  3620   \n2023-06-08 04:00:00                                   0.0  3635  3621   \n2023-06-08 05:00:00                                   0.0  3636  3622   \n2023-06-08 06:00:00                                   0.0  3637  3623   \n\n                    real_position data_close   \n2023-01-08 06:00:00             0   16950.92  \\\n2023-01-08 07:00:00     -1.000342   16953.77   \n2023-01-08 08:00:00     -0.999434   16946.07   \n2023-01-08 09:00:00       -0.9982    16935.6   \n2023-01-08 10:00:00     -0.998295   16936.41   \n...                           ...        ...   \n2023-06-08 02:00:00     -0.999741   26386.51   \n2023-06-08 03:00:00     -0.498799   26344.17   \n2023-06-08 04:00:00           0.0   26400.97   \n2023-06-08 05:00:00           0.0   26377.51   \n2023-06-08 06:00:00           0.0   26332.86   \n\n                    portfolio_distribution_borrowed_fiat   \n2023-01-08 06:00:00                                    0  \\\n2023-01-08 07:00:00                                    0   \n2023-01-08 08:00:00                                    0   \n2023-01-08 09:00:00                                    0   \n2023-01-08 10:00:00                                    0   \n...                                                  ...   \n2023-06-08 02:00:00                                    0   \n2023-06-08 03:00:00                                    0   \n2023-06-08 04:00:00                                    0   \n2023-06-08 05:00:00                                    0   \n2023-06-08 06:00:00                                    0   \n\n                    portfolio_distribution_interest_asset   \n2023-01-08 06:00:00                                     0  \\\n2023-01-08 07:00:00                              0.000002   \n2023-01-08 08:00:00                              0.000002   \n2023-01-08 09:00:00                              0.000002   \n2023-01-08 10:00:00                              0.000002   \n...                                                   ...   \n2023-06-08 02:00:00                              0.000047   \n2023-06-08 03:00:00                              0.000023   \n2023-06-08 04:00:00                                   0.0   \n2023-06-08 05:00:00                                   0.0   \n2023-06-08 06:00:00                                   0.0   \n\n                    portfolio_distribution_asset data_volume  \n2023-01-08 06:00:00                            0  4100.79008  \n2023-01-08 07:00:00                            0  4255.90012  \n2023-01-08 08:00:00                            0  4846.58066  \n2023-01-08 09:00:00                            0  7110.82123  \n2023-01-08 10:00:00                            0  3937.60336  \n...                                          ...         ...  \n2023-06-08 02:00:00                            0  1033.29331  \n2023-06-08 03:00:00                            0   1658.6812  \n2023-06-08 04:00:00                            0   718.48832  \n2023-06-08 05:00:00                            0   839.63098  \n2023-06-08 06:00:00                            0   387.44668  \n\n[3624 rows x 32 columns]",
      "text/html": "<div>\n<style scoped>\n    .dataframe tbody tr th:only-of-type {\n        vertical-align: middle;\n    }\n\n    .dataframe tbody tr th {\n        vertical-align: top;\n    }\n\n    .dataframe thead th {\n        text-align: right;\n    }\n</style>\n<table border=\"1\" class=\"dataframe\">\n  <thead>\n    <tr style=\"text-align: right;\">\n      <th></th>\n      <th>open</th>\n      <th>high</th>\n      <th>low</th>\n      <th>close</th>\n      <th>volume</th>\n      <th>date_close</th>\n      <th>feature_close</th>\n      <th>feature_open</th>\n      <th>feature_high</th>\n      <th>feature_low</th>\n      <th>...</th>\n      <th>position</th>\n      <th>portfolio_distribution_interest_fiat</th>\n      <th>idx</th>\n      <th>step</th>\n      <th>real_position</th>\n      <th>data_close</th>\n      <th>portfolio_distribution_borrowed_fiat</th>\n      <th>portfolio_distribution_interest_asset</th>\n      <th>portfolio_distribution_asset</th>\n      <th>data_volume</th>\n    </tr>\n  </thead>\n  <tbody>\n    <tr>\n      <th>2023-01-08 06:00:00</th>\n      <td>16943.73</td>\n      <td>16951.97</td>\n      <td>16933.26</td>\n      <td>16950.92</td>\n      <td>4100.79008</td>\n      <td>2023-01-08 07:00:00</td>\n      <td>0.000424</td>\n      <td>0.999576</td>\n      <td>1.000062</td>\n      <td>0.998958</td>\n      <td>...</td>\n      <td>0</td>\n      <td>0</td>\n      <td>14</td>\n      <td>0</td>\n      <td>0</td>\n      <td>16950.92</td>\n      <td>0</td>\n      <td>0</td>\n      <td>0</td>\n      <td>4100.79008</td>\n    </tr>\n    <tr>\n      <th>2023-01-08 07:00:00</th>\n      <td>16950.92</td>\n      <td>16957.12</td>\n      <td>16943.16</td>\n      <td>16953.77</td>\n      <td>4255.90012</td>\n      <td>2023-01-08 08:00:00</td>\n      <td>0.000168</td>\n      <td>0.999832</td>\n      <td>1.000198</td>\n      <td>0.999374</td>\n      <td>...</td>\n      <td>-1</td>\n      <td>0.0</td>\n      <td>15</td>\n      <td>1</td>\n      <td>-1.000342</td>\n      <td>16953.77</td>\n      <td>0</td>\n      <td>0.000002</td>\n      <td>0</td>\n      <td>4255.90012</td>\n    </tr>\n    <tr>\n      <th>2023-01-08 08:00:00</th>\n      <td>16953.77</td>\n      <td>16956.01</td>\n      <td>16940.01</td>\n      <td>16946.07</td>\n      <td>4846.58066</td>\n      <td>2023-01-08 09:00:00</td>\n      <td>-0.000454</td>\n      <td>1.000454</td>\n      <td>1.000587</td>\n      <td>0.999642</td>\n      <td>...</td>\n      <td>-1</td>\n      <td>0.0</td>\n      <td>16</td>\n      <td>2</td>\n      <td>-0.999434</td>\n      <td>16946.07</td>\n      <td>0</td>\n      <td>0.000002</td>\n      <td>0</td>\n      <td>4846.58066</td>\n    </tr>\n    <tr>\n      <th>2023-01-08 09:00:00</th>\n      <td>16945.91</td>\n      <td>16967.67</td>\n      <td>16925.05</td>\n      <td>16935.60</td>\n      <td>7110.82123</td>\n      <td>2023-01-08 10:00:00</td>\n      <td>-0.000618</td>\n      <td>1.000609</td>\n      <td>1.001894</td>\n      <td>0.999377</td>\n      <td>...</td>\n      <td>-1</td>\n      <td>0.0</td>\n      <td>17</td>\n      <td>3</td>\n      <td>-0.9982</td>\n      <td>16935.6</td>\n      <td>0</td>\n      <td>0.000002</td>\n      <td>0</td>\n      <td>7110.82123</td>\n    </tr>\n    <tr>\n      <th>2023-01-08 10:00:00</th>\n      <td>16935.60</td>\n      <td>16940.00</td>\n      <td>16933.14</td>\n      <td>16936.41</td>\n      <td>3937.60336</td>\n      <td>2023-01-08 11:00:00</td>\n      <td>0.000048</td>\n      <td>0.999952</td>\n      <td>1.000212</td>\n      <td>0.999807</td>\n      <td>...</td>\n      <td>-1</td>\n      <td>0.0</td>\n      <td>18</td>\n      <td>4</td>\n      <td>-0.998295</td>\n      <td>16936.41</td>\n      <td>0</td>\n      <td>0.000002</td>\n      <td>0</td>\n      <td>3937.60336</td>\n    </tr>\n    <tr>\n      <th>...</th>\n      <td>...</td>\n      <td>...</td>\n      <td>...</td>\n      <td>...</td>\n      <td>...</td>\n      <td>...</td>\n      <td>...</td>\n      <td>...</td>\n      <td>...</td>\n      <td>...</td>\n      <td>...</td>\n      <td>...</td>\n      <td>...</td>\n      <td>...</td>\n      <td>...</td>\n      <td>...</td>\n      <td>...</td>\n      <td>...</td>\n      <td>...</td>\n      <td>...</td>\n      <td>...</td>\n    </tr>\n    <tr>\n      <th>2023-06-08 02:00:00</th>\n      <td>26443.60</td>\n      <td>26446.00</td>\n      <td>26363.48</td>\n      <td>26386.51</td>\n      <td>1033.29331</td>\n      <td>2023-06-08 03:00:00</td>\n      <td>-0.002159</td>\n      <td>1.002164</td>\n      <td>1.002255</td>\n      <td>0.999127</td>\n      <td>...</td>\n      <td>-1</td>\n      <td>0.0</td>\n      <td>3633</td>\n      <td>3619</td>\n      <td>-0.999741</td>\n      <td>26386.51</td>\n      <td>0</td>\n      <td>0.000047</td>\n      <td>0</td>\n      <td>1033.29331</td>\n    </tr>\n    <tr>\n      <th>2023-06-08 03:00:00</th>\n      <td>26386.50</td>\n      <td>26386.51</td>\n      <td>26210.00</td>\n      <td>26344.17</td>\n      <td>1658.68120</td>\n      <td>2023-06-08 04:00:00</td>\n      <td>-0.001605</td>\n      <td>1.001607</td>\n      <td>1.001607</td>\n      <td>0.994907</td>\n      <td>...</td>\n      <td>-0.5</td>\n      <td>0.0</td>\n      <td>3634</td>\n      <td>3620</td>\n      <td>-0.498799</td>\n      <td>26344.17</td>\n      <td>0</td>\n      <td>0.000023</td>\n      <td>0</td>\n      <td>1658.6812</td>\n    </tr>\n    <tr>\n      <th>2023-06-08 04:00:00</th>\n      <td>26344.16</td>\n      <td>26428.06</td>\n      <td>26326.19</td>\n      <td>26400.97</td>\n      <td>718.48832</td>\n      <td>2023-06-08 05:00:00</td>\n      <td>0.002156</td>\n      <td>0.997848</td>\n      <td>1.001026</td>\n      <td>0.997168</td>\n      <td>...</td>\n      <td>0</td>\n      <td>0.0</td>\n      <td>3635</td>\n      <td>3621</td>\n      <td>0.0</td>\n      <td>26400.97</td>\n      <td>0</td>\n      <td>0.0</td>\n      <td>0</td>\n      <td>718.48832</td>\n    </tr>\n    <tr>\n      <th>2023-06-08 05:00:00</th>\n      <td>26400.96</td>\n      <td>26435.22</td>\n      <td>26350.00</td>\n      <td>26377.51</td>\n      <td>839.63098</td>\n      <td>2023-06-08 06:00:00</td>\n      <td>-0.000889</td>\n      <td>1.000889</td>\n      <td>1.002188</td>\n      <td>0.998957</td>\n      <td>...</td>\n      <td>0</td>\n      <td>0.0</td>\n      <td>3636</td>\n      <td>3622</td>\n      <td>0.0</td>\n      <td>26377.51</td>\n      <td>0</td>\n      <td>0.0</td>\n      <td>0</td>\n      <td>839.63098</td>\n    </tr>\n    <tr>\n      <th>2023-06-08 06:00:00</th>\n      <td>26377.51</td>\n      <td>26377.51</td>\n      <td>26290.19</td>\n      <td>26332.86</td>\n      <td>387.44668</td>\n      <td>2023-06-08 07:00:00</td>\n      <td>-0.001693</td>\n      <td>1.001696</td>\n      <td>1.001696</td>\n      <td>0.998380</td>\n      <td>...</td>\n      <td>0</td>\n      <td>0.0</td>\n      <td>3637</td>\n      <td>3623</td>\n      <td>0.0</td>\n      <td>26332.86</td>\n      <td>0</td>\n      <td>0.0</td>\n      <td>0</td>\n      <td>387.44668</td>\n    </tr>\n  </tbody>\n</table>\n<p>3624 rows × 32 columns</p>\n</div>"
     },
     "execution_count": 3,
     "metadata": {},
     "output_type": "execute_result"
    }
   ],
   "source": [
    "df"
   ],
   "metadata": {
    "collapsed": false
   }
  },
  {
   "cell_type": "code",
   "execution_count": null,
   "outputs": [],
   "source": [],
   "metadata": {
    "collapsed": false
   }
  }
 ],
 "metadata": {
  "kernelspec": {
   "display_name": "Python 3",
   "language": "python",
   "name": "python3"
  },
  "language_info": {
   "codemirror_mode": {
    "name": "ipython",
    "version": 2
   },
   "file_extension": ".py",
   "mimetype": "text/x-python",
   "name": "python",
   "nbconvert_exporter": "python",
   "pygments_lexer": "ipython2",
   "version": "2.7.6"
  }
 },
 "nbformat": 4,
 "nbformat_minor": 0
}
