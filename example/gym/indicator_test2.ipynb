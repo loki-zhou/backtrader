{
 "cells": [
  {
   "cell_type": "code",
   "execution_count": 1,
   "metadata": {
    "collapsed": true
   },
   "outputs": [],
   "source": [
    "import pandas as pd\n",
    "import numpy as np"
   ]
  },
  {
   "cell_type": "code",
   "execution_count": 2,
   "outputs": [],
   "source": [
    "\n",
    "df = pd.read_pickle(\"./data/binance-BTCUSDT-1h.pkl\")\n",
    "# df = pd.read_csv(\"./data/BTC_USD-Hourly.csv\", parse_dates=[\"date\"], index_col=\"date\")\n",
    "df.sort_index(inplace=True)\n",
    "df.dropna(inplace=True)\n",
    "df.drop_duplicates(inplace=True)\n",
    "df.dropna(inplace=True)"
   ],
   "metadata": {
    "collapsed": false
   }
  },
  {
   "cell_type": "code",
   "execution_count": 3,
   "outputs": [
    {
     "data": {
      "text/plain": "                         open      high       low     close      volume  \\\ndate_open                                                                 \n2023-06-08 02:00:00  26443.60  26446.00  26363.48  26386.51  1033.29331   \n2023-06-08 03:00:00  26386.50  26386.51  26210.00  26344.17  1658.68120   \n2023-06-08 04:00:00  26344.16  26428.06  26326.19  26400.97   718.48832   \n2023-06-08 05:00:00  26400.96  26435.22  26350.00  26377.51   839.63098   \n2023-06-08 06:00:00  26377.51  26377.51  26290.19  26332.86   387.44668   \n\n                             date_close  \ndate_open                                \n2023-06-08 02:00:00 2023-06-08 03:00:00  \n2023-06-08 03:00:00 2023-06-08 04:00:00  \n2023-06-08 04:00:00 2023-06-08 05:00:00  \n2023-06-08 05:00:00 2023-06-08 06:00:00  \n2023-06-08 06:00:00 2023-06-08 07:00:00  ",
      "text/html": "<div>\n<style scoped>\n    .dataframe tbody tr th:only-of-type {\n        vertical-align: middle;\n    }\n\n    .dataframe tbody tr th {\n        vertical-align: top;\n    }\n\n    .dataframe thead th {\n        text-align: right;\n    }\n</style>\n<table border=\"1\" class=\"dataframe\">\n  <thead>\n    <tr style=\"text-align: right;\">\n      <th></th>\n      <th>open</th>\n      <th>high</th>\n      <th>low</th>\n      <th>close</th>\n      <th>volume</th>\n      <th>date_close</th>\n    </tr>\n    <tr>\n      <th>date_open</th>\n      <th></th>\n      <th></th>\n      <th></th>\n      <th></th>\n      <th></th>\n      <th></th>\n    </tr>\n  </thead>\n  <tbody>\n    <tr>\n      <th>2023-06-08 02:00:00</th>\n      <td>26443.60</td>\n      <td>26446.00</td>\n      <td>26363.48</td>\n      <td>26386.51</td>\n      <td>1033.29331</td>\n      <td>2023-06-08 03:00:00</td>\n    </tr>\n    <tr>\n      <th>2023-06-08 03:00:00</th>\n      <td>26386.50</td>\n      <td>26386.51</td>\n      <td>26210.00</td>\n      <td>26344.17</td>\n      <td>1658.68120</td>\n      <td>2023-06-08 04:00:00</td>\n    </tr>\n    <tr>\n      <th>2023-06-08 04:00:00</th>\n      <td>26344.16</td>\n      <td>26428.06</td>\n      <td>26326.19</td>\n      <td>26400.97</td>\n      <td>718.48832</td>\n      <td>2023-06-08 05:00:00</td>\n    </tr>\n    <tr>\n      <th>2023-06-08 05:00:00</th>\n      <td>26400.96</td>\n      <td>26435.22</td>\n      <td>26350.00</td>\n      <td>26377.51</td>\n      <td>839.63098</td>\n      <td>2023-06-08 06:00:00</td>\n    </tr>\n    <tr>\n      <th>2023-06-08 06:00:00</th>\n      <td>26377.51</td>\n      <td>26377.51</td>\n      <td>26290.19</td>\n      <td>26332.86</td>\n      <td>387.44668</td>\n      <td>2023-06-08 07:00:00</td>\n    </tr>\n  </tbody>\n</table>\n</div>"
     },
     "execution_count": 3,
     "metadata": {},
     "output_type": "execute_result"
    }
   ],
   "source": [
    "df.tail()"
   ],
   "metadata": {
    "collapsed": false
   }
  },
  {
   "cell_type": "code",
   "execution_count": 4,
   "outputs": [],
   "source": [
    "import legendary_ta as lta"
   ],
   "metadata": {
    "collapsed": false
   }
  },
  {
   "cell_type": "code",
   "execution_count": 5,
   "outputs": [
    {
     "data": {
      "text/plain": "                         open      high       low     close      volume  \\\ndate_open                                                                 \n2023-06-07 21:00:00  26359.94  26457.23  26125.01  26156.00  2031.37972   \n2023-06-07 22:00:00  26154.52  26373.33  26132.40  26275.90  1989.36987   \n2023-06-07 23:00:00  26275.90  26364.95  26257.35  26339.34  1020.03527   \n2023-06-08 00:00:00  26339.34  26440.49  26305.11  26390.01  1503.99009   \n2023-06-08 01:00:00  26390.01  26470.00  26383.90  26443.60  1022.65527   \n2023-06-08 02:00:00  26443.60  26446.00  26363.48  26386.51  1033.29331   \n2023-06-08 03:00:00  26386.50  26386.51  26210.00  26344.17  1658.68120   \n2023-06-08 04:00:00  26344.16  26428.06  26326.19  26400.97   718.48832   \n2023-06-08 05:00:00  26400.96  26435.22  26350.00  26377.51   839.63098   \n2023-06-08 06:00:00  26377.51  26377.51  26290.19  26332.86   387.44668   \n\n                             date_close  feature_smi  \ndate_open                                             \n2023-06-07 21:00:00 2023-06-07 22:00:00   -57.567213  \n2023-06-07 22:00:00 2023-06-07 23:00:00   -60.730679  \n2023-06-07 23:00:00 2023-06-08 00:00:00   -53.744715  \n2023-06-08 00:00:00 2023-06-08 01:00:00   -37.896021  \n2023-06-08 01:00:00 2023-06-08 02:00:00   -15.813847  \n2023-06-08 02:00:00 2023-06-08 03:00:00     0.153914  \n2023-06-08 03:00:00 2023-06-08 04:00:00     6.593914  \n2023-06-08 04:00:00 2023-06-08 05:00:00    17.771550  \n2023-06-08 05:00:00 2023-06-08 06:00:00    27.165274  \n2023-06-08 06:00:00 2023-06-08 07:00:00    27.944923  ",
      "text/html": "<div>\n<style scoped>\n    .dataframe tbody tr th:only-of-type {\n        vertical-align: middle;\n    }\n\n    .dataframe tbody tr th {\n        vertical-align: top;\n    }\n\n    .dataframe thead th {\n        text-align: right;\n    }\n</style>\n<table border=\"1\" class=\"dataframe\">\n  <thead>\n    <tr style=\"text-align: right;\">\n      <th></th>\n      <th>open</th>\n      <th>high</th>\n      <th>low</th>\n      <th>close</th>\n      <th>volume</th>\n      <th>date_close</th>\n      <th>feature_smi</th>\n    </tr>\n    <tr>\n      <th>date_open</th>\n      <th></th>\n      <th></th>\n      <th></th>\n      <th></th>\n      <th></th>\n      <th></th>\n      <th></th>\n    </tr>\n  </thead>\n  <tbody>\n    <tr>\n      <th>2023-06-07 21:00:00</th>\n      <td>26359.94</td>\n      <td>26457.23</td>\n      <td>26125.01</td>\n      <td>26156.00</td>\n      <td>2031.37972</td>\n      <td>2023-06-07 22:00:00</td>\n      <td>-57.567213</td>\n    </tr>\n    <tr>\n      <th>2023-06-07 22:00:00</th>\n      <td>26154.52</td>\n      <td>26373.33</td>\n      <td>26132.40</td>\n      <td>26275.90</td>\n      <td>1989.36987</td>\n      <td>2023-06-07 23:00:00</td>\n      <td>-60.730679</td>\n    </tr>\n    <tr>\n      <th>2023-06-07 23:00:00</th>\n      <td>26275.90</td>\n      <td>26364.95</td>\n      <td>26257.35</td>\n      <td>26339.34</td>\n      <td>1020.03527</td>\n      <td>2023-06-08 00:00:00</td>\n      <td>-53.744715</td>\n    </tr>\n    <tr>\n      <th>2023-06-08 00:00:00</th>\n      <td>26339.34</td>\n      <td>26440.49</td>\n      <td>26305.11</td>\n      <td>26390.01</td>\n      <td>1503.99009</td>\n      <td>2023-06-08 01:00:00</td>\n      <td>-37.896021</td>\n    </tr>\n    <tr>\n      <th>2023-06-08 01:00:00</th>\n      <td>26390.01</td>\n      <td>26470.00</td>\n      <td>26383.90</td>\n      <td>26443.60</td>\n      <td>1022.65527</td>\n      <td>2023-06-08 02:00:00</td>\n      <td>-15.813847</td>\n    </tr>\n    <tr>\n      <th>2023-06-08 02:00:00</th>\n      <td>26443.60</td>\n      <td>26446.00</td>\n      <td>26363.48</td>\n      <td>26386.51</td>\n      <td>1033.29331</td>\n      <td>2023-06-08 03:00:00</td>\n      <td>0.153914</td>\n    </tr>\n    <tr>\n      <th>2023-06-08 03:00:00</th>\n      <td>26386.50</td>\n      <td>26386.51</td>\n      <td>26210.00</td>\n      <td>26344.17</td>\n      <td>1658.68120</td>\n      <td>2023-06-08 04:00:00</td>\n      <td>6.593914</td>\n    </tr>\n    <tr>\n      <th>2023-06-08 04:00:00</th>\n      <td>26344.16</td>\n      <td>26428.06</td>\n      <td>26326.19</td>\n      <td>26400.97</td>\n      <td>718.48832</td>\n      <td>2023-06-08 05:00:00</td>\n      <td>17.771550</td>\n    </tr>\n    <tr>\n      <th>2023-06-08 05:00:00</th>\n      <td>26400.96</td>\n      <td>26435.22</td>\n      <td>26350.00</td>\n      <td>26377.51</td>\n      <td>839.63098</td>\n      <td>2023-06-08 06:00:00</td>\n      <td>27.165274</td>\n    </tr>\n    <tr>\n      <th>2023-06-08 06:00:00</th>\n      <td>26377.51</td>\n      <td>26377.51</td>\n      <td>26290.19</td>\n      <td>26332.86</td>\n      <td>387.44668</td>\n      <td>2023-06-08 07:00:00</td>\n      <td>27.944923</td>\n    </tr>\n  </tbody>\n</table>\n</div>"
     },
     "execution_count": 5,
     "metadata": {},
     "output_type": "execute_result"
    }
   ],
   "source": [
    "df = lta.smi_momentum(df)\n",
    "df.tail(10)"
   ],
   "metadata": {
    "collapsed": false
   }
  },
  {
   "cell_type": "code",
   "execution_count": 6,
   "outputs": [
    {
     "data": {
      "text/plain": "                         open      high       low     close      volume  \\\ndate_open                                                                 \n2023-06-07 21:00:00  26359.94  26457.23  26125.01  26156.00  2031.37972   \n2023-06-07 22:00:00  26154.52  26373.33  26132.40  26275.90  1989.36987   \n2023-06-07 23:00:00  26275.90  26364.95  26257.35  26339.34  1020.03527   \n2023-06-08 00:00:00  26339.34  26440.49  26305.11  26390.01  1503.99009   \n2023-06-08 01:00:00  26390.01  26470.00  26383.90  26443.60  1022.65527   \n2023-06-08 02:00:00  26443.60  26446.00  26363.48  26386.51  1033.29331   \n2023-06-08 03:00:00  26386.50  26386.51  26210.00  26344.17  1658.68120   \n2023-06-08 04:00:00  26344.16  26428.06  26326.19  26400.97   718.48832   \n2023-06-08 05:00:00  26400.96  26435.22  26350.00  26377.51   839.63098   \n2023-06-08 06:00:00  26377.51  26377.51  26290.19  26332.86   387.44668   \n\n                             date_close  feature_smi  feature_pinbar  \ndate_open                                                             \n2023-06-07 21:00:00 2023-06-07 22:00:00   -57.567213               0  \n2023-06-07 22:00:00 2023-06-07 23:00:00   -60.730679               0  \n2023-06-07 23:00:00 2023-06-08 00:00:00   -53.744715               0  \n2023-06-08 00:00:00 2023-06-08 01:00:00   -37.896021               0  \n2023-06-08 01:00:00 2023-06-08 02:00:00   -15.813847               0  \n2023-06-08 02:00:00 2023-06-08 03:00:00     0.153914               0  \n2023-06-08 03:00:00 2023-06-08 04:00:00     6.593914               0  \n2023-06-08 04:00:00 2023-06-08 05:00:00    17.771550               0  \n2023-06-08 05:00:00 2023-06-08 06:00:00    27.165274               0  \n2023-06-08 06:00:00 2023-06-08 07:00:00    27.944923               0  ",
      "text/html": "<div>\n<style scoped>\n    .dataframe tbody tr th:only-of-type {\n        vertical-align: middle;\n    }\n\n    .dataframe tbody tr th {\n        vertical-align: top;\n    }\n\n    .dataframe thead th {\n        text-align: right;\n    }\n</style>\n<table border=\"1\" class=\"dataframe\">\n  <thead>\n    <tr style=\"text-align: right;\">\n      <th></th>\n      <th>open</th>\n      <th>high</th>\n      <th>low</th>\n      <th>close</th>\n      <th>volume</th>\n      <th>date_close</th>\n      <th>feature_smi</th>\n      <th>feature_pinbar</th>\n    </tr>\n    <tr>\n      <th>date_open</th>\n      <th></th>\n      <th></th>\n      <th></th>\n      <th></th>\n      <th></th>\n      <th></th>\n      <th></th>\n      <th></th>\n    </tr>\n  </thead>\n  <tbody>\n    <tr>\n      <th>2023-06-07 21:00:00</th>\n      <td>26359.94</td>\n      <td>26457.23</td>\n      <td>26125.01</td>\n      <td>26156.00</td>\n      <td>2031.37972</td>\n      <td>2023-06-07 22:00:00</td>\n      <td>-57.567213</td>\n      <td>0</td>\n    </tr>\n    <tr>\n      <th>2023-06-07 22:00:00</th>\n      <td>26154.52</td>\n      <td>26373.33</td>\n      <td>26132.40</td>\n      <td>26275.90</td>\n      <td>1989.36987</td>\n      <td>2023-06-07 23:00:00</td>\n      <td>-60.730679</td>\n      <td>0</td>\n    </tr>\n    <tr>\n      <th>2023-06-07 23:00:00</th>\n      <td>26275.90</td>\n      <td>26364.95</td>\n      <td>26257.35</td>\n      <td>26339.34</td>\n      <td>1020.03527</td>\n      <td>2023-06-08 00:00:00</td>\n      <td>-53.744715</td>\n      <td>0</td>\n    </tr>\n    <tr>\n      <th>2023-06-08 00:00:00</th>\n      <td>26339.34</td>\n      <td>26440.49</td>\n      <td>26305.11</td>\n      <td>26390.01</td>\n      <td>1503.99009</td>\n      <td>2023-06-08 01:00:00</td>\n      <td>-37.896021</td>\n      <td>0</td>\n    </tr>\n    <tr>\n      <th>2023-06-08 01:00:00</th>\n      <td>26390.01</td>\n      <td>26470.00</td>\n      <td>26383.90</td>\n      <td>26443.60</td>\n      <td>1022.65527</td>\n      <td>2023-06-08 02:00:00</td>\n      <td>-15.813847</td>\n      <td>0</td>\n    </tr>\n    <tr>\n      <th>2023-06-08 02:00:00</th>\n      <td>26443.60</td>\n      <td>26446.00</td>\n      <td>26363.48</td>\n      <td>26386.51</td>\n      <td>1033.29331</td>\n      <td>2023-06-08 03:00:00</td>\n      <td>0.153914</td>\n      <td>0</td>\n    </tr>\n    <tr>\n      <th>2023-06-08 03:00:00</th>\n      <td>26386.50</td>\n      <td>26386.51</td>\n      <td>26210.00</td>\n      <td>26344.17</td>\n      <td>1658.68120</td>\n      <td>2023-06-08 04:00:00</td>\n      <td>6.593914</td>\n      <td>0</td>\n    </tr>\n    <tr>\n      <th>2023-06-08 04:00:00</th>\n      <td>26344.16</td>\n      <td>26428.06</td>\n      <td>26326.19</td>\n      <td>26400.97</td>\n      <td>718.48832</td>\n      <td>2023-06-08 05:00:00</td>\n      <td>17.771550</td>\n      <td>0</td>\n    </tr>\n    <tr>\n      <th>2023-06-08 05:00:00</th>\n      <td>26400.96</td>\n      <td>26435.22</td>\n      <td>26350.00</td>\n      <td>26377.51</td>\n      <td>839.63098</td>\n      <td>2023-06-08 06:00:00</td>\n      <td>27.165274</td>\n      <td>0</td>\n    </tr>\n    <tr>\n      <th>2023-06-08 06:00:00</th>\n      <td>26377.51</td>\n      <td>26377.51</td>\n      <td>26290.19</td>\n      <td>26332.86</td>\n      <td>387.44668</td>\n      <td>2023-06-08 07:00:00</td>\n      <td>27.944923</td>\n      <td>0</td>\n    </tr>\n  </tbody>\n</table>\n</div>"
     },
     "execution_count": 6,
     "metadata": {},
     "output_type": "execute_result"
    }
   ],
   "source": [
    "lta.pinbar(df, df[\"feature_smi\"])\n",
    "df.tail(10)"
   ],
   "metadata": {
    "collapsed": false
   }
  },
  {
   "cell_type": "code",
   "execution_count": 7,
   "outputs": [
    {
     "data": {
      "text/plain": "                         open      high       low     close      volume  \\\ndate_open                                                                 \n2023-06-04 03:00:00  27091.28  27091.28  27042.85  27061.38   372.13858   \n2023-06-04 04:00:00  27061.37  27083.56  27042.37  27054.95   377.40749   \n2023-06-04 05:00:00  27054.95  27056.47  27027.00  27038.63   250.41259   \n2023-06-04 06:00:00  27038.62  27141.70  27038.62  27127.78   892.17539   \n2023-06-04 07:00:00  27127.78  27163.94  27127.78  27150.45   938.24329   \n...                       ...       ...       ...       ...         ...   \n2023-06-08 02:00:00  26443.60  26446.00  26363.48  26386.51  1033.29331   \n2023-06-08 03:00:00  26386.50  26386.51  26210.00  26344.17  1658.68120   \n2023-06-08 04:00:00  26344.16  26428.06  26326.19  26400.97   718.48832   \n2023-06-08 05:00:00  26400.96  26435.22  26350.00  26377.51   839.63098   \n2023-06-08 06:00:00  26377.51  26377.51  26290.19  26332.86   387.44668   \n\n                             date_close  feature_smi  feature_pinbar  \ndate_open                                                             \n2023-06-04 03:00:00 2023-06-04 04:00:00   -11.953285               0  \n2023-06-04 04:00:00 2023-06-04 05:00:00     0.441366               0  \n2023-06-04 05:00:00 2023-06-04 06:00:00    10.517375               0  \n2023-06-04 06:00:00 2023-06-04 07:00:00    29.440200               0  \n2023-06-04 07:00:00 2023-06-04 08:00:00    49.052642               0  \n...                                 ...          ...             ...  \n2023-06-08 02:00:00 2023-06-08 03:00:00     0.153914               0  \n2023-06-08 03:00:00 2023-06-08 04:00:00     6.593914               0  \n2023-06-08 04:00:00 2023-06-08 05:00:00    17.771550               0  \n2023-06-08 05:00:00 2023-06-08 06:00:00    27.165274               0  \n2023-06-08 06:00:00 2023-06-08 07:00:00    27.944923               0  \n\n[100 rows x 8 columns]",
      "text/html": "<div>\n<style scoped>\n    .dataframe tbody tr th:only-of-type {\n        vertical-align: middle;\n    }\n\n    .dataframe tbody tr th {\n        vertical-align: top;\n    }\n\n    .dataframe thead th {\n        text-align: right;\n    }\n</style>\n<table border=\"1\" class=\"dataframe\">\n  <thead>\n    <tr style=\"text-align: right;\">\n      <th></th>\n      <th>open</th>\n      <th>high</th>\n      <th>low</th>\n      <th>close</th>\n      <th>volume</th>\n      <th>date_close</th>\n      <th>feature_smi</th>\n      <th>feature_pinbar</th>\n    </tr>\n    <tr>\n      <th>date_open</th>\n      <th></th>\n      <th></th>\n      <th></th>\n      <th></th>\n      <th></th>\n      <th></th>\n      <th></th>\n      <th></th>\n    </tr>\n  </thead>\n  <tbody>\n    <tr>\n      <th>2023-06-04 03:00:00</th>\n      <td>27091.28</td>\n      <td>27091.28</td>\n      <td>27042.85</td>\n      <td>27061.38</td>\n      <td>372.13858</td>\n      <td>2023-06-04 04:00:00</td>\n      <td>-11.953285</td>\n      <td>0</td>\n    </tr>\n    <tr>\n      <th>2023-06-04 04:00:00</th>\n      <td>27061.37</td>\n      <td>27083.56</td>\n      <td>27042.37</td>\n      <td>27054.95</td>\n      <td>377.40749</td>\n      <td>2023-06-04 05:00:00</td>\n      <td>0.441366</td>\n      <td>0</td>\n    </tr>\n    <tr>\n      <th>2023-06-04 05:00:00</th>\n      <td>27054.95</td>\n      <td>27056.47</td>\n      <td>27027.00</td>\n      <td>27038.63</td>\n      <td>250.41259</td>\n      <td>2023-06-04 06:00:00</td>\n      <td>10.517375</td>\n      <td>0</td>\n    </tr>\n    <tr>\n      <th>2023-06-04 06:00:00</th>\n      <td>27038.62</td>\n      <td>27141.70</td>\n      <td>27038.62</td>\n      <td>27127.78</td>\n      <td>892.17539</td>\n      <td>2023-06-04 07:00:00</td>\n      <td>29.440200</td>\n      <td>0</td>\n    </tr>\n    <tr>\n      <th>2023-06-04 07:00:00</th>\n      <td>27127.78</td>\n      <td>27163.94</td>\n      <td>27127.78</td>\n      <td>27150.45</td>\n      <td>938.24329</td>\n      <td>2023-06-04 08:00:00</td>\n      <td>49.052642</td>\n      <td>0</td>\n    </tr>\n    <tr>\n      <th>...</th>\n      <td>...</td>\n      <td>...</td>\n      <td>...</td>\n      <td>...</td>\n      <td>...</td>\n      <td>...</td>\n      <td>...</td>\n      <td>...</td>\n    </tr>\n    <tr>\n      <th>2023-06-08 02:00:00</th>\n      <td>26443.60</td>\n      <td>26446.00</td>\n      <td>26363.48</td>\n      <td>26386.51</td>\n      <td>1033.29331</td>\n      <td>2023-06-08 03:00:00</td>\n      <td>0.153914</td>\n      <td>0</td>\n    </tr>\n    <tr>\n      <th>2023-06-08 03:00:00</th>\n      <td>26386.50</td>\n      <td>26386.51</td>\n      <td>26210.00</td>\n      <td>26344.17</td>\n      <td>1658.68120</td>\n      <td>2023-06-08 04:00:00</td>\n      <td>6.593914</td>\n      <td>0</td>\n    </tr>\n    <tr>\n      <th>2023-06-08 04:00:00</th>\n      <td>26344.16</td>\n      <td>26428.06</td>\n      <td>26326.19</td>\n      <td>26400.97</td>\n      <td>718.48832</td>\n      <td>2023-06-08 05:00:00</td>\n      <td>17.771550</td>\n      <td>0</td>\n    </tr>\n    <tr>\n      <th>2023-06-08 05:00:00</th>\n      <td>26400.96</td>\n      <td>26435.22</td>\n      <td>26350.00</td>\n      <td>26377.51</td>\n      <td>839.63098</td>\n      <td>2023-06-08 06:00:00</td>\n      <td>27.165274</td>\n      <td>0</td>\n    </tr>\n    <tr>\n      <th>2023-06-08 06:00:00</th>\n      <td>26377.51</td>\n      <td>26377.51</td>\n      <td>26290.19</td>\n      <td>26332.86</td>\n      <td>387.44668</td>\n      <td>2023-06-08 07:00:00</td>\n      <td>27.944923</td>\n      <td>0</td>\n    </tr>\n  </tbody>\n</table>\n<p>100 rows × 8 columns</p>\n</div>"
     },
     "execution_count": 7,
     "metadata": {},
     "output_type": "execute_result"
    }
   ],
   "source": [
    "df.tail(100)"
   ],
   "metadata": {
    "collapsed": false
   }
  },
  {
   "cell_type": "code",
   "execution_count": 8,
   "outputs": [
    {
     "data": {
      "text/plain": "                         open      high       low     close      volume  \\\ndate_open                                                                 \n2023-06-04 03:00:00  27091.28  27091.28  27042.85  27061.38   372.13858   \n2023-06-04 04:00:00  27061.37  27083.56  27042.37  27054.95   377.40749   \n2023-06-04 05:00:00  27054.95  27056.47  27027.00  27038.63   250.41259   \n2023-06-04 06:00:00  27038.62  27141.70  27038.62  27127.78   892.17539   \n2023-06-04 07:00:00  27127.78  27163.94  27127.78  27150.45   938.24329   \n...                       ...       ...       ...       ...         ...   \n2023-06-08 02:00:00  26443.60  26446.00  26363.48  26386.51  1033.29331   \n2023-06-08 03:00:00  26386.50  26386.51  26210.00  26344.17  1658.68120   \n2023-06-08 04:00:00  26344.16  26428.06  26326.19  26400.97   718.48832   \n2023-06-08 05:00:00  26400.96  26435.22  26350.00  26377.51   839.63098   \n2023-06-08 06:00:00  26377.51  26377.51  26290.19  26332.86   387.44668   \n\n                             date_close  feature_smi  feature_pinbar  \ndate_open                                                             \n2023-06-04 03:00:00 2023-06-04 04:00:00    -0.119533               0  \n2023-06-04 04:00:00 2023-06-04 05:00:00     0.004414               0  \n2023-06-04 05:00:00 2023-06-04 06:00:00     0.105174               0  \n2023-06-04 06:00:00 2023-06-04 07:00:00     0.294402               0  \n2023-06-04 07:00:00 2023-06-04 08:00:00     0.490526               0  \n...                                 ...          ...             ...  \n2023-06-08 02:00:00 2023-06-08 03:00:00     0.001539               0  \n2023-06-08 03:00:00 2023-06-08 04:00:00     0.065939               0  \n2023-06-08 04:00:00 2023-06-08 05:00:00     0.177716               0  \n2023-06-08 05:00:00 2023-06-08 06:00:00     0.271653               0  \n2023-06-08 06:00:00 2023-06-08 07:00:00     0.279449               0  \n\n[100 rows x 8 columns]",
      "text/html": "<div>\n<style scoped>\n    .dataframe tbody tr th:only-of-type {\n        vertical-align: middle;\n    }\n\n    .dataframe tbody tr th {\n        vertical-align: top;\n    }\n\n    .dataframe thead th {\n        text-align: right;\n    }\n</style>\n<table border=\"1\" class=\"dataframe\">\n  <thead>\n    <tr style=\"text-align: right;\">\n      <th></th>\n      <th>open</th>\n      <th>high</th>\n      <th>low</th>\n      <th>close</th>\n      <th>volume</th>\n      <th>date_close</th>\n      <th>feature_smi</th>\n      <th>feature_pinbar</th>\n    </tr>\n    <tr>\n      <th>date_open</th>\n      <th></th>\n      <th></th>\n      <th></th>\n      <th></th>\n      <th></th>\n      <th></th>\n      <th></th>\n      <th></th>\n    </tr>\n  </thead>\n  <tbody>\n    <tr>\n      <th>2023-06-04 03:00:00</th>\n      <td>27091.28</td>\n      <td>27091.28</td>\n      <td>27042.85</td>\n      <td>27061.38</td>\n      <td>372.13858</td>\n      <td>2023-06-04 04:00:00</td>\n      <td>-0.119533</td>\n      <td>0</td>\n    </tr>\n    <tr>\n      <th>2023-06-04 04:00:00</th>\n      <td>27061.37</td>\n      <td>27083.56</td>\n      <td>27042.37</td>\n      <td>27054.95</td>\n      <td>377.40749</td>\n      <td>2023-06-04 05:00:00</td>\n      <td>0.004414</td>\n      <td>0</td>\n    </tr>\n    <tr>\n      <th>2023-06-04 05:00:00</th>\n      <td>27054.95</td>\n      <td>27056.47</td>\n      <td>27027.00</td>\n      <td>27038.63</td>\n      <td>250.41259</td>\n      <td>2023-06-04 06:00:00</td>\n      <td>0.105174</td>\n      <td>0</td>\n    </tr>\n    <tr>\n      <th>2023-06-04 06:00:00</th>\n      <td>27038.62</td>\n      <td>27141.70</td>\n      <td>27038.62</td>\n      <td>27127.78</td>\n      <td>892.17539</td>\n      <td>2023-06-04 07:00:00</td>\n      <td>0.294402</td>\n      <td>0</td>\n    </tr>\n    <tr>\n      <th>2023-06-04 07:00:00</th>\n      <td>27127.78</td>\n      <td>27163.94</td>\n      <td>27127.78</td>\n      <td>27150.45</td>\n      <td>938.24329</td>\n      <td>2023-06-04 08:00:00</td>\n      <td>0.490526</td>\n      <td>0</td>\n    </tr>\n    <tr>\n      <th>...</th>\n      <td>...</td>\n      <td>...</td>\n      <td>...</td>\n      <td>...</td>\n      <td>...</td>\n      <td>...</td>\n      <td>...</td>\n      <td>...</td>\n    </tr>\n    <tr>\n      <th>2023-06-08 02:00:00</th>\n      <td>26443.60</td>\n      <td>26446.00</td>\n      <td>26363.48</td>\n      <td>26386.51</td>\n      <td>1033.29331</td>\n      <td>2023-06-08 03:00:00</td>\n      <td>0.001539</td>\n      <td>0</td>\n    </tr>\n    <tr>\n      <th>2023-06-08 03:00:00</th>\n      <td>26386.50</td>\n      <td>26386.51</td>\n      <td>26210.00</td>\n      <td>26344.17</td>\n      <td>1658.68120</td>\n      <td>2023-06-08 04:00:00</td>\n      <td>0.065939</td>\n      <td>0</td>\n    </tr>\n    <tr>\n      <th>2023-06-08 04:00:00</th>\n      <td>26344.16</td>\n      <td>26428.06</td>\n      <td>26326.19</td>\n      <td>26400.97</td>\n      <td>718.48832</td>\n      <td>2023-06-08 05:00:00</td>\n      <td>0.177716</td>\n      <td>0</td>\n    </tr>\n    <tr>\n      <th>2023-06-08 05:00:00</th>\n      <td>26400.96</td>\n      <td>26435.22</td>\n      <td>26350.00</td>\n      <td>26377.51</td>\n      <td>839.63098</td>\n      <td>2023-06-08 06:00:00</td>\n      <td>0.271653</td>\n      <td>0</td>\n    </tr>\n    <tr>\n      <th>2023-06-08 06:00:00</th>\n      <td>26377.51</td>\n      <td>26377.51</td>\n      <td>26290.19</td>\n      <td>26332.86</td>\n      <td>387.44668</td>\n      <td>2023-06-08 07:00:00</td>\n      <td>0.279449</td>\n      <td>0</td>\n    </tr>\n  </tbody>\n</table>\n<p>100 rows × 8 columns</p>\n</div>"
     },
     "execution_count": 8,
     "metadata": {},
     "output_type": "execute_result"
    }
   ],
   "source": [
    "df[\"feature_smi\"] = df[\"feature_smi\"]/100\n",
    "df.tail(100)"
   ],
   "metadata": {
    "collapsed": false
   }
  },
  {
   "cell_type": "code",
   "execution_count": 9,
   "outputs": [
    {
     "ename": "KeyError",
     "evalue": "2",
     "output_type": "error",
     "traceback": [
      "\u001B[1;31m---------------------------------------------------------------------------\u001B[0m",
      "\u001B[1;31mKeyError\u001B[0m                                  Traceback (most recent call last)",
      "File \u001B[1;32mC:\\ProgramData\\Anaconda3\\envs\\backtrader\\lib\\site-packages\\pandas\\core\\indexes\\base.py:3653\u001B[0m, in \u001B[0;36mIndex.get_loc\u001B[1;34m(self, key)\u001B[0m\n\u001B[0;32m   3652\u001B[0m \u001B[38;5;28;01mtry\u001B[39;00m:\n\u001B[1;32m-> 3653\u001B[0m     \u001B[38;5;28;01mreturn\u001B[39;00m \u001B[38;5;28;43mself\u001B[39;49m\u001B[38;5;241;43m.\u001B[39;49m\u001B[43m_engine\u001B[49m\u001B[38;5;241;43m.\u001B[39;49m\u001B[43mget_loc\u001B[49m\u001B[43m(\u001B[49m\u001B[43mcasted_key\u001B[49m\u001B[43m)\u001B[49m\n\u001B[0;32m   3654\u001B[0m \u001B[38;5;28;01mexcept\u001B[39;00m \u001B[38;5;167;01mKeyError\u001B[39;00m \u001B[38;5;28;01mas\u001B[39;00m err:\n",
      "File \u001B[1;32mC:\\ProgramData\\Anaconda3\\envs\\backtrader\\lib\\site-packages\\pandas\\_libs\\index.pyx:147\u001B[0m, in \u001B[0;36mpandas._libs.index.IndexEngine.get_loc\u001B[1;34m()\u001B[0m\n",
      "File \u001B[1;32mC:\\ProgramData\\Anaconda3\\envs\\backtrader\\lib\\site-packages\\pandas\\_libs\\index.pyx:176\u001B[0m, in \u001B[0;36mpandas._libs.index.IndexEngine.get_loc\u001B[1;34m()\u001B[0m\n",
      "File \u001B[1;32mpandas\\_libs\\hashtable_class_helper.pxi:7080\u001B[0m, in \u001B[0;36mpandas._libs.hashtable.PyObjectHashTable.get_item\u001B[1;34m()\u001B[0m\n",
      "File \u001B[1;32mpandas\\_libs\\hashtable_class_helper.pxi:7088\u001B[0m, in \u001B[0;36mpandas._libs.hashtable.PyObjectHashTable.get_item\u001B[1;34m()\u001B[0m\n",
      "\u001B[1;31mKeyError\u001B[0m: 2",
      "\nThe above exception was the direct cause of the following exception:\n",
      "\u001B[1;31mKeyError\u001B[0m                                  Traceback (most recent call last)",
      "Cell \u001B[1;32mIn[9], line 1\u001B[0m\n\u001B[1;32m----> 1\u001B[0m df \u001B[38;5;241m=\u001B[39m \u001B[43mlta\u001B[49m\u001B[38;5;241;43m.\u001B[39;49m\u001B[43mdynamic_exhaustion_bars\u001B[49m\u001B[43m(\u001B[49m\u001B[43mdf\u001B[49m\u001B[43m)\u001B[49m\n\u001B[0;32m      2\u001B[0m df\u001B[38;5;241m.\u001B[39mtail(\u001B[38;5;241m10\u001B[39m)\n",
      "File \u001B[1;32mD:\\rl\\backtrader\\example\\gym\\legendary_ta.py:335\u001B[0m, in \u001B[0;36mdynamic_exhaustion_bars\u001B[1;34m(dataframe, window)\u001B[0m\n\u001B[0;32m    332\u001B[0m dataframe[\u001B[38;5;124m'\u001B[39m\u001B[38;5;124mmaj_len\u001B[39m\u001B[38;5;124m'\u001B[39m] \u001B[38;5;241m=\u001B[39m maj_len\n\u001B[0;32m    333\u001B[0m dataframe[\u001B[38;5;124m'\u001B[39m\u001B[38;5;124mmin_len\u001B[39m\u001B[38;5;124m'\u001B[39m] \u001B[38;5;241m=\u001B[39m min_len\n\u001B[1;32m--> 335\u001B[0m dataframe \u001B[38;5;241m=\u001B[39m \u001B[43mpopulate_leledc_major_minor\u001B[49m\u001B[43m(\u001B[49m\u001B[43mdataframe\u001B[49m\u001B[43m,\u001B[49m\u001B[43m \u001B[49m\u001B[43mmaj_qual\u001B[49m\u001B[43m,\u001B[49m\u001B[43m \u001B[49m\u001B[43mmin_qual\u001B[49m\u001B[43m,\u001B[49m\u001B[43m \u001B[49m\u001B[43mmaj_len\u001B[49m\u001B[43m,\u001B[49m\u001B[43m \u001B[49m\u001B[43mmin_len\u001B[49m\u001B[43m)\u001B[49m\n\u001B[0;32m    337\u001B[0m \u001B[38;5;28;01mreturn\u001B[39;00m dataframe\n",
      "File \u001B[1;32mD:\\rl\\backtrader\\example\\gym\\legendary_ta.py:347\u001B[0m, in \u001B[0;36mpopulate_leledc_major_minor\u001B[1;34m(dataframe, maj_qual, min_qual, maj_len, min_len)\u001B[0m\n\u001B[0;32m    344\u001B[0m dataframe[\u001B[38;5;124m'\u001B[39m\u001B[38;5;124mleledc_minor\u001B[39m\u001B[38;5;124m'\u001B[39m] \u001B[38;5;241m=\u001B[39m \u001B[38;5;241m0\u001B[39m\n\u001B[0;32m    346\u001B[0m \u001B[38;5;28;01mfor\u001B[39;00m i \u001B[38;5;129;01min\u001B[39;00m \u001B[38;5;28mrange\u001B[39m(\u001B[38;5;241m1\u001B[39m, \u001B[38;5;28mlen\u001B[39m(dataframe)):\n\u001B[1;32m--> 347\u001B[0m     close \u001B[38;5;241m=\u001B[39m \u001B[43mdataframe\u001B[49m\u001B[43m[\u001B[49m\u001B[38;5;124;43m'\u001B[39;49m\u001B[38;5;124;43mclose\u001B[39;49m\u001B[38;5;124;43m'\u001B[39;49m\u001B[43m]\u001B[49m\u001B[43m[\u001B[49m\u001B[43mi\u001B[49m\u001B[43m]\u001B[49m\n\u001B[0;32m    348\u001B[0m     short_length \u001B[38;5;241m=\u001B[39m i \u001B[38;5;28;01mif\u001B[39;00m i \u001B[38;5;241m<\u001B[39m \u001B[38;5;241m4\u001B[39m \u001B[38;5;28;01melse\u001B[39;00m \u001B[38;5;241m4\u001B[39m\n\u001B[0;32m    350\u001B[0m     \u001B[38;5;28;01mif\u001B[39;00m close \u001B[38;5;241m>\u001B[39m dataframe[\u001B[38;5;124m'\u001B[39m\u001B[38;5;124mclose\u001B[39m\u001B[38;5;124m'\u001B[39m][i \u001B[38;5;241m-\u001B[39m short_length]:\n",
      "File \u001B[1;32mC:\\ProgramData\\Anaconda3\\envs\\backtrader\\lib\\site-packages\\pandas\\core\\series.py:1007\u001B[0m, in \u001B[0;36mSeries.__getitem__\u001B[1;34m(self, key)\u001B[0m\n\u001B[0;32m   1004\u001B[0m     \u001B[38;5;28;01mreturn\u001B[39;00m \u001B[38;5;28mself\u001B[39m\u001B[38;5;241m.\u001B[39m_values[key]\n\u001B[0;32m   1006\u001B[0m \u001B[38;5;28;01melif\u001B[39;00m key_is_scalar:\n\u001B[1;32m-> 1007\u001B[0m     \u001B[38;5;28;01mreturn\u001B[39;00m \u001B[38;5;28;43mself\u001B[39;49m\u001B[38;5;241;43m.\u001B[39;49m\u001B[43m_get_value\u001B[49m\u001B[43m(\u001B[49m\u001B[43mkey\u001B[49m\u001B[43m)\u001B[49m\n\u001B[0;32m   1009\u001B[0m \u001B[38;5;28;01mif\u001B[39;00m is_hashable(key):\n\u001B[0;32m   1010\u001B[0m     \u001B[38;5;66;03m# Otherwise index.get_value will raise InvalidIndexError\u001B[39;00m\n\u001B[0;32m   1011\u001B[0m     \u001B[38;5;28;01mtry\u001B[39;00m:\n\u001B[0;32m   1012\u001B[0m         \u001B[38;5;66;03m# For labels that don't resolve as scalars like tuples and frozensets\u001B[39;00m\n",
      "File \u001B[1;32mC:\\ProgramData\\Anaconda3\\envs\\backtrader\\lib\\site-packages\\pandas\\core\\series.py:1116\u001B[0m, in \u001B[0;36mSeries._get_value\u001B[1;34m(self, label, takeable)\u001B[0m\n\u001B[0;32m   1113\u001B[0m     \u001B[38;5;28;01mreturn\u001B[39;00m \u001B[38;5;28mself\u001B[39m\u001B[38;5;241m.\u001B[39m_values[label]\n\u001B[0;32m   1115\u001B[0m \u001B[38;5;66;03m# Similar to Index.get_value, but we do not fall back to positional\u001B[39;00m\n\u001B[1;32m-> 1116\u001B[0m loc \u001B[38;5;241m=\u001B[39m \u001B[38;5;28;43mself\u001B[39;49m\u001B[38;5;241;43m.\u001B[39;49m\u001B[43mindex\u001B[49m\u001B[38;5;241;43m.\u001B[39;49m\u001B[43mget_loc\u001B[49m\u001B[43m(\u001B[49m\u001B[43mlabel\u001B[49m\u001B[43m)\u001B[49m\n\u001B[0;32m   1118\u001B[0m \u001B[38;5;28;01mif\u001B[39;00m is_integer(loc):\n\u001B[0;32m   1119\u001B[0m     \u001B[38;5;28;01mreturn\u001B[39;00m \u001B[38;5;28mself\u001B[39m\u001B[38;5;241m.\u001B[39m_values[loc]\n",
      "File \u001B[1;32mC:\\ProgramData\\Anaconda3\\envs\\backtrader\\lib\\site-packages\\pandas\\core\\indexes\\base.py:3655\u001B[0m, in \u001B[0;36mIndex.get_loc\u001B[1;34m(self, key)\u001B[0m\n\u001B[0;32m   3653\u001B[0m     \u001B[38;5;28;01mreturn\u001B[39;00m \u001B[38;5;28mself\u001B[39m\u001B[38;5;241m.\u001B[39m_engine\u001B[38;5;241m.\u001B[39mget_loc(casted_key)\n\u001B[0;32m   3654\u001B[0m \u001B[38;5;28;01mexcept\u001B[39;00m \u001B[38;5;167;01mKeyError\u001B[39;00m \u001B[38;5;28;01mas\u001B[39;00m err:\n\u001B[1;32m-> 3655\u001B[0m     \u001B[38;5;28;01mraise\u001B[39;00m \u001B[38;5;167;01mKeyError\u001B[39;00m(key) \u001B[38;5;28;01mfrom\u001B[39;00m \u001B[38;5;21;01merr\u001B[39;00m\n\u001B[0;32m   3656\u001B[0m \u001B[38;5;28;01mexcept\u001B[39;00m \u001B[38;5;167;01mTypeError\u001B[39;00m:\n\u001B[0;32m   3657\u001B[0m     \u001B[38;5;66;03m# If we have a listlike key, _check_indexing_error will raise\u001B[39;00m\n\u001B[0;32m   3658\u001B[0m     \u001B[38;5;66;03m#  InvalidIndexError. Otherwise we fall through and re-raise\u001B[39;00m\n\u001B[0;32m   3659\u001B[0m     \u001B[38;5;66;03m#  the TypeError.\u001B[39;00m\n\u001B[0;32m   3660\u001B[0m     \u001B[38;5;28mself\u001B[39m\u001B[38;5;241m.\u001B[39m_check_indexing_error(key)\n",
      "\u001B[1;31mKeyError\u001B[0m: 2"
     ]
    }
   ],
   "source": [
    "df = lta.dynamic_exhaustion_bars(df)\n",
    "df.tail(10)"
   ],
   "metadata": {
    "collapsed": false
   }
  },
  {
   "cell_type": "code",
   "execution_count": 15,
   "outputs": [
    {
     "data": {
      "text/plain": "                         open      high       low     close      volume  \\\ndate_open                                                                 \n2023-06-04 04:00:00  27061.37  27083.56  27042.37  27054.95   377.40749   \n2023-06-04 05:00:00  27054.95  27056.47  27027.00  27038.63   250.41259   \n2023-06-04 06:00:00  27038.62  27141.70  27038.62  27127.78   892.17539   \n2023-06-04 07:00:00  27127.78  27163.94  27127.78  27150.45   938.24329   \n2023-06-04 08:00:00  27150.46  27158.12  27123.81  27150.82   458.66225   \n...                       ...       ...       ...       ...         ...   \n2023-06-08 03:00:00  26386.50  26386.51  26210.00  26344.17  1658.68120   \n2023-06-08 04:00:00  26344.16  26428.06  26326.19  26400.97   718.48832   \n2023-06-08 05:00:00  26400.96  26435.22  26350.00  26377.51   839.63098   \n2023-06-08 06:00:00  26377.51  26377.51  26290.19  26332.86   387.44668   \n1                         NaN       NaN       NaN       NaN         NaN   \n\n                             date_close  feature_smi  feature_pinbar  \\\ndate_open                                                              \n2023-06-04 04:00:00 2023-06-04 05:00:00     0.004414             0.0   \n2023-06-04 05:00:00 2023-06-04 06:00:00     0.105174             0.0   \n2023-06-04 06:00:00 2023-06-04 07:00:00     0.294402             0.0   \n2023-06-04 07:00:00 2023-06-04 08:00:00     0.490526             0.0   \n2023-06-04 08:00:00 2023-06-04 09:00:00     0.638521             0.0   \n...                                 ...          ...             ...   \n2023-06-08 03:00:00 2023-06-08 04:00:00     0.065939             0.0   \n2023-06-08 04:00:00 2023-06-08 05:00:00     0.177716             0.0   \n2023-06-08 05:00:00 2023-06-08 06:00:00     0.271653             0.0   \n2023-06-08 06:00:00 2023-06-08 07:00:00     0.279449             0.0   \n1                                   NaT          NaN             NaN   \n\n                     close_pct_change  pct_change_zscore  \\\ndate_open                                                  \n2023-06-04 04:00:00         -0.000238          -0.036899   \n2023-06-04 05:00:00         -0.000603          -0.208394   \n2023-06-04 06:00:00          0.003297           1.613084   \n2023-06-04 07:00:00          0.000836           0.385551   \n2023-06-04 08:00:00          0.000014           0.019228   \n...                               ...                ...   \n2023-06-08 03:00:00         -0.001605          -0.129504   \n2023-06-08 04:00:00          0.002156           0.487585   \n2023-06-08 05:00:00         -0.000889          -0.130479   \n2023-06-08 06:00:00         -0.001693          -0.230462   \n1                                 NaN                NaN   \n\n                     pct_change_zscore_smoothed  maj_qual  min_qual  maj_len  \\\ndate_open                                                                      \n2023-06-04 04:00:00                    0.186320      13.0      13.0      6.0   \n2023-06-04 05:00:00                   -0.238045      15.0      15.0      6.0   \n2023-06-04 06:00:00                    0.455930      12.0      12.0      6.0   \n2023-06-04 07:00:00                    0.596747      11.0      11.0      6.0   \n2023-06-04 08:00:00                    0.672621      10.0      10.0      6.0   \n...                                         ...       ...       ...      ...   \n2023-06-08 03:00:00                    0.043083      14.0      14.0      6.0   \n2023-06-08 04:00:00                    0.044163      14.0      14.0      6.0   \n2023-06-08 05:00:00                    0.075867      14.0      14.0      6.0   \n2023-06-08 06:00:00                    0.042215      14.0      14.0      6.0   \n1                                           NaN       NaN       NaN      NaN   \n\n                     min_len  leledc_major  leledc_minor  \ndate_open                                                 \n2023-06-04 04:00:00      6.0           NaN           0.0  \n2023-06-04 05:00:00      6.0           NaN           0.0  \n2023-06-04 06:00:00      6.0           NaN           0.0  \n2023-06-04 07:00:00      6.0           NaN           0.0  \n2023-06-04 08:00:00      6.0           NaN           0.0  \n...                      ...           ...           ...  \n2023-06-08 03:00:00      6.0           NaN           0.0  \n2023-06-08 04:00:00      6.0           NaN           0.0  \n2023-06-08 05:00:00      6.0           NaN           0.0  \n2023-06-08 06:00:00      6.0           NaN           0.0  \n1                        NaN           NaN           0.0  \n\n[100 rows x 17 columns]",
      "text/html": "<div>\n<style scoped>\n    .dataframe tbody tr th:only-of-type {\n        vertical-align: middle;\n    }\n\n    .dataframe tbody tr th {\n        vertical-align: top;\n    }\n\n    .dataframe thead th {\n        text-align: right;\n    }\n</style>\n<table border=\"1\" class=\"dataframe\">\n  <thead>\n    <tr style=\"text-align: right;\">\n      <th></th>\n      <th>open</th>\n      <th>high</th>\n      <th>low</th>\n      <th>close</th>\n      <th>volume</th>\n      <th>date_close</th>\n      <th>feature_smi</th>\n      <th>feature_pinbar</th>\n      <th>close_pct_change</th>\n      <th>pct_change_zscore</th>\n      <th>pct_change_zscore_smoothed</th>\n      <th>maj_qual</th>\n      <th>min_qual</th>\n      <th>maj_len</th>\n      <th>min_len</th>\n      <th>leledc_major</th>\n      <th>leledc_minor</th>\n    </tr>\n    <tr>\n      <th>date_open</th>\n      <th></th>\n      <th></th>\n      <th></th>\n      <th></th>\n      <th></th>\n      <th></th>\n      <th></th>\n      <th></th>\n      <th></th>\n      <th></th>\n      <th></th>\n      <th></th>\n      <th></th>\n      <th></th>\n      <th></th>\n      <th></th>\n      <th></th>\n    </tr>\n  </thead>\n  <tbody>\n    <tr>\n      <th>2023-06-04 04:00:00</th>\n      <td>27061.37</td>\n      <td>27083.56</td>\n      <td>27042.37</td>\n      <td>27054.95</td>\n      <td>377.40749</td>\n      <td>2023-06-04 05:00:00</td>\n      <td>0.004414</td>\n      <td>0.0</td>\n      <td>-0.000238</td>\n      <td>-0.036899</td>\n      <td>0.186320</td>\n      <td>13.0</td>\n      <td>13.0</td>\n      <td>6.0</td>\n      <td>6.0</td>\n      <td>NaN</td>\n      <td>0.0</td>\n    </tr>\n    <tr>\n      <th>2023-06-04 05:00:00</th>\n      <td>27054.95</td>\n      <td>27056.47</td>\n      <td>27027.00</td>\n      <td>27038.63</td>\n      <td>250.41259</td>\n      <td>2023-06-04 06:00:00</td>\n      <td>0.105174</td>\n      <td>0.0</td>\n      <td>-0.000603</td>\n      <td>-0.208394</td>\n      <td>-0.238045</td>\n      <td>15.0</td>\n      <td>15.0</td>\n      <td>6.0</td>\n      <td>6.0</td>\n      <td>NaN</td>\n      <td>0.0</td>\n    </tr>\n    <tr>\n      <th>2023-06-04 06:00:00</th>\n      <td>27038.62</td>\n      <td>27141.70</td>\n      <td>27038.62</td>\n      <td>27127.78</td>\n      <td>892.17539</td>\n      <td>2023-06-04 07:00:00</td>\n      <td>0.294402</td>\n      <td>0.0</td>\n      <td>0.003297</td>\n      <td>1.613084</td>\n      <td>0.455930</td>\n      <td>12.0</td>\n      <td>12.0</td>\n      <td>6.0</td>\n      <td>6.0</td>\n      <td>NaN</td>\n      <td>0.0</td>\n    </tr>\n    <tr>\n      <th>2023-06-04 07:00:00</th>\n      <td>27127.78</td>\n      <td>27163.94</td>\n      <td>27127.78</td>\n      <td>27150.45</td>\n      <td>938.24329</td>\n      <td>2023-06-04 08:00:00</td>\n      <td>0.490526</td>\n      <td>0.0</td>\n      <td>0.000836</td>\n      <td>0.385551</td>\n      <td>0.596747</td>\n      <td>11.0</td>\n      <td>11.0</td>\n      <td>6.0</td>\n      <td>6.0</td>\n      <td>NaN</td>\n      <td>0.0</td>\n    </tr>\n    <tr>\n      <th>2023-06-04 08:00:00</th>\n      <td>27150.46</td>\n      <td>27158.12</td>\n      <td>27123.81</td>\n      <td>27150.82</td>\n      <td>458.66225</td>\n      <td>2023-06-04 09:00:00</td>\n      <td>0.638521</td>\n      <td>0.0</td>\n      <td>0.000014</td>\n      <td>0.019228</td>\n      <td>0.672621</td>\n      <td>10.0</td>\n      <td>10.0</td>\n      <td>6.0</td>\n      <td>6.0</td>\n      <td>NaN</td>\n      <td>0.0</td>\n    </tr>\n    <tr>\n      <th>...</th>\n      <td>...</td>\n      <td>...</td>\n      <td>...</td>\n      <td>...</td>\n      <td>...</td>\n      <td>...</td>\n      <td>...</td>\n      <td>...</td>\n      <td>...</td>\n      <td>...</td>\n      <td>...</td>\n      <td>...</td>\n      <td>...</td>\n      <td>...</td>\n      <td>...</td>\n      <td>...</td>\n      <td>...</td>\n    </tr>\n    <tr>\n      <th>2023-06-08 03:00:00</th>\n      <td>26386.50</td>\n      <td>26386.51</td>\n      <td>26210.00</td>\n      <td>26344.17</td>\n      <td>1658.68120</td>\n      <td>2023-06-08 04:00:00</td>\n      <td>0.065939</td>\n      <td>0.0</td>\n      <td>-0.001605</td>\n      <td>-0.129504</td>\n      <td>0.043083</td>\n      <td>14.0</td>\n      <td>14.0</td>\n      <td>6.0</td>\n      <td>6.0</td>\n      <td>NaN</td>\n      <td>0.0</td>\n    </tr>\n    <tr>\n      <th>2023-06-08 04:00:00</th>\n      <td>26344.16</td>\n      <td>26428.06</td>\n      <td>26326.19</td>\n      <td>26400.97</td>\n      <td>718.48832</td>\n      <td>2023-06-08 05:00:00</td>\n      <td>0.177716</td>\n      <td>0.0</td>\n      <td>0.002156</td>\n      <td>0.487585</td>\n      <td>0.044163</td>\n      <td>14.0</td>\n      <td>14.0</td>\n      <td>6.0</td>\n      <td>6.0</td>\n      <td>NaN</td>\n      <td>0.0</td>\n    </tr>\n    <tr>\n      <th>2023-06-08 05:00:00</th>\n      <td>26400.96</td>\n      <td>26435.22</td>\n      <td>26350.00</td>\n      <td>26377.51</td>\n      <td>839.63098</td>\n      <td>2023-06-08 06:00:00</td>\n      <td>0.271653</td>\n      <td>0.0</td>\n      <td>-0.000889</td>\n      <td>-0.130479</td>\n      <td>0.075867</td>\n      <td>14.0</td>\n      <td>14.0</td>\n      <td>6.0</td>\n      <td>6.0</td>\n      <td>NaN</td>\n      <td>0.0</td>\n    </tr>\n    <tr>\n      <th>2023-06-08 06:00:00</th>\n      <td>26377.51</td>\n      <td>26377.51</td>\n      <td>26290.19</td>\n      <td>26332.86</td>\n      <td>387.44668</td>\n      <td>2023-06-08 07:00:00</td>\n      <td>0.279449</td>\n      <td>0.0</td>\n      <td>-0.001693</td>\n      <td>-0.230462</td>\n      <td>0.042215</td>\n      <td>14.0</td>\n      <td>14.0</td>\n      <td>6.0</td>\n      <td>6.0</td>\n      <td>NaN</td>\n      <td>0.0</td>\n    </tr>\n    <tr>\n      <th>1</th>\n      <td>NaN</td>\n      <td>NaN</td>\n      <td>NaN</td>\n      <td>NaN</td>\n      <td>NaN</td>\n      <td>NaT</td>\n      <td>NaN</td>\n      <td>NaN</td>\n      <td>NaN</td>\n      <td>NaN</td>\n      <td>NaN</td>\n      <td>NaN</td>\n      <td>NaN</td>\n      <td>NaN</td>\n      <td>NaN</td>\n      <td>NaN</td>\n      <td>0.0</td>\n    </tr>\n  </tbody>\n</table>\n<p>100 rows × 17 columns</p>\n</div>"
     },
     "execution_count": 15,
     "metadata": {},
     "output_type": "execute_result"
    }
   ],
   "source": [
    "df.tail(100)"
   ],
   "metadata": {
    "collapsed": false
   }
  },
  {
   "cell_type": "code",
   "execution_count": 11,
   "outputs": [
    {
     "data": {
      "text/plain": "date_open\n2023-06-07 22:00:00    26275.90\n2023-06-07 23:00:00    26339.34\n2023-06-08 00:00:00    26390.01\n2023-06-08 01:00:00    26443.60\n2023-06-08 02:00:00    26386.51\n2023-06-08 03:00:00    26344.17\n2023-06-08 04:00:00    26400.97\n2023-06-08 05:00:00    26377.51\n2023-06-08 06:00:00    26332.86\n1                           NaN\nName: close, dtype: float64"
     },
     "execution_count": 11,
     "metadata": {},
     "output_type": "execute_result"
    }
   ],
   "source": [
    "df['close'].tail(10)"
   ],
   "metadata": {
    "collapsed": false
   }
  },
  {
   "cell_type": "code",
   "execution_count": 12,
   "outputs": [
    {
     "data": {
      "text/plain": "nan"
     },
     "execution_count": 12,
     "metadata": {},
     "output_type": "execute_result"
    }
   ],
   "source": [],
   "metadata": {
    "collapsed": false
   }
  },
  {
   "cell_type": "code",
   "execution_count": 13,
   "outputs": [
    {
     "ename": "KeyError",
     "evalue": "2",
     "output_type": "error",
     "traceback": [
      "\u001B[1;31m---------------------------------------------------------------------------\u001B[0m",
      "\u001B[1;31mKeyError\u001B[0m                                  Traceback (most recent call last)",
      "File \u001B[1;32mC:\\ProgramData\\Anaconda3\\envs\\backtrader\\lib\\site-packages\\pandas\\core\\indexes\\base.py:3653\u001B[0m, in \u001B[0;36mIndex.get_loc\u001B[1;34m(self, key)\u001B[0m\n\u001B[0;32m   3652\u001B[0m \u001B[38;5;28;01mtry\u001B[39;00m:\n\u001B[1;32m-> 3653\u001B[0m     \u001B[38;5;28;01mreturn\u001B[39;00m \u001B[38;5;28;43mself\u001B[39;49m\u001B[38;5;241;43m.\u001B[39;49m\u001B[43m_engine\u001B[49m\u001B[38;5;241;43m.\u001B[39;49m\u001B[43mget_loc\u001B[49m\u001B[43m(\u001B[49m\u001B[43mcasted_key\u001B[49m\u001B[43m)\u001B[49m\n\u001B[0;32m   3654\u001B[0m \u001B[38;5;28;01mexcept\u001B[39;00m \u001B[38;5;167;01mKeyError\u001B[39;00m \u001B[38;5;28;01mas\u001B[39;00m err:\n",
      "File \u001B[1;32mC:\\ProgramData\\Anaconda3\\envs\\backtrader\\lib\\site-packages\\pandas\\_libs\\index.pyx:147\u001B[0m, in \u001B[0;36mpandas._libs.index.IndexEngine.get_loc\u001B[1;34m()\u001B[0m\n",
      "File \u001B[1;32mC:\\ProgramData\\Anaconda3\\envs\\backtrader\\lib\\site-packages\\pandas\\_libs\\index.pyx:176\u001B[0m, in \u001B[0;36mpandas._libs.index.IndexEngine.get_loc\u001B[1;34m()\u001B[0m\n",
      "File \u001B[1;32mpandas\\_libs\\hashtable_class_helper.pxi:7080\u001B[0m, in \u001B[0;36mpandas._libs.hashtable.PyObjectHashTable.get_item\u001B[1;34m()\u001B[0m\n",
      "File \u001B[1;32mpandas\\_libs\\hashtable_class_helper.pxi:7088\u001B[0m, in \u001B[0;36mpandas._libs.hashtable.PyObjectHashTable.get_item\u001B[1;34m()\u001B[0m\n",
      "\u001B[1;31mKeyError\u001B[0m: 2",
      "\nThe above exception was the direct cause of the following exception:\n",
      "\u001B[1;31mKeyError\u001B[0m                                  Traceback (most recent call last)",
      "Cell \u001B[1;32mIn[13], line 1\u001B[0m\n\u001B[1;32m----> 1\u001B[0m \u001B[43mdf\u001B[49m\u001B[43m[\u001B[49m\u001B[38;5;124;43m'\u001B[39;49m\u001B[38;5;124;43mclose\u001B[39;49m\u001B[38;5;124;43m'\u001B[39;49m\u001B[43m]\u001B[49m\u001B[43m[\u001B[49m\u001B[38;5;241;43m2\u001B[39;49m\u001B[43m]\u001B[49m\n",
      "File \u001B[1;32mC:\\ProgramData\\Anaconda3\\envs\\backtrader\\lib\\site-packages\\pandas\\core\\series.py:1007\u001B[0m, in \u001B[0;36mSeries.__getitem__\u001B[1;34m(self, key)\u001B[0m\n\u001B[0;32m   1004\u001B[0m     \u001B[38;5;28;01mreturn\u001B[39;00m \u001B[38;5;28mself\u001B[39m\u001B[38;5;241m.\u001B[39m_values[key]\n\u001B[0;32m   1006\u001B[0m \u001B[38;5;28;01melif\u001B[39;00m key_is_scalar:\n\u001B[1;32m-> 1007\u001B[0m     \u001B[38;5;28;01mreturn\u001B[39;00m \u001B[38;5;28;43mself\u001B[39;49m\u001B[38;5;241;43m.\u001B[39;49m\u001B[43m_get_value\u001B[49m\u001B[43m(\u001B[49m\u001B[43mkey\u001B[49m\u001B[43m)\u001B[49m\n\u001B[0;32m   1009\u001B[0m \u001B[38;5;28;01mif\u001B[39;00m is_hashable(key):\n\u001B[0;32m   1010\u001B[0m     \u001B[38;5;66;03m# Otherwise index.get_value will raise InvalidIndexError\u001B[39;00m\n\u001B[0;32m   1011\u001B[0m     \u001B[38;5;28;01mtry\u001B[39;00m:\n\u001B[0;32m   1012\u001B[0m         \u001B[38;5;66;03m# For labels that don't resolve as scalars like tuples and frozensets\u001B[39;00m\n",
      "File \u001B[1;32mC:\\ProgramData\\Anaconda3\\envs\\backtrader\\lib\\site-packages\\pandas\\core\\series.py:1116\u001B[0m, in \u001B[0;36mSeries._get_value\u001B[1;34m(self, label, takeable)\u001B[0m\n\u001B[0;32m   1113\u001B[0m     \u001B[38;5;28;01mreturn\u001B[39;00m \u001B[38;5;28mself\u001B[39m\u001B[38;5;241m.\u001B[39m_values[label]\n\u001B[0;32m   1115\u001B[0m \u001B[38;5;66;03m# Similar to Index.get_value, but we do not fall back to positional\u001B[39;00m\n\u001B[1;32m-> 1116\u001B[0m loc \u001B[38;5;241m=\u001B[39m \u001B[38;5;28;43mself\u001B[39;49m\u001B[38;5;241;43m.\u001B[39;49m\u001B[43mindex\u001B[49m\u001B[38;5;241;43m.\u001B[39;49m\u001B[43mget_loc\u001B[49m\u001B[43m(\u001B[49m\u001B[43mlabel\u001B[49m\u001B[43m)\u001B[49m\n\u001B[0;32m   1118\u001B[0m \u001B[38;5;28;01mif\u001B[39;00m is_integer(loc):\n\u001B[0;32m   1119\u001B[0m     \u001B[38;5;28;01mreturn\u001B[39;00m \u001B[38;5;28mself\u001B[39m\u001B[38;5;241m.\u001B[39m_values[loc]\n",
      "File \u001B[1;32mC:\\ProgramData\\Anaconda3\\envs\\backtrader\\lib\\site-packages\\pandas\\core\\indexes\\base.py:3655\u001B[0m, in \u001B[0;36mIndex.get_loc\u001B[1;34m(self, key)\u001B[0m\n\u001B[0;32m   3653\u001B[0m     \u001B[38;5;28;01mreturn\u001B[39;00m \u001B[38;5;28mself\u001B[39m\u001B[38;5;241m.\u001B[39m_engine\u001B[38;5;241m.\u001B[39mget_loc(casted_key)\n\u001B[0;32m   3654\u001B[0m \u001B[38;5;28;01mexcept\u001B[39;00m \u001B[38;5;167;01mKeyError\u001B[39;00m \u001B[38;5;28;01mas\u001B[39;00m err:\n\u001B[1;32m-> 3655\u001B[0m     \u001B[38;5;28;01mraise\u001B[39;00m \u001B[38;5;167;01mKeyError\u001B[39;00m(key) \u001B[38;5;28;01mfrom\u001B[39;00m \u001B[38;5;21;01merr\u001B[39;00m\n\u001B[0;32m   3656\u001B[0m \u001B[38;5;28;01mexcept\u001B[39;00m \u001B[38;5;167;01mTypeError\u001B[39;00m:\n\u001B[0;32m   3657\u001B[0m     \u001B[38;5;66;03m# If we have a listlike key, _check_indexing_error will raise\u001B[39;00m\n\u001B[0;32m   3658\u001B[0m     \u001B[38;5;66;03m#  InvalidIndexError. Otherwise we fall through and re-raise\u001B[39;00m\n\u001B[0;32m   3659\u001B[0m     \u001B[38;5;66;03m#  the TypeError.\u001B[39;00m\n\u001B[0;32m   3660\u001B[0m     \u001B[38;5;28mself\u001B[39m\u001B[38;5;241m.\u001B[39m_check_indexing_error(key)\n",
      "\u001B[1;31mKeyError\u001B[0m: 2"
     ]
    }
   ],
   "source": [
    "df['close'][2]"
   ],
   "metadata": {
    "collapsed": false
   }
  },
  {
   "cell_type": "code",
   "execution_count": 16,
   "outputs": [
    {
     "ename": "KeyError",
     "evalue": "2",
     "output_type": "error",
     "traceback": [
      "\u001B[1;31m---------------------------------------------------------------------------\u001B[0m",
      "\u001B[1;31mKeyError\u001B[0m                                  Traceback (most recent call last)",
      "File \u001B[1;32mC:\\ProgramData\\Anaconda3\\envs\\backtrader\\lib\\site-packages\\pandas\\core\\indexes\\base.py:3653\u001B[0m, in \u001B[0;36mIndex.get_loc\u001B[1;34m(self, key)\u001B[0m\n\u001B[0;32m   3652\u001B[0m \u001B[38;5;28;01mtry\u001B[39;00m:\n\u001B[1;32m-> 3653\u001B[0m     \u001B[38;5;28;01mreturn\u001B[39;00m \u001B[38;5;28;43mself\u001B[39;49m\u001B[38;5;241;43m.\u001B[39;49m\u001B[43m_engine\u001B[49m\u001B[38;5;241;43m.\u001B[39;49m\u001B[43mget_loc\u001B[49m\u001B[43m(\u001B[49m\u001B[43mcasted_key\u001B[49m\u001B[43m)\u001B[49m\n\u001B[0;32m   3654\u001B[0m \u001B[38;5;28;01mexcept\u001B[39;00m \u001B[38;5;167;01mKeyError\u001B[39;00m \u001B[38;5;28;01mas\u001B[39;00m err:\n",
      "File \u001B[1;32mC:\\ProgramData\\Anaconda3\\envs\\backtrader\\lib\\site-packages\\pandas\\_libs\\index.pyx:147\u001B[0m, in \u001B[0;36mpandas._libs.index.IndexEngine.get_loc\u001B[1;34m()\u001B[0m\n",
      "File \u001B[1;32mC:\\ProgramData\\Anaconda3\\envs\\backtrader\\lib\\site-packages\\pandas\\_libs\\index.pyx:176\u001B[0m, in \u001B[0;36mpandas._libs.index.IndexEngine.get_loc\u001B[1;34m()\u001B[0m\n",
      "File \u001B[1;32mpandas\\_libs\\hashtable_class_helper.pxi:7080\u001B[0m, in \u001B[0;36mpandas._libs.hashtable.PyObjectHashTable.get_item\u001B[1;34m()\u001B[0m\n",
      "File \u001B[1;32mpandas\\_libs\\hashtable_class_helper.pxi:7088\u001B[0m, in \u001B[0;36mpandas._libs.hashtable.PyObjectHashTable.get_item\u001B[1;34m()\u001B[0m\n",
      "\u001B[1;31mKeyError\u001B[0m: 2",
      "\nThe above exception was the direct cause of the following exception:\n",
      "\u001B[1;31mKeyError\u001B[0m                                  Traceback (most recent call last)",
      "Cell \u001B[1;32mIn[16], line 1\u001B[0m\n\u001B[1;32m----> 1\u001B[0m \u001B[43mdf\u001B[49m\u001B[43m[\u001B[49m\u001B[38;5;124;43m'\u001B[39;49m\u001B[38;5;124;43mclose\u001B[39;49m\u001B[38;5;124;43m'\u001B[39;49m\u001B[43m]\u001B[49m\u001B[38;5;241;43m.\u001B[39;49m\u001B[43mloc\u001B[49m\u001B[43m[\u001B[49m\u001B[38;5;241;43m2\u001B[39;49m\u001B[43m]\u001B[49m\n",
      "File \u001B[1;32mC:\\ProgramData\\Anaconda3\\envs\\backtrader\\lib\\site-packages\\pandas\\core\\indexing.py:1103\u001B[0m, in \u001B[0;36m_LocationIndexer.__getitem__\u001B[1;34m(self, key)\u001B[0m\n\u001B[0;32m   1100\u001B[0m axis \u001B[38;5;241m=\u001B[39m \u001B[38;5;28mself\u001B[39m\u001B[38;5;241m.\u001B[39maxis \u001B[38;5;129;01mor\u001B[39;00m \u001B[38;5;241m0\u001B[39m\n\u001B[0;32m   1102\u001B[0m maybe_callable \u001B[38;5;241m=\u001B[39m com\u001B[38;5;241m.\u001B[39mapply_if_callable(key, \u001B[38;5;28mself\u001B[39m\u001B[38;5;241m.\u001B[39mobj)\n\u001B[1;32m-> 1103\u001B[0m \u001B[38;5;28;01mreturn\u001B[39;00m \u001B[38;5;28;43mself\u001B[39;49m\u001B[38;5;241;43m.\u001B[39;49m\u001B[43m_getitem_axis\u001B[49m\u001B[43m(\u001B[49m\u001B[43mmaybe_callable\u001B[49m\u001B[43m,\u001B[49m\u001B[43m \u001B[49m\u001B[43maxis\u001B[49m\u001B[38;5;241;43m=\u001B[39;49m\u001B[43maxis\u001B[49m\u001B[43m)\u001B[49m\n",
      "File \u001B[1;32mC:\\ProgramData\\Anaconda3\\envs\\backtrader\\lib\\site-packages\\pandas\\core\\indexing.py:1343\u001B[0m, in \u001B[0;36m_LocIndexer._getitem_axis\u001B[1;34m(self, key, axis)\u001B[0m\n\u001B[0;32m   1341\u001B[0m \u001B[38;5;66;03m# fall thru to straight lookup\u001B[39;00m\n\u001B[0;32m   1342\u001B[0m \u001B[38;5;28mself\u001B[39m\u001B[38;5;241m.\u001B[39m_validate_key(key, axis)\n\u001B[1;32m-> 1343\u001B[0m \u001B[38;5;28;01mreturn\u001B[39;00m \u001B[38;5;28;43mself\u001B[39;49m\u001B[38;5;241;43m.\u001B[39;49m\u001B[43m_get_label\u001B[49m\u001B[43m(\u001B[49m\u001B[43mkey\u001B[49m\u001B[43m,\u001B[49m\u001B[43m \u001B[49m\u001B[43maxis\u001B[49m\u001B[38;5;241;43m=\u001B[39;49m\u001B[43maxis\u001B[49m\u001B[43m)\u001B[49m\n",
      "File \u001B[1;32mC:\\ProgramData\\Anaconda3\\envs\\backtrader\\lib\\site-packages\\pandas\\core\\indexing.py:1293\u001B[0m, in \u001B[0;36m_LocIndexer._get_label\u001B[1;34m(self, label, axis)\u001B[0m\n\u001B[0;32m   1291\u001B[0m \u001B[38;5;28;01mdef\u001B[39;00m \u001B[38;5;21m_get_label\u001B[39m(\u001B[38;5;28mself\u001B[39m, label, axis: AxisInt):\n\u001B[0;32m   1292\u001B[0m     \u001B[38;5;66;03m# GH#5567 this will fail if the label is not present in the axis.\u001B[39;00m\n\u001B[1;32m-> 1293\u001B[0m     \u001B[38;5;28;01mreturn\u001B[39;00m \u001B[38;5;28;43mself\u001B[39;49m\u001B[38;5;241;43m.\u001B[39;49m\u001B[43mobj\u001B[49m\u001B[38;5;241;43m.\u001B[39;49m\u001B[43mxs\u001B[49m\u001B[43m(\u001B[49m\u001B[43mlabel\u001B[49m\u001B[43m,\u001B[49m\u001B[43m \u001B[49m\u001B[43maxis\u001B[49m\u001B[38;5;241;43m=\u001B[39;49m\u001B[43maxis\u001B[49m\u001B[43m)\u001B[49m\n",
      "File \u001B[1;32mC:\\ProgramData\\Anaconda3\\envs\\backtrader\\lib\\site-packages\\pandas\\core\\generic.py:4095\u001B[0m, in \u001B[0;36mNDFrame.xs\u001B[1;34m(self, key, axis, level, drop_level)\u001B[0m\n\u001B[0;32m   4093\u001B[0m             new_index \u001B[38;5;241m=\u001B[39m index[loc]\n\u001B[0;32m   4094\u001B[0m \u001B[38;5;28;01melse\u001B[39;00m:\n\u001B[1;32m-> 4095\u001B[0m     loc \u001B[38;5;241m=\u001B[39m \u001B[43mindex\u001B[49m\u001B[38;5;241;43m.\u001B[39;49m\u001B[43mget_loc\u001B[49m\u001B[43m(\u001B[49m\u001B[43mkey\u001B[49m\u001B[43m)\u001B[49m\n\u001B[0;32m   4097\u001B[0m     \u001B[38;5;28;01mif\u001B[39;00m \u001B[38;5;28misinstance\u001B[39m(loc, np\u001B[38;5;241m.\u001B[39mndarray):\n\u001B[0;32m   4098\u001B[0m         \u001B[38;5;28;01mif\u001B[39;00m loc\u001B[38;5;241m.\u001B[39mdtype \u001B[38;5;241m==\u001B[39m np\u001B[38;5;241m.\u001B[39mbool_:\n",
      "File \u001B[1;32mC:\\ProgramData\\Anaconda3\\envs\\backtrader\\lib\\site-packages\\pandas\\core\\indexes\\base.py:3655\u001B[0m, in \u001B[0;36mIndex.get_loc\u001B[1;34m(self, key)\u001B[0m\n\u001B[0;32m   3653\u001B[0m     \u001B[38;5;28;01mreturn\u001B[39;00m \u001B[38;5;28mself\u001B[39m\u001B[38;5;241m.\u001B[39m_engine\u001B[38;5;241m.\u001B[39mget_loc(casted_key)\n\u001B[0;32m   3654\u001B[0m \u001B[38;5;28;01mexcept\u001B[39;00m \u001B[38;5;167;01mKeyError\u001B[39;00m \u001B[38;5;28;01mas\u001B[39;00m err:\n\u001B[1;32m-> 3655\u001B[0m     \u001B[38;5;28;01mraise\u001B[39;00m \u001B[38;5;167;01mKeyError\u001B[39;00m(key) \u001B[38;5;28;01mfrom\u001B[39;00m \u001B[38;5;21;01merr\u001B[39;00m\n\u001B[0;32m   3656\u001B[0m \u001B[38;5;28;01mexcept\u001B[39;00m \u001B[38;5;167;01mTypeError\u001B[39;00m:\n\u001B[0;32m   3657\u001B[0m     \u001B[38;5;66;03m# If we have a listlike key, _check_indexing_error will raise\u001B[39;00m\n\u001B[0;32m   3658\u001B[0m     \u001B[38;5;66;03m#  InvalidIndexError. Otherwise we fall through and re-raise\u001B[39;00m\n\u001B[0;32m   3659\u001B[0m     \u001B[38;5;66;03m#  the TypeError.\u001B[39;00m\n\u001B[0;32m   3660\u001B[0m     \u001B[38;5;28mself\u001B[39m\u001B[38;5;241m.\u001B[39m_check_indexing_error(key)\n",
      "\u001B[1;31mKeyError\u001B[0m: 2"
     ]
    }
   ],
   "source": [
    "df['close'].loc[2]"
   ],
   "metadata": {
    "collapsed": false
   }
  },
  {
   "cell_type": "code",
   "execution_count": 17,
   "outputs": [],
   "source": [
    "df1 = pd.read_pickle(\"./data/binance-BTCUSDT-1h.pkl\")"
   ],
   "metadata": {
    "collapsed": false
   }
  },
  {
   "cell_type": "code",
   "execution_count": null,
   "outputs": [],
   "source": [],
   "metadata": {
    "collapsed": false
   }
  },
  {
   "cell_type": "code",
   "execution_count": 19,
   "outputs": [
    {
     "data": {
      "text/plain": "16570.14"
     },
     "execution_count": 19,
     "metadata": {},
     "output_type": "execute_result"
    }
   ],
   "source": [
    "df['close'].iloc[2]"
   ],
   "metadata": {
    "collapsed": false
   }
  },
  {
   "cell_type": "code",
   "execution_count": null,
   "outputs": [],
   "source": [
    "import ray_train-hourv2"
   ],
   "metadata": {
    "collapsed": false
   }
  }
 ],
 "metadata": {
  "kernelspec": {
   "display_name": "Python 3",
   "language": "python",
   "name": "python3"
  },
  "language_info": {
   "codemirror_mode": {
    "name": "ipython",
    "version": 2
   },
   "file_extension": ".py",
   "mimetype": "text/x-python",
   "name": "python",
   "nbconvert_exporter": "python",
   "pygments_lexer": "ipython2",
   "version": "2.7.6"
  }
 },
 "nbformat": 4,
 "nbformat_minor": 0
}
