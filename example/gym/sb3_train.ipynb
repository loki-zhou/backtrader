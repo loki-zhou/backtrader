{
 "cells": [
  {
   "cell_type": "code",
   "execution_count": 1,
   "metadata": {
    "collapsed": true
   },
   "outputs": [],
   "source": [
    "import pandas as pd\n",
    "import numpy as np\n",
    "import gymnasium as gym"
   ]
  },
  {
   "cell_type": "code",
   "execution_count": 2,
   "outputs": [],
   "source": [
    "df = pd.read_pickle(\"./data/raw/binance-BTCUSDT-5m.pkl\")"
   ],
   "metadata": {
    "collapsed": false
   }
  },
  {
   "cell_type": "code",
   "execution_count": 3,
   "outputs": [
    {
     "data": {
      "text/plain": "                         open      high       low     close     volume   \ndate_open                                                                \n2023-06-05 12:50:00  26693.72  26698.57  26666.00  26675.09  201.40100  \\\n2023-06-05 12:55:00  26675.09  26691.23  26654.39  26690.76  230.29799   \n2023-06-05 13:00:00  26690.76  26694.36  26640.00  26676.17  232.48809   \n2023-06-05 13:05:00  26676.17  26689.98  26651.25  26689.98  136.69593   \n2023-06-05 13:10:00  26689.97  26732.86  26689.97  26724.37  131.74040   \n\n                             date_close  \ndate_open                                \n2023-06-05 12:50:00 2023-06-05 12:55:00  \n2023-06-05 12:55:00 2023-06-05 13:00:00  \n2023-06-05 13:00:00 2023-06-05 13:05:00  \n2023-06-05 13:05:00 2023-06-05 13:10:00  \n2023-06-05 13:10:00 2023-06-05 13:15:00  ",
      "text/html": "<div>\n<style scoped>\n    .dataframe tbody tr th:only-of-type {\n        vertical-align: middle;\n    }\n\n    .dataframe tbody tr th {\n        vertical-align: top;\n    }\n\n    .dataframe thead th {\n        text-align: right;\n    }\n</style>\n<table border=\"1\" class=\"dataframe\">\n  <thead>\n    <tr style=\"text-align: right;\">\n      <th></th>\n      <th>open</th>\n      <th>high</th>\n      <th>low</th>\n      <th>close</th>\n      <th>volume</th>\n      <th>date_close</th>\n    </tr>\n    <tr>\n      <th>date_open</th>\n      <th></th>\n      <th></th>\n      <th></th>\n      <th></th>\n      <th></th>\n      <th></th>\n    </tr>\n  </thead>\n  <tbody>\n    <tr>\n      <th>2023-06-05 12:50:00</th>\n      <td>26693.72</td>\n      <td>26698.57</td>\n      <td>26666.00</td>\n      <td>26675.09</td>\n      <td>201.40100</td>\n      <td>2023-06-05 12:55:00</td>\n    </tr>\n    <tr>\n      <th>2023-06-05 12:55:00</th>\n      <td>26675.09</td>\n      <td>26691.23</td>\n      <td>26654.39</td>\n      <td>26690.76</td>\n      <td>230.29799</td>\n      <td>2023-06-05 13:00:00</td>\n    </tr>\n    <tr>\n      <th>2023-06-05 13:00:00</th>\n      <td>26690.76</td>\n      <td>26694.36</td>\n      <td>26640.00</td>\n      <td>26676.17</td>\n      <td>232.48809</td>\n      <td>2023-06-05 13:05:00</td>\n    </tr>\n    <tr>\n      <th>2023-06-05 13:05:00</th>\n      <td>26676.17</td>\n      <td>26689.98</td>\n      <td>26651.25</td>\n      <td>26689.98</td>\n      <td>136.69593</td>\n      <td>2023-06-05 13:10:00</td>\n    </tr>\n    <tr>\n      <th>2023-06-05 13:10:00</th>\n      <td>26689.97</td>\n      <td>26732.86</td>\n      <td>26689.97</td>\n      <td>26724.37</td>\n      <td>131.74040</td>\n      <td>2023-06-05 13:15:00</td>\n    </tr>\n  </tbody>\n</table>\n</div>"
     },
     "execution_count": 3,
     "metadata": {},
     "output_type": "execute_result"
    }
   ],
   "source": [
    "df.tail()"
   ],
   "metadata": {
    "collapsed": false
   }
  },
  {
   "cell_type": "code",
   "execution_count": 4,
   "outputs": [],
   "source": [
    "df[\"feature_close\"] = df[\"close\"]\n",
    "df[\"feature_open\"] = df[\"open\"]\n",
    "df[\"feature_high\"] = df[\"high\"]\n",
    "df[\"feature_low\"] = df[\"low\"]\n",
    "df[\"feature_volume\"] = df[\"volume\"]\n",
    "df.dropna(inplace= True) # Clean your data !"
   ],
   "metadata": {
    "collapsed": false
   }
  },
  {
   "cell_type": "code",
   "execution_count": 5,
   "outputs": [],
   "source": [
    "import pandas_ta as ta"
   ],
   "metadata": {
    "collapsed": false
   }
  },
  {
   "cell_type": "code",
   "execution_count": 6,
   "outputs": [
    {
     "name": "stdout",
     "output_type": "stream",
     "text": [
      "Pandas TA - Technical Analysis Indicators - v0.3.14b0\n",
      "Total Indicators & Utilities: 205\n",
      "Abbreviations:\n",
      "    aberration, above, above_value, accbands, ad, adosc, adx, alma, amat, ao, aobv, apo, aroon, atr, bbands, below, below_value, bias, bop, brar, cci, cdl_pattern, cdl_z, cfo, cg, chop, cksp, cmf, cmo, coppock, cross, cross_value, cti, decay, decreasing, dema, dm, donchian, dpo, ebsw, efi, ema, entropy, eom, er, eri, fisher, fwma, ha, hilo, hl2, hlc3, hma, hwc, hwma, ichimoku, increasing, inertia, jma, kama, kc, kdj, kst, kurtosis, kvo, linreg, log_return, long_run, macd, mad, massi, mcgd, median, mfi, midpoint, midprice, mom, natr, nvi, obv, ohlc4, pdist, percent_return, pgo, ppo, psar, psl, pvi, pvo, pvol, pvr, pvt, pwma, qqe, qstick, quantile, rma, roc, rsi, rsx, rvgi, rvi, short_run, sinwma, skew, slope, sma, smi, squeeze, squeeze_pro, ssf, stc, stdev, stoch, stochrsi, supertrend, swma, t3, td_seq, tema, thermo, tos_stdevall, trima, trix, true_range, tsi, tsignals, ttm_trend, ui, uo, variance, vhf, vidya, vortex, vp, vwap, vwma, wcp, willr, wma, xsignals, zlma, zscore\n",
      "\n",
      "Candle Patterns:\n",
      "    2crows, 3blackcrows, 3inside, 3linestrike, 3outside, 3starsinsouth, 3whitesoldiers, abandonedbaby, advanceblock, belthold, breakaway, closingmarubozu, concealbabyswall, counterattack, darkcloudcover, doji, dojistar, dragonflydoji, engulfing, eveningdojistar, eveningstar, gapsidesidewhite, gravestonedoji, hammer, hangingman, harami, haramicross, highwave, hikkake, hikkakemod, homingpigeon, identical3crows, inneck, inside, invertedhammer, kicking, kickingbylength, ladderbottom, longleggeddoji, longline, marubozu, matchinglow, mathold, morningdojistar, morningstar, onneck, piercing, rickshawman, risefall3methods, separatinglines, shootingstar, shortline, spinningtop, stalledpattern, sticksandwich, takuri, tasukigap, thrusting, tristar, unique3river, upsidegap2crows, xsidegap3methods\n"
     ]
    }
   ],
   "source": [
    "df.ta.indicators()"
   ],
   "metadata": {
    "collapsed": false
   }
  },
  {
   "cell_type": "code",
   "execution_count": 7,
   "outputs": [
    {
     "data": {
      "text/plain": "                         open      high       low     close      volume   \ndate_open                                                                 \n2018-12-31 16:05:00   3750.11   3752.26   3743.78   3748.61   73.484180  \\\n2018-12-31 16:10:00   3747.55   3753.95   3742.00   3745.71   49.545187   \n2018-12-31 16:15:00   3745.71   3747.13   3735.00   3739.62  151.770226   \n2018-12-31 16:20:00   3739.62   3745.00   3731.99   3742.30  107.421241   \n2018-12-31 16:25:00   3742.28   3745.00   3739.30   3741.95   43.780808   \n...                       ...       ...       ...       ...         ...   \n2023-06-05 12:50:00  26693.72  26698.57  26666.00  26675.09  201.401000   \n2023-06-05 12:55:00  26675.09  26691.23  26654.39  26690.76  230.297990   \n2023-06-05 13:00:00  26690.76  26694.36  26640.00  26676.17  232.488090   \n2023-06-05 13:05:00  26676.17  26689.98  26651.25  26689.98  136.695930   \n2023-06-05 13:10:00  26689.97  26732.86  26689.97  26724.37  131.740400   \n\n                             date_close  feature_close  feature_open   \ndate_open                                                              \n2018-12-31 16:05:00 2018-12-31 16:10:00        3748.61       3750.11  \\\n2018-12-31 16:10:00 2018-12-31 16:15:00        3745.71       3747.55   \n2018-12-31 16:15:00 2018-12-31 16:20:00        3739.62       3745.71   \n2018-12-31 16:20:00 2018-12-31 16:25:00        3742.30       3739.62   \n2018-12-31 16:25:00 2018-12-31 16:30:00        3741.95       3742.28   \n...                                 ...            ...           ...   \n2023-06-05 12:50:00 2023-06-05 12:55:00       26675.09      26693.72   \n2023-06-05 12:55:00 2023-06-05 13:00:00       26690.76      26675.09   \n2023-06-05 13:00:00 2023-06-05 13:05:00       26676.17      26690.76   \n2023-06-05 13:05:00 2023-06-05 13:10:00       26689.98      26676.17   \n2023-06-05 13:10:00 2023-06-05 13:15:00       26724.37      26689.97   \n\n                     feature_high  feature_low  feature_volume  \ndate_open                                                       \n2018-12-31 16:05:00       3752.26      3743.78       73.484180  \n2018-12-31 16:10:00       3753.95      3742.00       49.545187  \n2018-12-31 16:15:00       3747.13      3735.00      151.770226  \n2018-12-31 16:20:00       3745.00      3731.99      107.421241  \n2018-12-31 16:25:00       3745.00      3739.30       43.780808  \n...                           ...          ...             ...  \n2023-06-05 12:50:00      26698.57     26666.00      201.401000  \n2023-06-05 12:55:00      26691.23     26654.39      230.297990  \n2023-06-05 13:00:00      26694.36     26640.00      232.488090  \n2023-06-05 13:05:00      26689.98     26651.25      136.695930  \n2023-06-05 13:10:00      26732.86     26689.97      131.740400  \n\n[464844 rows x 11 columns]",
      "text/html": "<div>\n<style scoped>\n    .dataframe tbody tr th:only-of-type {\n        vertical-align: middle;\n    }\n\n    .dataframe tbody tr th {\n        vertical-align: top;\n    }\n\n    .dataframe thead th {\n        text-align: right;\n    }\n</style>\n<table border=\"1\" class=\"dataframe\">\n  <thead>\n    <tr style=\"text-align: right;\">\n      <th></th>\n      <th>open</th>\n      <th>high</th>\n      <th>low</th>\n      <th>close</th>\n      <th>volume</th>\n      <th>date_close</th>\n      <th>feature_close</th>\n      <th>feature_open</th>\n      <th>feature_high</th>\n      <th>feature_low</th>\n      <th>feature_volume</th>\n    </tr>\n    <tr>\n      <th>date_open</th>\n      <th></th>\n      <th></th>\n      <th></th>\n      <th></th>\n      <th></th>\n      <th></th>\n      <th></th>\n      <th></th>\n      <th></th>\n      <th></th>\n      <th></th>\n    </tr>\n  </thead>\n  <tbody>\n    <tr>\n      <th>2018-12-31 16:05:00</th>\n      <td>3750.11</td>\n      <td>3752.26</td>\n      <td>3743.78</td>\n      <td>3748.61</td>\n      <td>73.484180</td>\n      <td>2018-12-31 16:10:00</td>\n      <td>3748.61</td>\n      <td>3750.11</td>\n      <td>3752.26</td>\n      <td>3743.78</td>\n      <td>73.484180</td>\n    </tr>\n    <tr>\n      <th>2018-12-31 16:10:00</th>\n      <td>3747.55</td>\n      <td>3753.95</td>\n      <td>3742.00</td>\n      <td>3745.71</td>\n      <td>49.545187</td>\n      <td>2018-12-31 16:15:00</td>\n      <td>3745.71</td>\n      <td>3747.55</td>\n      <td>3753.95</td>\n      <td>3742.00</td>\n      <td>49.545187</td>\n    </tr>\n    <tr>\n      <th>2018-12-31 16:15:00</th>\n      <td>3745.71</td>\n      <td>3747.13</td>\n      <td>3735.00</td>\n      <td>3739.62</td>\n      <td>151.770226</td>\n      <td>2018-12-31 16:20:00</td>\n      <td>3739.62</td>\n      <td>3745.71</td>\n      <td>3747.13</td>\n      <td>3735.00</td>\n      <td>151.770226</td>\n    </tr>\n    <tr>\n      <th>2018-12-31 16:20:00</th>\n      <td>3739.62</td>\n      <td>3745.00</td>\n      <td>3731.99</td>\n      <td>3742.30</td>\n      <td>107.421241</td>\n      <td>2018-12-31 16:25:00</td>\n      <td>3742.30</td>\n      <td>3739.62</td>\n      <td>3745.00</td>\n      <td>3731.99</td>\n      <td>107.421241</td>\n    </tr>\n    <tr>\n      <th>2018-12-31 16:25:00</th>\n      <td>3742.28</td>\n      <td>3745.00</td>\n      <td>3739.30</td>\n      <td>3741.95</td>\n      <td>43.780808</td>\n      <td>2018-12-31 16:30:00</td>\n      <td>3741.95</td>\n      <td>3742.28</td>\n      <td>3745.00</td>\n      <td>3739.30</td>\n      <td>43.780808</td>\n    </tr>\n    <tr>\n      <th>...</th>\n      <td>...</td>\n      <td>...</td>\n      <td>...</td>\n      <td>...</td>\n      <td>...</td>\n      <td>...</td>\n      <td>...</td>\n      <td>...</td>\n      <td>...</td>\n      <td>...</td>\n      <td>...</td>\n    </tr>\n    <tr>\n      <th>2023-06-05 12:50:00</th>\n      <td>26693.72</td>\n      <td>26698.57</td>\n      <td>26666.00</td>\n      <td>26675.09</td>\n      <td>201.401000</td>\n      <td>2023-06-05 12:55:00</td>\n      <td>26675.09</td>\n      <td>26693.72</td>\n      <td>26698.57</td>\n      <td>26666.00</td>\n      <td>201.401000</td>\n    </tr>\n    <tr>\n      <th>2023-06-05 12:55:00</th>\n      <td>26675.09</td>\n      <td>26691.23</td>\n      <td>26654.39</td>\n      <td>26690.76</td>\n      <td>230.297990</td>\n      <td>2023-06-05 13:00:00</td>\n      <td>26690.76</td>\n      <td>26675.09</td>\n      <td>26691.23</td>\n      <td>26654.39</td>\n      <td>230.297990</td>\n    </tr>\n    <tr>\n      <th>2023-06-05 13:00:00</th>\n      <td>26690.76</td>\n      <td>26694.36</td>\n      <td>26640.00</td>\n      <td>26676.17</td>\n      <td>232.488090</td>\n      <td>2023-06-05 13:05:00</td>\n      <td>26676.17</td>\n      <td>26690.76</td>\n      <td>26694.36</td>\n      <td>26640.00</td>\n      <td>232.488090</td>\n    </tr>\n    <tr>\n      <th>2023-06-05 13:05:00</th>\n      <td>26676.17</td>\n      <td>26689.98</td>\n      <td>26651.25</td>\n      <td>26689.98</td>\n      <td>136.695930</td>\n      <td>2023-06-05 13:10:00</td>\n      <td>26689.98</td>\n      <td>26676.17</td>\n      <td>26689.98</td>\n      <td>26651.25</td>\n      <td>136.695930</td>\n    </tr>\n    <tr>\n      <th>2023-06-05 13:10:00</th>\n      <td>26689.97</td>\n      <td>26732.86</td>\n      <td>26689.97</td>\n      <td>26724.37</td>\n      <td>131.740400</td>\n      <td>2023-06-05 13:15:00</td>\n      <td>26724.37</td>\n      <td>26689.97</td>\n      <td>26732.86</td>\n      <td>26689.97</td>\n      <td>131.740400</td>\n    </tr>\n  </tbody>\n</table>\n<p>464844 rows × 11 columns</p>\n</div>"
     },
     "execution_count": 7,
     "metadata": {},
     "output_type": "execute_result"
    }
   ],
   "source": [
    "df"
   ],
   "metadata": {
    "collapsed": false
   }
  },
  {
   "cell_type": "code",
   "execution_count": 8,
   "outputs": [
    {
     "data": {
      "text/plain": "date_open\n2018-12-31 16:05:00          NaN\n2018-12-31 16:10:00          NaN\n2018-12-31 16:15:00          NaN\n2018-12-31 16:20:00          NaN\n2018-12-31 16:25:00          NaN\n                         ...    \n2023-06-05 12:50:00    26735.064\n2023-06-05 12:55:00    26726.576\n2023-06-05 13:00:00    26716.970\n2023-06-05 13:05:00    26707.706\n2023-06-05 13:10:00    26705.586\nName: SMA_10, Length: 464844, dtype: float64"
     },
     "execution_count": 8,
     "metadata": {},
     "output_type": "execute_result"
    }
   ],
   "source": [
    "df.ta.sma(length=10, append=True)"
   ],
   "metadata": {
    "collapsed": false
   }
  },
  {
   "cell_type": "code",
   "execution_count": 10,
   "outputs": [],
   "source": [
    "df.ta.strategy(ta.CommonStrategy)"
   ],
   "metadata": {
    "collapsed": false
   }
  },
  {
   "cell_type": "code",
   "execution_count": 11,
   "outputs": [
    {
     "data": {
      "text/plain": "                         open      high       low     close      volume   \ndate_open                                                                 \n2018-12-31 16:05:00   3750.11   3752.26   3743.78   3748.61   73.484180  \\\n2018-12-31 16:10:00   3747.55   3753.95   3742.00   3745.71   49.545187   \n2018-12-31 16:15:00   3745.71   3747.13   3735.00   3739.62  151.770226   \n2018-12-31 16:20:00   3739.62   3745.00   3731.99   3742.30  107.421241   \n2018-12-31 16:25:00   3742.28   3745.00   3739.30   3741.95   43.780808   \n...                       ...       ...       ...       ...         ...   \n2023-06-05 12:50:00  26693.72  26698.57  26666.00  26675.09  201.401000   \n2023-06-05 12:55:00  26675.09  26691.23  26654.39  26690.76  230.297990   \n2023-06-05 13:00:00  26690.76  26694.36  26640.00  26676.17  232.488090   \n2023-06-05 13:05:00  26676.17  26689.98  26651.25  26689.98  136.695930   \n2023-06-05 13:10:00  26689.97  26732.86  26689.97  26724.37  131.740400   \n\n                             date_close  feature_close  feature_open   \ndate_open                                                              \n2018-12-31 16:05:00 2018-12-31 16:10:00        3748.61       3750.11  \\\n2018-12-31 16:10:00 2018-12-31 16:15:00        3745.71       3747.55   \n2018-12-31 16:15:00 2018-12-31 16:20:00        3739.62       3745.71   \n2018-12-31 16:20:00 2018-12-31 16:25:00        3742.30       3739.62   \n2018-12-31 16:25:00 2018-12-31 16:30:00        3741.95       3742.28   \n...                                 ...            ...           ...   \n2023-06-05 12:50:00 2023-06-05 12:55:00       26675.09      26693.72   \n2023-06-05 12:55:00 2023-06-05 13:00:00       26690.76      26675.09   \n2023-06-05 13:00:00 2023-06-05 13:05:00       26676.17      26690.76   \n2023-06-05 13:05:00 2023-06-05 13:10:00       26689.98      26676.17   \n2023-06-05 13:10:00 2023-06-05 13:15:00       26724.37      26689.97   \n\n                     feature_high  feature_low  feature_volume     SMA_10   \ndate_open                                                                   \n2018-12-31 16:05:00       3752.26      3743.78       73.484180        NaN  \\\n2018-12-31 16:10:00       3753.95      3742.00       49.545187        NaN   \n2018-12-31 16:15:00       3747.13      3735.00      151.770226        NaN   \n2018-12-31 16:20:00       3745.00      3731.99      107.421241        NaN   \n2018-12-31 16:25:00       3745.00      3739.30       43.780808        NaN   \n...                           ...          ...             ...        ...   \n2023-06-05 12:50:00      26698.57     26666.00      201.401000  26735.064   \n2023-06-05 12:55:00      26691.23     26654.39      230.297990  26726.576   \n2023-06-05 13:00:00      26694.36     26640.00      232.488090  26716.970   \n2023-06-05 13:05:00      26689.98     26651.25      136.695930  26707.706   \n2023-06-05 13:10:00      26732.86     26689.97      131.740400  26705.586   \n\n                         SMA_20      SMA_50      SMA_200  VOL_SMA_20  \ndate_open                                                             \n2018-12-31 16:05:00         NaN         NaN          NaN         NaN  \n2018-12-31 16:10:00         NaN         NaN          NaN         NaN  \n2018-12-31 16:15:00         NaN         NaN          NaN         NaN  \n2018-12-31 16:20:00         NaN         NaN          NaN         NaN  \n2018-12-31 16:25:00         NaN         NaN          NaN         NaN  \n...                         ...         ...          ...         ...  \n2023-06-05 12:50:00  26754.6250  26764.1824  26943.14745  101.233168  \n2023-06-05 12:55:00  26751.5890  26761.5870  26940.39120  108.097298  \n2023-06-05 13:00:00  26747.1015  26759.1588  26937.54605  117.775819  \n2023-06-05 13:05:00  26742.5475  26756.9856  26934.75805  118.854250  \n2023-06-05 13:10:00  26740.4730  26755.5488  26932.22535  120.686377  \n\n[464844 rows x 16 columns]",
      "text/html": "<div>\n<style scoped>\n    .dataframe tbody tr th:only-of-type {\n        vertical-align: middle;\n    }\n\n    .dataframe tbody tr th {\n        vertical-align: top;\n    }\n\n    .dataframe thead th {\n        text-align: right;\n    }\n</style>\n<table border=\"1\" class=\"dataframe\">\n  <thead>\n    <tr style=\"text-align: right;\">\n      <th></th>\n      <th>open</th>\n      <th>high</th>\n      <th>low</th>\n      <th>close</th>\n      <th>volume</th>\n      <th>date_close</th>\n      <th>feature_close</th>\n      <th>feature_open</th>\n      <th>feature_high</th>\n      <th>feature_low</th>\n      <th>feature_volume</th>\n      <th>SMA_10</th>\n      <th>SMA_20</th>\n      <th>SMA_50</th>\n      <th>SMA_200</th>\n      <th>VOL_SMA_20</th>\n    </tr>\n    <tr>\n      <th>date_open</th>\n      <th></th>\n      <th></th>\n      <th></th>\n      <th></th>\n      <th></th>\n      <th></th>\n      <th></th>\n      <th></th>\n      <th></th>\n      <th></th>\n      <th></th>\n      <th></th>\n      <th></th>\n      <th></th>\n      <th></th>\n      <th></th>\n    </tr>\n  </thead>\n  <tbody>\n    <tr>\n      <th>2018-12-31 16:05:00</th>\n      <td>3750.11</td>\n      <td>3752.26</td>\n      <td>3743.78</td>\n      <td>3748.61</td>\n      <td>73.484180</td>\n      <td>2018-12-31 16:10:00</td>\n      <td>3748.61</td>\n      <td>3750.11</td>\n      <td>3752.26</td>\n      <td>3743.78</td>\n      <td>73.484180</td>\n      <td>NaN</td>\n      <td>NaN</td>\n      <td>NaN</td>\n      <td>NaN</td>\n      <td>NaN</td>\n    </tr>\n    <tr>\n      <th>2018-12-31 16:10:00</th>\n      <td>3747.55</td>\n      <td>3753.95</td>\n      <td>3742.00</td>\n      <td>3745.71</td>\n      <td>49.545187</td>\n      <td>2018-12-31 16:15:00</td>\n      <td>3745.71</td>\n      <td>3747.55</td>\n      <td>3753.95</td>\n      <td>3742.00</td>\n      <td>49.545187</td>\n      <td>NaN</td>\n      <td>NaN</td>\n      <td>NaN</td>\n      <td>NaN</td>\n      <td>NaN</td>\n    </tr>\n    <tr>\n      <th>2018-12-31 16:15:00</th>\n      <td>3745.71</td>\n      <td>3747.13</td>\n      <td>3735.00</td>\n      <td>3739.62</td>\n      <td>151.770226</td>\n      <td>2018-12-31 16:20:00</td>\n      <td>3739.62</td>\n      <td>3745.71</td>\n      <td>3747.13</td>\n      <td>3735.00</td>\n      <td>151.770226</td>\n      <td>NaN</td>\n      <td>NaN</td>\n      <td>NaN</td>\n      <td>NaN</td>\n      <td>NaN</td>\n    </tr>\n    <tr>\n      <th>2018-12-31 16:20:00</th>\n      <td>3739.62</td>\n      <td>3745.00</td>\n      <td>3731.99</td>\n      <td>3742.30</td>\n      <td>107.421241</td>\n      <td>2018-12-31 16:25:00</td>\n      <td>3742.30</td>\n      <td>3739.62</td>\n      <td>3745.00</td>\n      <td>3731.99</td>\n      <td>107.421241</td>\n      <td>NaN</td>\n      <td>NaN</td>\n      <td>NaN</td>\n      <td>NaN</td>\n      <td>NaN</td>\n    </tr>\n    <tr>\n      <th>2018-12-31 16:25:00</th>\n      <td>3742.28</td>\n      <td>3745.00</td>\n      <td>3739.30</td>\n      <td>3741.95</td>\n      <td>43.780808</td>\n      <td>2018-12-31 16:30:00</td>\n      <td>3741.95</td>\n      <td>3742.28</td>\n      <td>3745.00</td>\n      <td>3739.30</td>\n      <td>43.780808</td>\n      <td>NaN</td>\n      <td>NaN</td>\n      <td>NaN</td>\n      <td>NaN</td>\n      <td>NaN</td>\n    </tr>\n    <tr>\n      <th>...</th>\n      <td>...</td>\n      <td>...</td>\n      <td>...</td>\n      <td>...</td>\n      <td>...</td>\n      <td>...</td>\n      <td>...</td>\n      <td>...</td>\n      <td>...</td>\n      <td>...</td>\n      <td>...</td>\n      <td>...</td>\n      <td>...</td>\n      <td>...</td>\n      <td>...</td>\n      <td>...</td>\n    </tr>\n    <tr>\n      <th>2023-06-05 12:50:00</th>\n      <td>26693.72</td>\n      <td>26698.57</td>\n      <td>26666.00</td>\n      <td>26675.09</td>\n      <td>201.401000</td>\n      <td>2023-06-05 12:55:00</td>\n      <td>26675.09</td>\n      <td>26693.72</td>\n      <td>26698.57</td>\n      <td>26666.00</td>\n      <td>201.401000</td>\n      <td>26735.064</td>\n      <td>26754.6250</td>\n      <td>26764.1824</td>\n      <td>26943.14745</td>\n      <td>101.233168</td>\n    </tr>\n    <tr>\n      <th>2023-06-05 12:55:00</th>\n      <td>26675.09</td>\n      <td>26691.23</td>\n      <td>26654.39</td>\n      <td>26690.76</td>\n      <td>230.297990</td>\n      <td>2023-06-05 13:00:00</td>\n      <td>26690.76</td>\n      <td>26675.09</td>\n      <td>26691.23</td>\n      <td>26654.39</td>\n      <td>230.297990</td>\n      <td>26726.576</td>\n      <td>26751.5890</td>\n      <td>26761.5870</td>\n      <td>26940.39120</td>\n      <td>108.097298</td>\n    </tr>\n    <tr>\n      <th>2023-06-05 13:00:00</th>\n      <td>26690.76</td>\n      <td>26694.36</td>\n      <td>26640.00</td>\n      <td>26676.17</td>\n      <td>232.488090</td>\n      <td>2023-06-05 13:05:00</td>\n      <td>26676.17</td>\n      <td>26690.76</td>\n      <td>26694.36</td>\n      <td>26640.00</td>\n      <td>232.488090</td>\n      <td>26716.970</td>\n      <td>26747.1015</td>\n      <td>26759.1588</td>\n      <td>26937.54605</td>\n      <td>117.775819</td>\n    </tr>\n    <tr>\n      <th>2023-06-05 13:05:00</th>\n      <td>26676.17</td>\n      <td>26689.98</td>\n      <td>26651.25</td>\n      <td>26689.98</td>\n      <td>136.695930</td>\n      <td>2023-06-05 13:10:00</td>\n      <td>26689.98</td>\n      <td>26676.17</td>\n      <td>26689.98</td>\n      <td>26651.25</td>\n      <td>136.695930</td>\n      <td>26707.706</td>\n      <td>26742.5475</td>\n      <td>26756.9856</td>\n      <td>26934.75805</td>\n      <td>118.854250</td>\n    </tr>\n    <tr>\n      <th>2023-06-05 13:10:00</th>\n      <td>26689.97</td>\n      <td>26732.86</td>\n      <td>26689.97</td>\n      <td>26724.37</td>\n      <td>131.740400</td>\n      <td>2023-06-05 13:15:00</td>\n      <td>26724.37</td>\n      <td>26689.97</td>\n      <td>26732.86</td>\n      <td>26689.97</td>\n      <td>131.740400</td>\n      <td>26705.586</td>\n      <td>26740.4730</td>\n      <td>26755.5488</td>\n      <td>26932.22535</td>\n      <td>120.686377</td>\n    </tr>\n  </tbody>\n</table>\n<p>464844 rows × 16 columns</p>\n</div>"
     },
     "execution_count": 11,
     "metadata": {},
     "output_type": "execute_result"
    }
   ],
   "source": [
    "df"
   ],
   "metadata": {
    "collapsed": false
   }
  },
  {
   "cell_type": "code",
   "execution_count": 6,
   "outputs": [],
   "source": [
    "def reward_function(history):\n",
    "    return np.log(history[\"portfolio_valuation\", -1] / history[\"portfolio_valuation\", -2]) #log (p_t / p_t-1 )"
   ],
   "metadata": {
    "collapsed": false
   }
  },
  {
   "cell_type": "code",
   "execution_count": null,
   "outputs": [],
   "source": [],
   "metadata": {
    "collapsed": false
   }
  },
  {
   "cell_type": "code",
   "execution_count": null,
   "outputs": [],
   "source": [],
   "metadata": {
    "collapsed": false
   }
  },
  {
   "cell_type": "code",
   "execution_count": 7,
   "outputs": [],
   "source": [
    "from gym_trading_env.environments import TradingEnv\n",
    "env = gym.make(\n",
    "        \"TradingEnv\",\n",
    "        name= \"BTCUSD\",\n",
    "        df = df,\n",
    "        windows= 15,\n",
    "        positions = [ -1, -0.5, 0, 0.5, 1, 1.5, 2], # From -1 (=SHORT), to +1 (=LONG)\n",
    "        initial_position = 'random', #Initial position\n",
    "        trading_fees = 0.01/100, # 0.01% per stock buy / sell\n",
    "        borrow_interest_rate= 0.0003/100, #per timestep (= 1h here)\n",
    "        reward_function = reward_function,\n",
    "        portfolio_initial_value = 1000, # in FIAT (here, USD)\n",
    "        # max_episode_duration = 500,\n",
    "    )"
   ],
   "metadata": {
    "collapsed": false
   }
  },
  {
   "cell_type": "code",
   "execution_count": 8,
   "outputs": [
    {
     "data": {
      "text/plain": "array([[ 3.7486101e+03,  3.7501101e+03,  3.7522600e+03,  3.7437800e+03,\n         7.3484177e+01,  0.0000000e+00,  0.0000000e+00],\n       [ 3.7457100e+03,  3.7475500e+03,  3.7539500e+03,  3.7420000e+03,\n         4.9545189e+01,  0.0000000e+00,  0.0000000e+00],\n       [ 3.7396201e+03,  3.7457100e+03,  3.7471299e+03,  3.7350000e+03,\n         1.5177023e+02,  0.0000000e+00,  0.0000000e+00],\n       [ 3.7423000e+03,  3.7396201e+03,  3.7450000e+03,  3.7319900e+03,\n         1.0742124e+02,  0.0000000e+00,  0.0000000e+00],\n       [ 3.7419500e+03,  3.7422800e+03,  3.7450000e+03,  3.7393000e+03,\n         4.3780807e+01,  0.0000000e+00,  0.0000000e+00],\n       [ 3.7433601e+03,  3.7431001e+03,  3.7440000e+03,  3.7370000e+03,\n         7.6896660e+01,  0.0000000e+00,  0.0000000e+00],\n       [ 3.7468501e+03,  3.7433701e+03,  3.7479900e+03,  3.7430200e+03,\n         8.1525940e+01,  0.0000000e+00,  0.0000000e+00],\n       [ 3.7434099e+03,  3.7456399e+03,  3.7468301e+03,  3.7402500e+03,\n         9.1665771e+01,  0.0000000e+00,  0.0000000e+00],\n       [ 3.7388701e+03,  3.7444900e+03,  3.7450901e+03,  3.7370200e+03,\n         8.1381973e+01,  0.0000000e+00,  0.0000000e+00],\n       [ 3.7341599e+03,  3.7394399e+03,  3.7394900e+03,  3.7250000e+03,\n         1.4487848e+02,  0.0000000e+00,  0.0000000e+00],\n       [ 3.7361699e+03,  3.7370200e+03,  3.7419399e+03,  3.7350100e+03,\n         5.1519508e+01,  0.0000000e+00,  0.0000000e+00],\n       [ 3.7400901e+03,  3.7375901e+03,  3.7420300e+03,  3.7366699e+03,\n         6.9330627e+01,  0.0000000e+00,  0.0000000e+00],\n       [ 3.7398799e+03,  3.7400901e+03,  3.7429199e+03,  3.7220000e+03,\n         2.3983459e+02,  0.0000000e+00,  0.0000000e+00],\n       [ 3.7313301e+03,  3.7391001e+03,  3.7416599e+03,  3.7303999e+03,\n         6.6667007e+01,  0.0000000e+00,  0.0000000e+00],\n       [ 3.7297500e+03,  3.7326499e+03,  3.7349700e+03,  3.7231299e+03,\n         5.1622940e+01, -5.0000000e-01, -5.0000000e-01]], dtype=float32)"
     },
     "execution_count": 8,
     "metadata": {},
     "output_type": "execute_result"
    }
   ],
   "source": [
    "observation, info = env.reset()\n",
    "observation"
   ],
   "metadata": {
    "collapsed": false
   }
  },
  {
   "cell_type": "code",
   "execution_count": 9,
   "outputs": [
    {
     "data": {
      "text/plain": "                         open      high       low     close      volume   \ndate_open                                                                 \n2018-12-31 16:05:00   3750.11   3752.26   3743.78   3748.61   73.484180  \\\n2018-12-31 16:10:00   3747.55   3753.95   3742.00   3745.71   49.545187   \n2018-12-31 16:15:00   3745.71   3747.13   3735.00   3739.62  151.770226   \n2018-12-31 16:20:00   3739.62   3745.00   3731.99   3742.30  107.421241   \n2018-12-31 16:25:00   3742.28   3745.00   3739.30   3741.95   43.780808   \n...                       ...       ...       ...       ...         ...   \n2023-06-05 12:50:00  26693.72  26698.57  26666.00  26675.09  201.401000   \n2023-06-05 12:55:00  26675.09  26691.23  26654.39  26690.76  230.297990   \n2023-06-05 13:00:00  26690.76  26694.36  26640.00  26676.17  232.488090   \n2023-06-05 13:05:00  26676.17  26689.98  26651.25  26689.98  136.695930   \n2023-06-05 13:10:00  26689.97  26732.86  26689.97  26724.37  131.740400   \n\n                             date_close  feature_close  feature_open   \ndate_open                                                              \n2018-12-31 16:05:00 2018-12-31 16:10:00        3748.61       3750.11  \\\n2018-12-31 16:10:00 2018-12-31 16:15:00        3745.71       3747.55   \n2018-12-31 16:15:00 2018-12-31 16:20:00        3739.62       3745.71   \n2018-12-31 16:20:00 2018-12-31 16:25:00        3742.30       3739.62   \n2018-12-31 16:25:00 2018-12-31 16:30:00        3741.95       3742.28   \n...                                 ...            ...           ...   \n2023-06-05 12:50:00 2023-06-05 12:55:00       26675.09      26693.72   \n2023-06-05 12:55:00 2023-06-05 13:00:00       26690.76      26675.09   \n2023-06-05 13:00:00 2023-06-05 13:05:00       26676.17      26690.76   \n2023-06-05 13:05:00 2023-06-05 13:10:00       26689.98      26676.17   \n2023-06-05 13:10:00 2023-06-05 13:15:00       26724.37      26689.97   \n\n                     feature_high  feature_low  feature_volume  \ndate_open                                                       \n2018-12-31 16:05:00       3752.26      3743.78       73.484180  \n2018-12-31 16:10:00       3753.95      3742.00       49.545187  \n2018-12-31 16:15:00       3747.13      3735.00      151.770226  \n2018-12-31 16:20:00       3745.00      3731.99      107.421241  \n2018-12-31 16:25:00       3745.00      3739.30       43.780808  \n...                           ...          ...             ...  \n2023-06-05 12:50:00      26698.57     26666.00      201.401000  \n2023-06-05 12:55:00      26691.23     26654.39      230.297990  \n2023-06-05 13:00:00      26694.36     26640.00      232.488090  \n2023-06-05 13:05:00      26689.98     26651.25      136.695930  \n2023-06-05 13:10:00      26732.86     26689.97      131.740400  \n\n[464844 rows x 11 columns]",
      "text/html": "<div>\n<style scoped>\n    .dataframe tbody tr th:only-of-type {\n        vertical-align: middle;\n    }\n\n    .dataframe tbody tr th {\n        vertical-align: top;\n    }\n\n    .dataframe thead th {\n        text-align: right;\n    }\n</style>\n<table border=\"1\" class=\"dataframe\">\n  <thead>\n    <tr style=\"text-align: right;\">\n      <th></th>\n      <th>open</th>\n      <th>high</th>\n      <th>low</th>\n      <th>close</th>\n      <th>volume</th>\n      <th>date_close</th>\n      <th>feature_close</th>\n      <th>feature_open</th>\n      <th>feature_high</th>\n      <th>feature_low</th>\n      <th>feature_volume</th>\n    </tr>\n    <tr>\n      <th>date_open</th>\n      <th></th>\n      <th></th>\n      <th></th>\n      <th></th>\n      <th></th>\n      <th></th>\n      <th></th>\n      <th></th>\n      <th></th>\n      <th></th>\n      <th></th>\n    </tr>\n  </thead>\n  <tbody>\n    <tr>\n      <th>2018-12-31 16:05:00</th>\n      <td>3750.11</td>\n      <td>3752.26</td>\n      <td>3743.78</td>\n      <td>3748.61</td>\n      <td>73.484180</td>\n      <td>2018-12-31 16:10:00</td>\n      <td>3748.61</td>\n      <td>3750.11</td>\n      <td>3752.26</td>\n      <td>3743.78</td>\n      <td>73.484180</td>\n    </tr>\n    <tr>\n      <th>2018-12-31 16:10:00</th>\n      <td>3747.55</td>\n      <td>3753.95</td>\n      <td>3742.00</td>\n      <td>3745.71</td>\n      <td>49.545187</td>\n      <td>2018-12-31 16:15:00</td>\n      <td>3745.71</td>\n      <td>3747.55</td>\n      <td>3753.95</td>\n      <td>3742.00</td>\n      <td>49.545187</td>\n    </tr>\n    <tr>\n      <th>2018-12-31 16:15:00</th>\n      <td>3745.71</td>\n      <td>3747.13</td>\n      <td>3735.00</td>\n      <td>3739.62</td>\n      <td>151.770226</td>\n      <td>2018-12-31 16:20:00</td>\n      <td>3739.62</td>\n      <td>3745.71</td>\n      <td>3747.13</td>\n      <td>3735.00</td>\n      <td>151.770226</td>\n    </tr>\n    <tr>\n      <th>2018-12-31 16:20:00</th>\n      <td>3739.62</td>\n      <td>3745.00</td>\n      <td>3731.99</td>\n      <td>3742.30</td>\n      <td>107.421241</td>\n      <td>2018-12-31 16:25:00</td>\n      <td>3742.30</td>\n      <td>3739.62</td>\n      <td>3745.00</td>\n      <td>3731.99</td>\n      <td>107.421241</td>\n    </tr>\n    <tr>\n      <th>2018-12-31 16:25:00</th>\n      <td>3742.28</td>\n      <td>3745.00</td>\n      <td>3739.30</td>\n      <td>3741.95</td>\n      <td>43.780808</td>\n      <td>2018-12-31 16:30:00</td>\n      <td>3741.95</td>\n      <td>3742.28</td>\n      <td>3745.00</td>\n      <td>3739.30</td>\n      <td>43.780808</td>\n    </tr>\n    <tr>\n      <th>...</th>\n      <td>...</td>\n      <td>...</td>\n      <td>...</td>\n      <td>...</td>\n      <td>...</td>\n      <td>...</td>\n      <td>...</td>\n      <td>...</td>\n      <td>...</td>\n      <td>...</td>\n      <td>...</td>\n    </tr>\n    <tr>\n      <th>2023-06-05 12:50:00</th>\n      <td>26693.72</td>\n      <td>26698.57</td>\n      <td>26666.00</td>\n      <td>26675.09</td>\n      <td>201.401000</td>\n      <td>2023-06-05 12:55:00</td>\n      <td>26675.09</td>\n      <td>26693.72</td>\n      <td>26698.57</td>\n      <td>26666.00</td>\n      <td>201.401000</td>\n    </tr>\n    <tr>\n      <th>2023-06-05 12:55:00</th>\n      <td>26675.09</td>\n      <td>26691.23</td>\n      <td>26654.39</td>\n      <td>26690.76</td>\n      <td>230.297990</td>\n      <td>2023-06-05 13:00:00</td>\n      <td>26690.76</td>\n      <td>26675.09</td>\n      <td>26691.23</td>\n      <td>26654.39</td>\n      <td>230.297990</td>\n    </tr>\n    <tr>\n      <th>2023-06-05 13:00:00</th>\n      <td>26690.76</td>\n      <td>26694.36</td>\n      <td>26640.00</td>\n      <td>26676.17</td>\n      <td>232.488090</td>\n      <td>2023-06-05 13:05:00</td>\n      <td>26676.17</td>\n      <td>26690.76</td>\n      <td>26694.36</td>\n      <td>26640.00</td>\n      <td>232.488090</td>\n    </tr>\n    <tr>\n      <th>2023-06-05 13:05:00</th>\n      <td>26676.17</td>\n      <td>26689.98</td>\n      <td>26651.25</td>\n      <td>26689.98</td>\n      <td>136.695930</td>\n      <td>2023-06-05 13:10:00</td>\n      <td>26689.98</td>\n      <td>26676.17</td>\n      <td>26689.98</td>\n      <td>26651.25</td>\n      <td>136.695930</td>\n    </tr>\n    <tr>\n      <th>2023-06-05 13:10:00</th>\n      <td>26689.97</td>\n      <td>26732.86</td>\n      <td>26689.97</td>\n      <td>26724.37</td>\n      <td>131.740400</td>\n      <td>2023-06-05 13:15:00</td>\n      <td>26724.37</td>\n      <td>26689.97</td>\n      <td>26732.86</td>\n      <td>26689.97</td>\n      <td>131.740400</td>\n    </tr>\n  </tbody>\n</table>\n<p>464844 rows × 11 columns</p>\n</div>"
     },
     "execution_count": 9,
     "metadata": {},
     "output_type": "execute_result"
    }
   ],
   "source": [
    "df"
   ],
   "metadata": {
    "collapsed": false
   }
  },
  {
   "cell_type": "code",
   "execution_count": 10,
   "outputs": [],
   "source": [
    "from gym_trading_env.environments import TradingEnv\n",
    "env2 = gym.make(\n",
    "        \"TradingEnv\",\n",
    "        name= \"BTCUSD\",\n",
    "        df = df,\n",
    "        windows= 15,\n",
    "        positions = [ -1, -0.5, 0, 0.5, 1, 1.5, 2], # From -1 (=SHORT), to +1 (=LONG)\n",
    "        initial_position = 'random', #Initial position\n",
    "        trading_fees = 0.01/100, # 0.01% per stock buy / sell\n",
    "        borrow_interest_rate= 0.0003/100, #per timestep (= 1h here)\n",
    "        reward_function = reward_function,\n",
    "        portfolio_initial_value = 1000, # in FIAT (here, USD)\n",
    "        # max_episode_duration = 500,\n",
    "    )\n",
    "env2 = gym.wrappers.NormalizeObservation(env)\n"
   ],
   "metadata": {
    "collapsed": false
   }
  },
  {
   "cell_type": "code",
   "execution_count": 12,
   "outputs": [
    {
     "data": {
      "text/plain": "array([[0.01      , 0.01      , 0.01      , 0.01      , 0.00999907,\n        0.        , 0.        ],\n       [0.01      , 0.01      , 0.01      , 0.01      , 0.00999796,\n        0.        , 0.        ],\n       [0.01      , 0.01      , 0.01      , 0.01      , 0.00999978,\n        0.        , 0.        ],\n       [0.01      , 0.01      , 0.01      , 0.01      , 0.00999957,\n        0.        , 0.        ],\n       [0.01      , 0.01      , 0.01      , 0.01      , 0.00999739,\n        0.        , 0.        ],\n       [0.01      , 0.01      , 0.01      , 0.01      , 0.00999915,\n        0.        , 0.        ],\n       [0.01      , 0.01      , 0.01      , 0.01      , 0.00999925,\n        0.        , 0.        ],\n       [0.01      , 0.01      , 0.01      , 0.01      , 0.0099994 ,\n        0.        , 0.        ],\n       [0.01      , 0.01      , 0.01      , 0.01      , 0.00999924,\n        0.        , 0.        ],\n       [0.01      , 0.01      , 0.01      , 0.01      , 0.00999976,\n        0.        , 0.        ],\n       [0.01      , 0.01      , 0.01      , 0.01      , 0.00999812,\n        0.        , 0.        ],\n       [0.01      , 0.01      , 0.01      , 0.01      , 0.00999896,\n        0.        , 0.        ],\n       [0.01      , 0.01      , 0.01      , 0.01      , 0.00999991,\n        0.        , 0.        ],\n       [0.01      , 0.01      , 0.01      , 0.01      , 0.00999887,\n        0.        , 0.        ],\n       [0.01      , 0.01      , 0.01      , 0.01      , 0.00999812,\n        0.00832025, 0.00832025]])"
     },
     "execution_count": 12,
     "metadata": {},
     "output_type": "execute_result"
    }
   ],
   "source": [
    "observation, info = env2.reset()\n",
    "observation"
   ],
   "metadata": {
    "collapsed": false
   }
  },
  {
   "cell_type": "code",
   "execution_count": null,
   "outputs": [],
   "source": [],
   "metadata": {
    "collapsed": false
   }
  },
  {
   "cell_type": "code",
   "execution_count": null,
   "outputs": [],
   "source": [],
   "metadata": {
    "collapsed": false
   }
  },
  {
   "cell_type": "code",
   "execution_count": null,
   "outputs": [],
   "source": [],
   "metadata": {
    "collapsed": false
   }
  }
 ],
 "metadata": {
  "kernelspec": {
   "display_name": "Python 3",
   "language": "python",
   "name": "python3"
  },
  "language_info": {
   "codemirror_mode": {
    "name": "ipython",
    "version": 2
   },
   "file_extension": ".py",
   "mimetype": "text/x-python",
   "name": "python",
   "nbconvert_exporter": "python",
   "pygments_lexer": "ipython2",
   "version": "2.7.6"
  }
 },
 "nbformat": 4,
 "nbformat_minor": 0
}
