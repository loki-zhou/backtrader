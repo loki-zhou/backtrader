{
 "cells": [
  {
   "cell_type": "code",
   "execution_count": 1,
   "metadata": {},
   "outputs": [],
   "source": [
    "import pandas as pd\n",
    "import numpy as np\n",
    "import glob\n",
    "from pathlib import Path\n",
    "from tqdm.auto import tqdm  \n",
    "\n",
    "from gym_trading_env.downloader import download\n",
    "import datetime"
   ]
  },
  {
   "cell_type": "code",
   "execution_count": 2,
   "metadata": {},
   "outputs": [],
   "source": [
    "download_dir = \"./data/raw\"\n",
    "processed_dir = \"./data/processed/\"\n",
    "\n",
    "TARGET_TIMEFRAME = pd.Timedelta(\"30m\")\n",
    "download_timeframe = \"5m\""
   ]
  },
  {
   "attachments": {},
   "cell_type": "markdown",
   "metadata": {},
   "source": [
    "# Download"
   ]
  },
  {
   "cell_type": "markdown",
   "source": [],
   "metadata": {
    "collapsed": false
   }
  },
  {
   "cell_type": "code",
   "execution_count": 5,
   "metadata": {},
   "outputs": [
    {
     "name": "stdout",
     "output_type": "stream",
     "text": [
      "BTC/USDT downloaded from binance and stored at ./data/raw/binance-BTCUSDT-5m.pkl\n",
      "ETH/USDT downloaded from binance and stored at ./data/raw/binance-ETHUSDT-5m.pkl\n"
     ]
    }
   ],
   "source": [
    "download(\n",
    "    exchange_names = [\"binance\"],\n",
    "    symbols= [\"BTC/USDT\", \"ETH/USDT\"],\n",
    "    timeframe= download_timeframe,\n",
    "    dir = download_dir,\n",
    "    since= datetime.datetime(year= 2019, month= 1, day=1),\n",
    "    # since= datetime.datetime(year= 2023, month= 6, day=1),\n",
    ")"
   ]
  },
  {
   "attachments": {},
   "cell_type": "markdown",
   "metadata": {},
   "source": [
    "# Process"
   ]
  },
  {
   "cell_type": "code",
   "execution_count": 4,
   "metadata": {},
   "outputs": [
    {
     "data": {
      "text/plain": "  0%|          | 0/2 [00:00<?, ?it/s]",
      "application/vnd.jupyter.widget-view+json": {
       "version_major": 2,
       "version_minor": 0,
       "model_id": "4cf7d8d9ce90406cb3c3274ed6fb76af"
      }
     },
     "metadata": {},
     "output_type": "display_data"
    }
   ],
   "source": [
    "pathes = glob.glob(f\"{download_dir}/*pkl\")\n",
    "for path in tqdm(pathes):\n",
    "    name = Path(path).name.split(\".\")[0]\n",
    "    df  = pd.read_pickle(path)\n",
    "    timeframe = (df.index - df.index.to_series().shift(1)).value_counts().index[0]\n",
    "    for offset in range(TARGET_TIMEFRAME//timeframe):\n",
    "        process_df = df.resample(\"30min\", offset= offset*timeframe).agg({\n",
    "            \"date_close\": lambda x : x[-1] if len(x) > 0 else np.nan,\n",
    "            \"open\": lambda x : x[0] if len(x) > 0 else np.nan,\n",
    "            \"high\": lambda x : max(x) if len(x) > 0 else np.nan,\n",
    "            \"low\": lambda x : min(x) if len(x) > 0 else np.nan,\n",
    "            \"close\": lambda x : x[-1] if len(x) > 0 else np.nan,\n",
    "            \"volume\": lambda x : sum(x) if len(x) > 0 else np.nan\n",
    "        })[1:-1]\n",
    "        process_df.dropna(inplace = True)\n",
    "        process_df.to_pickle(f\"./data/processed/{name}-{offset}.pkl\")"
   ]
  },
  {
   "cell_type": "code",
   "execution_count": null,
   "outputs": [],
   "source": [],
   "metadata": {
    "collapsed": false
   }
  }
 ],
 "metadata": {
  "kernelspec": {
   "display_name": "base",
   "language": "python",
   "name": "python3"
  },
  "language_info": {
   "codemirror_mode": {
    "name": "ipython",
    "version": 3
   },
   "file_extension": ".py",
   "mimetype": "text/x-python",
   "name": "python",
   "nbconvert_exporter": "python",
   "pygments_lexer": "ipython3",
   "version": "3.9.15"
  },
  "orig_nbformat": 4
 },
 "nbformat": 4,
 "nbformat_minor": 2
}
