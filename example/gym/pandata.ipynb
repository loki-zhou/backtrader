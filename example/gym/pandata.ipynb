{
 "cells": [
  {
   "cell_type": "code",
   "execution_count": 1,
   "metadata": {
    "collapsed": true
   },
   "outputs": [],
   "source": [
    "import pandas as pd\n",
    "import numpy as np\n",
    "import pandas_ta as ta"
   ]
  },
  {
   "cell_type": "code",
   "execution_count": 3,
   "outputs": [],
   "source": [
    "df = pd.read_pickle(\"./data/raw/binance-BTCUSDT-5m.pkl\")"
   ],
   "metadata": {
    "collapsed": false
   }
  },
  {
   "cell_type": "code",
   "execution_count": 4,
   "outputs": [
    {
     "data": {
      "text/plain": "                         open      high       low     close     volume   \ndate_open                                                                \n2023-06-05 12:50:00  26693.72  26698.57  26666.00  26675.09  201.40100  \\\n2023-06-05 12:55:00  26675.09  26691.23  26654.39  26690.76  230.29799   \n2023-06-05 13:00:00  26690.76  26694.36  26640.00  26676.17  232.48809   \n2023-06-05 13:05:00  26676.17  26689.98  26651.25  26689.98  136.69593   \n2023-06-05 13:10:00  26689.97  26732.86  26689.97  26724.37  131.74040   \n\n                             date_close  \ndate_open                                \n2023-06-05 12:50:00 2023-06-05 12:55:00  \n2023-06-05 12:55:00 2023-06-05 13:00:00  \n2023-06-05 13:00:00 2023-06-05 13:05:00  \n2023-06-05 13:05:00 2023-06-05 13:10:00  \n2023-06-05 13:10:00 2023-06-05 13:15:00  ",
      "text/html": "<div>\n<style scoped>\n    .dataframe tbody tr th:only-of-type {\n        vertical-align: middle;\n    }\n\n    .dataframe tbody tr th {\n        vertical-align: top;\n    }\n\n    .dataframe thead th {\n        text-align: right;\n    }\n</style>\n<table border=\"1\" class=\"dataframe\">\n  <thead>\n    <tr style=\"text-align: right;\">\n      <th></th>\n      <th>open</th>\n      <th>high</th>\n      <th>low</th>\n      <th>close</th>\n      <th>volume</th>\n      <th>date_close</th>\n    </tr>\n    <tr>\n      <th>date_open</th>\n      <th></th>\n      <th></th>\n      <th></th>\n      <th></th>\n      <th></th>\n      <th></th>\n    </tr>\n  </thead>\n  <tbody>\n    <tr>\n      <th>2023-06-05 12:50:00</th>\n      <td>26693.72</td>\n      <td>26698.57</td>\n      <td>26666.00</td>\n      <td>26675.09</td>\n      <td>201.40100</td>\n      <td>2023-06-05 12:55:00</td>\n    </tr>\n    <tr>\n      <th>2023-06-05 12:55:00</th>\n      <td>26675.09</td>\n      <td>26691.23</td>\n      <td>26654.39</td>\n      <td>26690.76</td>\n      <td>230.29799</td>\n      <td>2023-06-05 13:00:00</td>\n    </tr>\n    <tr>\n      <th>2023-06-05 13:00:00</th>\n      <td>26690.76</td>\n      <td>26694.36</td>\n      <td>26640.00</td>\n      <td>26676.17</td>\n      <td>232.48809</td>\n      <td>2023-06-05 13:05:00</td>\n    </tr>\n    <tr>\n      <th>2023-06-05 13:05:00</th>\n      <td>26676.17</td>\n      <td>26689.98</td>\n      <td>26651.25</td>\n      <td>26689.98</td>\n      <td>136.69593</td>\n      <td>2023-06-05 13:10:00</td>\n    </tr>\n    <tr>\n      <th>2023-06-05 13:10:00</th>\n      <td>26689.97</td>\n      <td>26732.86</td>\n      <td>26689.97</td>\n      <td>26724.37</td>\n      <td>131.74040</td>\n      <td>2023-06-05 13:15:00</td>\n    </tr>\n  </tbody>\n</table>\n</div>"
     },
     "execution_count": 4,
     "metadata": {},
     "output_type": "execute_result"
    }
   ],
   "source": [
    "df.tail()"
   ],
   "metadata": {
    "collapsed": false
   }
  },
  {
   "cell_type": "code",
   "execution_count": null,
   "outputs": [],
   "source": [
    "# df.ta.log_return(cumulative=True, append=True)\n",
    "# df.ta.percent_return(cumulative=True, append=True)"
   ],
   "metadata": {
    "collapsed": false
   }
  },
  {
   "cell_type": "code",
   "execution_count": 5,
   "outputs": [
    {
     "data": {
      "text/plain": "Index(['open', 'high', 'low', 'close', 'volume', 'date_close'], dtype='object')"
     },
     "execution_count": 5,
     "metadata": {},
     "output_type": "execute_result"
    }
   ],
   "source": [
    "df.columns"
   ],
   "metadata": {
    "collapsed": false
   }
  },
  {
   "cell_type": "code",
   "execution_count": 7,
   "outputs": [],
   "source": [
    "import copy\n",
    "df1 = copy.deepcopy(df)\n",
    "df2 = copy.deepcopy(df)\n",
    "df3 = copy.deepcopy(df)"
   ],
   "metadata": {
    "collapsed": false
   }
  },
  {
   "cell_type": "code",
   "execution_count": null,
   "outputs": [],
   "source": [
    "# (1) Create the Strategy\n",
    "# MyStrategy = ta.Strategy(\n",
    "#     name=\"DCSMA10\",\n",
    "#     ta=[\n",
    "#         {\"kind\": \"ohlc4\"},\n",
    "#         {\"kind\": \"sma\", \"length\": 10},\n",
    "#         {\"kind\": \"donchian\", \"lower_length\": 10, \"upper_length\": 15},\n",
    "#         {\"kind\": \"ema\", \"close\": \"OHLC4\", \"length\": 10, \"suffix\": \"OHLC4\"},\n",
    "#     ]\n",
    "# )\n",
    "#\n",
    "# # (2) Run the Strategy\n",
    "# df.ta.strategy(MyStrategy)\n",
    "\n",
    "# df.ta.strategy(ta.CommonStrategy)"
   ],
   "metadata": {
    "collapsed": false
   }
  },
  {
   "cell_type": "code",
   "execution_count": 8,
   "outputs": [],
   "source": [
    "# Create your own Custom Strategy\n",
    "CustomStrategy = ta.Strategy(\n",
    "    name=\"Momo and Volatility\",\n",
    "    description=\"SMA 50,200, BBANDS, RSI, MACD and Volume SMA 20\",\n",
    "    ta=[\n",
    "        {\"kind\": \"sma\", \"length\": 50,\"prefix\": \"feature\"},\n",
    "        {\"kind\": \"sma\", \"length\": 200, \"prefix\": \"feature\"},\n",
    "        {\"kind\": \"bbands\", \"length\": 20, \"prefix\": \"feature\"},\n",
    "        {\"kind\": \"rsi\", \"prefix\": \"feature\"},\n",
    "        {\"kind\": \"macd\", \"fast\": 8, \"slow\": 21, \"prefix\": \"feature\"},\n",
    "        {\"kind\": \"sma\", \"close\": \"volume\", \"length\": 20, \"prefix\": \"feature_VOLUME\"},\n",
    "    ]\n",
    ")\n",
    "# To run your \"Custom Strategy\"\n",
    "df.ta.strategy(CustomStrategy)"
   ],
   "metadata": {
    "collapsed": false
   }
  },
  {
   "cell_type": "code",
   "execution_count": 9,
   "outputs": [
    {
     "data": {
      "text/plain": "                         open      high       low     close     volume   \ndate_open                                                                \n2023-06-05 12:50:00  26693.72  26698.57  26666.00  26675.09  201.40100  \\\n2023-06-05 12:55:00  26675.09  26691.23  26654.39  26690.76  230.29799   \n2023-06-05 13:00:00  26690.76  26694.36  26640.00  26676.17  232.48809   \n2023-06-05 13:05:00  26676.17  26689.98  26651.25  26689.98  136.69593   \n2023-06-05 13:10:00  26689.97  26732.86  26689.97  26724.37  131.74040   \n\n                             date_close  feature_SMA_50  feature_SMA_200   \ndate_open                                                                  \n2023-06-05 12:50:00 2023-06-05 12:55:00      26764.1824      26943.14745  \\\n2023-06-05 12:55:00 2023-06-05 13:00:00      26761.5870      26940.39120   \n2023-06-05 13:00:00 2023-06-05 13:05:00      26759.1588      26937.54605   \n2023-06-05 13:05:00 2023-06-05 13:10:00      26756.9856      26934.75805   \n2023-06-05 13:10:00 2023-06-05 13:15:00      26755.5488      26932.22535   \n\n                     feature_BBL_20_2.0  feature_BBM_20_2.0   \ndate_open                                                     \n2023-06-05 12:50:00        26690.215187          26754.6250  \\\n2023-06-05 12:55:00        26681.406921          26751.5890   \n2023-06-05 13:00:00        26670.020353          26747.1015   \n2023-06-05 13:05:00        26663.297990          26742.5475   \n2023-06-05 13:10:00        26661.601837          26740.4730   \n\n                     feature_BBU_20_2.0  feature_BBB_20_2.0   \ndate_open                                                     \n2023-06-05 12:50:00        26819.034813            0.481485  \\\n2023-06-05 12:55:00        26821.771079            0.524695   \n2023-06-05 13:00:00        26824.182647            0.576370   \n2023-06-05 13:05:00        26821.797010            0.592685   \n2023-06-05 13:10:00        26819.344163            0.589901   \n\n                     feature_BBP_20_2.0  feature_RSI_14  feature_MACD_8_21_9   \ndate_open                                                                      \n2023-06-05 12:50:00           -0.117414       29.238474           -25.207065  \\\n2023-06-05 12:55:00            0.066634       35.035066           -26.402567   \n2023-06-05 13:00:00            0.039891       32.375770           -28.630346   \n2023-06-05 13:05:00            0.168342       37.232268           -27.813717   \n2023-06-05 13:10:00            0.397916       47.368760           -22.158551   \n\n                     feature_MACDh_8_21_9  feature_MACDs_8_21_9   \ndate_open                                                         \n2023-06-05 12:50:00            -13.831864            -11.375200  \\\n2023-06-05 12:55:00            -12.021894            -14.380674   \n2023-06-05 13:00:00            -11.399737            -17.230608   \n2023-06-05 13:05:00             -8.466487            -19.347230   \n2023-06-05 13:10:00             -2.249057            -19.909494   \n\n                     feature_VOLUME_SMA_20  \ndate_open                                   \n2023-06-05 12:50:00             101.233168  \n2023-06-05 12:55:00             108.097298  \n2023-06-05 13:00:00             117.775819  \n2023-06-05 13:05:00             118.854250  \n2023-06-05 13:10:00             120.686377  ",
      "text/html": "<div>\n<style scoped>\n    .dataframe tbody tr th:only-of-type {\n        vertical-align: middle;\n    }\n\n    .dataframe tbody tr th {\n        vertical-align: top;\n    }\n\n    .dataframe thead th {\n        text-align: right;\n    }\n</style>\n<table border=\"1\" class=\"dataframe\">\n  <thead>\n    <tr style=\"text-align: right;\">\n      <th></th>\n      <th>open</th>\n      <th>high</th>\n      <th>low</th>\n      <th>close</th>\n      <th>volume</th>\n      <th>date_close</th>\n      <th>feature_SMA_50</th>\n      <th>feature_SMA_200</th>\n      <th>feature_BBL_20_2.0</th>\n      <th>feature_BBM_20_2.0</th>\n      <th>feature_BBU_20_2.0</th>\n      <th>feature_BBB_20_2.0</th>\n      <th>feature_BBP_20_2.0</th>\n      <th>feature_RSI_14</th>\n      <th>feature_MACD_8_21_9</th>\n      <th>feature_MACDh_8_21_9</th>\n      <th>feature_MACDs_8_21_9</th>\n      <th>feature_VOLUME_SMA_20</th>\n    </tr>\n    <tr>\n      <th>date_open</th>\n      <th></th>\n      <th></th>\n      <th></th>\n      <th></th>\n      <th></th>\n      <th></th>\n      <th></th>\n      <th></th>\n      <th></th>\n      <th></th>\n      <th></th>\n      <th></th>\n      <th></th>\n      <th></th>\n      <th></th>\n      <th></th>\n      <th></th>\n      <th></th>\n    </tr>\n  </thead>\n  <tbody>\n    <tr>\n      <th>2023-06-05 12:50:00</th>\n      <td>26693.72</td>\n      <td>26698.57</td>\n      <td>26666.00</td>\n      <td>26675.09</td>\n      <td>201.40100</td>\n      <td>2023-06-05 12:55:00</td>\n      <td>26764.1824</td>\n      <td>26943.14745</td>\n      <td>26690.215187</td>\n      <td>26754.6250</td>\n      <td>26819.034813</td>\n      <td>0.481485</td>\n      <td>-0.117414</td>\n      <td>29.238474</td>\n      <td>-25.207065</td>\n      <td>-13.831864</td>\n      <td>-11.375200</td>\n      <td>101.233168</td>\n    </tr>\n    <tr>\n      <th>2023-06-05 12:55:00</th>\n      <td>26675.09</td>\n      <td>26691.23</td>\n      <td>26654.39</td>\n      <td>26690.76</td>\n      <td>230.29799</td>\n      <td>2023-06-05 13:00:00</td>\n      <td>26761.5870</td>\n      <td>26940.39120</td>\n      <td>26681.406921</td>\n      <td>26751.5890</td>\n      <td>26821.771079</td>\n      <td>0.524695</td>\n      <td>0.066634</td>\n      <td>35.035066</td>\n      <td>-26.402567</td>\n      <td>-12.021894</td>\n      <td>-14.380674</td>\n      <td>108.097298</td>\n    </tr>\n    <tr>\n      <th>2023-06-05 13:00:00</th>\n      <td>26690.76</td>\n      <td>26694.36</td>\n      <td>26640.00</td>\n      <td>26676.17</td>\n      <td>232.48809</td>\n      <td>2023-06-05 13:05:00</td>\n      <td>26759.1588</td>\n      <td>26937.54605</td>\n      <td>26670.020353</td>\n      <td>26747.1015</td>\n      <td>26824.182647</td>\n      <td>0.576370</td>\n      <td>0.039891</td>\n      <td>32.375770</td>\n      <td>-28.630346</td>\n      <td>-11.399737</td>\n      <td>-17.230608</td>\n      <td>117.775819</td>\n    </tr>\n    <tr>\n      <th>2023-06-05 13:05:00</th>\n      <td>26676.17</td>\n      <td>26689.98</td>\n      <td>26651.25</td>\n      <td>26689.98</td>\n      <td>136.69593</td>\n      <td>2023-06-05 13:10:00</td>\n      <td>26756.9856</td>\n      <td>26934.75805</td>\n      <td>26663.297990</td>\n      <td>26742.5475</td>\n      <td>26821.797010</td>\n      <td>0.592685</td>\n      <td>0.168342</td>\n      <td>37.232268</td>\n      <td>-27.813717</td>\n      <td>-8.466487</td>\n      <td>-19.347230</td>\n      <td>118.854250</td>\n    </tr>\n    <tr>\n      <th>2023-06-05 13:10:00</th>\n      <td>26689.97</td>\n      <td>26732.86</td>\n      <td>26689.97</td>\n      <td>26724.37</td>\n      <td>131.74040</td>\n      <td>2023-06-05 13:15:00</td>\n      <td>26755.5488</td>\n      <td>26932.22535</td>\n      <td>26661.601837</td>\n      <td>26740.4730</td>\n      <td>26819.344163</td>\n      <td>0.589901</td>\n      <td>0.397916</td>\n      <td>47.368760</td>\n      <td>-22.158551</td>\n      <td>-2.249057</td>\n      <td>-19.909494</td>\n      <td>120.686377</td>\n    </tr>\n  </tbody>\n</table>\n</div>"
     },
     "execution_count": 9,
     "metadata": {},
     "output_type": "execute_result"
    }
   ],
   "source": [
    "df.tail()"
   ],
   "metadata": {
    "collapsed": false
   }
  },
  {
   "cell_type": "code",
   "execution_count": 10,
   "outputs": [],
   "source": [
    "CustomStrategy = ta.Strategy(\n",
    "    name=\"Momo and Volatility\",\n",
    "    description=\"SMA 50,200, BBANDS, RSI, MACD and Volume SMA 20\",\n",
    "    ta=[\n",
    "        {\"kind\": \"ohlc4\"},\n",
    "        {\"kind\": \"sma\", \"length\": 50,\"prefix\": \"feature\"},\n",
    "        {\"kind\": \"sma\", \"length\": 200, \"prefix\": \"feature\"},\n",
    "        {\"kind\": \"bbands\", \"length\": 20, \"prefix\": \"feature\"},\n",
    "        {\"kind\": \"rsi\", \"prefix\": \"feature\"},\n",
    "        {\"kind\": \"macd\", \"fast\": 8, \"slow\": 21, \"prefix\": \"feature\"},\n",
    "        {\"kind\": \"sma\", \"close\": \"volume\", \"length\": 20, \"prefix\": \"feature_VOLUME\"},\n",
    "    ]\n",
    ")\n",
    "# To run your \"Custom Strategy\"\n",
    "df1.ta.strategy(CustomStrategy)"
   ],
   "metadata": {
    "collapsed": false
   }
  },
  {
   "cell_type": "code",
   "execution_count": 11,
   "outputs": [
    {
     "data": {
      "text/plain": "                         open      high       low     close     volume   \ndate_open                                                                \n2023-06-05 12:50:00  26693.72  26698.57  26666.00  26675.09  201.40100  \\\n2023-06-05 12:55:00  26675.09  26691.23  26654.39  26690.76  230.29799   \n2023-06-05 13:00:00  26690.76  26694.36  26640.00  26676.17  232.48809   \n2023-06-05 13:05:00  26676.17  26689.98  26651.25  26689.98  136.69593   \n2023-06-05 13:10:00  26689.97  26732.86  26689.97  26724.37  131.74040   \n\n                             date_close       OHLC4  feature_SMA_50   \ndate_open                                                             \n2023-06-05 12:50:00 2023-06-05 12:55:00  26683.3450      26764.1824  \\\n2023-06-05 12:55:00 2023-06-05 13:00:00  26677.8675      26761.5870   \n2023-06-05 13:00:00 2023-06-05 13:05:00  26675.3225      26759.1588   \n2023-06-05 13:05:00 2023-06-05 13:10:00  26676.8450      26756.9856   \n2023-06-05 13:10:00 2023-06-05 13:15:00  26709.2925      26755.5488   \n\n                     feature_SMA_200  feature_BBL_20_2.0  feature_BBM_20_2.0   \ndate_open                                                                      \n2023-06-05 12:50:00      26943.14745        26690.215187          26754.6250  \\\n2023-06-05 12:55:00      26940.39120        26681.406921          26751.5890   \n2023-06-05 13:00:00      26937.54605        26670.020353          26747.1015   \n2023-06-05 13:05:00      26934.75805        26663.297990          26742.5475   \n2023-06-05 13:10:00      26932.22535        26661.601837          26740.4730   \n\n                     feature_BBU_20_2.0  feature_BBB_20_2.0   \ndate_open                                                     \n2023-06-05 12:50:00        26819.034813            0.481485  \\\n2023-06-05 12:55:00        26821.771079            0.524695   \n2023-06-05 13:00:00        26824.182647            0.576370   \n2023-06-05 13:05:00        26821.797010            0.592685   \n2023-06-05 13:10:00        26819.344163            0.589901   \n\n                     feature_BBP_20_2.0  feature_RSI_14  feature_MACD_8_21_9   \ndate_open                                                                      \n2023-06-05 12:50:00           -0.117414       29.238474           -25.207065  \\\n2023-06-05 12:55:00            0.066634       35.035066           -26.402567   \n2023-06-05 13:00:00            0.039891       32.375770           -28.630346   \n2023-06-05 13:05:00            0.168342       37.232268           -27.813717   \n2023-06-05 13:10:00            0.397916       47.368760           -22.158551   \n\n                     feature_MACDh_8_21_9  feature_MACDs_8_21_9   \ndate_open                                                         \n2023-06-05 12:50:00            -13.831864            -11.375200  \\\n2023-06-05 12:55:00            -12.021894            -14.380674   \n2023-06-05 13:00:00            -11.399737            -17.230608   \n2023-06-05 13:05:00             -8.466487            -19.347230   \n2023-06-05 13:10:00             -2.249057            -19.909494   \n\n                     feature_VOLUME_SMA_20  \ndate_open                                   \n2023-06-05 12:50:00             101.233168  \n2023-06-05 12:55:00             108.097298  \n2023-06-05 13:00:00             117.775819  \n2023-06-05 13:05:00             118.854250  \n2023-06-05 13:10:00             120.686377  ",
      "text/html": "<div>\n<style scoped>\n    .dataframe tbody tr th:only-of-type {\n        vertical-align: middle;\n    }\n\n    .dataframe tbody tr th {\n        vertical-align: top;\n    }\n\n    .dataframe thead th {\n        text-align: right;\n    }\n</style>\n<table border=\"1\" class=\"dataframe\">\n  <thead>\n    <tr style=\"text-align: right;\">\n      <th></th>\n      <th>open</th>\n      <th>high</th>\n      <th>low</th>\n      <th>close</th>\n      <th>volume</th>\n      <th>date_close</th>\n      <th>OHLC4</th>\n      <th>feature_SMA_50</th>\n      <th>feature_SMA_200</th>\n      <th>feature_BBL_20_2.0</th>\n      <th>feature_BBM_20_2.0</th>\n      <th>feature_BBU_20_2.0</th>\n      <th>feature_BBB_20_2.0</th>\n      <th>feature_BBP_20_2.0</th>\n      <th>feature_RSI_14</th>\n      <th>feature_MACD_8_21_9</th>\n      <th>feature_MACDh_8_21_9</th>\n      <th>feature_MACDs_8_21_9</th>\n      <th>feature_VOLUME_SMA_20</th>\n    </tr>\n    <tr>\n      <th>date_open</th>\n      <th></th>\n      <th></th>\n      <th></th>\n      <th></th>\n      <th></th>\n      <th></th>\n      <th></th>\n      <th></th>\n      <th></th>\n      <th></th>\n      <th></th>\n      <th></th>\n      <th></th>\n      <th></th>\n      <th></th>\n      <th></th>\n      <th></th>\n      <th></th>\n      <th></th>\n    </tr>\n  </thead>\n  <tbody>\n    <tr>\n      <th>2023-06-05 12:50:00</th>\n      <td>26693.72</td>\n      <td>26698.57</td>\n      <td>26666.00</td>\n      <td>26675.09</td>\n      <td>201.40100</td>\n      <td>2023-06-05 12:55:00</td>\n      <td>26683.3450</td>\n      <td>26764.1824</td>\n      <td>26943.14745</td>\n      <td>26690.215187</td>\n      <td>26754.6250</td>\n      <td>26819.034813</td>\n      <td>0.481485</td>\n      <td>-0.117414</td>\n      <td>29.238474</td>\n      <td>-25.207065</td>\n      <td>-13.831864</td>\n      <td>-11.375200</td>\n      <td>101.233168</td>\n    </tr>\n    <tr>\n      <th>2023-06-05 12:55:00</th>\n      <td>26675.09</td>\n      <td>26691.23</td>\n      <td>26654.39</td>\n      <td>26690.76</td>\n      <td>230.29799</td>\n      <td>2023-06-05 13:00:00</td>\n      <td>26677.8675</td>\n      <td>26761.5870</td>\n      <td>26940.39120</td>\n      <td>26681.406921</td>\n      <td>26751.5890</td>\n      <td>26821.771079</td>\n      <td>0.524695</td>\n      <td>0.066634</td>\n      <td>35.035066</td>\n      <td>-26.402567</td>\n      <td>-12.021894</td>\n      <td>-14.380674</td>\n      <td>108.097298</td>\n    </tr>\n    <tr>\n      <th>2023-06-05 13:00:00</th>\n      <td>26690.76</td>\n      <td>26694.36</td>\n      <td>26640.00</td>\n      <td>26676.17</td>\n      <td>232.48809</td>\n      <td>2023-06-05 13:05:00</td>\n      <td>26675.3225</td>\n      <td>26759.1588</td>\n      <td>26937.54605</td>\n      <td>26670.020353</td>\n      <td>26747.1015</td>\n      <td>26824.182647</td>\n      <td>0.576370</td>\n      <td>0.039891</td>\n      <td>32.375770</td>\n      <td>-28.630346</td>\n      <td>-11.399737</td>\n      <td>-17.230608</td>\n      <td>117.775819</td>\n    </tr>\n    <tr>\n      <th>2023-06-05 13:05:00</th>\n      <td>26676.17</td>\n      <td>26689.98</td>\n      <td>26651.25</td>\n      <td>26689.98</td>\n      <td>136.69593</td>\n      <td>2023-06-05 13:10:00</td>\n      <td>26676.8450</td>\n      <td>26756.9856</td>\n      <td>26934.75805</td>\n      <td>26663.297990</td>\n      <td>26742.5475</td>\n      <td>26821.797010</td>\n      <td>0.592685</td>\n      <td>0.168342</td>\n      <td>37.232268</td>\n      <td>-27.813717</td>\n      <td>-8.466487</td>\n      <td>-19.347230</td>\n      <td>118.854250</td>\n    </tr>\n    <tr>\n      <th>2023-06-05 13:10:00</th>\n      <td>26689.97</td>\n      <td>26732.86</td>\n      <td>26689.97</td>\n      <td>26724.37</td>\n      <td>131.74040</td>\n      <td>2023-06-05 13:15:00</td>\n      <td>26709.2925</td>\n      <td>26755.5488</td>\n      <td>26932.22535</td>\n      <td>26661.601837</td>\n      <td>26740.4730</td>\n      <td>26819.344163</td>\n      <td>0.589901</td>\n      <td>0.397916</td>\n      <td>47.368760</td>\n      <td>-22.158551</td>\n      <td>-2.249057</td>\n      <td>-19.909494</td>\n      <td>120.686377</td>\n    </tr>\n  </tbody>\n</table>\n</div>"
     },
     "execution_count": 11,
     "metadata": {},
     "output_type": "execute_result"
    }
   ],
   "source": [
    "df1.tail()"
   ],
   "metadata": {
    "collapsed": false
   }
  },
  {
   "cell_type": "code",
   "execution_count": 12,
   "outputs": [],
   "source": [
    "CustomStrategy = ta.Strategy(\n",
    "    name=\"Momo and Volatility\",\n",
    "    description=\"SMA 50,200, BBANDS, RSI, MACD and Volume SMA 20\",\n",
    "    ta=[\n",
    "        {\"kind\": \"cdl_z\"},\n",
    "        {\"kind\": \"sma\", \"length\": 50,\"prefix\": \"feature\"},\n",
    "        {\"kind\": \"sma\", \"length\": 200, \"prefix\": \"feature\"},\n",
    "        {\"kind\": \"bbands\", \"length\": 20, \"prefix\": \"feature\"},\n",
    "        {\"kind\": \"rsi\", \"prefix\": \"feature\"},\n",
    "        {\"kind\": \"macd\", \"fast\": 8, \"slow\": 21, \"prefix\": \"feature\"},\n",
    "        {\"kind\": \"sma\", \"close\": \"volume\", \"length\": 20, \"prefix\": \"feature_VOLUME\"},\n",
    "    ]\n",
    ")\n",
    "# To run your \"Custom Strategy\"\n",
    "df2.ta.strategy(CustomStrategy)"
   ],
   "metadata": {
    "collapsed": false
   }
  },
  {
   "cell_type": "code",
   "execution_count": 13,
   "outputs": [
    {
     "data": {
      "text/plain": "                         open      high       low     close     volume   \ndate_open                                                                \n2023-06-05 12:50:00  26693.72  26698.57  26666.00  26675.09  201.40100  \\\n2023-06-05 12:55:00  26675.09  26691.23  26654.39  26690.76  230.29799   \n2023-06-05 13:00:00  26690.76  26694.36  26640.00  26676.17  232.48809   \n2023-06-05 13:05:00  26676.17  26689.98  26651.25  26689.98  136.69593   \n2023-06-05 13:10:00  26689.97  26732.86  26689.97  26724.37  131.74040   \n\n                             date_close  open_Z_30_1  high_Z_30_1  low_Z_30_1   \ndate_open                                                                       \n2023-06-05 12:50:00 2023-06-05 12:55:00    -2.449809    -2.851266   -2.175664  \\\n2023-06-05 12:55:00 2023-06-05 13:00:00    -2.694046    -2.688976   -2.240789   \n2023-06-05 13:00:00 2023-06-05 13:05:00    -1.955497    -2.251786   -2.314167   \n2023-06-05 13:05:00 2023-06-05 13:10:00    -2.156602    -2.131454   -1.843063   \n2023-06-05 13:10:00 2023-06-05 13:15:00    -1.632389    -0.728781   -0.867181   \n\n                     close_Z_30_1  ...  feature_BBL_20_2.0   \ndate_open                          ...                       \n2023-06-05 12:50:00     -2.694092  ...        26690.215187  \\\n2023-06-05 12:55:00     -1.955533  ...        26681.406921   \n2023-06-05 13:00:00     -2.156630  ...        26670.020353   \n2023-06-05 13:05:00     -1.632157  ...        26663.297990   \n2023-06-05 13:10:00     -0.599986  ...        26661.601837   \n\n                     feature_BBM_20_2.0  feature_BBU_20_2.0   \ndate_open                                                     \n2023-06-05 12:50:00          26754.6250        26819.034813  \\\n2023-06-05 12:55:00          26751.5890        26821.771079   \n2023-06-05 13:00:00          26747.1015        26824.182647   \n2023-06-05 13:05:00          26742.5475        26821.797010   \n2023-06-05 13:10:00          26740.4730        26819.344163   \n\n                     feature_BBB_20_2.0  feature_BBP_20_2.0  feature_RSI_14   \ndate_open                                                                     \n2023-06-05 12:50:00            0.481485           -0.117414       29.238474  \\\n2023-06-05 12:55:00            0.524695            0.066634       35.035066   \n2023-06-05 13:00:00            0.576370            0.039891       32.375770   \n2023-06-05 13:05:00            0.592685            0.168342       37.232268   \n2023-06-05 13:10:00            0.589901            0.397916       47.368760   \n\n                     feature_MACD_8_21_9  feature_MACDh_8_21_9   \ndate_open                                                        \n2023-06-05 12:50:00           -25.207065            -13.831864  \\\n2023-06-05 12:55:00           -26.402567            -12.021894   \n2023-06-05 13:00:00           -28.630346            -11.399737   \n2023-06-05 13:05:00           -27.813717             -8.466487   \n2023-06-05 13:10:00           -22.158551             -2.249057   \n\n                     feature_MACDs_8_21_9  feature_VOLUME_SMA_20  \ndate_open                                                         \n2023-06-05 12:50:00            -11.375200             101.233168  \n2023-06-05 12:55:00            -14.380674             108.097298  \n2023-06-05 13:00:00            -17.230608             117.775819  \n2023-06-05 13:05:00            -19.347230             118.854250  \n2023-06-05 13:10:00            -19.909494             120.686377  \n\n[5 rows x 22 columns]",
      "text/html": "<div>\n<style scoped>\n    .dataframe tbody tr th:only-of-type {\n        vertical-align: middle;\n    }\n\n    .dataframe tbody tr th {\n        vertical-align: top;\n    }\n\n    .dataframe thead th {\n        text-align: right;\n    }\n</style>\n<table border=\"1\" class=\"dataframe\">\n  <thead>\n    <tr style=\"text-align: right;\">\n      <th></th>\n      <th>open</th>\n      <th>high</th>\n      <th>low</th>\n      <th>close</th>\n      <th>volume</th>\n      <th>date_close</th>\n      <th>open_Z_30_1</th>\n      <th>high_Z_30_1</th>\n      <th>low_Z_30_1</th>\n      <th>close_Z_30_1</th>\n      <th>...</th>\n      <th>feature_BBL_20_2.0</th>\n      <th>feature_BBM_20_2.0</th>\n      <th>feature_BBU_20_2.0</th>\n      <th>feature_BBB_20_2.0</th>\n      <th>feature_BBP_20_2.0</th>\n      <th>feature_RSI_14</th>\n      <th>feature_MACD_8_21_9</th>\n      <th>feature_MACDh_8_21_9</th>\n      <th>feature_MACDs_8_21_9</th>\n      <th>feature_VOLUME_SMA_20</th>\n    </tr>\n    <tr>\n      <th>date_open</th>\n      <th></th>\n      <th></th>\n      <th></th>\n      <th></th>\n      <th></th>\n      <th></th>\n      <th></th>\n      <th></th>\n      <th></th>\n      <th></th>\n      <th></th>\n      <th></th>\n      <th></th>\n      <th></th>\n      <th></th>\n      <th></th>\n      <th></th>\n      <th></th>\n      <th></th>\n      <th></th>\n      <th></th>\n    </tr>\n  </thead>\n  <tbody>\n    <tr>\n      <th>2023-06-05 12:50:00</th>\n      <td>26693.72</td>\n      <td>26698.57</td>\n      <td>26666.00</td>\n      <td>26675.09</td>\n      <td>201.40100</td>\n      <td>2023-06-05 12:55:00</td>\n      <td>-2.449809</td>\n      <td>-2.851266</td>\n      <td>-2.175664</td>\n      <td>-2.694092</td>\n      <td>...</td>\n      <td>26690.215187</td>\n      <td>26754.6250</td>\n      <td>26819.034813</td>\n      <td>0.481485</td>\n      <td>-0.117414</td>\n      <td>29.238474</td>\n      <td>-25.207065</td>\n      <td>-13.831864</td>\n      <td>-11.375200</td>\n      <td>101.233168</td>\n    </tr>\n    <tr>\n      <th>2023-06-05 12:55:00</th>\n      <td>26675.09</td>\n      <td>26691.23</td>\n      <td>26654.39</td>\n      <td>26690.76</td>\n      <td>230.29799</td>\n      <td>2023-06-05 13:00:00</td>\n      <td>-2.694046</td>\n      <td>-2.688976</td>\n      <td>-2.240789</td>\n      <td>-1.955533</td>\n      <td>...</td>\n      <td>26681.406921</td>\n      <td>26751.5890</td>\n      <td>26821.771079</td>\n      <td>0.524695</td>\n      <td>0.066634</td>\n      <td>35.035066</td>\n      <td>-26.402567</td>\n      <td>-12.021894</td>\n      <td>-14.380674</td>\n      <td>108.097298</td>\n    </tr>\n    <tr>\n      <th>2023-06-05 13:00:00</th>\n      <td>26690.76</td>\n      <td>26694.36</td>\n      <td>26640.00</td>\n      <td>26676.17</td>\n      <td>232.48809</td>\n      <td>2023-06-05 13:05:00</td>\n      <td>-1.955497</td>\n      <td>-2.251786</td>\n      <td>-2.314167</td>\n      <td>-2.156630</td>\n      <td>...</td>\n      <td>26670.020353</td>\n      <td>26747.1015</td>\n      <td>26824.182647</td>\n      <td>0.576370</td>\n      <td>0.039891</td>\n      <td>32.375770</td>\n      <td>-28.630346</td>\n      <td>-11.399737</td>\n      <td>-17.230608</td>\n      <td>117.775819</td>\n    </tr>\n    <tr>\n      <th>2023-06-05 13:05:00</th>\n      <td>26676.17</td>\n      <td>26689.98</td>\n      <td>26651.25</td>\n      <td>26689.98</td>\n      <td>136.69593</td>\n      <td>2023-06-05 13:10:00</td>\n      <td>-2.156602</td>\n      <td>-2.131454</td>\n      <td>-1.843063</td>\n      <td>-1.632157</td>\n      <td>...</td>\n      <td>26663.297990</td>\n      <td>26742.5475</td>\n      <td>26821.797010</td>\n      <td>0.592685</td>\n      <td>0.168342</td>\n      <td>37.232268</td>\n      <td>-27.813717</td>\n      <td>-8.466487</td>\n      <td>-19.347230</td>\n      <td>118.854250</td>\n    </tr>\n    <tr>\n      <th>2023-06-05 13:10:00</th>\n      <td>26689.97</td>\n      <td>26732.86</td>\n      <td>26689.97</td>\n      <td>26724.37</td>\n      <td>131.74040</td>\n      <td>2023-06-05 13:15:00</td>\n      <td>-1.632389</td>\n      <td>-0.728781</td>\n      <td>-0.867181</td>\n      <td>-0.599986</td>\n      <td>...</td>\n      <td>26661.601837</td>\n      <td>26740.4730</td>\n      <td>26819.344163</td>\n      <td>0.589901</td>\n      <td>0.397916</td>\n      <td>47.368760</td>\n      <td>-22.158551</td>\n      <td>-2.249057</td>\n      <td>-19.909494</td>\n      <td>120.686377</td>\n    </tr>\n  </tbody>\n</table>\n<p>5 rows × 22 columns</p>\n</div>"
     },
     "execution_count": 13,
     "metadata": {},
     "output_type": "execute_result"
    }
   ],
   "source": [
    "df2.tail()"
   ],
   "metadata": {
    "collapsed": false
   }
  },
  {
   "cell_type": "code",
   "execution_count": null,
   "outputs": [],
   "source": [
    "# df.ta.strategy(fast=10, slow=50, verbose=True)"
   ],
   "metadata": {
    "collapsed": false
   }
  },
  {
   "cell_type": "code",
   "execution_count": 8,
   "outputs": [
    {
     "name": "stdout",
     "output_type": "stream",
     "text": [
      "Help on function cdl_z in module pandas_ta.candles.cdl_z:\n",
      "\n",
      "cdl_z(open_, high, low, close, length=None, full=None, ddof=None, offset=None, **kwargs)\n",
      "    Candle Type: Z\n",
      "    \n",
      "    Normalizes OHLC Candles with a rolling Z Score.\n",
      "    \n",
      "    Source: Kevin Johnson\n",
      "    \n",
      "    Calculation:\n",
      "        Default values:\n",
      "            length=30, full=False, ddof=1\n",
      "        Z = ZSCORE\n",
      "    \n",
      "        open  = Z( open, length, ddof)\n",
      "        high  = Z( high, length, ddof)\n",
      "        low   = Z(  low, length, ddof)\n",
      "        close = Z(close, length, ddof)\n",
      "    \n",
      "    Args:\n",
      "        open_ (pd.Series): Series of 'open's\n",
      "        high (pd.Series): Series of 'high's\n",
      "        low (pd.Series): Series of 'low's\n",
      "        close (pd.Series): Series of 'close's\n",
      "        length (int): The period. Default: 10\n",
      "    \n",
      "    Kwargs:\n",
      "        naive (bool, optional): If True, prefills potential Doji less than\n",
      "            the length if less than a percentage of it's high-low range.\n",
      "            Default: False\n",
      "        fillna (value, optional): pd.DataFrame.fillna(value)\n",
      "        fill_method (value, optional): Type of fill method\n",
      "    \n",
      "    Returns:\n",
      "        pd.Series: CDL_DOJI column.\n",
      "\n"
     ]
    }
   ],
   "source": [
    "help(ta.cdl_z)"
   ],
   "metadata": {
    "collapsed": false
   }
  },
  {
   "cell_type": "code",
   "execution_count": 9,
   "outputs": [],
   "source": [
    "#df = df.ta.cdl_z()"
   ],
   "metadata": {
    "collapsed": false
   }
  },
  {
   "cell_type": "code",
   "execution_count": 12,
   "outputs": [],
   "source": [
    "#df = df.ta.ha()"
   ],
   "metadata": {
    "collapsed": false
   }
  },
  {
   "cell_type": "code",
   "execution_count": 13,
   "outputs": [
    {
     "data": {
      "text/plain": "                           HA_open   HA_high    HA_low  HA_close\ndate_open                                                       \n2023-06-05 12:50:00+00:00      NaN -2.542708 -2.542708 -2.542708\n2023-06-05 12:55:00+00:00      NaN -2.394836 -2.394836 -2.394836\n2023-06-05 13:00:00+00:00      NaN -2.169520 -2.314167 -2.169520\n2023-06-05 13:05:00+00:00      NaN -1.940819 -1.940819 -1.940819\n2023-06-05 13:10:00+00:00      NaN -0.728781 -0.957084 -0.957084",
      "text/html": "<div>\n<style scoped>\n    .dataframe tbody tr th:only-of-type {\n        vertical-align: middle;\n    }\n\n    .dataframe tbody tr th {\n        vertical-align: top;\n    }\n\n    .dataframe thead th {\n        text-align: right;\n    }\n</style>\n<table border=\"1\" class=\"dataframe\">\n  <thead>\n    <tr style=\"text-align: right;\">\n      <th></th>\n      <th>HA_open</th>\n      <th>HA_high</th>\n      <th>HA_low</th>\n      <th>HA_close</th>\n    </tr>\n    <tr>\n      <th>date_open</th>\n      <th></th>\n      <th></th>\n      <th></th>\n      <th></th>\n    </tr>\n  </thead>\n  <tbody>\n    <tr>\n      <th>2023-06-05 12:50:00+00:00</th>\n      <td>NaN</td>\n      <td>-2.542708</td>\n      <td>-2.542708</td>\n      <td>-2.542708</td>\n    </tr>\n    <tr>\n      <th>2023-06-05 12:55:00+00:00</th>\n      <td>NaN</td>\n      <td>-2.394836</td>\n      <td>-2.394836</td>\n      <td>-2.394836</td>\n    </tr>\n    <tr>\n      <th>2023-06-05 13:00:00+00:00</th>\n      <td>NaN</td>\n      <td>-2.169520</td>\n      <td>-2.314167</td>\n      <td>-2.169520</td>\n    </tr>\n    <tr>\n      <th>2023-06-05 13:05:00+00:00</th>\n      <td>NaN</td>\n      <td>-1.940819</td>\n      <td>-1.940819</td>\n      <td>-1.940819</td>\n    </tr>\n    <tr>\n      <th>2023-06-05 13:10:00+00:00</th>\n      <td>NaN</td>\n      <td>-0.728781</td>\n      <td>-0.957084</td>\n      <td>-0.957084</td>\n    </tr>\n  </tbody>\n</table>\n</div>"
     },
     "execution_count": 13,
     "metadata": {},
     "output_type": "execute_result"
    }
   ],
   "source": [
    "#df.tail()"
   ],
   "metadata": {
    "collapsed": false
   }
  },
  {
   "cell_type": "code",
   "execution_count": 14,
   "outputs": [],
   "source": [
    "df = df.ta.cdl_pattern(name=\"doji\")"
   ],
   "metadata": {
    "collapsed": false
   }
  },
  {
   "cell_type": "code",
   "execution_count": 15,
   "outputs": [
    {
     "data": {
      "text/plain": "                     CDL_DOJI_10_0.1\ndate_open                           \n2018-12-31 16:05:00              0.0\n2018-12-31 16:10:00              0.0\n2018-12-31 16:15:00              0.0\n2018-12-31 16:20:00              0.0\n2018-12-31 16:25:00              0.0\n...                              ...\n2023-06-05 12:50:00              0.0\n2023-06-05 12:55:00              0.0\n2023-06-05 13:00:00              0.0\n2023-06-05 13:05:00              0.0\n2023-06-05 13:10:00              0.0\n\n[464844 rows x 1 columns]",
      "text/html": "<div>\n<style scoped>\n    .dataframe tbody tr th:only-of-type {\n        vertical-align: middle;\n    }\n\n    .dataframe tbody tr th {\n        vertical-align: top;\n    }\n\n    .dataframe thead th {\n        text-align: right;\n    }\n</style>\n<table border=\"1\" class=\"dataframe\">\n  <thead>\n    <tr style=\"text-align: right;\">\n      <th></th>\n      <th>CDL_DOJI_10_0.1</th>\n    </tr>\n    <tr>\n      <th>date_open</th>\n      <th></th>\n    </tr>\n  </thead>\n  <tbody>\n    <tr>\n      <th>2018-12-31 16:05:00</th>\n      <td>0.0</td>\n    </tr>\n    <tr>\n      <th>2018-12-31 16:10:00</th>\n      <td>0.0</td>\n    </tr>\n    <tr>\n      <th>2018-12-31 16:15:00</th>\n      <td>0.0</td>\n    </tr>\n    <tr>\n      <th>2018-12-31 16:20:00</th>\n      <td>0.0</td>\n    </tr>\n    <tr>\n      <th>2018-12-31 16:25:00</th>\n      <td>0.0</td>\n    </tr>\n    <tr>\n      <th>...</th>\n      <td>...</td>\n    </tr>\n    <tr>\n      <th>2023-06-05 12:50:00</th>\n      <td>0.0</td>\n    </tr>\n    <tr>\n      <th>2023-06-05 12:55:00</th>\n      <td>0.0</td>\n    </tr>\n    <tr>\n      <th>2023-06-05 13:00:00</th>\n      <td>0.0</td>\n    </tr>\n    <tr>\n      <th>2023-06-05 13:05:00</th>\n      <td>0.0</td>\n    </tr>\n    <tr>\n      <th>2023-06-05 13:10:00</th>\n      <td>0.0</td>\n    </tr>\n  </tbody>\n</table>\n<p>464844 rows × 1 columns</p>\n</div>"
     },
     "execution_count": 15,
     "metadata": {},
     "output_type": "execute_result"
    }
   ],
   "source": [
    "df"
   ],
   "metadata": {
    "collapsed": false
   }
  },
  {
   "cell_type": "code",
   "execution_count": 16,
   "outputs": [
    {
     "data": {
      "text/plain": "                         open      high       low     close      volume   \ndate_open                                                                 \n2018-12-31 16:05:00   3750.11   3752.26   3743.78   3748.61   73.484180  \\\n2018-12-31 16:10:00   3747.55   3753.95   3742.00   3745.71   49.545187   \n2018-12-31 16:15:00   3745.71   3747.13   3735.00   3739.62  151.770226   \n2018-12-31 16:20:00   3739.62   3745.00   3731.99   3742.30  107.421241   \n2018-12-31 16:25:00   3742.28   3745.00   3739.30   3741.95   43.780808   \n...                       ...       ...       ...       ...         ...   \n2023-06-05 12:50:00  26693.72  26698.57  26666.00  26675.09  201.401000   \n2023-06-05 12:55:00  26675.09  26691.23  26654.39  26690.76  230.297990   \n2023-06-05 13:00:00  26690.76  26694.36  26640.00  26676.17  232.488090   \n2023-06-05 13:05:00  26676.17  26689.98  26651.25  26689.98  136.695930   \n2023-06-05 13:10:00  26689.97  26732.86  26689.97  26724.37  131.740400   \n\n                             date_close  open_Z_30_1  high_Z_30_1  low_Z_30_1   \ndate_open                                                                       \n2018-12-31 16:05:00 2018-12-31 16:10:00          NaN          NaN         NaN  \\\n2018-12-31 16:10:00 2018-12-31 16:15:00          NaN          NaN         NaN   \n2018-12-31 16:15:00 2018-12-31 16:20:00          NaN          NaN         NaN   \n2018-12-31 16:20:00 2018-12-31 16:25:00          NaN          NaN         NaN   \n2018-12-31 16:25:00 2018-12-31 16:30:00          NaN          NaN         NaN   \n...                                 ...          ...          ...         ...   \n2023-06-05 12:50:00 2023-06-05 12:55:00    -2.449809    -2.851266   -2.175664   \n2023-06-05 12:55:00 2023-06-05 13:00:00    -2.694046    -2.688976   -2.240789   \n2023-06-05 13:00:00 2023-06-05 13:05:00    -1.955497    -2.251786   -2.314167   \n2023-06-05 13:05:00 2023-06-05 13:10:00    -2.156602    -2.131454   -1.843063   \n2023-06-05 13:10:00 2023-06-05 13:15:00    -1.632389    -0.728781   -0.867181   \n\n                     close_Z_30_1  ...  feature_BBL_20_2.0   \ndate_open                          ...                       \n2018-12-31 16:05:00           NaN  ...                 NaN  \\\n2018-12-31 16:10:00           NaN  ...                 NaN   \n2018-12-31 16:15:00           NaN  ...                 NaN   \n2018-12-31 16:20:00           NaN  ...                 NaN   \n2018-12-31 16:25:00           NaN  ...                 NaN   \n...                           ...  ...                 ...   \n2023-06-05 12:50:00     -2.694092  ...        26690.215187   \n2023-06-05 12:55:00     -1.955533  ...        26681.406921   \n2023-06-05 13:00:00     -2.156630  ...        26670.020353   \n2023-06-05 13:05:00     -1.632157  ...        26663.297990   \n2023-06-05 13:10:00     -0.599986  ...        26661.601837   \n\n                     feature_BBM_20_2.0  feature_BBU_20_2.0   \ndate_open                                                     \n2018-12-31 16:05:00                 NaN                 NaN  \\\n2018-12-31 16:10:00                 NaN                 NaN   \n2018-12-31 16:15:00                 NaN                 NaN   \n2018-12-31 16:20:00                 NaN                 NaN   \n2018-12-31 16:25:00                 NaN                 NaN   \n...                                 ...                 ...   \n2023-06-05 12:50:00          26754.6250        26819.034813   \n2023-06-05 12:55:00          26751.5890        26821.771079   \n2023-06-05 13:00:00          26747.1015        26824.182647   \n2023-06-05 13:05:00          26742.5475        26821.797010   \n2023-06-05 13:10:00          26740.4730        26819.344163   \n\n                     feature_BBB_20_2.0  feature_BBP_20_2.0  feature_RSI_14   \ndate_open                                                                     \n2018-12-31 16:05:00                 NaN                 NaN             NaN  \\\n2018-12-31 16:10:00                 NaN                 NaN             NaN   \n2018-12-31 16:15:00                 NaN                 NaN             NaN   \n2018-12-31 16:20:00                 NaN                 NaN             NaN   \n2018-12-31 16:25:00                 NaN                 NaN             NaN   \n...                                 ...                 ...             ...   \n2023-06-05 12:50:00            0.481485           -0.117414       29.238474   \n2023-06-05 12:55:00            0.524695            0.066634       35.035066   \n2023-06-05 13:00:00            0.576370            0.039891       32.375770   \n2023-06-05 13:05:00            0.592685            0.168342       37.232268   \n2023-06-05 13:10:00            0.589901            0.397916       47.368760   \n\n                     feature_MACD_8_21_9  feature_MACDh_8_21_9   \ndate_open                                                        \n2018-12-31 16:05:00                  NaN                   NaN  \\\n2018-12-31 16:10:00                  NaN                   NaN   \n2018-12-31 16:15:00                  NaN                   NaN   \n2018-12-31 16:20:00                  NaN                   NaN   \n2018-12-31 16:25:00                  NaN                   NaN   \n...                                  ...                   ...   \n2023-06-05 12:50:00           -25.207065            -13.831864   \n2023-06-05 12:55:00           -26.402567            -12.021894   \n2023-06-05 13:00:00           -28.630346            -11.399737   \n2023-06-05 13:05:00           -27.813717             -8.466487   \n2023-06-05 13:10:00           -22.158551             -2.249057   \n\n                     feature_MACDs_8_21_9  feature_VOLUME_SMA_20  \ndate_open                                                         \n2018-12-31 16:05:00                   NaN                    NaN  \n2018-12-31 16:10:00                   NaN                    NaN  \n2018-12-31 16:15:00                   NaN                    NaN  \n2018-12-31 16:20:00                   NaN                    NaN  \n2018-12-31 16:25:00                   NaN                    NaN  \n...                                   ...                    ...  \n2023-06-05 12:50:00            -11.375200             101.233168  \n2023-06-05 12:55:00            -14.380674             108.097298  \n2023-06-05 13:00:00            -17.230608             117.775819  \n2023-06-05 13:05:00            -19.347230             118.854250  \n2023-06-05 13:10:00            -19.909494             120.686377  \n\n[464844 rows x 22 columns]",
      "text/html": "<div>\n<style scoped>\n    .dataframe tbody tr th:only-of-type {\n        vertical-align: middle;\n    }\n\n    .dataframe tbody tr th {\n        vertical-align: top;\n    }\n\n    .dataframe thead th {\n        text-align: right;\n    }\n</style>\n<table border=\"1\" class=\"dataframe\">\n  <thead>\n    <tr style=\"text-align: right;\">\n      <th></th>\n      <th>open</th>\n      <th>high</th>\n      <th>low</th>\n      <th>close</th>\n      <th>volume</th>\n      <th>date_close</th>\n      <th>open_Z_30_1</th>\n      <th>high_Z_30_1</th>\n      <th>low_Z_30_1</th>\n      <th>close_Z_30_1</th>\n      <th>...</th>\n      <th>feature_BBL_20_2.0</th>\n      <th>feature_BBM_20_2.0</th>\n      <th>feature_BBU_20_2.0</th>\n      <th>feature_BBB_20_2.0</th>\n      <th>feature_BBP_20_2.0</th>\n      <th>feature_RSI_14</th>\n      <th>feature_MACD_8_21_9</th>\n      <th>feature_MACDh_8_21_9</th>\n      <th>feature_MACDs_8_21_9</th>\n      <th>feature_VOLUME_SMA_20</th>\n    </tr>\n    <tr>\n      <th>date_open</th>\n      <th></th>\n      <th></th>\n      <th></th>\n      <th></th>\n      <th></th>\n      <th></th>\n      <th></th>\n      <th></th>\n      <th></th>\n      <th></th>\n      <th></th>\n      <th></th>\n      <th></th>\n      <th></th>\n      <th></th>\n      <th></th>\n      <th></th>\n      <th></th>\n      <th></th>\n      <th></th>\n      <th></th>\n    </tr>\n  </thead>\n  <tbody>\n    <tr>\n      <th>2018-12-31 16:05:00</th>\n      <td>3750.11</td>\n      <td>3752.26</td>\n      <td>3743.78</td>\n      <td>3748.61</td>\n      <td>73.484180</td>\n      <td>2018-12-31 16:10:00</td>\n      <td>NaN</td>\n      <td>NaN</td>\n      <td>NaN</td>\n      <td>NaN</td>\n      <td>...</td>\n      <td>NaN</td>\n      <td>NaN</td>\n      <td>NaN</td>\n      <td>NaN</td>\n      <td>NaN</td>\n      <td>NaN</td>\n      <td>NaN</td>\n      <td>NaN</td>\n      <td>NaN</td>\n      <td>NaN</td>\n    </tr>\n    <tr>\n      <th>2018-12-31 16:10:00</th>\n      <td>3747.55</td>\n      <td>3753.95</td>\n      <td>3742.00</td>\n      <td>3745.71</td>\n      <td>49.545187</td>\n      <td>2018-12-31 16:15:00</td>\n      <td>NaN</td>\n      <td>NaN</td>\n      <td>NaN</td>\n      <td>NaN</td>\n      <td>...</td>\n      <td>NaN</td>\n      <td>NaN</td>\n      <td>NaN</td>\n      <td>NaN</td>\n      <td>NaN</td>\n      <td>NaN</td>\n      <td>NaN</td>\n      <td>NaN</td>\n      <td>NaN</td>\n      <td>NaN</td>\n    </tr>\n    <tr>\n      <th>2018-12-31 16:15:00</th>\n      <td>3745.71</td>\n      <td>3747.13</td>\n      <td>3735.00</td>\n      <td>3739.62</td>\n      <td>151.770226</td>\n      <td>2018-12-31 16:20:00</td>\n      <td>NaN</td>\n      <td>NaN</td>\n      <td>NaN</td>\n      <td>NaN</td>\n      <td>...</td>\n      <td>NaN</td>\n      <td>NaN</td>\n      <td>NaN</td>\n      <td>NaN</td>\n      <td>NaN</td>\n      <td>NaN</td>\n      <td>NaN</td>\n      <td>NaN</td>\n      <td>NaN</td>\n      <td>NaN</td>\n    </tr>\n    <tr>\n      <th>2018-12-31 16:20:00</th>\n      <td>3739.62</td>\n      <td>3745.00</td>\n      <td>3731.99</td>\n      <td>3742.30</td>\n      <td>107.421241</td>\n      <td>2018-12-31 16:25:00</td>\n      <td>NaN</td>\n      <td>NaN</td>\n      <td>NaN</td>\n      <td>NaN</td>\n      <td>...</td>\n      <td>NaN</td>\n      <td>NaN</td>\n      <td>NaN</td>\n      <td>NaN</td>\n      <td>NaN</td>\n      <td>NaN</td>\n      <td>NaN</td>\n      <td>NaN</td>\n      <td>NaN</td>\n      <td>NaN</td>\n    </tr>\n    <tr>\n      <th>2018-12-31 16:25:00</th>\n      <td>3742.28</td>\n      <td>3745.00</td>\n      <td>3739.30</td>\n      <td>3741.95</td>\n      <td>43.780808</td>\n      <td>2018-12-31 16:30:00</td>\n      <td>NaN</td>\n      <td>NaN</td>\n      <td>NaN</td>\n      <td>NaN</td>\n      <td>...</td>\n      <td>NaN</td>\n      <td>NaN</td>\n      <td>NaN</td>\n      <td>NaN</td>\n      <td>NaN</td>\n      <td>NaN</td>\n      <td>NaN</td>\n      <td>NaN</td>\n      <td>NaN</td>\n      <td>NaN</td>\n    </tr>\n    <tr>\n      <th>...</th>\n      <td>...</td>\n      <td>...</td>\n      <td>...</td>\n      <td>...</td>\n      <td>...</td>\n      <td>...</td>\n      <td>...</td>\n      <td>...</td>\n      <td>...</td>\n      <td>...</td>\n      <td>...</td>\n      <td>...</td>\n      <td>...</td>\n      <td>...</td>\n      <td>...</td>\n      <td>...</td>\n      <td>...</td>\n      <td>...</td>\n      <td>...</td>\n      <td>...</td>\n      <td>...</td>\n    </tr>\n    <tr>\n      <th>2023-06-05 12:50:00</th>\n      <td>26693.72</td>\n      <td>26698.57</td>\n      <td>26666.00</td>\n      <td>26675.09</td>\n      <td>201.401000</td>\n      <td>2023-06-05 12:55:00</td>\n      <td>-2.449809</td>\n      <td>-2.851266</td>\n      <td>-2.175664</td>\n      <td>-2.694092</td>\n      <td>...</td>\n      <td>26690.215187</td>\n      <td>26754.6250</td>\n      <td>26819.034813</td>\n      <td>0.481485</td>\n      <td>-0.117414</td>\n      <td>29.238474</td>\n      <td>-25.207065</td>\n      <td>-13.831864</td>\n      <td>-11.375200</td>\n      <td>101.233168</td>\n    </tr>\n    <tr>\n      <th>2023-06-05 12:55:00</th>\n      <td>26675.09</td>\n      <td>26691.23</td>\n      <td>26654.39</td>\n      <td>26690.76</td>\n      <td>230.297990</td>\n      <td>2023-06-05 13:00:00</td>\n      <td>-2.694046</td>\n      <td>-2.688976</td>\n      <td>-2.240789</td>\n      <td>-1.955533</td>\n      <td>...</td>\n      <td>26681.406921</td>\n      <td>26751.5890</td>\n      <td>26821.771079</td>\n      <td>0.524695</td>\n      <td>0.066634</td>\n      <td>35.035066</td>\n      <td>-26.402567</td>\n      <td>-12.021894</td>\n      <td>-14.380674</td>\n      <td>108.097298</td>\n    </tr>\n    <tr>\n      <th>2023-06-05 13:00:00</th>\n      <td>26690.76</td>\n      <td>26694.36</td>\n      <td>26640.00</td>\n      <td>26676.17</td>\n      <td>232.488090</td>\n      <td>2023-06-05 13:05:00</td>\n      <td>-1.955497</td>\n      <td>-2.251786</td>\n      <td>-2.314167</td>\n      <td>-2.156630</td>\n      <td>...</td>\n      <td>26670.020353</td>\n      <td>26747.1015</td>\n      <td>26824.182647</td>\n      <td>0.576370</td>\n      <td>0.039891</td>\n      <td>32.375770</td>\n      <td>-28.630346</td>\n      <td>-11.399737</td>\n      <td>-17.230608</td>\n      <td>117.775819</td>\n    </tr>\n    <tr>\n      <th>2023-06-05 13:05:00</th>\n      <td>26676.17</td>\n      <td>26689.98</td>\n      <td>26651.25</td>\n      <td>26689.98</td>\n      <td>136.695930</td>\n      <td>2023-06-05 13:10:00</td>\n      <td>-2.156602</td>\n      <td>-2.131454</td>\n      <td>-1.843063</td>\n      <td>-1.632157</td>\n      <td>...</td>\n      <td>26663.297990</td>\n      <td>26742.5475</td>\n      <td>26821.797010</td>\n      <td>0.592685</td>\n      <td>0.168342</td>\n      <td>37.232268</td>\n      <td>-27.813717</td>\n      <td>-8.466487</td>\n      <td>-19.347230</td>\n      <td>118.854250</td>\n    </tr>\n    <tr>\n      <th>2023-06-05 13:10:00</th>\n      <td>26689.97</td>\n      <td>26732.86</td>\n      <td>26689.97</td>\n      <td>26724.37</td>\n      <td>131.740400</td>\n      <td>2023-06-05 13:15:00</td>\n      <td>-1.632389</td>\n      <td>-0.728781</td>\n      <td>-0.867181</td>\n      <td>-0.599986</td>\n      <td>...</td>\n      <td>26661.601837</td>\n      <td>26740.4730</td>\n      <td>26819.344163</td>\n      <td>0.589901</td>\n      <td>0.397916</td>\n      <td>47.368760</td>\n      <td>-22.158551</td>\n      <td>-2.249057</td>\n      <td>-19.909494</td>\n      <td>120.686377</td>\n    </tr>\n  </tbody>\n</table>\n<p>464844 rows × 22 columns</p>\n</div>"
     },
     "execution_count": 16,
     "metadata": {},
     "output_type": "execute_result"
    }
   ],
   "source": [
    "df2"
   ],
   "metadata": {
    "collapsed": false
   }
  },
  {
   "cell_type": "code",
   "execution_count": null,
   "outputs": [],
   "source": [],
   "metadata": {
    "collapsed": false
   }
  }
 ],
 "metadata": {
  "kernelspec": {
   "display_name": "Python 3",
   "language": "python",
   "name": "python3"
  },
  "language_info": {
   "codemirror_mode": {
    "name": "ipython",
    "version": 2
   },
   "file_extension": ".py",
   "mimetype": "text/x-python",
   "name": "python",
   "nbconvert_exporter": "python",
   "pygments_lexer": "ipython2",
   "version": "2.7.6"
  }
 },
 "nbformat": 4,
 "nbformat_minor": 0
}
