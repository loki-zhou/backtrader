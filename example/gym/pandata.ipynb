{
 "cells": [
  {
   "cell_type": "code",
   "execution_count": 1,
   "metadata": {
    "collapsed": true
   },
   "outputs": [],
   "source": [
    "import pandas as pd\n",
    "import numpy as np\n",
    "import pandas_ta as ta"
   ]
  },
  {
   "cell_type": "markdown",
   "source": [],
   "metadata": {
    "collapsed": false
   }
  },
  {
   "cell_type": "code",
   "execution_count": 2,
   "outputs": [],
   "source": [
    "df = pd.read_pickle(\"./data/raw/binance-BTCUSDT-5m.pkl\")"
   ],
   "metadata": {
    "collapsed": false
   }
  },
  {
   "cell_type": "code",
   "execution_count": 4,
   "outputs": [
    {
     "data": {
      "text/plain": "                         open      high       low     close     volume   \ndate_open                                                                \n2023-06-05 12:50:00  26693.72  26698.57  26666.00  26675.09  201.40100  \\\n2023-06-05 12:55:00  26675.09  26691.23  26654.39  26690.76  230.29799   \n2023-06-05 13:00:00  26690.76  26694.36  26640.00  26676.17  232.48809   \n2023-06-05 13:05:00  26676.17  26689.98  26651.25  26689.98  136.69593   \n2023-06-05 13:10:00  26689.97  26732.86  26689.97  26724.37  131.74040   \n\n                             date_close  \ndate_open                                \n2023-06-05 12:50:00 2023-06-05 12:55:00  \n2023-06-05 12:55:00 2023-06-05 13:00:00  \n2023-06-05 13:00:00 2023-06-05 13:05:00  \n2023-06-05 13:05:00 2023-06-05 13:10:00  \n2023-06-05 13:10:00 2023-06-05 13:15:00  ",
      "text/html": "<div>\n<style scoped>\n    .dataframe tbody tr th:only-of-type {\n        vertical-align: middle;\n    }\n\n    .dataframe tbody tr th {\n        vertical-align: top;\n    }\n\n    .dataframe thead th {\n        text-align: right;\n    }\n</style>\n<table border=\"1\" class=\"dataframe\">\n  <thead>\n    <tr style=\"text-align: right;\">\n      <th></th>\n      <th>open</th>\n      <th>high</th>\n      <th>low</th>\n      <th>close</th>\n      <th>volume</th>\n      <th>date_close</th>\n    </tr>\n    <tr>\n      <th>date_open</th>\n      <th></th>\n      <th></th>\n      <th></th>\n      <th></th>\n      <th></th>\n      <th></th>\n    </tr>\n  </thead>\n  <tbody>\n    <tr>\n      <th>2023-06-05 12:50:00</th>\n      <td>26693.72</td>\n      <td>26698.57</td>\n      <td>26666.00</td>\n      <td>26675.09</td>\n      <td>201.40100</td>\n      <td>2023-06-05 12:55:00</td>\n    </tr>\n    <tr>\n      <th>2023-06-05 12:55:00</th>\n      <td>26675.09</td>\n      <td>26691.23</td>\n      <td>26654.39</td>\n      <td>26690.76</td>\n      <td>230.29799</td>\n      <td>2023-06-05 13:00:00</td>\n    </tr>\n    <tr>\n      <th>2023-06-05 13:00:00</th>\n      <td>26690.76</td>\n      <td>26694.36</td>\n      <td>26640.00</td>\n      <td>26676.17</td>\n      <td>232.48809</td>\n      <td>2023-06-05 13:05:00</td>\n    </tr>\n    <tr>\n      <th>2023-06-05 13:05:00</th>\n      <td>26676.17</td>\n      <td>26689.98</td>\n      <td>26651.25</td>\n      <td>26689.98</td>\n      <td>136.69593</td>\n      <td>2023-06-05 13:10:00</td>\n    </tr>\n    <tr>\n      <th>2023-06-05 13:10:00</th>\n      <td>26689.97</td>\n      <td>26732.86</td>\n      <td>26689.97</td>\n      <td>26724.37</td>\n      <td>131.74040</td>\n      <td>2023-06-05 13:15:00</td>\n    </tr>\n  </tbody>\n</table>\n</div>"
     },
     "execution_count": 4,
     "metadata": {},
     "output_type": "execute_result"
    }
   ],
   "source": [
    "df.tail()"
   ],
   "metadata": {
    "collapsed": false
   }
  },
  {
   "cell_type": "code",
   "execution_count": 5,
   "outputs": [],
   "source": [
    "# df.ta.log_return(cumulative=True, append=True)\n",
    "# df.ta.percent_return(cumulative=True, append=True)"
   ],
   "metadata": {
    "collapsed": false
   }
  },
  {
   "cell_type": "code",
   "execution_count": 6,
   "outputs": [
    {
     "data": {
      "text/plain": "Index(['open', 'high', 'low', 'close', 'volume', 'date_close'], dtype='object')"
     },
     "execution_count": 6,
     "metadata": {},
     "output_type": "execute_result"
    }
   ],
   "source": [
    "df.columns"
   ],
   "metadata": {
    "collapsed": false
   }
  },
  {
   "cell_type": "code",
   "execution_count": 7,
   "outputs": [],
   "source": [
    "import copy\n",
    "df1 = copy.deepcopy(df)\n",
    "df2 = copy.deepcopy(df)\n",
    "df3 = copy.deepcopy(df)"
   ],
   "metadata": {
    "collapsed": false
   }
  },
  {
   "cell_type": "code",
   "execution_count": 8,
   "outputs": [],
   "source": [
    "# (1) Create the Strategy\n",
    "# MyStrategy = ta.Strategy(\n",
    "#     name=\"DCSMA10\",\n",
    "#     ta=[\n",
    "#         {\"kind\": \"ohlc4\"},\n",
    "#         {\"kind\": \"sma\", \"length\": 10},\n",
    "#         {\"kind\": \"donchian\", \"lower_length\": 10, \"upper_length\": 15},\n",
    "#         {\"kind\": \"ema\", \"close\": \"OHLC4\", \"length\": 10, \"suffix\": \"OHLC4\"},\n",
    "#     ]\n",
    "# )\n",
    "#\n",
    "# # (2) Run the Strategy\n",
    "# df.ta.strategy(MyStrategy)\n",
    "\n",
    "# df.ta.strategy(ta.CommonStrategy)"
   ],
   "metadata": {
    "collapsed": false
   }
  },
  {
   "cell_type": "code",
   "execution_count": 9,
   "outputs": [],
   "source": [
    "# Create your own Custom Strategy\n",
    "CustomStrategy = ta.Strategy(\n",
    "    name=\"Momo and Volatility\",\n",
    "    description=\"SMA 50,200, BBANDS, RSI, MACD and Volume SMA 20\",\n",
    "    ta=[\n",
    "        {\"kind\": \"sma\", \"length\": 50,\"prefix\": \"feature\"},\n",
    "        {\"kind\": \"sma\", \"length\": 200, \"prefix\": \"feature\"},\n",
    "        {\"kind\": \"bbands\", \"length\": 20, \"prefix\": \"feature\"},\n",
    "        {\"kind\": \"rsi\", \"prefix\": \"feature\"},\n",
    "        {\"kind\": \"macd\", \"fast\": 8, \"slow\": 21, \"prefix\": \"feature\"},\n",
    "        {\"kind\": \"sma\", \"close\": \"volume\", \"length\": 20, \"prefix\": \"feature_VOLUME\"},\n",
    "    ]\n",
    ")\n",
    "# To run your \"Custom Strategy\"\n",
    "df.ta.strategy(CustomStrategy)"
   ],
   "metadata": {
    "collapsed": false
   }
  },
  {
   "cell_type": "code",
   "execution_count": 10,
   "outputs": [
    {
     "data": {
      "text/plain": "                         open      high       low     close     volume   \ndate_open                                                                \n2023-06-05 12:50:00  26693.72  26698.57  26666.00  26675.09  201.40100  \\\n2023-06-05 12:55:00  26675.09  26691.23  26654.39  26690.76  230.29799   \n2023-06-05 13:00:00  26690.76  26694.36  26640.00  26676.17  232.48809   \n2023-06-05 13:05:00  26676.17  26689.98  26651.25  26689.98  136.69593   \n2023-06-05 13:10:00  26689.97  26732.86  26689.97  26724.37  131.74040   \n\n                             date_close  feature_SMA_50  feature_SMA_200   \ndate_open                                                                  \n2023-06-05 12:50:00 2023-06-05 12:55:00      26764.1824      26943.14745  \\\n2023-06-05 12:55:00 2023-06-05 13:00:00      26761.5870      26940.39120   \n2023-06-05 13:00:00 2023-06-05 13:05:00      26759.1588      26937.54605   \n2023-06-05 13:05:00 2023-06-05 13:10:00      26756.9856      26934.75805   \n2023-06-05 13:10:00 2023-06-05 13:15:00      26755.5488      26932.22535   \n\n                     feature_BBL_20_2.0  feature_BBM_20_2.0   \ndate_open                                                     \n2023-06-05 12:50:00        26690.215187          26754.6250  \\\n2023-06-05 12:55:00        26681.406921          26751.5890   \n2023-06-05 13:00:00        26670.020353          26747.1015   \n2023-06-05 13:05:00        26663.297990          26742.5475   \n2023-06-05 13:10:00        26661.601837          26740.4730   \n\n                     feature_BBU_20_2.0  feature_BBB_20_2.0   \ndate_open                                                     \n2023-06-05 12:50:00        26819.034813            0.481485  \\\n2023-06-05 12:55:00        26821.771079            0.524695   \n2023-06-05 13:00:00        26824.182647            0.576370   \n2023-06-05 13:05:00        26821.797010            0.592685   \n2023-06-05 13:10:00        26819.344163            0.589901   \n\n                     feature_BBP_20_2.0  feature_RSI_14  feature_MACD_8_21_9   \ndate_open                                                                      \n2023-06-05 12:50:00           -0.117414       29.238474           -25.207065  \\\n2023-06-05 12:55:00            0.066634       35.035066           -26.402567   \n2023-06-05 13:00:00            0.039891       32.375770           -28.630346   \n2023-06-05 13:05:00            0.168342       37.232268           -27.813717   \n2023-06-05 13:10:00            0.397916       47.368760           -22.158551   \n\n                     feature_MACDh_8_21_9  feature_MACDs_8_21_9   \ndate_open                                                         \n2023-06-05 12:50:00            -13.831864            -11.375200  \\\n2023-06-05 12:55:00            -12.021894            -14.380674   \n2023-06-05 13:00:00            -11.399737            -17.230608   \n2023-06-05 13:05:00             -8.466487            -19.347230   \n2023-06-05 13:10:00             -2.249057            -19.909494   \n\n                     feature_VOLUME_SMA_20  \ndate_open                                   \n2023-06-05 12:50:00             101.233168  \n2023-06-05 12:55:00             108.097298  \n2023-06-05 13:00:00             117.775819  \n2023-06-05 13:05:00             118.854250  \n2023-06-05 13:10:00             120.686377  ",
      "text/html": "<div>\n<style scoped>\n    .dataframe tbody tr th:only-of-type {\n        vertical-align: middle;\n    }\n\n    .dataframe tbody tr th {\n        vertical-align: top;\n    }\n\n    .dataframe thead th {\n        text-align: right;\n    }\n</style>\n<table border=\"1\" class=\"dataframe\">\n  <thead>\n    <tr style=\"text-align: right;\">\n      <th></th>\n      <th>open</th>\n      <th>high</th>\n      <th>low</th>\n      <th>close</th>\n      <th>volume</th>\n      <th>date_close</th>\n      <th>feature_SMA_50</th>\n      <th>feature_SMA_200</th>\n      <th>feature_BBL_20_2.0</th>\n      <th>feature_BBM_20_2.0</th>\n      <th>feature_BBU_20_2.0</th>\n      <th>feature_BBB_20_2.0</th>\n      <th>feature_BBP_20_2.0</th>\n      <th>feature_RSI_14</th>\n      <th>feature_MACD_8_21_9</th>\n      <th>feature_MACDh_8_21_9</th>\n      <th>feature_MACDs_8_21_9</th>\n      <th>feature_VOLUME_SMA_20</th>\n    </tr>\n    <tr>\n      <th>date_open</th>\n      <th></th>\n      <th></th>\n      <th></th>\n      <th></th>\n      <th></th>\n      <th></th>\n      <th></th>\n      <th></th>\n      <th></th>\n      <th></th>\n      <th></th>\n      <th></th>\n      <th></th>\n      <th></th>\n      <th></th>\n      <th></th>\n      <th></th>\n      <th></th>\n    </tr>\n  </thead>\n  <tbody>\n    <tr>\n      <th>2023-06-05 12:50:00</th>\n      <td>26693.72</td>\n      <td>26698.57</td>\n      <td>26666.00</td>\n      <td>26675.09</td>\n      <td>201.40100</td>\n      <td>2023-06-05 12:55:00</td>\n      <td>26764.1824</td>\n      <td>26943.14745</td>\n      <td>26690.215187</td>\n      <td>26754.6250</td>\n      <td>26819.034813</td>\n      <td>0.481485</td>\n      <td>-0.117414</td>\n      <td>29.238474</td>\n      <td>-25.207065</td>\n      <td>-13.831864</td>\n      <td>-11.375200</td>\n      <td>101.233168</td>\n    </tr>\n    <tr>\n      <th>2023-06-05 12:55:00</th>\n      <td>26675.09</td>\n      <td>26691.23</td>\n      <td>26654.39</td>\n      <td>26690.76</td>\n      <td>230.29799</td>\n      <td>2023-06-05 13:00:00</td>\n      <td>26761.5870</td>\n      <td>26940.39120</td>\n      <td>26681.406921</td>\n      <td>26751.5890</td>\n      <td>26821.771079</td>\n      <td>0.524695</td>\n      <td>0.066634</td>\n      <td>35.035066</td>\n      <td>-26.402567</td>\n      <td>-12.021894</td>\n      <td>-14.380674</td>\n      <td>108.097298</td>\n    </tr>\n    <tr>\n      <th>2023-06-05 13:00:00</th>\n      <td>26690.76</td>\n      <td>26694.36</td>\n      <td>26640.00</td>\n      <td>26676.17</td>\n      <td>232.48809</td>\n      <td>2023-06-05 13:05:00</td>\n      <td>26759.1588</td>\n      <td>26937.54605</td>\n      <td>26670.020353</td>\n      <td>26747.1015</td>\n      <td>26824.182647</td>\n      <td>0.576370</td>\n      <td>0.039891</td>\n      <td>32.375770</td>\n      <td>-28.630346</td>\n      <td>-11.399737</td>\n      <td>-17.230608</td>\n      <td>117.775819</td>\n    </tr>\n    <tr>\n      <th>2023-06-05 13:05:00</th>\n      <td>26676.17</td>\n      <td>26689.98</td>\n      <td>26651.25</td>\n      <td>26689.98</td>\n      <td>136.69593</td>\n      <td>2023-06-05 13:10:00</td>\n      <td>26756.9856</td>\n      <td>26934.75805</td>\n      <td>26663.297990</td>\n      <td>26742.5475</td>\n      <td>26821.797010</td>\n      <td>0.592685</td>\n      <td>0.168342</td>\n      <td>37.232268</td>\n      <td>-27.813717</td>\n      <td>-8.466487</td>\n      <td>-19.347230</td>\n      <td>118.854250</td>\n    </tr>\n    <tr>\n      <th>2023-06-05 13:10:00</th>\n      <td>26689.97</td>\n      <td>26732.86</td>\n      <td>26689.97</td>\n      <td>26724.37</td>\n      <td>131.74040</td>\n      <td>2023-06-05 13:15:00</td>\n      <td>26755.5488</td>\n      <td>26932.22535</td>\n      <td>26661.601837</td>\n      <td>26740.4730</td>\n      <td>26819.344163</td>\n      <td>0.589901</td>\n      <td>0.397916</td>\n      <td>47.368760</td>\n      <td>-22.158551</td>\n      <td>-2.249057</td>\n      <td>-19.909494</td>\n      <td>120.686377</td>\n    </tr>\n  </tbody>\n</table>\n</div>"
     },
     "execution_count": 10,
     "metadata": {},
     "output_type": "execute_result"
    }
   ],
   "source": [
    "df.tail()"
   ],
   "metadata": {
    "collapsed": false
   }
  },
  {
   "cell_type": "code",
   "execution_count": 11,
   "outputs": [],
   "source": [
    "CustomStrategy = ta.Strategy(\n",
    "    name=\"Momo and Volatility\",\n",
    "    description=\"SMA 50,200, BBANDS, RSI, MACD and Volume SMA 20\",\n",
    "    ta=[\n",
    "        {\"kind\": \"ohlc4\"},\n",
    "        {\"kind\": \"sma\", \"length\": 50,\"prefix\": \"feature\"},\n",
    "        {\"kind\": \"sma\", \"length\": 200, \"prefix\": \"feature\"},\n",
    "        {\"kind\": \"bbands\", \"length\": 20, \"prefix\": \"feature\"},\n",
    "        {\"kind\": \"rsi\", \"prefix\": \"feature\"},\n",
    "        {\"kind\": \"macd\", \"fast\": 8, \"slow\": 21, \"prefix\": \"feature\"},\n",
    "        {\"kind\": \"sma\", \"close\": \"volume\", \"length\": 20, \"prefix\": \"feature_VOLUME\"},\n",
    "    ]\n",
    ")\n",
    "# To run your \"Custom Strategy\"\n",
    "df1.ta.strategy(CustomStrategy)"
   ],
   "metadata": {
    "collapsed": false
   }
  },
  {
   "cell_type": "code",
   "execution_count": 12,
   "outputs": [
    {
     "data": {
      "text/plain": "                         open      high       low     close     volume   \ndate_open                                                                \n2023-06-05 12:50:00  26693.72  26698.57  26666.00  26675.09  201.40100  \\\n2023-06-05 12:55:00  26675.09  26691.23  26654.39  26690.76  230.29799   \n2023-06-05 13:00:00  26690.76  26694.36  26640.00  26676.17  232.48809   \n2023-06-05 13:05:00  26676.17  26689.98  26651.25  26689.98  136.69593   \n2023-06-05 13:10:00  26689.97  26732.86  26689.97  26724.37  131.74040   \n\n                             date_close       OHLC4  feature_SMA_50   \ndate_open                                                             \n2023-06-05 12:50:00 2023-06-05 12:55:00  26683.3450      26764.1824  \\\n2023-06-05 12:55:00 2023-06-05 13:00:00  26677.8675      26761.5870   \n2023-06-05 13:00:00 2023-06-05 13:05:00  26675.3225      26759.1588   \n2023-06-05 13:05:00 2023-06-05 13:10:00  26676.8450      26756.9856   \n2023-06-05 13:10:00 2023-06-05 13:15:00  26709.2925      26755.5488   \n\n                     feature_SMA_200  feature_BBL_20_2.0  feature_BBM_20_2.0   \ndate_open                                                                      \n2023-06-05 12:50:00      26943.14745        26690.215187          26754.6250  \\\n2023-06-05 12:55:00      26940.39120        26681.406921          26751.5890   \n2023-06-05 13:00:00      26937.54605        26670.020353          26747.1015   \n2023-06-05 13:05:00      26934.75805        26663.297990          26742.5475   \n2023-06-05 13:10:00      26932.22535        26661.601837          26740.4730   \n\n                     feature_BBU_20_2.0  feature_BBB_20_2.0   \ndate_open                                                     \n2023-06-05 12:50:00        26819.034813            0.481485  \\\n2023-06-05 12:55:00        26821.771079            0.524695   \n2023-06-05 13:00:00        26824.182647            0.576370   \n2023-06-05 13:05:00        26821.797010            0.592685   \n2023-06-05 13:10:00        26819.344163            0.589901   \n\n                     feature_BBP_20_2.0  feature_RSI_14  feature_MACD_8_21_9   \ndate_open                                                                      \n2023-06-05 12:50:00           -0.117414       29.238474           -25.207065  \\\n2023-06-05 12:55:00            0.066634       35.035066           -26.402567   \n2023-06-05 13:00:00            0.039891       32.375770           -28.630346   \n2023-06-05 13:05:00            0.168342       37.232268           -27.813717   \n2023-06-05 13:10:00            0.397916       47.368760           -22.158551   \n\n                     feature_MACDh_8_21_9  feature_MACDs_8_21_9   \ndate_open                                                         \n2023-06-05 12:50:00            -13.831864            -11.375200  \\\n2023-06-05 12:55:00            -12.021894            -14.380674   \n2023-06-05 13:00:00            -11.399737            -17.230608   \n2023-06-05 13:05:00             -8.466487            -19.347230   \n2023-06-05 13:10:00             -2.249057            -19.909494   \n\n                     feature_VOLUME_SMA_20  \ndate_open                                   \n2023-06-05 12:50:00             101.233168  \n2023-06-05 12:55:00             108.097298  \n2023-06-05 13:00:00             117.775819  \n2023-06-05 13:05:00             118.854250  \n2023-06-05 13:10:00             120.686377  ",
      "text/html": "<div>\n<style scoped>\n    .dataframe tbody tr th:only-of-type {\n        vertical-align: middle;\n    }\n\n    .dataframe tbody tr th {\n        vertical-align: top;\n    }\n\n    .dataframe thead th {\n        text-align: right;\n    }\n</style>\n<table border=\"1\" class=\"dataframe\">\n  <thead>\n    <tr style=\"text-align: right;\">\n      <th></th>\n      <th>open</th>\n      <th>high</th>\n      <th>low</th>\n      <th>close</th>\n      <th>volume</th>\n      <th>date_close</th>\n      <th>OHLC4</th>\n      <th>feature_SMA_50</th>\n      <th>feature_SMA_200</th>\n      <th>feature_BBL_20_2.0</th>\n      <th>feature_BBM_20_2.0</th>\n      <th>feature_BBU_20_2.0</th>\n      <th>feature_BBB_20_2.0</th>\n      <th>feature_BBP_20_2.0</th>\n      <th>feature_RSI_14</th>\n      <th>feature_MACD_8_21_9</th>\n      <th>feature_MACDh_8_21_9</th>\n      <th>feature_MACDs_8_21_9</th>\n      <th>feature_VOLUME_SMA_20</th>\n    </tr>\n    <tr>\n      <th>date_open</th>\n      <th></th>\n      <th></th>\n      <th></th>\n      <th></th>\n      <th></th>\n      <th></th>\n      <th></th>\n      <th></th>\n      <th></th>\n      <th></th>\n      <th></th>\n      <th></th>\n      <th></th>\n      <th></th>\n      <th></th>\n      <th></th>\n      <th></th>\n      <th></th>\n      <th></th>\n    </tr>\n  </thead>\n  <tbody>\n    <tr>\n      <th>2023-06-05 12:50:00</th>\n      <td>26693.72</td>\n      <td>26698.57</td>\n      <td>26666.00</td>\n      <td>26675.09</td>\n      <td>201.40100</td>\n      <td>2023-06-05 12:55:00</td>\n      <td>26683.3450</td>\n      <td>26764.1824</td>\n      <td>26943.14745</td>\n      <td>26690.215187</td>\n      <td>26754.6250</td>\n      <td>26819.034813</td>\n      <td>0.481485</td>\n      <td>-0.117414</td>\n      <td>29.238474</td>\n      <td>-25.207065</td>\n      <td>-13.831864</td>\n      <td>-11.375200</td>\n      <td>101.233168</td>\n    </tr>\n    <tr>\n      <th>2023-06-05 12:55:00</th>\n      <td>26675.09</td>\n      <td>26691.23</td>\n      <td>26654.39</td>\n      <td>26690.76</td>\n      <td>230.29799</td>\n      <td>2023-06-05 13:00:00</td>\n      <td>26677.8675</td>\n      <td>26761.5870</td>\n      <td>26940.39120</td>\n      <td>26681.406921</td>\n      <td>26751.5890</td>\n      <td>26821.771079</td>\n      <td>0.524695</td>\n      <td>0.066634</td>\n      <td>35.035066</td>\n      <td>-26.402567</td>\n      <td>-12.021894</td>\n      <td>-14.380674</td>\n      <td>108.097298</td>\n    </tr>\n    <tr>\n      <th>2023-06-05 13:00:00</th>\n      <td>26690.76</td>\n      <td>26694.36</td>\n      <td>26640.00</td>\n      <td>26676.17</td>\n      <td>232.48809</td>\n      <td>2023-06-05 13:05:00</td>\n      <td>26675.3225</td>\n      <td>26759.1588</td>\n      <td>26937.54605</td>\n      <td>26670.020353</td>\n      <td>26747.1015</td>\n      <td>26824.182647</td>\n      <td>0.576370</td>\n      <td>0.039891</td>\n      <td>32.375770</td>\n      <td>-28.630346</td>\n      <td>-11.399737</td>\n      <td>-17.230608</td>\n      <td>117.775819</td>\n    </tr>\n    <tr>\n      <th>2023-06-05 13:05:00</th>\n      <td>26676.17</td>\n      <td>26689.98</td>\n      <td>26651.25</td>\n      <td>26689.98</td>\n      <td>136.69593</td>\n      <td>2023-06-05 13:10:00</td>\n      <td>26676.8450</td>\n      <td>26756.9856</td>\n      <td>26934.75805</td>\n      <td>26663.297990</td>\n      <td>26742.5475</td>\n      <td>26821.797010</td>\n      <td>0.592685</td>\n      <td>0.168342</td>\n      <td>37.232268</td>\n      <td>-27.813717</td>\n      <td>-8.466487</td>\n      <td>-19.347230</td>\n      <td>118.854250</td>\n    </tr>\n    <tr>\n      <th>2023-06-05 13:10:00</th>\n      <td>26689.97</td>\n      <td>26732.86</td>\n      <td>26689.97</td>\n      <td>26724.37</td>\n      <td>131.74040</td>\n      <td>2023-06-05 13:15:00</td>\n      <td>26709.2925</td>\n      <td>26755.5488</td>\n      <td>26932.22535</td>\n      <td>26661.601837</td>\n      <td>26740.4730</td>\n      <td>26819.344163</td>\n      <td>0.589901</td>\n      <td>0.397916</td>\n      <td>47.368760</td>\n      <td>-22.158551</td>\n      <td>-2.249057</td>\n      <td>-19.909494</td>\n      <td>120.686377</td>\n    </tr>\n  </tbody>\n</table>\n</div>"
     },
     "execution_count": 12,
     "metadata": {},
     "output_type": "execute_result"
    }
   ],
   "source": [
    "df1.tail()"
   ],
   "metadata": {
    "collapsed": false
   }
  },
  {
   "cell_type": "code",
   "execution_count": 13,
   "outputs": [],
   "source": [
    "CustomStrategy = ta.Strategy(\n",
    "    name=\"Momo and Volatility\",\n",
    "    description=\"SMA 50,200, BBANDS, RSI, MACD and Volume SMA 20\",\n",
    "    ta=[\n",
    "        {\"kind\": \"cdl_z\"},\n",
    "        {\"kind\": \"sma\", \"length\": 50,\"prefix\": \"feature\"},\n",
    "        {\"kind\": \"sma\", \"length\": 200, \"prefix\": \"feature\"},\n",
    "        {\"kind\": \"bbands\", \"length\": 20, \"prefix\": \"feature\"},\n",
    "        {\"kind\": \"rsi\", \"prefix\": \"feature\"},\n",
    "        {\"kind\": \"macd\", \"fast\": 8, \"slow\": 21, \"prefix\": \"feature\"},\n",
    "        {\"kind\": \"sma\", \"close\": \"volume\", \"length\": 20, \"prefix\": \"feature_VOLUME\"},\n",
    "    ]\n",
    ")\n",
    "# To run your \"Custom Strategy\"\n",
    "df2.ta.strategy(CustomStrategy)"
   ],
   "metadata": {
    "collapsed": false
   }
  },
  {
   "cell_type": "code",
   "execution_count": 14,
   "outputs": [
    {
     "data": {
      "text/plain": "                         open      high       low     close     volume   \ndate_open                                                                \n2023-06-05 12:50:00  26693.72  26698.57  26666.00  26675.09  201.40100  \\\n2023-06-05 12:55:00  26675.09  26691.23  26654.39  26690.76  230.29799   \n2023-06-05 13:00:00  26690.76  26694.36  26640.00  26676.17  232.48809   \n2023-06-05 13:05:00  26676.17  26689.98  26651.25  26689.98  136.69593   \n2023-06-05 13:10:00  26689.97  26732.86  26689.97  26724.37  131.74040   \n\n                             date_close  open_Z_30_1  high_Z_30_1  low_Z_30_1   \ndate_open                                                                       \n2023-06-05 12:50:00 2023-06-05 12:55:00    -2.449809    -2.851266   -2.175664  \\\n2023-06-05 12:55:00 2023-06-05 13:00:00    -2.694046    -2.688976   -2.240789   \n2023-06-05 13:00:00 2023-06-05 13:05:00    -1.955497    -2.251786   -2.314167   \n2023-06-05 13:05:00 2023-06-05 13:10:00    -2.156602    -2.131454   -1.843063   \n2023-06-05 13:10:00 2023-06-05 13:15:00    -1.632389    -0.728781   -0.867181   \n\n                     close_Z_30_1  ...  feature_BBL_20_2.0   \ndate_open                          ...                       \n2023-06-05 12:50:00     -2.694092  ...        26690.215187  \\\n2023-06-05 12:55:00     -1.955533  ...        26681.406921   \n2023-06-05 13:00:00     -2.156630  ...        26670.020353   \n2023-06-05 13:05:00     -1.632157  ...        26663.297990   \n2023-06-05 13:10:00     -0.599986  ...        26661.601837   \n\n                     feature_BBM_20_2.0  feature_BBU_20_2.0   \ndate_open                                                     \n2023-06-05 12:50:00          26754.6250        26819.034813  \\\n2023-06-05 12:55:00          26751.5890        26821.771079   \n2023-06-05 13:00:00          26747.1015        26824.182647   \n2023-06-05 13:05:00          26742.5475        26821.797010   \n2023-06-05 13:10:00          26740.4730        26819.344163   \n\n                     feature_BBB_20_2.0  feature_BBP_20_2.0  feature_RSI_14   \ndate_open                                                                     \n2023-06-05 12:50:00            0.481485           -0.117414       29.238474  \\\n2023-06-05 12:55:00            0.524695            0.066634       35.035066   \n2023-06-05 13:00:00            0.576370            0.039891       32.375770   \n2023-06-05 13:05:00            0.592685            0.168342       37.232268   \n2023-06-05 13:10:00            0.589901            0.397916       47.368760   \n\n                     feature_MACD_8_21_9  feature_MACDh_8_21_9   \ndate_open                                                        \n2023-06-05 12:50:00           -25.207065            -13.831864  \\\n2023-06-05 12:55:00           -26.402567            -12.021894   \n2023-06-05 13:00:00           -28.630346            -11.399737   \n2023-06-05 13:05:00           -27.813717             -8.466487   \n2023-06-05 13:10:00           -22.158551             -2.249057   \n\n                     feature_MACDs_8_21_9  feature_VOLUME_SMA_20  \ndate_open                                                         \n2023-06-05 12:50:00            -11.375200             101.233168  \n2023-06-05 12:55:00            -14.380674             108.097298  \n2023-06-05 13:00:00            -17.230608             117.775819  \n2023-06-05 13:05:00            -19.347230             118.854250  \n2023-06-05 13:10:00            -19.909494             120.686377  \n\n[5 rows x 22 columns]",
      "text/html": "<div>\n<style scoped>\n    .dataframe tbody tr th:only-of-type {\n        vertical-align: middle;\n    }\n\n    .dataframe tbody tr th {\n        vertical-align: top;\n    }\n\n    .dataframe thead th {\n        text-align: right;\n    }\n</style>\n<table border=\"1\" class=\"dataframe\">\n  <thead>\n    <tr style=\"text-align: right;\">\n      <th></th>\n      <th>open</th>\n      <th>high</th>\n      <th>low</th>\n      <th>close</th>\n      <th>volume</th>\n      <th>date_close</th>\n      <th>open_Z_30_1</th>\n      <th>high_Z_30_1</th>\n      <th>low_Z_30_1</th>\n      <th>close_Z_30_1</th>\n      <th>...</th>\n      <th>feature_BBL_20_2.0</th>\n      <th>feature_BBM_20_2.0</th>\n      <th>feature_BBU_20_2.0</th>\n      <th>feature_BBB_20_2.0</th>\n      <th>feature_BBP_20_2.0</th>\n      <th>feature_RSI_14</th>\n      <th>feature_MACD_8_21_9</th>\n      <th>feature_MACDh_8_21_9</th>\n      <th>feature_MACDs_8_21_9</th>\n      <th>feature_VOLUME_SMA_20</th>\n    </tr>\n    <tr>\n      <th>date_open</th>\n      <th></th>\n      <th></th>\n      <th></th>\n      <th></th>\n      <th></th>\n      <th></th>\n      <th></th>\n      <th></th>\n      <th></th>\n      <th></th>\n      <th></th>\n      <th></th>\n      <th></th>\n      <th></th>\n      <th></th>\n      <th></th>\n      <th></th>\n      <th></th>\n      <th></th>\n      <th></th>\n      <th></th>\n    </tr>\n  </thead>\n  <tbody>\n    <tr>\n      <th>2023-06-05 12:50:00</th>\n      <td>26693.72</td>\n      <td>26698.57</td>\n      <td>26666.00</td>\n      <td>26675.09</td>\n      <td>201.40100</td>\n      <td>2023-06-05 12:55:00</td>\n      <td>-2.449809</td>\n      <td>-2.851266</td>\n      <td>-2.175664</td>\n      <td>-2.694092</td>\n      <td>...</td>\n      <td>26690.215187</td>\n      <td>26754.6250</td>\n      <td>26819.034813</td>\n      <td>0.481485</td>\n      <td>-0.117414</td>\n      <td>29.238474</td>\n      <td>-25.207065</td>\n      <td>-13.831864</td>\n      <td>-11.375200</td>\n      <td>101.233168</td>\n    </tr>\n    <tr>\n      <th>2023-06-05 12:55:00</th>\n      <td>26675.09</td>\n      <td>26691.23</td>\n      <td>26654.39</td>\n      <td>26690.76</td>\n      <td>230.29799</td>\n      <td>2023-06-05 13:00:00</td>\n      <td>-2.694046</td>\n      <td>-2.688976</td>\n      <td>-2.240789</td>\n      <td>-1.955533</td>\n      <td>...</td>\n      <td>26681.406921</td>\n      <td>26751.5890</td>\n      <td>26821.771079</td>\n      <td>0.524695</td>\n      <td>0.066634</td>\n      <td>35.035066</td>\n      <td>-26.402567</td>\n      <td>-12.021894</td>\n      <td>-14.380674</td>\n      <td>108.097298</td>\n    </tr>\n    <tr>\n      <th>2023-06-05 13:00:00</th>\n      <td>26690.76</td>\n      <td>26694.36</td>\n      <td>26640.00</td>\n      <td>26676.17</td>\n      <td>232.48809</td>\n      <td>2023-06-05 13:05:00</td>\n      <td>-1.955497</td>\n      <td>-2.251786</td>\n      <td>-2.314167</td>\n      <td>-2.156630</td>\n      <td>...</td>\n      <td>26670.020353</td>\n      <td>26747.1015</td>\n      <td>26824.182647</td>\n      <td>0.576370</td>\n      <td>0.039891</td>\n      <td>32.375770</td>\n      <td>-28.630346</td>\n      <td>-11.399737</td>\n      <td>-17.230608</td>\n      <td>117.775819</td>\n    </tr>\n    <tr>\n      <th>2023-06-05 13:05:00</th>\n      <td>26676.17</td>\n      <td>26689.98</td>\n      <td>26651.25</td>\n      <td>26689.98</td>\n      <td>136.69593</td>\n      <td>2023-06-05 13:10:00</td>\n      <td>-2.156602</td>\n      <td>-2.131454</td>\n      <td>-1.843063</td>\n      <td>-1.632157</td>\n      <td>...</td>\n      <td>26663.297990</td>\n      <td>26742.5475</td>\n      <td>26821.797010</td>\n      <td>0.592685</td>\n      <td>0.168342</td>\n      <td>37.232268</td>\n      <td>-27.813717</td>\n      <td>-8.466487</td>\n      <td>-19.347230</td>\n      <td>118.854250</td>\n    </tr>\n    <tr>\n      <th>2023-06-05 13:10:00</th>\n      <td>26689.97</td>\n      <td>26732.86</td>\n      <td>26689.97</td>\n      <td>26724.37</td>\n      <td>131.74040</td>\n      <td>2023-06-05 13:15:00</td>\n      <td>-1.632389</td>\n      <td>-0.728781</td>\n      <td>-0.867181</td>\n      <td>-0.599986</td>\n      <td>...</td>\n      <td>26661.601837</td>\n      <td>26740.4730</td>\n      <td>26819.344163</td>\n      <td>0.589901</td>\n      <td>0.397916</td>\n      <td>47.368760</td>\n      <td>-22.158551</td>\n      <td>-2.249057</td>\n      <td>-19.909494</td>\n      <td>120.686377</td>\n    </tr>\n  </tbody>\n</table>\n<p>5 rows × 22 columns</p>\n</div>"
     },
     "execution_count": 14,
     "metadata": {},
     "output_type": "execute_result"
    }
   ],
   "source": [
    "df2.tail()"
   ],
   "metadata": {
    "collapsed": false
   }
  },
  {
   "cell_type": "code",
   "execution_count": 15,
   "outputs": [],
   "source": [
    "# df.ta.strategy(fast=10, slow=50, verbose=True)"
   ],
   "metadata": {
    "collapsed": false
   }
  },
  {
   "cell_type": "code",
   "execution_count": 16,
   "outputs": [
    {
     "name": "stdout",
     "output_type": "stream",
     "text": [
      "Help on function cdl_z in module pandas_ta.candles.cdl_z:\n",
      "\n",
      "cdl_z(open_, high, low, close, length=None, full=None, ddof=None, offset=None, **kwargs)\n",
      "    Candle Type: Z\n",
      "    \n",
      "    Normalizes OHLC Candles with a rolling Z Score.\n",
      "    \n",
      "    Source: Kevin Johnson\n",
      "    \n",
      "    Calculation:\n",
      "        Default values:\n",
      "            length=30, full=False, ddof=1\n",
      "        Z = ZSCORE\n",
      "    \n",
      "        open  = Z( open, length, ddof)\n",
      "        high  = Z( high, length, ddof)\n",
      "        low   = Z(  low, length, ddof)\n",
      "        close = Z(close, length, ddof)\n",
      "    \n",
      "    Args:\n",
      "        open_ (pd.Series): Series of 'open's\n",
      "        high (pd.Series): Series of 'high's\n",
      "        low (pd.Series): Series of 'low's\n",
      "        close (pd.Series): Series of 'close's\n",
      "        length (int): The period. Default: 10\n",
      "    \n",
      "    Kwargs:\n",
      "        naive (bool, optional): If True, prefills potential Doji less than\n",
      "            the length if less than a percentage of it's high-low range.\n",
      "            Default: False\n",
      "        fillna (value, optional): pd.DataFrame.fillna(value)\n",
      "        fill_method (value, optional): Type of fill method\n",
      "    \n",
      "    Returns:\n",
      "        pd.Series: CDL_DOJI column.\n",
      "\n"
     ]
    }
   ],
   "source": [
    "help(ta.cdl_z)"
   ],
   "metadata": {
    "collapsed": false
   }
  },
  {
   "cell_type": "code",
   "execution_count": 17,
   "outputs": [],
   "source": [
    "#df = df.ta.cdl_z()"
   ],
   "metadata": {
    "collapsed": false
   }
  },
  {
   "cell_type": "code",
   "execution_count": 18,
   "outputs": [],
   "source": [
    "#df = df.ta.ha()"
   ],
   "metadata": {
    "collapsed": false
   }
  },
  {
   "cell_type": "code",
   "execution_count": 19,
   "outputs": [],
   "source": [
    "#df.tail()"
   ],
   "metadata": {
    "collapsed": false
   }
  },
  {
   "cell_type": "code",
   "execution_count": 20,
   "outputs": [],
   "source": [
    "df = df.ta.cdl_pattern(name=\"doji\")"
   ],
   "metadata": {
    "collapsed": false
   }
  },
  {
   "cell_type": "code",
   "execution_count": 21,
   "outputs": [
    {
     "data": {
      "text/plain": "                     CDL_DOJI_10_0.1\ndate_open                           \n2018-12-31 16:05:00              0.0\n2018-12-31 16:10:00              0.0\n2018-12-31 16:15:00              0.0\n2018-12-31 16:20:00              0.0\n2018-12-31 16:25:00              0.0\n...                              ...\n2023-06-05 12:50:00              0.0\n2023-06-05 12:55:00              0.0\n2023-06-05 13:00:00              0.0\n2023-06-05 13:05:00              0.0\n2023-06-05 13:10:00              0.0\n\n[464844 rows x 1 columns]",
      "text/html": "<div>\n<style scoped>\n    .dataframe tbody tr th:only-of-type {\n        vertical-align: middle;\n    }\n\n    .dataframe tbody tr th {\n        vertical-align: top;\n    }\n\n    .dataframe thead th {\n        text-align: right;\n    }\n</style>\n<table border=\"1\" class=\"dataframe\">\n  <thead>\n    <tr style=\"text-align: right;\">\n      <th></th>\n      <th>CDL_DOJI_10_0.1</th>\n    </tr>\n    <tr>\n      <th>date_open</th>\n      <th></th>\n    </tr>\n  </thead>\n  <tbody>\n    <tr>\n      <th>2018-12-31 16:05:00</th>\n      <td>0.0</td>\n    </tr>\n    <tr>\n      <th>2018-12-31 16:10:00</th>\n      <td>0.0</td>\n    </tr>\n    <tr>\n      <th>2018-12-31 16:15:00</th>\n      <td>0.0</td>\n    </tr>\n    <tr>\n      <th>2018-12-31 16:20:00</th>\n      <td>0.0</td>\n    </tr>\n    <tr>\n      <th>2018-12-31 16:25:00</th>\n      <td>0.0</td>\n    </tr>\n    <tr>\n      <th>...</th>\n      <td>...</td>\n    </tr>\n    <tr>\n      <th>2023-06-05 12:50:00</th>\n      <td>0.0</td>\n    </tr>\n    <tr>\n      <th>2023-06-05 12:55:00</th>\n      <td>0.0</td>\n    </tr>\n    <tr>\n      <th>2023-06-05 13:00:00</th>\n      <td>0.0</td>\n    </tr>\n    <tr>\n      <th>2023-06-05 13:05:00</th>\n      <td>0.0</td>\n    </tr>\n    <tr>\n      <th>2023-06-05 13:10:00</th>\n      <td>0.0</td>\n    </tr>\n  </tbody>\n</table>\n<p>464844 rows × 1 columns</p>\n</div>"
     },
     "execution_count": 21,
     "metadata": {},
     "output_type": "execute_result"
    }
   ],
   "source": [
    "df"
   ],
   "metadata": {
    "collapsed": false
   }
  },
  {
   "cell_type": "code",
   "execution_count": 22,
   "outputs": [
    {
     "data": {
      "text/plain": "                         open      high       low     close      volume   \ndate_open                                                                 \n2018-12-31 16:05:00   3750.11   3752.26   3743.78   3748.61   73.484180  \\\n2018-12-31 16:10:00   3747.55   3753.95   3742.00   3745.71   49.545187   \n2018-12-31 16:15:00   3745.71   3747.13   3735.00   3739.62  151.770226   \n2018-12-31 16:20:00   3739.62   3745.00   3731.99   3742.30  107.421241   \n2018-12-31 16:25:00   3742.28   3745.00   3739.30   3741.95   43.780808   \n...                       ...       ...       ...       ...         ...   \n2023-06-05 12:50:00  26693.72  26698.57  26666.00  26675.09  201.401000   \n2023-06-05 12:55:00  26675.09  26691.23  26654.39  26690.76  230.297990   \n2023-06-05 13:00:00  26690.76  26694.36  26640.00  26676.17  232.488090   \n2023-06-05 13:05:00  26676.17  26689.98  26651.25  26689.98  136.695930   \n2023-06-05 13:10:00  26689.97  26732.86  26689.97  26724.37  131.740400   \n\n                             date_close  open_Z_30_1  high_Z_30_1  low_Z_30_1   \ndate_open                                                                       \n2018-12-31 16:05:00 2018-12-31 16:10:00          NaN          NaN         NaN  \\\n2018-12-31 16:10:00 2018-12-31 16:15:00          NaN          NaN         NaN   \n2018-12-31 16:15:00 2018-12-31 16:20:00          NaN          NaN         NaN   \n2018-12-31 16:20:00 2018-12-31 16:25:00          NaN          NaN         NaN   \n2018-12-31 16:25:00 2018-12-31 16:30:00          NaN          NaN         NaN   \n...                                 ...          ...          ...         ...   \n2023-06-05 12:50:00 2023-06-05 12:55:00    -2.449809    -2.851266   -2.175664   \n2023-06-05 12:55:00 2023-06-05 13:00:00    -2.694046    -2.688976   -2.240789   \n2023-06-05 13:00:00 2023-06-05 13:05:00    -1.955497    -2.251786   -2.314167   \n2023-06-05 13:05:00 2023-06-05 13:10:00    -2.156602    -2.131454   -1.843063   \n2023-06-05 13:10:00 2023-06-05 13:15:00    -1.632389    -0.728781   -0.867181   \n\n                     close_Z_30_1  ...  feature_BBL_20_2.0   \ndate_open                          ...                       \n2018-12-31 16:05:00           NaN  ...                 NaN  \\\n2018-12-31 16:10:00           NaN  ...                 NaN   \n2018-12-31 16:15:00           NaN  ...                 NaN   \n2018-12-31 16:20:00           NaN  ...                 NaN   \n2018-12-31 16:25:00           NaN  ...                 NaN   \n...                           ...  ...                 ...   \n2023-06-05 12:50:00     -2.694092  ...        26690.215187   \n2023-06-05 12:55:00     -1.955533  ...        26681.406921   \n2023-06-05 13:00:00     -2.156630  ...        26670.020353   \n2023-06-05 13:05:00     -1.632157  ...        26663.297990   \n2023-06-05 13:10:00     -0.599986  ...        26661.601837   \n\n                     feature_BBM_20_2.0  feature_BBU_20_2.0   \ndate_open                                                     \n2018-12-31 16:05:00                 NaN                 NaN  \\\n2018-12-31 16:10:00                 NaN                 NaN   \n2018-12-31 16:15:00                 NaN                 NaN   \n2018-12-31 16:20:00                 NaN                 NaN   \n2018-12-31 16:25:00                 NaN                 NaN   \n...                                 ...                 ...   \n2023-06-05 12:50:00          26754.6250        26819.034813   \n2023-06-05 12:55:00          26751.5890        26821.771079   \n2023-06-05 13:00:00          26747.1015        26824.182647   \n2023-06-05 13:05:00          26742.5475        26821.797010   \n2023-06-05 13:10:00          26740.4730        26819.344163   \n\n                     feature_BBB_20_2.0  feature_BBP_20_2.0  feature_RSI_14   \ndate_open                                                                     \n2018-12-31 16:05:00                 NaN                 NaN             NaN  \\\n2018-12-31 16:10:00                 NaN                 NaN             NaN   \n2018-12-31 16:15:00                 NaN                 NaN             NaN   \n2018-12-31 16:20:00                 NaN                 NaN             NaN   \n2018-12-31 16:25:00                 NaN                 NaN             NaN   \n...                                 ...                 ...             ...   \n2023-06-05 12:50:00            0.481485           -0.117414       29.238474   \n2023-06-05 12:55:00            0.524695            0.066634       35.035066   \n2023-06-05 13:00:00            0.576370            0.039891       32.375770   \n2023-06-05 13:05:00            0.592685            0.168342       37.232268   \n2023-06-05 13:10:00            0.589901            0.397916       47.368760   \n\n                     feature_MACD_8_21_9  feature_MACDh_8_21_9   \ndate_open                                                        \n2018-12-31 16:05:00                  NaN                   NaN  \\\n2018-12-31 16:10:00                  NaN                   NaN   \n2018-12-31 16:15:00                  NaN                   NaN   \n2018-12-31 16:20:00                  NaN                   NaN   \n2018-12-31 16:25:00                  NaN                   NaN   \n...                                  ...                   ...   \n2023-06-05 12:50:00           -25.207065            -13.831864   \n2023-06-05 12:55:00           -26.402567            -12.021894   \n2023-06-05 13:00:00           -28.630346            -11.399737   \n2023-06-05 13:05:00           -27.813717             -8.466487   \n2023-06-05 13:10:00           -22.158551             -2.249057   \n\n                     feature_MACDs_8_21_9  feature_VOLUME_SMA_20  \ndate_open                                                         \n2018-12-31 16:05:00                   NaN                    NaN  \n2018-12-31 16:10:00                   NaN                    NaN  \n2018-12-31 16:15:00                   NaN                    NaN  \n2018-12-31 16:20:00                   NaN                    NaN  \n2018-12-31 16:25:00                   NaN                    NaN  \n...                                   ...                    ...  \n2023-06-05 12:50:00            -11.375200             101.233168  \n2023-06-05 12:55:00            -14.380674             108.097298  \n2023-06-05 13:00:00            -17.230608             117.775819  \n2023-06-05 13:05:00            -19.347230             118.854250  \n2023-06-05 13:10:00            -19.909494             120.686377  \n\n[464844 rows x 22 columns]",
      "text/html": "<div>\n<style scoped>\n    .dataframe tbody tr th:only-of-type {\n        vertical-align: middle;\n    }\n\n    .dataframe tbody tr th {\n        vertical-align: top;\n    }\n\n    .dataframe thead th {\n        text-align: right;\n    }\n</style>\n<table border=\"1\" class=\"dataframe\">\n  <thead>\n    <tr style=\"text-align: right;\">\n      <th></th>\n      <th>open</th>\n      <th>high</th>\n      <th>low</th>\n      <th>close</th>\n      <th>volume</th>\n      <th>date_close</th>\n      <th>open_Z_30_1</th>\n      <th>high_Z_30_1</th>\n      <th>low_Z_30_1</th>\n      <th>close_Z_30_1</th>\n      <th>...</th>\n      <th>feature_BBL_20_2.0</th>\n      <th>feature_BBM_20_2.0</th>\n      <th>feature_BBU_20_2.0</th>\n      <th>feature_BBB_20_2.0</th>\n      <th>feature_BBP_20_2.0</th>\n      <th>feature_RSI_14</th>\n      <th>feature_MACD_8_21_9</th>\n      <th>feature_MACDh_8_21_9</th>\n      <th>feature_MACDs_8_21_9</th>\n      <th>feature_VOLUME_SMA_20</th>\n    </tr>\n    <tr>\n      <th>date_open</th>\n      <th></th>\n      <th></th>\n      <th></th>\n      <th></th>\n      <th></th>\n      <th></th>\n      <th></th>\n      <th></th>\n      <th></th>\n      <th></th>\n      <th></th>\n      <th></th>\n      <th></th>\n      <th></th>\n      <th></th>\n      <th></th>\n      <th></th>\n      <th></th>\n      <th></th>\n      <th></th>\n      <th></th>\n    </tr>\n  </thead>\n  <tbody>\n    <tr>\n      <th>2018-12-31 16:05:00</th>\n      <td>3750.11</td>\n      <td>3752.26</td>\n      <td>3743.78</td>\n      <td>3748.61</td>\n      <td>73.484180</td>\n      <td>2018-12-31 16:10:00</td>\n      <td>NaN</td>\n      <td>NaN</td>\n      <td>NaN</td>\n      <td>NaN</td>\n      <td>...</td>\n      <td>NaN</td>\n      <td>NaN</td>\n      <td>NaN</td>\n      <td>NaN</td>\n      <td>NaN</td>\n      <td>NaN</td>\n      <td>NaN</td>\n      <td>NaN</td>\n      <td>NaN</td>\n      <td>NaN</td>\n    </tr>\n    <tr>\n      <th>2018-12-31 16:10:00</th>\n      <td>3747.55</td>\n      <td>3753.95</td>\n      <td>3742.00</td>\n      <td>3745.71</td>\n      <td>49.545187</td>\n      <td>2018-12-31 16:15:00</td>\n      <td>NaN</td>\n      <td>NaN</td>\n      <td>NaN</td>\n      <td>NaN</td>\n      <td>...</td>\n      <td>NaN</td>\n      <td>NaN</td>\n      <td>NaN</td>\n      <td>NaN</td>\n      <td>NaN</td>\n      <td>NaN</td>\n      <td>NaN</td>\n      <td>NaN</td>\n      <td>NaN</td>\n      <td>NaN</td>\n    </tr>\n    <tr>\n      <th>2018-12-31 16:15:00</th>\n      <td>3745.71</td>\n      <td>3747.13</td>\n      <td>3735.00</td>\n      <td>3739.62</td>\n      <td>151.770226</td>\n      <td>2018-12-31 16:20:00</td>\n      <td>NaN</td>\n      <td>NaN</td>\n      <td>NaN</td>\n      <td>NaN</td>\n      <td>...</td>\n      <td>NaN</td>\n      <td>NaN</td>\n      <td>NaN</td>\n      <td>NaN</td>\n      <td>NaN</td>\n      <td>NaN</td>\n      <td>NaN</td>\n      <td>NaN</td>\n      <td>NaN</td>\n      <td>NaN</td>\n    </tr>\n    <tr>\n      <th>2018-12-31 16:20:00</th>\n      <td>3739.62</td>\n      <td>3745.00</td>\n      <td>3731.99</td>\n      <td>3742.30</td>\n      <td>107.421241</td>\n      <td>2018-12-31 16:25:00</td>\n      <td>NaN</td>\n      <td>NaN</td>\n      <td>NaN</td>\n      <td>NaN</td>\n      <td>...</td>\n      <td>NaN</td>\n      <td>NaN</td>\n      <td>NaN</td>\n      <td>NaN</td>\n      <td>NaN</td>\n      <td>NaN</td>\n      <td>NaN</td>\n      <td>NaN</td>\n      <td>NaN</td>\n      <td>NaN</td>\n    </tr>\n    <tr>\n      <th>2018-12-31 16:25:00</th>\n      <td>3742.28</td>\n      <td>3745.00</td>\n      <td>3739.30</td>\n      <td>3741.95</td>\n      <td>43.780808</td>\n      <td>2018-12-31 16:30:00</td>\n      <td>NaN</td>\n      <td>NaN</td>\n      <td>NaN</td>\n      <td>NaN</td>\n      <td>...</td>\n      <td>NaN</td>\n      <td>NaN</td>\n      <td>NaN</td>\n      <td>NaN</td>\n      <td>NaN</td>\n      <td>NaN</td>\n      <td>NaN</td>\n      <td>NaN</td>\n      <td>NaN</td>\n      <td>NaN</td>\n    </tr>\n    <tr>\n      <th>...</th>\n      <td>...</td>\n      <td>...</td>\n      <td>...</td>\n      <td>...</td>\n      <td>...</td>\n      <td>...</td>\n      <td>...</td>\n      <td>...</td>\n      <td>...</td>\n      <td>...</td>\n      <td>...</td>\n      <td>...</td>\n      <td>...</td>\n      <td>...</td>\n      <td>...</td>\n      <td>...</td>\n      <td>...</td>\n      <td>...</td>\n      <td>...</td>\n      <td>...</td>\n      <td>...</td>\n    </tr>\n    <tr>\n      <th>2023-06-05 12:50:00</th>\n      <td>26693.72</td>\n      <td>26698.57</td>\n      <td>26666.00</td>\n      <td>26675.09</td>\n      <td>201.401000</td>\n      <td>2023-06-05 12:55:00</td>\n      <td>-2.449809</td>\n      <td>-2.851266</td>\n      <td>-2.175664</td>\n      <td>-2.694092</td>\n      <td>...</td>\n      <td>26690.215187</td>\n      <td>26754.6250</td>\n      <td>26819.034813</td>\n      <td>0.481485</td>\n      <td>-0.117414</td>\n      <td>29.238474</td>\n      <td>-25.207065</td>\n      <td>-13.831864</td>\n      <td>-11.375200</td>\n      <td>101.233168</td>\n    </tr>\n    <tr>\n      <th>2023-06-05 12:55:00</th>\n      <td>26675.09</td>\n      <td>26691.23</td>\n      <td>26654.39</td>\n      <td>26690.76</td>\n      <td>230.297990</td>\n      <td>2023-06-05 13:00:00</td>\n      <td>-2.694046</td>\n      <td>-2.688976</td>\n      <td>-2.240789</td>\n      <td>-1.955533</td>\n      <td>...</td>\n      <td>26681.406921</td>\n      <td>26751.5890</td>\n      <td>26821.771079</td>\n      <td>0.524695</td>\n      <td>0.066634</td>\n      <td>35.035066</td>\n      <td>-26.402567</td>\n      <td>-12.021894</td>\n      <td>-14.380674</td>\n      <td>108.097298</td>\n    </tr>\n    <tr>\n      <th>2023-06-05 13:00:00</th>\n      <td>26690.76</td>\n      <td>26694.36</td>\n      <td>26640.00</td>\n      <td>26676.17</td>\n      <td>232.488090</td>\n      <td>2023-06-05 13:05:00</td>\n      <td>-1.955497</td>\n      <td>-2.251786</td>\n      <td>-2.314167</td>\n      <td>-2.156630</td>\n      <td>...</td>\n      <td>26670.020353</td>\n      <td>26747.1015</td>\n      <td>26824.182647</td>\n      <td>0.576370</td>\n      <td>0.039891</td>\n      <td>32.375770</td>\n      <td>-28.630346</td>\n      <td>-11.399737</td>\n      <td>-17.230608</td>\n      <td>117.775819</td>\n    </tr>\n    <tr>\n      <th>2023-06-05 13:05:00</th>\n      <td>26676.17</td>\n      <td>26689.98</td>\n      <td>26651.25</td>\n      <td>26689.98</td>\n      <td>136.695930</td>\n      <td>2023-06-05 13:10:00</td>\n      <td>-2.156602</td>\n      <td>-2.131454</td>\n      <td>-1.843063</td>\n      <td>-1.632157</td>\n      <td>...</td>\n      <td>26663.297990</td>\n      <td>26742.5475</td>\n      <td>26821.797010</td>\n      <td>0.592685</td>\n      <td>0.168342</td>\n      <td>37.232268</td>\n      <td>-27.813717</td>\n      <td>-8.466487</td>\n      <td>-19.347230</td>\n      <td>118.854250</td>\n    </tr>\n    <tr>\n      <th>2023-06-05 13:10:00</th>\n      <td>26689.97</td>\n      <td>26732.86</td>\n      <td>26689.97</td>\n      <td>26724.37</td>\n      <td>131.740400</td>\n      <td>2023-06-05 13:15:00</td>\n      <td>-1.632389</td>\n      <td>-0.728781</td>\n      <td>-0.867181</td>\n      <td>-0.599986</td>\n      <td>...</td>\n      <td>26661.601837</td>\n      <td>26740.4730</td>\n      <td>26819.344163</td>\n      <td>0.589901</td>\n      <td>0.397916</td>\n      <td>47.368760</td>\n      <td>-22.158551</td>\n      <td>-2.249057</td>\n      <td>-19.909494</td>\n      <td>120.686377</td>\n    </tr>\n  </tbody>\n</table>\n<p>464844 rows × 22 columns</p>\n</div>"
     },
     "execution_count": 22,
     "metadata": {},
     "output_type": "execute_result"
    }
   ],
   "source": [
    "df2"
   ],
   "metadata": {
    "collapsed": false
   }
  },
  {
   "cell_type": "code",
   "execution_count": 23,
   "outputs": [],
   "source": [
    "import legendary_ta as lta\n"
   ],
   "metadata": {
    "collapsed": false
   }
  },
  {
   "cell_type": "code",
   "execution_count": 24,
   "outputs": [
    {
     "ename": "KeyError",
     "evalue": "'high'",
     "output_type": "error",
     "traceback": [
      "\u001B[1;31m---------------------------------------------------------------------------\u001B[0m",
      "\u001B[1;31mKeyError\u001B[0m                                  Traceback (most recent call last)",
      "File \u001B[1;32mC:\\ProgramData\\Anaconda3\\envs\\backtrader\\lib\\site-packages\\pandas\\core\\indexes\\base.py:3652\u001B[0m, in \u001B[0;36mIndex.get_loc\u001B[1;34m(self, key)\u001B[0m\n\u001B[0;32m   3651\u001B[0m \u001B[38;5;28;01mtry\u001B[39;00m:\n\u001B[1;32m-> 3652\u001B[0m     \u001B[38;5;28;01mreturn\u001B[39;00m \u001B[38;5;28;43mself\u001B[39;49m\u001B[38;5;241;43m.\u001B[39;49m\u001B[43m_engine\u001B[49m\u001B[38;5;241;43m.\u001B[39;49m\u001B[43mget_loc\u001B[49m\u001B[43m(\u001B[49m\u001B[43mcasted_key\u001B[49m\u001B[43m)\u001B[49m\n\u001B[0;32m   3653\u001B[0m \u001B[38;5;28;01mexcept\u001B[39;00m \u001B[38;5;167;01mKeyError\u001B[39;00m \u001B[38;5;28;01mas\u001B[39;00m err:\n",
      "File \u001B[1;32mC:\\ProgramData\\Anaconda3\\envs\\backtrader\\lib\\site-packages\\pandas\\_libs\\index.pyx:147\u001B[0m, in \u001B[0;36mpandas._libs.index.IndexEngine.get_loc\u001B[1;34m()\u001B[0m\n",
      "File \u001B[1;32mC:\\ProgramData\\Anaconda3\\envs\\backtrader\\lib\\site-packages\\pandas\\_libs\\index.pyx:176\u001B[0m, in \u001B[0;36mpandas._libs.index.IndexEngine.get_loc\u001B[1;34m()\u001B[0m\n",
      "File \u001B[1;32mpandas\\_libs\\hashtable_class_helper.pxi:7080\u001B[0m, in \u001B[0;36mpandas._libs.hashtable.PyObjectHashTable.get_item\u001B[1;34m()\u001B[0m\n",
      "File \u001B[1;32mpandas\\_libs\\hashtable_class_helper.pxi:7088\u001B[0m, in \u001B[0;36mpandas._libs.hashtable.PyObjectHashTable.get_item\u001B[1;34m()\u001B[0m\n",
      "\u001B[1;31mKeyError\u001B[0m: 'high'",
      "\nThe above exception was the direct cause of the following exception:\n",
      "\u001B[1;31mKeyError\u001B[0m                                  Traceback (most recent call last)",
      "Cell \u001B[1;32mIn[24], line 1\u001B[0m\n\u001B[1;32m----> 1\u001B[0m dataframe \u001B[38;5;241m=\u001B[39m \u001B[43mlta\u001B[49m\u001B[38;5;241;43m.\u001B[39;49m\u001B[43mbreakouts\u001B[49m\u001B[43m(\u001B[49m\u001B[43mdf\u001B[49m\u001B[43m)\u001B[49m\n",
      "File \u001B[1;32mD:\\rl\\backtrader\\example\\gym\\legendary_ta.py:113\u001B[0m, in \u001B[0;36mbreakouts\u001B[1;34m(df, length)\u001B[0m\n\u001B[0;32m    103\u001B[0m \u001B[38;5;28;01mdef\u001B[39;00m \u001B[38;5;21mbreakouts\u001B[39m(df: DataFrame, length\u001B[38;5;241m=\u001B[39m\u001B[38;5;241m20\u001B[39m):\n\u001B[0;32m    104\u001B[0m \u001B[38;5;250m    \u001B[39m\u001B[38;5;124;03m\"\"\" \u001B[39;00m\n\u001B[0;32m    105\u001B[0m \u001B[38;5;124;03m    S/R Breakouts and Retests\u001B[39;00m\n\u001B[0;32m    106\u001B[0m \u001B[38;5;124;03m    \u001B[39;00m\n\u001B[1;32m   (...)\u001B[0m\n\u001B[0;32m    110\u001B[0m \u001B[38;5;124;03m    :return: DataFrame with event columns populated\u001B[39;00m\n\u001B[0;32m    111\u001B[0m \u001B[38;5;124;03m    \"\"\"\u001B[39;00m\n\u001B[1;32m--> 113\u001B[0m     high \u001B[38;5;241m=\u001B[39m \u001B[43mdf\u001B[49m\u001B[43m[\u001B[49m\u001B[38;5;124;43m'\u001B[39;49m\u001B[38;5;124;43mhigh\u001B[39;49m\u001B[38;5;124;43m'\u001B[39;49m\u001B[43m]\u001B[49m\n\u001B[0;32m    114\u001B[0m     low \u001B[38;5;241m=\u001B[39m df[\u001B[38;5;124m'\u001B[39m\u001B[38;5;124mlow\u001B[39m\u001B[38;5;124m'\u001B[39m]\n\u001B[0;32m    115\u001B[0m     close \u001B[38;5;241m=\u001B[39m df[\u001B[38;5;124m'\u001B[39m\u001B[38;5;124mclose\u001B[39m\u001B[38;5;124m'\u001B[39m]\n",
      "File \u001B[1;32mC:\\ProgramData\\Anaconda3\\envs\\backtrader\\lib\\site-packages\\pandas\\core\\frame.py:3761\u001B[0m, in \u001B[0;36mDataFrame.__getitem__\u001B[1;34m(self, key)\u001B[0m\n\u001B[0;32m   3759\u001B[0m \u001B[38;5;28;01mif\u001B[39;00m \u001B[38;5;28mself\u001B[39m\u001B[38;5;241m.\u001B[39mcolumns\u001B[38;5;241m.\u001B[39mnlevels \u001B[38;5;241m>\u001B[39m \u001B[38;5;241m1\u001B[39m:\n\u001B[0;32m   3760\u001B[0m     \u001B[38;5;28;01mreturn\u001B[39;00m \u001B[38;5;28mself\u001B[39m\u001B[38;5;241m.\u001B[39m_getitem_multilevel(key)\n\u001B[1;32m-> 3761\u001B[0m indexer \u001B[38;5;241m=\u001B[39m \u001B[38;5;28;43mself\u001B[39;49m\u001B[38;5;241;43m.\u001B[39;49m\u001B[43mcolumns\u001B[49m\u001B[38;5;241;43m.\u001B[39;49m\u001B[43mget_loc\u001B[49m\u001B[43m(\u001B[49m\u001B[43mkey\u001B[49m\u001B[43m)\u001B[49m\n\u001B[0;32m   3762\u001B[0m \u001B[38;5;28;01mif\u001B[39;00m is_integer(indexer):\n\u001B[0;32m   3763\u001B[0m     indexer \u001B[38;5;241m=\u001B[39m [indexer]\n",
      "File \u001B[1;32mC:\\ProgramData\\Anaconda3\\envs\\backtrader\\lib\\site-packages\\pandas\\core\\indexes\\base.py:3654\u001B[0m, in \u001B[0;36mIndex.get_loc\u001B[1;34m(self, key)\u001B[0m\n\u001B[0;32m   3652\u001B[0m     \u001B[38;5;28;01mreturn\u001B[39;00m \u001B[38;5;28mself\u001B[39m\u001B[38;5;241m.\u001B[39m_engine\u001B[38;5;241m.\u001B[39mget_loc(casted_key)\n\u001B[0;32m   3653\u001B[0m \u001B[38;5;28;01mexcept\u001B[39;00m \u001B[38;5;167;01mKeyError\u001B[39;00m \u001B[38;5;28;01mas\u001B[39;00m err:\n\u001B[1;32m-> 3654\u001B[0m     \u001B[38;5;28;01mraise\u001B[39;00m \u001B[38;5;167;01mKeyError\u001B[39;00m(key) \u001B[38;5;28;01mfrom\u001B[39;00m \u001B[38;5;21;01merr\u001B[39;00m\n\u001B[0;32m   3655\u001B[0m \u001B[38;5;28;01mexcept\u001B[39;00m \u001B[38;5;167;01mTypeError\u001B[39;00m:\n\u001B[0;32m   3656\u001B[0m     \u001B[38;5;66;03m# If we have a listlike key, _check_indexing_error will raise\u001B[39;00m\n\u001B[0;32m   3657\u001B[0m     \u001B[38;5;66;03m#  InvalidIndexError. Otherwise we fall through and re-raise\u001B[39;00m\n\u001B[0;32m   3658\u001B[0m     \u001B[38;5;66;03m#  the TypeError.\u001B[39;00m\n\u001B[0;32m   3659\u001B[0m     \u001B[38;5;28mself\u001B[39m\u001B[38;5;241m.\u001B[39m_check_indexing_error(key)\n",
      "\u001B[1;31mKeyError\u001B[0m: 'high'"
     ]
    }
   ],
   "source": [
    "dataframe = lta.breakouts(df)"
   ],
   "metadata": {
    "collapsed": false
   }
  },
  {
   "cell_type": "code",
   "execution_count": null,
   "outputs": [],
   "source": [
    "dataframe"
   ],
   "metadata": {
    "collapsed": false
   }
  },
  {
   "cell_type": "code",
   "execution_count": null,
   "outputs": [],
   "source": [
    "help(ta.xsignals)"
   ],
   "metadata": {
    "collapsed": false
   }
  },
  {
   "cell_type": "code",
   "execution_count": null,
   "outputs": [],
   "source": [
    "df = pd.read_csv(\"data/BTC_USD-Hourly.csv\", parse_dates=[\"date\"], index_col= \"date\")"
   ],
   "metadata": {
    "collapsed": false
   }
  },
  {
   "cell_type": "code",
   "execution_count": null,
   "outputs": [],
   "source": [
    "df.tail()"
   ],
   "metadata": {
    "collapsed": false
   }
  },
  {
   "cell_type": "code",
   "execution_count": null,
   "outputs": [],
   "source": [
    "df.head()"
   ],
   "metadata": {
    "collapsed": false
   }
  },
  {
   "cell_type": "code",
   "execution_count": null,
   "outputs": [],
   "source": [
    "df1 = pd.read_pickle(\"./data/binance-BTCUSDT-1h.pkl\")"
   ],
   "metadata": {
    "collapsed": false
   }
  },
  {
   "cell_type": "code",
   "execution_count": null,
   "outputs": [],
   "source": [
    "df1.head()"
   ],
   "metadata": {
    "collapsed": false
   }
  },
  {
   "cell_type": "code",
   "execution_count": null,
   "outputs": [],
   "source": [
    "df1.tail()"
   ],
   "metadata": {
    "collapsed": false
   }
  },
  {
   "cell_type": "code",
   "execution_count": 3,
   "outputs": [],
   "source": [
    "from pandas_ta.statistics import zscore\n",
    "df['feature_z_close'] = zscore(df['close'], length=15 )"
   ],
   "metadata": {
    "collapsed": false
   }
  },
  {
   "cell_type": "code",
   "execution_count": 4,
   "outputs": [
    {
     "data": {
      "text/plain": "                         open      high       low     close      volume   \ndate_open                                                                 \n2018-12-31 16:05:00   3750.11   3752.26   3743.78   3748.61   73.484180  \\\n2018-12-31 16:10:00   3747.55   3753.95   3742.00   3745.71   49.545187   \n2018-12-31 16:15:00   3745.71   3747.13   3735.00   3739.62  151.770226   \n2018-12-31 16:20:00   3739.62   3745.00   3731.99   3742.30  107.421241   \n2018-12-31 16:25:00   3742.28   3745.00   3739.30   3741.95   43.780808   \n...                       ...       ...       ...       ...         ...   \n2023-06-05 12:50:00  26693.72  26698.57  26666.00  26675.09  201.401000   \n2023-06-05 12:55:00  26675.09  26691.23  26654.39  26690.76  230.297990   \n2023-06-05 13:00:00  26690.76  26694.36  26640.00  26676.17  232.488090   \n2023-06-05 13:05:00  26676.17  26689.98  26651.25  26689.98  136.695930   \n2023-06-05 13:10:00  26689.97  26732.86  26689.97  26724.37  131.740400   \n\n                             date_close  feature_z_close  \ndate_open                                                 \n2018-12-31 16:05:00 2018-12-31 16:10:00              NaN  \n2018-12-31 16:10:00 2018-12-31 16:15:00              NaN  \n2018-12-31 16:15:00 2018-12-31 16:20:00              NaN  \n2018-12-31 16:20:00 2018-12-31 16:25:00              NaN  \n2018-12-31 16:25:00 2018-12-31 16:30:00              NaN  \n...                                 ...              ...  \n2023-06-05 12:50:00 2023-06-05 12:55:00        -2.121742  \n2023-06-05 12:55:00 2023-06-05 13:00:00        -1.440410  \n2023-06-05 13:00:00 2023-06-05 13:05:00        -1.552302  \n2023-06-05 13:05:00 2023-06-05 13:10:00        -1.055762  \n2023-06-05 13:10:00 2023-06-05 13:15:00        -0.067237  \n\n[464844 rows x 7 columns]",
      "text/html": "<div>\n<style scoped>\n    .dataframe tbody tr th:only-of-type {\n        vertical-align: middle;\n    }\n\n    .dataframe tbody tr th {\n        vertical-align: top;\n    }\n\n    .dataframe thead th {\n        text-align: right;\n    }\n</style>\n<table border=\"1\" class=\"dataframe\">\n  <thead>\n    <tr style=\"text-align: right;\">\n      <th></th>\n      <th>open</th>\n      <th>high</th>\n      <th>low</th>\n      <th>close</th>\n      <th>volume</th>\n      <th>date_close</th>\n      <th>feature_z_close</th>\n    </tr>\n    <tr>\n      <th>date_open</th>\n      <th></th>\n      <th></th>\n      <th></th>\n      <th></th>\n      <th></th>\n      <th></th>\n      <th></th>\n    </tr>\n  </thead>\n  <tbody>\n    <tr>\n      <th>2018-12-31 16:05:00</th>\n      <td>3750.11</td>\n      <td>3752.26</td>\n      <td>3743.78</td>\n      <td>3748.61</td>\n      <td>73.484180</td>\n      <td>2018-12-31 16:10:00</td>\n      <td>NaN</td>\n    </tr>\n    <tr>\n      <th>2018-12-31 16:10:00</th>\n      <td>3747.55</td>\n      <td>3753.95</td>\n      <td>3742.00</td>\n      <td>3745.71</td>\n      <td>49.545187</td>\n      <td>2018-12-31 16:15:00</td>\n      <td>NaN</td>\n    </tr>\n    <tr>\n      <th>2018-12-31 16:15:00</th>\n      <td>3745.71</td>\n      <td>3747.13</td>\n      <td>3735.00</td>\n      <td>3739.62</td>\n      <td>151.770226</td>\n      <td>2018-12-31 16:20:00</td>\n      <td>NaN</td>\n    </tr>\n    <tr>\n      <th>2018-12-31 16:20:00</th>\n      <td>3739.62</td>\n      <td>3745.00</td>\n      <td>3731.99</td>\n      <td>3742.30</td>\n      <td>107.421241</td>\n      <td>2018-12-31 16:25:00</td>\n      <td>NaN</td>\n    </tr>\n    <tr>\n      <th>2018-12-31 16:25:00</th>\n      <td>3742.28</td>\n      <td>3745.00</td>\n      <td>3739.30</td>\n      <td>3741.95</td>\n      <td>43.780808</td>\n      <td>2018-12-31 16:30:00</td>\n      <td>NaN</td>\n    </tr>\n    <tr>\n      <th>...</th>\n      <td>...</td>\n      <td>...</td>\n      <td>...</td>\n      <td>...</td>\n      <td>...</td>\n      <td>...</td>\n      <td>...</td>\n    </tr>\n    <tr>\n      <th>2023-06-05 12:50:00</th>\n      <td>26693.72</td>\n      <td>26698.57</td>\n      <td>26666.00</td>\n      <td>26675.09</td>\n      <td>201.401000</td>\n      <td>2023-06-05 12:55:00</td>\n      <td>-2.121742</td>\n    </tr>\n    <tr>\n      <th>2023-06-05 12:55:00</th>\n      <td>26675.09</td>\n      <td>26691.23</td>\n      <td>26654.39</td>\n      <td>26690.76</td>\n      <td>230.297990</td>\n      <td>2023-06-05 13:00:00</td>\n      <td>-1.440410</td>\n    </tr>\n    <tr>\n      <th>2023-06-05 13:00:00</th>\n      <td>26690.76</td>\n      <td>26694.36</td>\n      <td>26640.00</td>\n      <td>26676.17</td>\n      <td>232.488090</td>\n      <td>2023-06-05 13:05:00</td>\n      <td>-1.552302</td>\n    </tr>\n    <tr>\n      <th>2023-06-05 13:05:00</th>\n      <td>26676.17</td>\n      <td>26689.98</td>\n      <td>26651.25</td>\n      <td>26689.98</td>\n      <td>136.695930</td>\n      <td>2023-06-05 13:10:00</td>\n      <td>-1.055762</td>\n    </tr>\n    <tr>\n      <th>2023-06-05 13:10:00</th>\n      <td>26689.97</td>\n      <td>26732.86</td>\n      <td>26689.97</td>\n      <td>26724.37</td>\n      <td>131.740400</td>\n      <td>2023-06-05 13:15:00</td>\n      <td>-0.067237</td>\n    </tr>\n  </tbody>\n</table>\n<p>464844 rows × 7 columns</p>\n</div>"
     },
     "execution_count": 4,
     "metadata": {},
     "output_type": "execute_result"
    }
   ],
   "source": [
    "df"
   ],
   "metadata": {
    "collapsed": false
   }
  },
  {
   "cell_type": "code",
   "execution_count": 5,
   "outputs": [],
   "source": [
    "import custom_indicator as cta\n",
    "cta.NormalizedScore(df, 30)"
   ],
   "metadata": {
    "collapsed": false
   }
  },
  {
   "cell_type": "code",
   "execution_count": 6,
   "outputs": [
    {
     "data": {
      "text/plain": "                         open      high       low     close      volume   \ndate_open                                                                 \n2018-12-31 16:05:00   3750.11   3752.26   3743.78   3748.61   73.484180  \\\n2018-12-31 16:10:00   3747.55   3753.95   3742.00   3745.71   49.545187   \n2018-12-31 16:15:00   3745.71   3747.13   3735.00   3739.62  151.770226   \n2018-12-31 16:20:00   3739.62   3745.00   3731.99   3742.30  107.421241   \n2018-12-31 16:25:00   3742.28   3745.00   3739.30   3741.95   43.780808   \n...                       ...       ...       ...       ...         ...   \n2023-06-05 12:50:00  26693.72  26698.57  26666.00  26675.09  201.401000   \n2023-06-05 12:55:00  26675.09  26691.23  26654.39  26690.76  230.297990   \n2023-06-05 13:00:00  26690.76  26694.36  26640.00  26676.17  232.488090   \n2023-06-05 13:05:00  26676.17  26689.98  26651.25  26689.98  136.695930   \n2023-06-05 13:10:00  26689.97  26732.86  26689.97  26724.37  131.740400   \n\n                             date_close  feature_z_close  feature_normal_open   \ndate_open                                                                       \n2018-12-31 16:05:00 2018-12-31 16:10:00              NaN                  NaN  \\\n2018-12-31 16:10:00 2018-12-31 16:15:00              NaN                  NaN   \n2018-12-31 16:15:00 2018-12-31 16:20:00              NaN                  NaN   \n2018-12-31 16:20:00 2018-12-31 16:25:00              NaN                  NaN   \n2018-12-31 16:25:00 2018-12-31 16:30:00              NaN                  NaN   \n...                                 ...              ...                  ...   \n2023-06-05 12:50:00 2023-06-05 12:55:00        -2.121742             0.207392   \n2023-06-05 12:55:00 2023-06-05 13:00:00        -1.440410             0.142493   \n2023-06-05 13:00:00 2023-06-05 13:05:00        -1.552302             0.317926   \n2023-06-05 13:05:00 2023-06-05 13:10:00        -1.055762             0.226544   \n2023-06-05 13:10:00 2023-06-05 13:15:00        -0.067237             0.312978   \n\n                     feature_normal_low  feature_normal_high   \ndate_open                                                      \n2018-12-31 16:05:00                 NaN                  NaN  \\\n2018-12-31 16:10:00                 NaN                  NaN   \n2018-12-31 16:15:00                 NaN                  NaN   \n2018-12-31 16:20:00                 NaN                  NaN   \n2018-12-31 16:25:00                 NaN                  NaN   \n...                                 ...                  ...   \n2023-06-05 12:50:00            0.000000             0.243678   \n2023-06-05 12:55:00            0.000000             0.253597   \n2023-06-05 13:00:00            0.000000             0.340474   \n2023-06-05 13:05:00            0.070462             0.313040   \n2023-06-05 13:10:00            0.312978             0.581611   \n\n                     feature_normal_close  feature_normal_volume  \ndate_open                                                         \n2018-12-31 16:05:00                   NaN                    NaN  \n2018-12-31 16:10:00                   NaN                    NaN  \n2018-12-31 16:15:00                   NaN                    NaN  \n2018-12-31 16:20:00                   NaN                    NaN  \n2018-12-31 16:25:00                   NaN                    NaN  \n...                                   ...                    ...  \n2023-06-05 12:50:00              0.068008               0.511312  \n2023-06-05 12:55:00              0.250361               0.597049  \n2023-06-05 13:00:00              0.226544               0.603547  \n2023-06-05 13:05:00              0.313040               0.319333  \n2023-06-05 13:10:00              0.528435               0.304630  \n\n[464844 rows x 12 columns]",
      "text/html": "<div>\n<style scoped>\n    .dataframe tbody tr th:only-of-type {\n        vertical-align: middle;\n    }\n\n    .dataframe tbody tr th {\n        vertical-align: top;\n    }\n\n    .dataframe thead th {\n        text-align: right;\n    }\n</style>\n<table border=\"1\" class=\"dataframe\">\n  <thead>\n    <tr style=\"text-align: right;\">\n      <th></th>\n      <th>open</th>\n      <th>high</th>\n      <th>low</th>\n      <th>close</th>\n      <th>volume</th>\n      <th>date_close</th>\n      <th>feature_z_close</th>\n      <th>feature_normal_open</th>\n      <th>feature_normal_low</th>\n      <th>feature_normal_high</th>\n      <th>feature_normal_close</th>\n      <th>feature_normal_volume</th>\n    </tr>\n    <tr>\n      <th>date_open</th>\n      <th></th>\n      <th></th>\n      <th></th>\n      <th></th>\n      <th></th>\n      <th></th>\n      <th></th>\n      <th></th>\n      <th></th>\n      <th></th>\n      <th></th>\n      <th></th>\n    </tr>\n  </thead>\n  <tbody>\n    <tr>\n      <th>2018-12-31 16:05:00</th>\n      <td>3750.11</td>\n      <td>3752.26</td>\n      <td>3743.78</td>\n      <td>3748.61</td>\n      <td>73.484180</td>\n      <td>2018-12-31 16:10:00</td>\n      <td>NaN</td>\n      <td>NaN</td>\n      <td>NaN</td>\n      <td>NaN</td>\n      <td>NaN</td>\n      <td>NaN</td>\n    </tr>\n    <tr>\n      <th>2018-12-31 16:10:00</th>\n      <td>3747.55</td>\n      <td>3753.95</td>\n      <td>3742.00</td>\n      <td>3745.71</td>\n      <td>49.545187</td>\n      <td>2018-12-31 16:15:00</td>\n      <td>NaN</td>\n      <td>NaN</td>\n      <td>NaN</td>\n      <td>NaN</td>\n      <td>NaN</td>\n      <td>NaN</td>\n    </tr>\n    <tr>\n      <th>2018-12-31 16:15:00</th>\n      <td>3745.71</td>\n      <td>3747.13</td>\n      <td>3735.00</td>\n      <td>3739.62</td>\n      <td>151.770226</td>\n      <td>2018-12-31 16:20:00</td>\n      <td>NaN</td>\n      <td>NaN</td>\n      <td>NaN</td>\n      <td>NaN</td>\n      <td>NaN</td>\n      <td>NaN</td>\n    </tr>\n    <tr>\n      <th>2018-12-31 16:20:00</th>\n      <td>3739.62</td>\n      <td>3745.00</td>\n      <td>3731.99</td>\n      <td>3742.30</td>\n      <td>107.421241</td>\n      <td>2018-12-31 16:25:00</td>\n      <td>NaN</td>\n      <td>NaN</td>\n      <td>NaN</td>\n      <td>NaN</td>\n      <td>NaN</td>\n      <td>NaN</td>\n    </tr>\n    <tr>\n      <th>2018-12-31 16:25:00</th>\n      <td>3742.28</td>\n      <td>3745.00</td>\n      <td>3739.30</td>\n      <td>3741.95</td>\n      <td>43.780808</td>\n      <td>2018-12-31 16:30:00</td>\n      <td>NaN</td>\n      <td>NaN</td>\n      <td>NaN</td>\n      <td>NaN</td>\n      <td>NaN</td>\n      <td>NaN</td>\n    </tr>\n    <tr>\n      <th>...</th>\n      <td>...</td>\n      <td>...</td>\n      <td>...</td>\n      <td>...</td>\n      <td>...</td>\n      <td>...</td>\n      <td>...</td>\n      <td>...</td>\n      <td>...</td>\n      <td>...</td>\n      <td>...</td>\n      <td>...</td>\n    </tr>\n    <tr>\n      <th>2023-06-05 12:50:00</th>\n      <td>26693.72</td>\n      <td>26698.57</td>\n      <td>26666.00</td>\n      <td>26675.09</td>\n      <td>201.401000</td>\n      <td>2023-06-05 12:55:00</td>\n      <td>-2.121742</td>\n      <td>0.207392</td>\n      <td>0.000000</td>\n      <td>0.243678</td>\n      <td>0.068008</td>\n      <td>0.511312</td>\n    </tr>\n    <tr>\n      <th>2023-06-05 12:55:00</th>\n      <td>26675.09</td>\n      <td>26691.23</td>\n      <td>26654.39</td>\n      <td>26690.76</td>\n      <td>230.297990</td>\n      <td>2023-06-05 13:00:00</td>\n      <td>-1.440410</td>\n      <td>0.142493</td>\n      <td>0.000000</td>\n      <td>0.253597</td>\n      <td>0.250361</td>\n      <td>0.597049</td>\n    </tr>\n    <tr>\n      <th>2023-06-05 13:00:00</th>\n      <td>26690.76</td>\n      <td>26694.36</td>\n      <td>26640.00</td>\n      <td>26676.17</td>\n      <td>232.488090</td>\n      <td>2023-06-05 13:05:00</td>\n      <td>-1.552302</td>\n      <td>0.317926</td>\n      <td>0.000000</td>\n      <td>0.340474</td>\n      <td>0.226544</td>\n      <td>0.603547</td>\n    </tr>\n    <tr>\n      <th>2023-06-05 13:05:00</th>\n      <td>26676.17</td>\n      <td>26689.98</td>\n      <td>26651.25</td>\n      <td>26689.98</td>\n      <td>136.695930</td>\n      <td>2023-06-05 13:10:00</td>\n      <td>-1.055762</td>\n      <td>0.226544</td>\n      <td>0.070462</td>\n      <td>0.313040</td>\n      <td>0.313040</td>\n      <td>0.319333</td>\n    </tr>\n    <tr>\n      <th>2023-06-05 13:10:00</th>\n      <td>26689.97</td>\n      <td>26732.86</td>\n      <td>26689.97</td>\n      <td>26724.37</td>\n      <td>131.740400</td>\n      <td>2023-06-05 13:15:00</td>\n      <td>-0.067237</td>\n      <td>0.312978</td>\n      <td>0.312978</td>\n      <td>0.581611</td>\n      <td>0.528435</td>\n      <td>0.304630</td>\n    </tr>\n  </tbody>\n</table>\n<p>464844 rows × 12 columns</p>\n</div>"
     },
     "execution_count": 6,
     "metadata": {},
     "output_type": "execute_result"
    }
   ],
   "source": [
    "df"
   ],
   "metadata": {
    "collapsed": false
   }
  },
  {
   "cell_type": "code",
   "execution_count": 7,
   "outputs": [
    {
     "data": {
      "text/plain": "                         open      high       low     close     volume   \ndate_open                                                                \n2023-06-05 12:50:00  26693.72  26698.57  26666.00  26675.09  201.40100  \\\n2023-06-05 12:55:00  26675.09  26691.23  26654.39  26690.76  230.29799   \n2023-06-05 13:00:00  26690.76  26694.36  26640.00  26676.17  232.48809   \n2023-06-05 13:05:00  26676.17  26689.98  26651.25  26689.98  136.69593   \n2023-06-05 13:10:00  26689.97  26732.86  26689.97  26724.37  131.74040   \n\n                             date_close  feature_z_close  feature_normal_open   \ndate_open                                                                       \n2023-06-05 12:50:00 2023-06-05 12:55:00        -2.121742             0.207392  \\\n2023-06-05 12:55:00 2023-06-05 13:00:00        -1.440410             0.142493   \n2023-06-05 13:00:00 2023-06-05 13:05:00        -1.552302             0.317926   \n2023-06-05 13:05:00 2023-06-05 13:10:00        -1.055762             0.226544   \n2023-06-05 13:10:00 2023-06-05 13:15:00        -0.067237             0.312978   \n\n                     feature_normal_low  feature_normal_high   \ndate_open                                                      \n2023-06-05 12:50:00            0.000000             0.243678  \\\n2023-06-05 12:55:00            0.000000             0.253597   \n2023-06-05 13:00:00            0.000000             0.340474   \n2023-06-05 13:05:00            0.070462             0.313040   \n2023-06-05 13:10:00            0.312978             0.581611   \n\n                     feature_normal_close  feature_normal_volume  \ndate_open                                                         \n2023-06-05 12:50:00              0.068008               0.511312  \n2023-06-05 12:55:00              0.250361               0.597049  \n2023-06-05 13:00:00              0.226544               0.603547  \n2023-06-05 13:05:00              0.313040               0.319333  \n2023-06-05 13:10:00              0.528435               0.304630  ",
      "text/html": "<div>\n<style scoped>\n    .dataframe tbody tr th:only-of-type {\n        vertical-align: middle;\n    }\n\n    .dataframe tbody tr th {\n        vertical-align: top;\n    }\n\n    .dataframe thead th {\n        text-align: right;\n    }\n</style>\n<table border=\"1\" class=\"dataframe\">\n  <thead>\n    <tr style=\"text-align: right;\">\n      <th></th>\n      <th>open</th>\n      <th>high</th>\n      <th>low</th>\n      <th>close</th>\n      <th>volume</th>\n      <th>date_close</th>\n      <th>feature_z_close</th>\n      <th>feature_normal_open</th>\n      <th>feature_normal_low</th>\n      <th>feature_normal_high</th>\n      <th>feature_normal_close</th>\n      <th>feature_normal_volume</th>\n    </tr>\n    <tr>\n      <th>date_open</th>\n      <th></th>\n      <th></th>\n      <th></th>\n      <th></th>\n      <th></th>\n      <th></th>\n      <th></th>\n      <th></th>\n      <th></th>\n      <th></th>\n      <th></th>\n      <th></th>\n    </tr>\n  </thead>\n  <tbody>\n    <tr>\n      <th>2023-06-05 12:50:00</th>\n      <td>26693.72</td>\n      <td>26698.57</td>\n      <td>26666.00</td>\n      <td>26675.09</td>\n      <td>201.40100</td>\n      <td>2023-06-05 12:55:00</td>\n      <td>-2.121742</td>\n      <td>0.207392</td>\n      <td>0.000000</td>\n      <td>0.243678</td>\n      <td>0.068008</td>\n      <td>0.511312</td>\n    </tr>\n    <tr>\n      <th>2023-06-05 12:55:00</th>\n      <td>26675.09</td>\n      <td>26691.23</td>\n      <td>26654.39</td>\n      <td>26690.76</td>\n      <td>230.29799</td>\n      <td>2023-06-05 13:00:00</td>\n      <td>-1.440410</td>\n      <td>0.142493</td>\n      <td>0.000000</td>\n      <td>0.253597</td>\n      <td>0.250361</td>\n      <td>0.597049</td>\n    </tr>\n    <tr>\n      <th>2023-06-05 13:00:00</th>\n      <td>26690.76</td>\n      <td>26694.36</td>\n      <td>26640.00</td>\n      <td>26676.17</td>\n      <td>232.48809</td>\n      <td>2023-06-05 13:05:00</td>\n      <td>-1.552302</td>\n      <td>0.317926</td>\n      <td>0.000000</td>\n      <td>0.340474</td>\n      <td>0.226544</td>\n      <td>0.603547</td>\n    </tr>\n    <tr>\n      <th>2023-06-05 13:05:00</th>\n      <td>26676.17</td>\n      <td>26689.98</td>\n      <td>26651.25</td>\n      <td>26689.98</td>\n      <td>136.69593</td>\n      <td>2023-06-05 13:10:00</td>\n      <td>-1.055762</td>\n      <td>0.226544</td>\n      <td>0.070462</td>\n      <td>0.313040</td>\n      <td>0.313040</td>\n      <td>0.319333</td>\n    </tr>\n    <tr>\n      <th>2023-06-05 13:10:00</th>\n      <td>26689.97</td>\n      <td>26732.86</td>\n      <td>26689.97</td>\n      <td>26724.37</td>\n      <td>131.74040</td>\n      <td>2023-06-05 13:15:00</td>\n      <td>-0.067237</td>\n      <td>0.312978</td>\n      <td>0.312978</td>\n      <td>0.581611</td>\n      <td>0.528435</td>\n      <td>0.304630</td>\n    </tr>\n  </tbody>\n</table>\n</div>"
     },
     "execution_count": 7,
     "metadata": {},
     "output_type": "execute_result"
    }
   ],
   "source": [
    "df.tail()"
   ],
   "metadata": {
    "collapsed": false
   }
  },
  {
   "cell_type": "code",
   "execution_count": 8,
   "outputs": [],
   "source": [
    "df[\"feature_close\"] = df[\"close\"].pct_change()"
   ],
   "metadata": {
    "collapsed": false
   }
  },
  {
   "cell_type": "code",
   "execution_count": 9,
   "outputs": [
    {
     "data": {
      "text/plain": "                         open      high       low     close     volume   \ndate_open                                                                \n2023-06-05 12:50:00  26693.72  26698.57  26666.00  26675.09  201.40100  \\\n2023-06-05 12:55:00  26675.09  26691.23  26654.39  26690.76  230.29799   \n2023-06-05 13:00:00  26690.76  26694.36  26640.00  26676.17  232.48809   \n2023-06-05 13:05:00  26676.17  26689.98  26651.25  26689.98  136.69593   \n2023-06-05 13:10:00  26689.97  26732.86  26689.97  26724.37  131.74040   \n\n                             date_close  feature_z_close  feature_normal_open   \ndate_open                                                                       \n2023-06-05 12:50:00 2023-06-05 12:55:00        -2.121742             0.207392  \\\n2023-06-05 12:55:00 2023-06-05 13:00:00        -1.440410             0.142493   \n2023-06-05 13:00:00 2023-06-05 13:05:00        -1.552302             0.317926   \n2023-06-05 13:05:00 2023-06-05 13:10:00        -1.055762             0.226544   \n2023-06-05 13:10:00 2023-06-05 13:15:00        -0.067237             0.312978   \n\n                     feature_normal_low  feature_normal_high   \ndate_open                                                      \n2023-06-05 12:50:00            0.000000             0.243678  \\\n2023-06-05 12:55:00            0.000000             0.253597   \n2023-06-05 13:00:00            0.000000             0.340474   \n2023-06-05 13:05:00            0.070462             0.313040   \n2023-06-05 13:10:00            0.312978             0.581611   \n\n                     feature_normal_close  feature_normal_volume   \ndate_open                                                          \n2023-06-05 12:50:00              0.068008               0.511312  \\\n2023-06-05 12:55:00              0.250361               0.597049   \n2023-06-05 13:00:00              0.226544               0.603547   \n2023-06-05 13:05:00              0.313040               0.319333   \n2023-06-05 13:10:00              0.528435               0.304630   \n\n                     feature_close  \ndate_open                           \n2023-06-05 12:50:00      -0.000698  \n2023-06-05 12:55:00       0.000587  \n2023-06-05 13:00:00      -0.000547  \n2023-06-05 13:05:00       0.000518  \n2023-06-05 13:10:00       0.001288  ",
      "text/html": "<div>\n<style scoped>\n    .dataframe tbody tr th:only-of-type {\n        vertical-align: middle;\n    }\n\n    .dataframe tbody tr th {\n        vertical-align: top;\n    }\n\n    .dataframe thead th {\n        text-align: right;\n    }\n</style>\n<table border=\"1\" class=\"dataframe\">\n  <thead>\n    <tr style=\"text-align: right;\">\n      <th></th>\n      <th>open</th>\n      <th>high</th>\n      <th>low</th>\n      <th>close</th>\n      <th>volume</th>\n      <th>date_close</th>\n      <th>feature_z_close</th>\n      <th>feature_normal_open</th>\n      <th>feature_normal_low</th>\n      <th>feature_normal_high</th>\n      <th>feature_normal_close</th>\n      <th>feature_normal_volume</th>\n      <th>feature_close</th>\n    </tr>\n    <tr>\n      <th>date_open</th>\n      <th></th>\n      <th></th>\n      <th></th>\n      <th></th>\n      <th></th>\n      <th></th>\n      <th></th>\n      <th></th>\n      <th></th>\n      <th></th>\n      <th></th>\n      <th></th>\n      <th></th>\n    </tr>\n  </thead>\n  <tbody>\n    <tr>\n      <th>2023-06-05 12:50:00</th>\n      <td>26693.72</td>\n      <td>26698.57</td>\n      <td>26666.00</td>\n      <td>26675.09</td>\n      <td>201.40100</td>\n      <td>2023-06-05 12:55:00</td>\n      <td>-2.121742</td>\n      <td>0.207392</td>\n      <td>0.000000</td>\n      <td>0.243678</td>\n      <td>0.068008</td>\n      <td>0.511312</td>\n      <td>-0.000698</td>\n    </tr>\n    <tr>\n      <th>2023-06-05 12:55:00</th>\n      <td>26675.09</td>\n      <td>26691.23</td>\n      <td>26654.39</td>\n      <td>26690.76</td>\n      <td>230.29799</td>\n      <td>2023-06-05 13:00:00</td>\n      <td>-1.440410</td>\n      <td>0.142493</td>\n      <td>0.000000</td>\n      <td>0.253597</td>\n      <td>0.250361</td>\n      <td>0.597049</td>\n      <td>0.000587</td>\n    </tr>\n    <tr>\n      <th>2023-06-05 13:00:00</th>\n      <td>26690.76</td>\n      <td>26694.36</td>\n      <td>26640.00</td>\n      <td>26676.17</td>\n      <td>232.48809</td>\n      <td>2023-06-05 13:05:00</td>\n      <td>-1.552302</td>\n      <td>0.317926</td>\n      <td>0.000000</td>\n      <td>0.340474</td>\n      <td>0.226544</td>\n      <td>0.603547</td>\n      <td>-0.000547</td>\n    </tr>\n    <tr>\n      <th>2023-06-05 13:05:00</th>\n      <td>26676.17</td>\n      <td>26689.98</td>\n      <td>26651.25</td>\n      <td>26689.98</td>\n      <td>136.69593</td>\n      <td>2023-06-05 13:10:00</td>\n      <td>-1.055762</td>\n      <td>0.226544</td>\n      <td>0.070462</td>\n      <td>0.313040</td>\n      <td>0.313040</td>\n      <td>0.319333</td>\n      <td>0.000518</td>\n    </tr>\n    <tr>\n      <th>2023-06-05 13:10:00</th>\n      <td>26689.97</td>\n      <td>26732.86</td>\n      <td>26689.97</td>\n      <td>26724.37</td>\n      <td>131.74040</td>\n      <td>2023-06-05 13:15:00</td>\n      <td>-0.067237</td>\n      <td>0.312978</td>\n      <td>0.312978</td>\n      <td>0.581611</td>\n      <td>0.528435</td>\n      <td>0.304630</td>\n      <td>0.001288</td>\n    </tr>\n  </tbody>\n</table>\n</div>"
     },
     "execution_count": 9,
     "metadata": {},
     "output_type": "execute_result"
    }
   ],
   "source": [
    "df.tail()"
   ],
   "metadata": {
    "collapsed": false
   }
  },
  {
   "cell_type": "code",
   "execution_count": 10,
   "outputs": [
    {
     "data": {
      "text/plain": "                         open      high       low     close      volume   \ndate_open                                                                 \n2018-12-31 16:05:00   3750.11   3752.26   3743.78   3748.61   73.484180  \\\n2018-12-31 16:10:00   3747.55   3753.95   3742.00   3745.71   49.545187   \n2018-12-31 16:15:00   3745.71   3747.13   3735.00   3739.62  151.770226   \n2018-12-31 16:20:00   3739.62   3745.00   3731.99   3742.30  107.421241   \n2018-12-31 16:25:00   3742.28   3745.00   3739.30   3741.95   43.780808   \n...                       ...       ...       ...       ...         ...   \n2023-06-05 12:50:00  26693.72  26698.57  26666.00  26675.09  201.401000   \n2023-06-05 12:55:00  26675.09  26691.23  26654.39  26690.76  230.297990   \n2023-06-05 13:00:00  26690.76  26694.36  26640.00  26676.17  232.488090   \n2023-06-05 13:05:00  26676.17  26689.98  26651.25  26689.98  136.695930   \n2023-06-05 13:10:00  26689.97  26732.86  26689.97  26724.37  131.740400   \n\n                             date_close  feature_z_close  feature_normal_open   \ndate_open                                                                       \n2018-12-31 16:05:00 2018-12-31 16:10:00              NaN                  NaN  \\\n2018-12-31 16:10:00 2018-12-31 16:15:00              NaN                  NaN   \n2018-12-31 16:15:00 2018-12-31 16:20:00              NaN                  NaN   \n2018-12-31 16:20:00 2018-12-31 16:25:00              NaN                  NaN   \n2018-12-31 16:25:00 2018-12-31 16:30:00              NaN                  NaN   \n...                                 ...              ...                  ...   \n2023-06-05 12:50:00 2023-06-05 12:55:00        -2.121742             0.207392   \n2023-06-05 12:55:00 2023-06-05 13:00:00        -1.440410             0.142493   \n2023-06-05 13:00:00 2023-06-05 13:05:00        -1.552302             0.317926   \n2023-06-05 13:05:00 2023-06-05 13:10:00        -1.055762             0.226544   \n2023-06-05 13:10:00 2023-06-05 13:15:00        -0.067237             0.312978   \n\n                     feature_normal_low  feature_normal_high   \ndate_open                                                      \n2018-12-31 16:05:00                 NaN                  NaN  \\\n2018-12-31 16:10:00                 NaN                  NaN   \n2018-12-31 16:15:00                 NaN                  NaN   \n2018-12-31 16:20:00                 NaN                  NaN   \n2018-12-31 16:25:00                 NaN                  NaN   \n...                                 ...                  ...   \n2023-06-05 12:50:00            0.000000             0.243678   \n2023-06-05 12:55:00            0.000000             0.253597   \n2023-06-05 13:00:00            0.000000             0.340474   \n2023-06-05 13:05:00            0.070462             0.313040   \n2023-06-05 13:10:00            0.312978             0.581611   \n\n                     feature_normal_close  feature_normal_volume   \ndate_open                                                          \n2018-12-31 16:05:00                   NaN                    NaN  \\\n2018-12-31 16:10:00                   NaN                    NaN   \n2018-12-31 16:15:00                   NaN                    NaN   \n2018-12-31 16:20:00                   NaN                    NaN   \n2018-12-31 16:25:00                   NaN                    NaN   \n...                                   ...                    ...   \n2023-06-05 12:50:00              0.068008               0.511312   \n2023-06-05 12:55:00              0.250361               0.597049   \n2023-06-05 13:00:00              0.226544               0.603547   \n2023-06-05 13:05:00              0.313040               0.319333   \n2023-06-05 13:10:00              0.528435               0.304630   \n\n                     feature_close  \ndate_open                           \n2018-12-31 16:05:00            NaN  \n2018-12-31 16:10:00      -0.000774  \n2018-12-31 16:15:00      -0.001626  \n2018-12-31 16:20:00       0.000717  \n2018-12-31 16:25:00      -0.000094  \n...                            ...  \n2023-06-05 12:50:00      -0.000698  \n2023-06-05 12:55:00       0.000587  \n2023-06-05 13:00:00      -0.000547  \n2023-06-05 13:05:00       0.000518  \n2023-06-05 13:10:00       0.001288  \n\n[464844 rows x 13 columns]",
      "text/html": "<div>\n<style scoped>\n    .dataframe tbody tr th:only-of-type {\n        vertical-align: middle;\n    }\n\n    .dataframe tbody tr th {\n        vertical-align: top;\n    }\n\n    .dataframe thead th {\n        text-align: right;\n    }\n</style>\n<table border=\"1\" class=\"dataframe\">\n  <thead>\n    <tr style=\"text-align: right;\">\n      <th></th>\n      <th>open</th>\n      <th>high</th>\n      <th>low</th>\n      <th>close</th>\n      <th>volume</th>\n      <th>date_close</th>\n      <th>feature_z_close</th>\n      <th>feature_normal_open</th>\n      <th>feature_normal_low</th>\n      <th>feature_normal_high</th>\n      <th>feature_normal_close</th>\n      <th>feature_normal_volume</th>\n      <th>feature_close</th>\n    </tr>\n    <tr>\n      <th>date_open</th>\n      <th></th>\n      <th></th>\n      <th></th>\n      <th></th>\n      <th></th>\n      <th></th>\n      <th></th>\n      <th></th>\n      <th></th>\n      <th></th>\n      <th></th>\n      <th></th>\n      <th></th>\n    </tr>\n  </thead>\n  <tbody>\n    <tr>\n      <th>2018-12-31 16:05:00</th>\n      <td>3750.11</td>\n      <td>3752.26</td>\n      <td>3743.78</td>\n      <td>3748.61</td>\n      <td>73.484180</td>\n      <td>2018-12-31 16:10:00</td>\n      <td>NaN</td>\n      <td>NaN</td>\n      <td>NaN</td>\n      <td>NaN</td>\n      <td>NaN</td>\n      <td>NaN</td>\n      <td>NaN</td>\n    </tr>\n    <tr>\n      <th>2018-12-31 16:10:00</th>\n      <td>3747.55</td>\n      <td>3753.95</td>\n      <td>3742.00</td>\n      <td>3745.71</td>\n      <td>49.545187</td>\n      <td>2018-12-31 16:15:00</td>\n      <td>NaN</td>\n      <td>NaN</td>\n      <td>NaN</td>\n      <td>NaN</td>\n      <td>NaN</td>\n      <td>NaN</td>\n      <td>-0.000774</td>\n    </tr>\n    <tr>\n      <th>2018-12-31 16:15:00</th>\n      <td>3745.71</td>\n      <td>3747.13</td>\n      <td>3735.00</td>\n      <td>3739.62</td>\n      <td>151.770226</td>\n      <td>2018-12-31 16:20:00</td>\n      <td>NaN</td>\n      <td>NaN</td>\n      <td>NaN</td>\n      <td>NaN</td>\n      <td>NaN</td>\n      <td>NaN</td>\n      <td>-0.001626</td>\n    </tr>\n    <tr>\n      <th>2018-12-31 16:20:00</th>\n      <td>3739.62</td>\n      <td>3745.00</td>\n      <td>3731.99</td>\n      <td>3742.30</td>\n      <td>107.421241</td>\n      <td>2018-12-31 16:25:00</td>\n      <td>NaN</td>\n      <td>NaN</td>\n      <td>NaN</td>\n      <td>NaN</td>\n      <td>NaN</td>\n      <td>NaN</td>\n      <td>0.000717</td>\n    </tr>\n    <tr>\n      <th>2018-12-31 16:25:00</th>\n      <td>3742.28</td>\n      <td>3745.00</td>\n      <td>3739.30</td>\n      <td>3741.95</td>\n      <td>43.780808</td>\n      <td>2018-12-31 16:30:00</td>\n      <td>NaN</td>\n      <td>NaN</td>\n      <td>NaN</td>\n      <td>NaN</td>\n      <td>NaN</td>\n      <td>NaN</td>\n      <td>-0.000094</td>\n    </tr>\n    <tr>\n      <th>...</th>\n      <td>...</td>\n      <td>...</td>\n      <td>...</td>\n      <td>...</td>\n      <td>...</td>\n      <td>...</td>\n      <td>...</td>\n      <td>...</td>\n      <td>...</td>\n      <td>...</td>\n      <td>...</td>\n      <td>...</td>\n      <td>...</td>\n    </tr>\n    <tr>\n      <th>2023-06-05 12:50:00</th>\n      <td>26693.72</td>\n      <td>26698.57</td>\n      <td>26666.00</td>\n      <td>26675.09</td>\n      <td>201.401000</td>\n      <td>2023-06-05 12:55:00</td>\n      <td>-2.121742</td>\n      <td>0.207392</td>\n      <td>0.000000</td>\n      <td>0.243678</td>\n      <td>0.068008</td>\n      <td>0.511312</td>\n      <td>-0.000698</td>\n    </tr>\n    <tr>\n      <th>2023-06-05 12:55:00</th>\n      <td>26675.09</td>\n      <td>26691.23</td>\n      <td>26654.39</td>\n      <td>26690.76</td>\n      <td>230.297990</td>\n      <td>2023-06-05 13:00:00</td>\n      <td>-1.440410</td>\n      <td>0.142493</td>\n      <td>0.000000</td>\n      <td>0.253597</td>\n      <td>0.250361</td>\n      <td>0.597049</td>\n      <td>0.000587</td>\n    </tr>\n    <tr>\n      <th>2023-06-05 13:00:00</th>\n      <td>26690.76</td>\n      <td>26694.36</td>\n      <td>26640.00</td>\n      <td>26676.17</td>\n      <td>232.488090</td>\n      <td>2023-06-05 13:05:00</td>\n      <td>-1.552302</td>\n      <td>0.317926</td>\n      <td>0.000000</td>\n      <td>0.340474</td>\n      <td>0.226544</td>\n      <td>0.603547</td>\n      <td>-0.000547</td>\n    </tr>\n    <tr>\n      <th>2023-06-05 13:05:00</th>\n      <td>26676.17</td>\n      <td>26689.98</td>\n      <td>26651.25</td>\n      <td>26689.98</td>\n      <td>136.695930</td>\n      <td>2023-06-05 13:10:00</td>\n      <td>-1.055762</td>\n      <td>0.226544</td>\n      <td>0.070462</td>\n      <td>0.313040</td>\n      <td>0.313040</td>\n      <td>0.319333</td>\n      <td>0.000518</td>\n    </tr>\n    <tr>\n      <th>2023-06-05 13:10:00</th>\n      <td>26689.97</td>\n      <td>26732.86</td>\n      <td>26689.97</td>\n      <td>26724.37</td>\n      <td>131.740400</td>\n      <td>2023-06-05 13:15:00</td>\n      <td>-0.067237</td>\n      <td>0.312978</td>\n      <td>0.312978</td>\n      <td>0.581611</td>\n      <td>0.528435</td>\n      <td>0.304630</td>\n      <td>0.001288</td>\n    </tr>\n  </tbody>\n</table>\n<p>464844 rows × 13 columns</p>\n</div>"
     },
     "execution_count": 10,
     "metadata": {},
     "output_type": "execute_result"
    }
   ],
   "source": [
    "df"
   ],
   "metadata": {
    "collapsed": false
   }
  },
  {
   "cell_type": "markdown",
   "source": [],
   "metadata": {
    "collapsed": false
   }
  },
  {
   "cell_type": "code",
   "execution_count": null,
   "outputs": [],
   "source": [],
   "metadata": {
    "collapsed": false
   }
  }
 ],
 "metadata": {
  "kernelspec": {
   "display_name": "Python 3",
   "language": "python",
   "name": "python3"
  },
  "language_info": {
   "codemirror_mode": {
    "name": "ipython",
    "version": 2
   },
   "file_extension": ".py",
   "mimetype": "text/x-python",
   "name": "python",
   "nbconvert_exporter": "python",
   "pygments_lexer": "ipython2",
   "version": "2.7.6"
  }
 },
 "nbformat": 4,
 "nbformat_minor": 0
}
